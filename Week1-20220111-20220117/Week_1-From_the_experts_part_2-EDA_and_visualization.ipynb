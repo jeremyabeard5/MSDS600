{
 "cells": [
  {
   "cell_type": "markdown",
   "id": "nominated-benefit",
   "metadata": {},
   "source": [
    "# CRISP-DM for prediction of diabetes"
   ]
  },
  {
   "cell_type": "markdown",
   "id": "expressed-sitting",
   "metadata": {},
   "source": [
    "Over the next few weeks, we'll go through a simple example of a data science process:\n",
    "\n",
    "- business understanding (asking the right questions)\n",
    "- loading data\n",
    "- EDA (exploratory data analysis), visualization\n",
    "- data cleaning and preparation\n",
    "- modeling and evaluation\n",
    "- communication of results\n",
    "    \n",
    "In this file, we'll cover the first three bullets above.\n",
    "    \n",
    "# 1. Business understanding\n",
    "\n",
    "In this demo, we'll be working with a dataset with health and biographic data on diabetes diagoneses from [here](https://data.world/informatics-edu/diabetes-prediction). The purpose of our task is to understand which data is related to the occurance of diabetes, and to eventually predict a risk of diabetes based on the data. Our question is: can we accurately predict the occurance of diabetes based on the demographic and medical data we collect? With this, we can offer better personalized health services to people, and potentially improve the overall health of everyone by understanding what we can do to reduce the risk of diabetes.\n",
    "\n",
    "We'll start with EDA (exploratory data analysis) - both numeric and visual."
   ]
  },
  {
   "cell_type": "markdown",
   "id": "perceived-observation",
   "metadata": {},
   "source": [
    "# 2. Data understanding - EDA and visualization basics"
   ]
  },
  {
   "cell_type": "markdown",
   "id": "sensitive-piano",
   "metadata": {},
   "source": [
    "Understanding how to create charts and plots of data is an important first step in understanding the data. In this first section, we'll cover the bare bones basics which are all you need to complete the assignments this week."
   ]
  },
  {
   "cell_type": "markdown",
   "id": "opponent-people",
   "metadata": {},
   "source": [
    "Make sure you've got the following packages installed before starting. You can install them from a terminal or command prompt with `conda install -c conda-forge pandas pandas-profiling matplotlib openpyxl`, or you can install them in a jupyter cell with `!conda install -c conda-forge pandas pandas-profiling matplotlib openpyxl -y`. If conda is taking too long, you can use pip instead: `!pip install pandas-profiling`. Press shift+enter to run the cells after selecting them."
   ]
  },
  {
   "cell_type": "code",
   "execution_count": null,
   "id": "blessed-farming",
   "metadata": {},
   "outputs": [],
   "source": [
    "!conda install -c conda-forge pandas pandas-profiling matplotlib openpyxl -y"
   ]
  },
  {
   "cell_type": "code",
   "execution_count": 23,
   "id": "composite-coaching",
   "metadata": {},
   "outputs": [],
   "source": [
    "import pandas as pd\n",
    "from pandas_profiling import ProfileReport\n",
    "import matplotlib.pyplot as plt"
   ]
  },
  {
   "cell_type": "markdown",
   "id": "faced-watershed",
   "metadata": {},
   "source": [
    "First, we load the data. `pandas` is one of the most, if not *the* most, common data loading and preparation package in Python for data science. The documentation is excellent for the package, and it can read from many filetypes. Here is the page for the `read_excel` function: https://pandas.pydata.org/docs/reference/api/pandas.read_excel.html\n",
    "\n",
    "The main class in pandas is the DataFrame, which is often stored in a variable `df`. If you are getting an error, you may need to install `openpyxl` as shown above."
   ]
  },
  {
   "cell_type": "code",
   "execution_count": 3,
   "id": "sticky-operator",
   "metadata": {},
   "outputs": [
    {
     "data": {
      "text/html": [
       "<div>\n",
       "<style scoped>\n",
       "    .dataframe tbody tr th:only-of-type {\n",
       "        vertical-align: middle;\n",
       "    }\n",
       "\n",
       "    .dataframe tbody tr th {\n",
       "        vertical-align: top;\n",
       "    }\n",
       "\n",
       "    .dataframe thead th {\n",
       "        text-align: right;\n",
       "    }\n",
       "</style>\n",
       "<table border=\"1\" class=\"dataframe\">\n",
       "  <thead>\n",
       "    <tr style=\"text-align: right;\">\n",
       "      <th></th>\n",
       "      <th>Cholesterol</th>\n",
       "      <th>Glucose</th>\n",
       "      <th>HDL Chol</th>\n",
       "      <th>Age</th>\n",
       "      <th>Gender</th>\n",
       "      <th>Height</th>\n",
       "      <th>Weight</th>\n",
       "      <th>BMI</th>\n",
       "      <th>Systolic BP</th>\n",
       "      <th>Diastolic BP</th>\n",
       "      <th>waist</th>\n",
       "      <th>hip</th>\n",
       "      <th>Diabetes</th>\n",
       "    </tr>\n",
       "    <tr>\n",
       "      <th>Patient number</th>\n",
       "      <th></th>\n",
       "      <th></th>\n",
       "      <th></th>\n",
       "      <th></th>\n",
       "      <th></th>\n",
       "      <th></th>\n",
       "      <th></th>\n",
       "      <th></th>\n",
       "      <th></th>\n",
       "      <th></th>\n",
       "      <th></th>\n",
       "      <th></th>\n",
       "      <th></th>\n",
       "    </tr>\n",
       "  </thead>\n",
       "  <tbody>\n",
       "    <tr>\n",
       "      <th>1</th>\n",
       "      <td>193</td>\n",
       "      <td>77</td>\n",
       "      <td>49</td>\n",
       "      <td>19</td>\n",
       "      <td>female</td>\n",
       "      <td>61</td>\n",
       "      <td>119</td>\n",
       "      <td>22.5</td>\n",
       "      <td>118</td>\n",
       "      <td>70</td>\n",
       "      <td>32</td>\n",
       "      <td>38</td>\n",
       "      <td>No diabetes</td>\n",
       "    </tr>\n",
       "    <tr>\n",
       "      <th>2</th>\n",
       "      <td>146</td>\n",
       "      <td>79</td>\n",
       "      <td>41</td>\n",
       "      <td>19</td>\n",
       "      <td>female</td>\n",
       "      <td>60</td>\n",
       "      <td>135</td>\n",
       "      <td>26.4</td>\n",
       "      <td>108</td>\n",
       "      <td>58</td>\n",
       "      <td>33</td>\n",
       "      <td>40</td>\n",
       "      <td>No diabetes</td>\n",
       "    </tr>\n",
       "    <tr>\n",
       "      <th>3</th>\n",
       "      <td>217</td>\n",
       "      <td>75</td>\n",
       "      <td>54</td>\n",
       "      <td>20</td>\n",
       "      <td>female</td>\n",
       "      <td>67</td>\n",
       "      <td>187</td>\n",
       "      <td>29.3</td>\n",
       "      <td>110</td>\n",
       "      <td>72</td>\n",
       "      <td>40</td>\n",
       "      <td>45</td>\n",
       "      <td>No diabetes</td>\n",
       "    </tr>\n",
       "    <tr>\n",
       "      <th>4</th>\n",
       "      <td>226</td>\n",
       "      <td>97</td>\n",
       "      <td>70</td>\n",
       "      <td>20</td>\n",
       "      <td>female</td>\n",
       "      <td>64</td>\n",
       "      <td>114</td>\n",
       "      <td>19.6</td>\n",
       "      <td>122</td>\n",
       "      <td>64</td>\n",
       "      <td>31</td>\n",
       "      <td>39</td>\n",
       "      <td>No diabetes</td>\n",
       "    </tr>\n",
       "    <tr>\n",
       "      <th>5</th>\n",
       "      <td>164</td>\n",
       "      <td>91</td>\n",
       "      <td>67</td>\n",
       "      <td>20</td>\n",
       "      <td>female</td>\n",
       "      <td>70</td>\n",
       "      <td>141</td>\n",
       "      <td>20.2</td>\n",
       "      <td>122</td>\n",
       "      <td>86</td>\n",
       "      <td>32</td>\n",
       "      <td>39</td>\n",
       "      <td>No diabetes</td>\n",
       "    </tr>\n",
       "    <tr>\n",
       "      <th>...</th>\n",
       "      <td>...</td>\n",
       "      <td>...</td>\n",
       "      <td>...</td>\n",
       "      <td>...</td>\n",
       "      <td>...</td>\n",
       "      <td>...</td>\n",
       "      <td>...</td>\n",
       "      <td>...</td>\n",
       "      <td>...</td>\n",
       "      <td>...</td>\n",
       "      <td>...</td>\n",
       "      <td>...</td>\n",
       "      <td>...</td>\n",
       "    </tr>\n",
       "    <tr>\n",
       "      <th>386</th>\n",
       "      <td>227</td>\n",
       "      <td>105</td>\n",
       "      <td>44</td>\n",
       "      <td>83</td>\n",
       "      <td>female</td>\n",
       "      <td>59</td>\n",
       "      <td>125</td>\n",
       "      <td>25.2</td>\n",
       "      <td>150</td>\n",
       "      <td>90</td>\n",
       "      <td>35</td>\n",
       "      <td>40</td>\n",
       "      <td>No diabetes</td>\n",
       "    </tr>\n",
       "    <tr>\n",
       "      <th>387</th>\n",
       "      <td>226</td>\n",
       "      <td>279</td>\n",
       "      <td>52</td>\n",
       "      <td>84</td>\n",
       "      <td>female</td>\n",
       "      <td>60</td>\n",
       "      <td>192</td>\n",
       "      <td>37.5</td>\n",
       "      <td>144</td>\n",
       "      <td>88</td>\n",
       "      <td>41</td>\n",
       "      <td>48</td>\n",
       "      <td>Diabetes</td>\n",
       "    </tr>\n",
       "    <tr>\n",
       "      <th>388</th>\n",
       "      <td>301</td>\n",
       "      <td>90</td>\n",
       "      <td>118</td>\n",
       "      <td>89</td>\n",
       "      <td>female</td>\n",
       "      <td>61</td>\n",
       "      <td>115</td>\n",
       "      <td>21.7</td>\n",
       "      <td>218</td>\n",
       "      <td>90</td>\n",
       "      <td>31</td>\n",
       "      <td>41</td>\n",
       "      <td>No diabetes</td>\n",
       "    </tr>\n",
       "    <tr>\n",
       "      <th>389</th>\n",
       "      <td>232</td>\n",
       "      <td>184</td>\n",
       "      <td>114</td>\n",
       "      <td>91</td>\n",
       "      <td>female</td>\n",
       "      <td>61</td>\n",
       "      <td>127</td>\n",
       "      <td>24.0</td>\n",
       "      <td>170</td>\n",
       "      <td>82</td>\n",
       "      <td>35</td>\n",
       "      <td>38</td>\n",
       "      <td>Diabetes</td>\n",
       "    </tr>\n",
       "    <tr>\n",
       "      <th>390</th>\n",
       "      <td>165</td>\n",
       "      <td>94</td>\n",
       "      <td>69</td>\n",
       "      <td>92</td>\n",
       "      <td>female</td>\n",
       "      <td>62</td>\n",
       "      <td>217</td>\n",
       "      <td>39.7</td>\n",
       "      <td>160</td>\n",
       "      <td>82</td>\n",
       "      <td>51</td>\n",
       "      <td>51</td>\n",
       "      <td>No diabetes</td>\n",
       "    </tr>\n",
       "  </tbody>\n",
       "</table>\n",
       "<p>390 rows × 13 columns</p>\n",
       "</div>"
      ],
      "text/plain": [
       "                Cholesterol  Glucose  HDL Chol  Age  Gender  Height  Weight  \\\n",
       "Patient number                                                                \n",
       "1                       193       77        49   19  female      61     119   \n",
       "2                       146       79        41   19  female      60     135   \n",
       "3                       217       75        54   20  female      67     187   \n",
       "4                       226       97        70   20  female      64     114   \n",
       "5                       164       91        67   20  female      70     141   \n",
       "...                     ...      ...       ...  ...     ...     ...     ...   \n",
       "386                     227      105        44   83  female      59     125   \n",
       "387                     226      279        52   84  female      60     192   \n",
       "388                     301       90       118   89  female      61     115   \n",
       "389                     232      184       114   91  female      61     127   \n",
       "390                     165       94        69   92  female      62     217   \n",
       "\n",
       "                 BMI  Systolic BP  Diastolic BP  waist  hip     Diabetes  \n",
       "Patient number                                                            \n",
       "1               22.5          118            70     32   38  No diabetes  \n",
       "2               26.4          108            58     33   40  No diabetes  \n",
       "3               29.3          110            72     40   45  No diabetes  \n",
       "4               19.6          122            64     31   39  No diabetes  \n",
       "5               20.2          122            86     32   39  No diabetes  \n",
       "...              ...          ...           ...    ...  ...          ...  \n",
       "386             25.2          150            90     35   40  No diabetes  \n",
       "387             37.5          144            88     41   48     Diabetes  \n",
       "388             21.7          218            90     31   41  No diabetes  \n",
       "389             24.0          170            82     35   38     Diabetes  \n",
       "390             39.7          160            82     51   51  No diabetes  \n",
       "\n",
       "[390 rows x 13 columns]"
      ]
     },
     "execution_count": 3,
     "metadata": {},
     "output_type": "execute_result"
    }
   ],
   "source": [
    "# we can give an index number or name for our index column, or leave it blank\n",
    "df = pd.read_excel('data/diabetes_data.xlsx', index_col='Patient number')\n",
    "df"
   ]
  },
  {
   "cell_type": "markdown",
   "id": "neural-press",
   "metadata": {},
   "source": [
    "It's always a good idea to look at the top and bottom of the data to make sure everything looks ok. We can see printing out the `df` object in jupyter (by putting the df object as the last line in the cell) prints the top and bottom of the data. We can also do this with `head` and `tail`:"
   ]
  },
  {
   "cell_type": "code",
   "execution_count": 4,
   "id": "helpful-trustee",
   "metadata": {},
   "outputs": [
    {
     "data": {
      "text/html": [
       "<div>\n",
       "<style scoped>\n",
       "    .dataframe tbody tr th:only-of-type {\n",
       "        vertical-align: middle;\n",
       "    }\n",
       "\n",
       "    .dataframe tbody tr th {\n",
       "        vertical-align: top;\n",
       "    }\n",
       "\n",
       "    .dataframe thead th {\n",
       "        text-align: right;\n",
       "    }\n",
       "</style>\n",
       "<table border=\"1\" class=\"dataframe\">\n",
       "  <thead>\n",
       "    <tr style=\"text-align: right;\">\n",
       "      <th></th>\n",
       "      <th>Cholesterol</th>\n",
       "      <th>Glucose</th>\n",
       "      <th>HDL Chol</th>\n",
       "      <th>Age</th>\n",
       "      <th>Gender</th>\n",
       "      <th>Height</th>\n",
       "      <th>Weight</th>\n",
       "      <th>BMI</th>\n",
       "      <th>Systolic BP</th>\n",
       "      <th>Diastolic BP</th>\n",
       "      <th>waist</th>\n",
       "      <th>hip</th>\n",
       "      <th>Diabetes</th>\n",
       "    </tr>\n",
       "    <tr>\n",
       "      <th>Patient number</th>\n",
       "      <th></th>\n",
       "      <th></th>\n",
       "      <th></th>\n",
       "      <th></th>\n",
       "      <th></th>\n",
       "      <th></th>\n",
       "      <th></th>\n",
       "      <th></th>\n",
       "      <th></th>\n",
       "      <th></th>\n",
       "      <th></th>\n",
       "      <th></th>\n",
       "      <th></th>\n",
       "    </tr>\n",
       "  </thead>\n",
       "  <tbody>\n",
       "    <tr>\n",
       "      <th>1</th>\n",
       "      <td>193</td>\n",
       "      <td>77</td>\n",
       "      <td>49</td>\n",
       "      <td>19</td>\n",
       "      <td>female</td>\n",
       "      <td>61</td>\n",
       "      <td>119</td>\n",
       "      <td>22.5</td>\n",
       "      <td>118</td>\n",
       "      <td>70</td>\n",
       "      <td>32</td>\n",
       "      <td>38</td>\n",
       "      <td>No diabetes</td>\n",
       "    </tr>\n",
       "    <tr>\n",
       "      <th>2</th>\n",
       "      <td>146</td>\n",
       "      <td>79</td>\n",
       "      <td>41</td>\n",
       "      <td>19</td>\n",
       "      <td>female</td>\n",
       "      <td>60</td>\n",
       "      <td>135</td>\n",
       "      <td>26.4</td>\n",
       "      <td>108</td>\n",
       "      <td>58</td>\n",
       "      <td>33</td>\n",
       "      <td>40</td>\n",
       "      <td>No diabetes</td>\n",
       "    </tr>\n",
       "    <tr>\n",
       "      <th>3</th>\n",
       "      <td>217</td>\n",
       "      <td>75</td>\n",
       "      <td>54</td>\n",
       "      <td>20</td>\n",
       "      <td>female</td>\n",
       "      <td>67</td>\n",
       "      <td>187</td>\n",
       "      <td>29.3</td>\n",
       "      <td>110</td>\n",
       "      <td>72</td>\n",
       "      <td>40</td>\n",
       "      <td>45</td>\n",
       "      <td>No diabetes</td>\n",
       "    </tr>\n",
       "    <tr>\n",
       "      <th>4</th>\n",
       "      <td>226</td>\n",
       "      <td>97</td>\n",
       "      <td>70</td>\n",
       "      <td>20</td>\n",
       "      <td>female</td>\n",
       "      <td>64</td>\n",
       "      <td>114</td>\n",
       "      <td>19.6</td>\n",
       "      <td>122</td>\n",
       "      <td>64</td>\n",
       "      <td>31</td>\n",
       "      <td>39</td>\n",
       "      <td>No diabetes</td>\n",
       "    </tr>\n",
       "    <tr>\n",
       "      <th>5</th>\n",
       "      <td>164</td>\n",
       "      <td>91</td>\n",
       "      <td>67</td>\n",
       "      <td>20</td>\n",
       "      <td>female</td>\n",
       "      <td>70</td>\n",
       "      <td>141</td>\n",
       "      <td>20.2</td>\n",
       "      <td>122</td>\n",
       "      <td>86</td>\n",
       "      <td>32</td>\n",
       "      <td>39</td>\n",
       "      <td>No diabetes</td>\n",
       "    </tr>\n",
       "  </tbody>\n",
       "</table>\n",
       "</div>"
      ],
      "text/plain": [
       "                Cholesterol  Glucose  HDL Chol  Age  Gender  Height  Weight  \\\n",
       "Patient number                                                                \n",
       "1                       193       77        49   19  female      61     119   \n",
       "2                       146       79        41   19  female      60     135   \n",
       "3                       217       75        54   20  female      67     187   \n",
       "4                       226       97        70   20  female      64     114   \n",
       "5                       164       91        67   20  female      70     141   \n",
       "\n",
       "                 BMI  Systolic BP  Diastolic BP  waist  hip     Diabetes  \n",
       "Patient number                                                            \n",
       "1               22.5          118            70     32   38  No diabetes  \n",
       "2               26.4          108            58     33   40  No diabetes  \n",
       "3               29.3          110            72     40   45  No diabetes  \n",
       "4               19.6          122            64     31   39  No diabetes  \n",
       "5               20.2          122            86     32   39  No diabetes  "
      ]
     },
     "execution_count": 4,
     "metadata": {},
     "output_type": "execute_result"
    }
   ],
   "source": [
    "df.head()"
   ]
  },
  {
   "cell_type": "code",
   "execution_count": 5,
   "id": "impaired-skill",
   "metadata": {},
   "outputs": [
    {
     "data": {
      "text/html": [
       "<div>\n",
       "<style scoped>\n",
       "    .dataframe tbody tr th:only-of-type {\n",
       "        vertical-align: middle;\n",
       "    }\n",
       "\n",
       "    .dataframe tbody tr th {\n",
       "        vertical-align: top;\n",
       "    }\n",
       "\n",
       "    .dataframe thead th {\n",
       "        text-align: right;\n",
       "    }\n",
       "</style>\n",
       "<table border=\"1\" class=\"dataframe\">\n",
       "  <thead>\n",
       "    <tr style=\"text-align: right;\">\n",
       "      <th></th>\n",
       "      <th>Cholesterol</th>\n",
       "      <th>Glucose</th>\n",
       "      <th>HDL Chol</th>\n",
       "      <th>Age</th>\n",
       "      <th>Gender</th>\n",
       "      <th>Height</th>\n",
       "      <th>Weight</th>\n",
       "      <th>BMI</th>\n",
       "      <th>Systolic BP</th>\n",
       "      <th>Diastolic BP</th>\n",
       "      <th>waist</th>\n",
       "      <th>hip</th>\n",
       "      <th>Diabetes</th>\n",
       "    </tr>\n",
       "    <tr>\n",
       "      <th>Patient number</th>\n",
       "      <th></th>\n",
       "      <th></th>\n",
       "      <th></th>\n",
       "      <th></th>\n",
       "      <th></th>\n",
       "      <th></th>\n",
       "      <th></th>\n",
       "      <th></th>\n",
       "      <th></th>\n",
       "      <th></th>\n",
       "      <th></th>\n",
       "      <th></th>\n",
       "      <th></th>\n",
       "    </tr>\n",
       "  </thead>\n",
       "  <tbody>\n",
       "    <tr>\n",
       "      <th>386</th>\n",
       "      <td>227</td>\n",
       "      <td>105</td>\n",
       "      <td>44</td>\n",
       "      <td>83</td>\n",
       "      <td>female</td>\n",
       "      <td>59</td>\n",
       "      <td>125</td>\n",
       "      <td>25.2</td>\n",
       "      <td>150</td>\n",
       "      <td>90</td>\n",
       "      <td>35</td>\n",
       "      <td>40</td>\n",
       "      <td>No diabetes</td>\n",
       "    </tr>\n",
       "    <tr>\n",
       "      <th>387</th>\n",
       "      <td>226</td>\n",
       "      <td>279</td>\n",
       "      <td>52</td>\n",
       "      <td>84</td>\n",
       "      <td>female</td>\n",
       "      <td>60</td>\n",
       "      <td>192</td>\n",
       "      <td>37.5</td>\n",
       "      <td>144</td>\n",
       "      <td>88</td>\n",
       "      <td>41</td>\n",
       "      <td>48</td>\n",
       "      <td>Diabetes</td>\n",
       "    </tr>\n",
       "    <tr>\n",
       "      <th>388</th>\n",
       "      <td>301</td>\n",
       "      <td>90</td>\n",
       "      <td>118</td>\n",
       "      <td>89</td>\n",
       "      <td>female</td>\n",
       "      <td>61</td>\n",
       "      <td>115</td>\n",
       "      <td>21.7</td>\n",
       "      <td>218</td>\n",
       "      <td>90</td>\n",
       "      <td>31</td>\n",
       "      <td>41</td>\n",
       "      <td>No diabetes</td>\n",
       "    </tr>\n",
       "    <tr>\n",
       "      <th>389</th>\n",
       "      <td>232</td>\n",
       "      <td>184</td>\n",
       "      <td>114</td>\n",
       "      <td>91</td>\n",
       "      <td>female</td>\n",
       "      <td>61</td>\n",
       "      <td>127</td>\n",
       "      <td>24.0</td>\n",
       "      <td>170</td>\n",
       "      <td>82</td>\n",
       "      <td>35</td>\n",
       "      <td>38</td>\n",
       "      <td>Diabetes</td>\n",
       "    </tr>\n",
       "    <tr>\n",
       "      <th>390</th>\n",
       "      <td>165</td>\n",
       "      <td>94</td>\n",
       "      <td>69</td>\n",
       "      <td>92</td>\n",
       "      <td>female</td>\n",
       "      <td>62</td>\n",
       "      <td>217</td>\n",
       "      <td>39.7</td>\n",
       "      <td>160</td>\n",
       "      <td>82</td>\n",
       "      <td>51</td>\n",
       "      <td>51</td>\n",
       "      <td>No diabetes</td>\n",
       "    </tr>\n",
       "  </tbody>\n",
       "</table>\n",
       "</div>"
      ],
      "text/plain": [
       "                Cholesterol  Glucose  HDL Chol  Age  Gender  Height  Weight  \\\n",
       "Patient number                                                                \n",
       "386                     227      105        44   83  female      59     125   \n",
       "387                     226      279        52   84  female      60     192   \n",
       "388                     301       90       118   89  female      61     115   \n",
       "389                     232      184       114   91  female      61     127   \n",
       "390                     165       94        69   92  female      62     217   \n",
       "\n",
       "                 BMI  Systolic BP  Diastolic BP  waist  hip     Diabetes  \n",
       "Patient number                                                            \n",
       "386             25.2          150            90     35   40  No diabetes  \n",
       "387             37.5          144            88     41   48     Diabetes  \n",
       "388             21.7          218            90     31   41  No diabetes  \n",
       "389             24.0          170            82     35   38     Diabetes  \n",
       "390             39.7          160            82     51   51  No diabetes  "
      ]
     },
     "execution_count": 5,
     "metadata": {},
     "output_type": "execute_result"
    }
   ],
   "source": [
    "df.tail()"
   ]
  },
  {
   "cell_type": "markdown",
   "id": "looking-beatles",
   "metadata": {},
   "source": [
    "## pandas-profiling auto-EDA"
   ]
  },
  {
   "cell_type": "markdown",
   "id": "manufactured-expense",
   "metadata": {},
   "source": [
    "This generates an EDA report. There are other auto-EDA packages but pandas-profiling is a nice one. Although this can be displayed in Jupyter, it can be better to save the file as HTML then open it separately."
   ]
  },
  {
   "cell_type": "code",
   "execution_count": 3,
   "id": "promising-moral",
   "metadata": {},
   "outputs": [
    {
     "data": {
      "application/vnd.jupyter.widget-view+json": {
       "model_id": "1ca98e90f6fd4aef885a53e38601b009",
       "version_major": 2,
       "version_minor": 0
      },
      "text/plain": [
       "Summarize dataset:   0%|          | 0/28 [00:00<?, ?it/s]"
      ]
     },
     "metadata": {},
     "output_type": "display_data"
    },
    {
     "data": {
      "application/vnd.jupyter.widget-view+json": {
       "model_id": "70d2a8eb3b3c457e99b165ac92a1caba",
       "version_major": 2,
       "version_minor": 0
      },
      "text/plain": [
       "Generate report structure:   0%|          | 0/1 [00:00<?, ?it/s]"
      ]
     },
     "metadata": {},
     "output_type": "display_data"
    },
    {
     "data": {
      "application/vnd.jupyter.widget-view+json": {
       "model_id": "a2d8fbe36816443bb9797974d67199a9",
       "version_major": 2,
       "version_minor": 0
      },
      "text/plain": [
       "Render HTML:   0%|          | 0/1 [00:00<?, ?it/s]"
      ]
     },
     "metadata": {},
     "output_type": "display_data"
    },
    {
     "data": {
      "application/vnd.jupyter.widget-view+json": {
       "model_id": "fe49500cd4eb404181bdac0d46c1e31d",
       "version_major": 2,
       "version_minor": 0
      },
      "text/plain": [
       "Export report to file:   0%|          | 0/1 [00:00<?, ?it/s]"
      ]
     },
     "metadata": {},
     "output_type": "display_data"
    }
   ],
   "source": [
    "# use the argument minimal=True to speed this up, although you won't get all the plots and stats\n",
    "report = ProfileReport(df)\n",
    "report.to_file('diabetes_eda.html')"
   ]
  },
  {
   "cell_type": "markdown",
   "id": "parental-pennsylvania",
   "metadata": {},
   "source": [
    "## Using pandas for EDA and visualization"
   ]
  },
  {
   "cell_type": "markdown",
   "id": "partial-system",
   "metadata": {},
   "source": [
    "The pandas package has a few functions for generating numeric EDA and statistics, and can easily plot data.\n",
    "\n",
    "numeric EDA:\n",
    "- info\n",
    "- describe\n",
    "- unique\n",
    "- value_counts\n",
    "\n",
    "plots:\n",
    "- bar plots\n",
    "- histograms\n",
    "- scatter plots\n",
    "\n",
    "other:\n",
    "- filtering"
   ]
  },
  {
   "cell_type": "markdown",
   "id": "acoustic-collar",
   "metadata": {},
   "source": [
    "### Numeric EDA"
   ]
  },
  {
   "cell_type": "markdown",
   "id": "romance-bible",
   "metadata": {},
   "source": [
    "Info shows the datatypes (dtype), number of values, and number of missing values:"
   ]
  },
  {
   "cell_type": "code",
   "execution_count": 4,
   "id": "renewable-cyprus",
   "metadata": {},
   "outputs": [
    {
     "name": "stdout",
     "output_type": "stream",
     "text": [
      "<class 'pandas.core.frame.DataFrame'>\n",
      "Int64Index: 390 entries, 1 to 390\n",
      "Data columns (total 13 columns):\n",
      " #   Column        Non-Null Count  Dtype  \n",
      "---  ------        --------------  -----  \n",
      " 0   Cholesterol   390 non-null    int64  \n",
      " 1   Glucose       390 non-null    int64  \n",
      " 2   HDL Chol      390 non-null    int64  \n",
      " 3   Age           390 non-null    int64  \n",
      " 4   Gender        390 non-null    object \n",
      " 5   Height        390 non-null    int64  \n",
      " 6   Weight        390 non-null    int64  \n",
      " 7   BMI           390 non-null    float64\n",
      " 8   Systolic BP   390 non-null    int64  \n",
      " 9   Diastolic BP  390 non-null    int64  \n",
      " 10  waist         390 non-null    int64  \n",
      " 11  hip           390 non-null    int64  \n",
      " 12  Diabetes      390 non-null    object \n",
      "dtypes: float64(1), int64(10), object(2)\n",
      "memory usage: 42.7+ KB\n"
     ]
    }
   ],
   "source": [
    "df.info()"
   ]
  },
  {
   "cell_type": "markdown",
   "id": "musical-affiliation",
   "metadata": {},
   "source": [
    "Describe shows some numeric stats on numeric columns:"
   ]
  },
  {
   "cell_type": "code",
   "execution_count": 5,
   "id": "native-consent",
   "metadata": {},
   "outputs": [
    {
     "data": {
      "text/html": [
       "<div>\n",
       "<style scoped>\n",
       "    .dataframe tbody tr th:only-of-type {\n",
       "        vertical-align: middle;\n",
       "    }\n",
       "\n",
       "    .dataframe tbody tr th {\n",
       "        vertical-align: top;\n",
       "    }\n",
       "\n",
       "    .dataframe thead th {\n",
       "        text-align: right;\n",
       "    }\n",
       "</style>\n",
       "<table border=\"1\" class=\"dataframe\">\n",
       "  <thead>\n",
       "    <tr style=\"text-align: right;\">\n",
       "      <th></th>\n",
       "      <th>Cholesterol</th>\n",
       "      <th>Glucose</th>\n",
       "      <th>HDL Chol</th>\n",
       "      <th>Age</th>\n",
       "      <th>Height</th>\n",
       "      <th>Weight</th>\n",
       "      <th>BMI</th>\n",
       "      <th>Systolic BP</th>\n",
       "      <th>Diastolic BP</th>\n",
       "      <th>waist</th>\n",
       "      <th>hip</th>\n",
       "    </tr>\n",
       "  </thead>\n",
       "  <tbody>\n",
       "    <tr>\n",
       "      <th>count</th>\n",
       "      <td>390.000000</td>\n",
       "      <td>390.000000</td>\n",
       "      <td>390.000000</td>\n",
       "      <td>390.000000</td>\n",
       "      <td>390.000000</td>\n",
       "      <td>390.000000</td>\n",
       "      <td>390.000000</td>\n",
       "      <td>390.000000</td>\n",
       "      <td>390.000000</td>\n",
       "      <td>390.000000</td>\n",
       "      <td>390.000000</td>\n",
       "    </tr>\n",
       "    <tr>\n",
       "      <th>mean</th>\n",
       "      <td>207.230769</td>\n",
       "      <td>107.338462</td>\n",
       "      <td>50.266667</td>\n",
       "      <td>46.774359</td>\n",
       "      <td>65.951282</td>\n",
       "      <td>177.407692</td>\n",
       "      <td>28.775641</td>\n",
       "      <td>137.133333</td>\n",
       "      <td>83.289744</td>\n",
       "      <td>37.869231</td>\n",
       "      <td>42.992308</td>\n",
       "    </tr>\n",
       "    <tr>\n",
       "      <th>std</th>\n",
       "      <td>44.666005</td>\n",
       "      <td>53.798188</td>\n",
       "      <td>17.279069</td>\n",
       "      <td>16.435911</td>\n",
       "      <td>3.918867</td>\n",
       "      <td>40.407824</td>\n",
       "      <td>6.600915</td>\n",
       "      <td>22.859528</td>\n",
       "      <td>13.498192</td>\n",
       "      <td>5.760947</td>\n",
       "      <td>5.664342</td>\n",
       "    </tr>\n",
       "    <tr>\n",
       "      <th>min</th>\n",
       "      <td>78.000000</td>\n",
       "      <td>48.000000</td>\n",
       "      <td>12.000000</td>\n",
       "      <td>19.000000</td>\n",
       "      <td>52.000000</td>\n",
       "      <td>99.000000</td>\n",
       "      <td>15.200000</td>\n",
       "      <td>90.000000</td>\n",
       "      <td>48.000000</td>\n",
       "      <td>26.000000</td>\n",
       "      <td>30.000000</td>\n",
       "    </tr>\n",
       "    <tr>\n",
       "      <th>25%</th>\n",
       "      <td>179.000000</td>\n",
       "      <td>81.000000</td>\n",
       "      <td>38.000000</td>\n",
       "      <td>34.000000</td>\n",
       "      <td>63.000000</td>\n",
       "      <td>150.250000</td>\n",
       "      <td>24.100000</td>\n",
       "      <td>122.000000</td>\n",
       "      <td>75.000000</td>\n",
       "      <td>33.000000</td>\n",
       "      <td>39.000000</td>\n",
       "    </tr>\n",
       "    <tr>\n",
       "      <th>50%</th>\n",
       "      <td>203.000000</td>\n",
       "      <td>90.000000</td>\n",
       "      <td>46.000000</td>\n",
       "      <td>44.500000</td>\n",
       "      <td>66.000000</td>\n",
       "      <td>173.000000</td>\n",
       "      <td>27.800000</td>\n",
       "      <td>136.000000</td>\n",
       "      <td>82.000000</td>\n",
       "      <td>37.000000</td>\n",
       "      <td>42.000000</td>\n",
       "    </tr>\n",
       "    <tr>\n",
       "      <th>75%</th>\n",
       "      <td>229.000000</td>\n",
       "      <td>107.750000</td>\n",
       "      <td>59.000000</td>\n",
       "      <td>60.000000</td>\n",
       "      <td>69.000000</td>\n",
       "      <td>200.000000</td>\n",
       "      <td>32.275000</td>\n",
       "      <td>148.000000</td>\n",
       "      <td>90.000000</td>\n",
       "      <td>41.000000</td>\n",
       "      <td>46.000000</td>\n",
       "    </tr>\n",
       "    <tr>\n",
       "      <th>max</th>\n",
       "      <td>443.000000</td>\n",
       "      <td>385.000000</td>\n",
       "      <td>120.000000</td>\n",
       "      <td>92.000000</td>\n",
       "      <td>76.000000</td>\n",
       "      <td>325.000000</td>\n",
       "      <td>55.800000</td>\n",
       "      <td>250.000000</td>\n",
       "      <td>124.000000</td>\n",
       "      <td>56.000000</td>\n",
       "      <td>64.000000</td>\n",
       "    </tr>\n",
       "  </tbody>\n",
       "</table>\n",
       "</div>"
      ],
      "text/plain": [
       "       Cholesterol     Glucose    HDL Chol         Age      Height  \\\n",
       "count   390.000000  390.000000  390.000000  390.000000  390.000000   \n",
       "mean    207.230769  107.338462   50.266667   46.774359   65.951282   \n",
       "std      44.666005   53.798188   17.279069   16.435911    3.918867   \n",
       "min      78.000000   48.000000   12.000000   19.000000   52.000000   \n",
       "25%     179.000000   81.000000   38.000000   34.000000   63.000000   \n",
       "50%     203.000000   90.000000   46.000000   44.500000   66.000000   \n",
       "75%     229.000000  107.750000   59.000000   60.000000   69.000000   \n",
       "max     443.000000  385.000000  120.000000   92.000000   76.000000   \n",
       "\n",
       "           Weight         BMI  Systolic BP  Diastolic BP       waist  \\\n",
       "count  390.000000  390.000000   390.000000    390.000000  390.000000   \n",
       "mean   177.407692   28.775641   137.133333     83.289744   37.869231   \n",
       "std     40.407824    6.600915    22.859528     13.498192    5.760947   \n",
       "min     99.000000   15.200000    90.000000     48.000000   26.000000   \n",
       "25%    150.250000   24.100000   122.000000     75.000000   33.000000   \n",
       "50%    173.000000   27.800000   136.000000     82.000000   37.000000   \n",
       "75%    200.000000   32.275000   148.000000     90.000000   41.000000   \n",
       "max    325.000000   55.800000   250.000000    124.000000   56.000000   \n",
       "\n",
       "              hip  \n",
       "count  390.000000  \n",
       "mean    42.992308  \n",
       "std      5.664342  \n",
       "min     30.000000  \n",
       "25%     39.000000  \n",
       "50%     42.000000  \n",
       "75%     46.000000  \n",
       "max     64.000000  "
      ]
     },
     "execution_count": 5,
     "metadata": {},
     "output_type": "execute_result"
    }
   ],
   "source": [
    "df.describe()"
   ]
  },
  {
   "cell_type": "markdown",
   "id": "appointed-prefix",
   "metadata": {},
   "source": [
    "We can get the columns like so:"
   ]
  },
  {
   "cell_type": "code",
   "execution_count": 6,
   "id": "particular-leeds",
   "metadata": {},
   "outputs": [
    {
     "data": {
      "text/plain": [
       "Index(['Cholesterol', 'Glucose', 'HDL Chol', 'Age', 'Gender', 'Height',\n",
       "       'Weight', 'BMI', 'Systolic BP', 'Diastolic BP', 'waist', 'hip',\n",
       "       'Diabetes'],\n",
       "      dtype='object')"
      ]
     },
     "execution_count": 6,
     "metadata": {},
     "output_type": "execute_result"
    }
   ],
   "source": [
    "df.columns"
   ]
  },
  {
   "cell_type": "code",
   "execution_count": 7,
   "id": "written-cooper",
   "metadata": {},
   "outputs": [
    {
     "data": {
      "text/plain": [
       "Patient number\n",
       "1      19\n",
       "2      19\n",
       "3      20\n",
       "4      20\n",
       "5      20\n",
       "       ..\n",
       "386    83\n",
       "387    84\n",
       "388    89\n",
       "389    91\n",
       "390    92\n",
       "Name: Age, Length: 390, dtype: int64"
      ]
     },
     "execution_count": 7,
     "metadata": {},
     "output_type": "execute_result"
    }
   ],
   "source": [
    "# select a column\n",
    "df['Age']"
   ]
  },
  {
   "cell_type": "code",
   "execution_count": 8,
   "id": "daily-pipeline",
   "metadata": {},
   "outputs": [
    {
     "data": {
      "text/plain": [
       "40    16\n",
       "36    13\n",
       "41    12\n",
       "43    12\n",
       "37    11\n",
       "      ..\n",
       "24     1\n",
       "83     1\n",
       "84     1\n",
       "89     1\n",
       "92     1\n",
       "Name: Age, Length: 68, dtype: int64"
      ]
     },
     "execution_count": 8,
     "metadata": {},
     "output_type": "execute_result"
    }
   ],
   "source": [
    "# select a column and get the counts of each unique value\n",
    "df['Age'].value_counts()"
   ]
  },
  {
   "cell_type": "code",
   "execution_count": 9,
   "id": "consistent-chair",
   "metadata": {},
   "outputs": [
    {
     "data": {
      "text/plain": [
       "array([19, 20, 21, 22, 23, 24, 25, 26, 27, 28, 29, 30, 31, 32, 33, 34, 35,\n",
       "       36, 37, 38, 39, 40, 41, 42, 43, 44, 45, 46, 47, 48, 49, 50, 51, 52,\n",
       "       53, 54, 55, 56, 57, 58, 59, 60, 61, 62, 63, 64, 65, 66, 67, 68, 69,\n",
       "       70, 71, 72, 73, 74, 75, 76, 78, 79, 80, 81, 82, 83, 84, 89, 91, 92],\n",
       "      dtype=int64)"
      ]
     },
     "execution_count": 9,
     "metadata": {},
     "output_type": "execute_result"
    }
   ],
   "source": [
    "# similar, but only gets unique values\n",
    "df['Age'].unique()"
   ]
  },
  {
   "cell_type": "markdown",
   "id": "electronic-legend",
   "metadata": {},
   "source": [
    "### Bar plots"
   ]
  },
  {
   "cell_type": "code",
   "execution_count": 15,
   "id": "great-white",
   "metadata": {},
   "outputs": [
    {
     "data": {
      "text/plain": [
       "<AxesSubplot:>"
      ]
     },
     "execution_count": 15,
     "metadata": {},
     "output_type": "execute_result"
    },
    {
     "data": {
      "image/png": "[encoded data removed]",
      "text/plain": [
       "<Figure size 432x288 with 1 Axes>"
      ]
     },
     "metadata": {
      "needs_background": "light"
     },
     "output_type": "display_data"
    }
   ],
   "source": [
    "# turn value_counts into a bar plot\n",
    "df['Age'].value_counts().plot.bar()"
   ]
  },
  {
   "cell_type": "code",
   "execution_count": 16,
   "id": "affiliated-province",
   "metadata": {},
   "outputs": [
    {
     "data": {
      "text/plain": [
       "<AxesSubplot:>"
      ]
     },
     "execution_count": 16,
     "metadata": {},
     "output_type": "execute_result"
    },
    {
     "data": {
      "image/png": "[encoded data removed]",
      "text/plain": [
       "<Figure size 432x288 with 1 Axes>"
      ]
     },
     "metadata": {
      "needs_background": "light"
     },
     "output_type": "display_data"
    }
   ],
   "source": [
    "# we can make it easier to read by restricting the number of values to the top 10\n",
    "df['Age'].value_counts()[:10].plot.bar()"
   ]
  },
  {
   "cell_type": "markdown",
   "id": "cheap-marshall",
   "metadata": {},
   "source": [
    "This is using the matplotlib package, so we can add axes labels and other things to the plot with matplotlib. The matlpotlib package is one of (if not *the*) oldest plotting packages in Python. For most common things, we can search the internet for it (e.g. add x-axis label) and we will usually arrive at a stack overflow page or the matplotlib documentation."
   ]
  },
  {
   "cell_type": "code",
   "execution_count": 17,
   "id": "mathematical-roulette",
   "metadata": {},
   "outputs": [
    {
     "data": {
      "text/plain": [
       "Text(0, 0.5, 'Counts')"
      ]
     },
     "execution_count": 17,
     "metadata": {},
     "output_type": "execute_result"
    },
    {
     "data": {
      "image/png": "[encoded data removed]",
      "text/plain": [
       "<Figure size 432x288 with 1 Axes>"
      ]
     },
     "metadata": {
      "needs_background": "light"
     },
     "output_type": "display_data"
    }
   ],
   "source": [
    "import matplotlib.pyplot as plt\n",
    "\n",
    "df['Age'].value_counts()[:10].plot.bar()\n",
    "plt.xlabel('Age')\n",
    "plt.ylabel('Counts')"
   ]
  },
  {
   "cell_type": "markdown",
   "id": "heard-installation",
   "metadata": {},
   "source": [
    "If you want to hide the printout of text, assign the last line to the _ variable (essentially, throw away the output that gets printed)."
   ]
  },
  {
   "cell_type": "code",
   "execution_count": 18,
   "id": "average-likelihood",
   "metadata": {},
   "outputs": [
    {
     "data": {
      "image/png": "[encoded data removed]",
      "text/plain": [
       "<Figure size 432x288 with 1 Axes>"
      ]
     },
     "metadata": {
      "needs_background": "light"
     },
     "output_type": "display_data"
    }
   ],
   "source": [
    "df['Age'].value_counts()[:10].plot.bar()\n",
    "plt.xlabel('Age')\n",
    "_ = plt.ylabel('Counts')"
   ]
  },
  {
   "cell_type": "markdown",
   "id": "northern-boating",
   "metadata": {},
   "source": [
    "If you want to share the figure, you can right click it and copy or save the image, or you can see the example at the bottom of the notebook for saving a figure."
   ]
  },
  {
   "cell_type": "markdown",
   "id": "valuable-pendant",
   "metadata": {},
   "source": [
    "### Histograms"
   ]
  },
  {
   "cell_type": "markdown",
   "id": "geological-hughes",
   "metadata": {},
   "source": [
    "Three common types of plots we can use are bar plots (like we saw), histograms, and scatter plots. Histograms are generated by pandas-profiling, but we can also look at a particular histogram like so:"
   ]
  },
  {
   "cell_type": "code",
   "execution_count": 19,
   "id": "enabling-geology",
   "metadata": {},
   "outputs": [
    {
     "data": {
      "text/plain": [
       "<AxesSubplot:>"
      ]
     },
     "execution_count": 19,
     "metadata": {},
     "output_type": "execute_result"
    },
    {
     "data": {
      "image/png": "[encoded data removed]",
      "text/plain": [
       "<Figure size 432x288 with 1 Axes>"
      ]
     },
     "metadata": {
      "needs_background": "light"
     },
     "output_type": "display_data"
    }
   ],
   "source": [
    "df['Glucose'].hist()"
   ]
  },
  {
   "cell_type": "code",
   "execution_count": 20,
   "id": "random-artwork",
   "metadata": {},
   "outputs": [
    {
     "data": {
      "text/plain": [
       "<AxesSubplot:ylabel='Frequency'>"
      ]
     },
     "execution_count": 20,
     "metadata": {},
     "output_type": "execute_result"
    },
    {
     "data": {
      "image/png": "[encoded data removed]",
      "text/plain": [
       "<Figure size 432x288 with 1 Axes>"
      ]
     },
     "metadata": {
      "needs_background": "light"
     },
     "output_type": "display_data"
    }
   ],
   "source": [
    "# this slightly different interface has a different style and generally looks better without gridlines\n",
    "df['Glucose'].plot.hist()"
   ]
  },
  {
   "cell_type": "markdown",
   "id": "located-inventory",
   "metadata": {},
   "source": [
    "There are many options for the function shown in the docs:\n",
    "https://pandas.pydata.org/docs/reference/api/pandas.DataFrame.plot.hist.html\n",
    "\n",
    "Here, we change the number of bars (bins)."
   ]
  },
  {
   "cell_type": "code",
   "execution_count": 21,
   "id": "tropical-stability",
   "metadata": {},
   "outputs": [
    {
     "data": {
      "text/plain": [
       "<AxesSubplot:ylabel='Frequency'>"
      ]
     },
     "execution_count": 21,
     "metadata": {},
     "output_type": "execute_result"
    },
    {
     "data": {
      "image/png": "[encoded data removed]",
      "text/plain": [
       "<Figure size 432x288 with 1 Axes>"
      ]
     },
     "metadata": {
      "needs_background": "light"
     },
     "output_type": "display_data"
    }
   ],
   "source": [
    "df['Glucose'].plot.hist(bins=30)"
   ]
  },
  {
   "cell_type": "markdown",
   "id": "essential-analyst",
   "metadata": {},
   "source": [
    "### Scatter plots"
   ]
  },
  {
   "cell_type": "markdown",
   "id": "economic-construction",
   "metadata": {},
   "source": [
    "Scatter plots are for showing the relationship between two continuous variables, or variables that can take any value within a given range (e.g. both glucose and cholesterol can be any value above 0, but cholesterol is usually in the range 100-300)."
   ]
  },
  {
   "cell_type": "code",
   "execution_count": 22,
   "id": "central-subscriber",
   "metadata": {},
   "outputs": [
    {
     "data": {
      "text/plain": [
       "<AxesSubplot:xlabel='Cholesterol', ylabel='Glucose'>"
      ]
     },
     "execution_count": 22,
     "metadata": {},
     "output_type": "execute_result"
    },
    {
     "data": {
      "image/png": "[encoded data removed]",
      "text/plain": [
       "<Figure size 432x288 with 1 Axes>"
      ]
     },
     "metadata": {
      "needs_background": "light"
     },
     "output_type": "display_data"
    }
   ],
   "source": [
    "df.plot.scatter(x='Cholesterol', y='Glucose')"
   ]
  },
  {
   "cell_type": "markdown",
   "id": "filled-spectacular",
   "metadata": {},
   "source": [
    "# Optional - Advanced EDA and visualization\n",
    "This part is not required, but is extra for those who want to learn more. It covers:\n",
    "- filtering dataframes\n",
    "- plotting with seaborn\n",
    "- using the phik correlation\n",
    "- time series plots with pandas"
   ]
  },
  {
   "cell_type": "markdown",
   "id": "through-handling",
   "metadata": {},
   "source": [
    "### Filtering"
   ]
  },
  {
   "cell_type": "markdown",
   "id": "alike-correspondence",
   "metadata": {},
   "source": [
    "If we want to get only certain subsets of the data, we can filter it. For example, let's get everyone over the median age. It's usually best to use copy() at the end to take a copy of the slice of the dataframe -- this avoids the settingwithcopy errors that can happen otherwise."
   ]
  },
  {
   "cell_type": "code",
   "execution_count": 10,
   "id": "played-haven",
   "metadata": {},
   "outputs": [],
   "source": [
    "over_median_age = df[df['Age'] > df['Age'].median()].copy()"
   ]
  },
  {
   "cell_type": "markdown",
   "id": "sharp-alias",
   "metadata": {},
   "source": [
    "This uses a boolean comparison, which indexes the dataframe and returns rows where the condition is `True`."
   ]
  },
  {
   "cell_type": "code",
   "execution_count": 11,
   "id": "tired-provider",
   "metadata": {},
   "outputs": [
    {
     "data": {
      "text/plain": [
       "Patient number\n",
       "1      False\n",
       "2      False\n",
       "3      False\n",
       "4      False\n",
       "5      False\n",
       "       ...  \n",
       "386     True\n",
       "387     True\n",
       "388     True\n",
       "389     True\n",
       "390     True\n",
       "Name: Age, Length: 390, dtype: bool"
      ]
     },
     "execution_count": 11,
     "metadata": {},
     "output_type": "execute_result"
    }
   ],
   "source": [
    "df['Age'] > df['Age'].median()"
   ]
  },
  {
   "cell_type": "markdown",
   "id": "accepted-novel",
   "metadata": {},
   "source": [
    "We can use the same boolean comparison operators as in most of Python and other programming, such as <, >, <=, >=, ==, and !=. We can also negate something with the ~ character:"
   ]
  },
  {
   "cell_type": "code",
   "execution_count": 12,
   "id": "express-genealogy",
   "metadata": {},
   "outputs": [
    {
     "data": {
      "text/plain": [
       "Patient number\n",
       "1       True\n",
       "2       True\n",
       "3       True\n",
       "4       True\n",
       "5       True\n",
       "       ...  \n",
       "386    False\n",
       "387    False\n",
       "388    False\n",
       "389    False\n",
       "390    False\n",
       "Name: Age, Length: 390, dtype: bool"
      ]
     },
     "execution_count": 12,
     "metadata": {},
     "output_type": "execute_result"
    }
   ],
   "source": [
    "~(df['Age'] > df['Age'].median())"
   ]
  },
  {
   "cell_type": "markdown",
   "id": "grateful-defense",
   "metadata": {},
   "source": [
    "To combine filters, we use the & (and) and | (or) operators, and be careful to wrap each conditional filter within parentheses:"
   ]
  },
  {
   "cell_type": "code",
   "execution_count": 13,
   "id": "compatible-raising",
   "metadata": {},
   "outputs": [],
   "source": [
    "over_median_age_chol = df[(df['Age'] > df['Age'].median()) & (df['Cholesterol'] > df['Cholesterol'].median())].copy()"
   ]
  },
  {
   "cell_type": "code",
   "execution_count": 14,
   "id": "turned-australian",
   "metadata": {},
   "outputs": [
    {
     "data": {
      "text/html": [
       "<div>\n",
       "<style scoped>\n",
       "    .dataframe tbody tr th:only-of-type {\n",
       "        vertical-align: middle;\n",
       "    }\n",
       "\n",
       "    .dataframe tbody tr th {\n",
       "        vertical-align: top;\n",
       "    }\n",
       "\n",
       "    .dataframe thead th {\n",
       "        text-align: right;\n",
       "    }\n",
       "</style>\n",
       "<table border=\"1\" class=\"dataframe\">\n",
       "  <thead>\n",
       "    <tr style=\"text-align: right;\">\n",
       "      <th></th>\n",
       "      <th>Cholesterol</th>\n",
       "      <th>Glucose</th>\n",
       "      <th>HDL Chol</th>\n",
       "      <th>Age</th>\n",
       "      <th>Gender</th>\n",
       "      <th>Height</th>\n",
       "      <th>Weight</th>\n",
       "      <th>BMI</th>\n",
       "      <th>Systolic BP</th>\n",
       "      <th>Diastolic BP</th>\n",
       "      <th>waist</th>\n",
       "      <th>hip</th>\n",
       "      <th>Diabetes</th>\n",
       "    </tr>\n",
       "    <tr>\n",
       "      <th>Patient number</th>\n",
       "      <th></th>\n",
       "      <th></th>\n",
       "      <th></th>\n",
       "      <th></th>\n",
       "      <th></th>\n",
       "      <th></th>\n",
       "      <th></th>\n",
       "      <th></th>\n",
       "      <th></th>\n",
       "      <th></th>\n",
       "      <th></th>\n",
       "      <th></th>\n",
       "      <th></th>\n",
       "    </tr>\n",
       "  </thead>\n",
       "  <tbody>\n",
       "    <tr>\n",
       "      <th>198</th>\n",
       "      <td>216</td>\n",
       "      <td>109</td>\n",
       "      <td>86</td>\n",
       "      <td>45</td>\n",
       "      <td>female</td>\n",
       "      <td>67</td>\n",
       "      <td>147</td>\n",
       "      <td>23.0</td>\n",
       "      <td>140</td>\n",
       "      <td>102</td>\n",
       "      <td>32</td>\n",
       "      <td>38</td>\n",
       "      <td>No diabetes</td>\n",
       "    </tr>\n",
       "    <tr>\n",
       "      <th>199</th>\n",
       "      <td>233</td>\n",
       "      <td>92</td>\n",
       "      <td>39</td>\n",
       "      <td>45</td>\n",
       "      <td>female</td>\n",
       "      <td>64</td>\n",
       "      <td>167</td>\n",
       "      <td>28.7</td>\n",
       "      <td>124</td>\n",
       "      <td>86</td>\n",
       "      <td>39</td>\n",
       "      <td>44</td>\n",
       "      <td>No diabetes</td>\n",
       "    </tr>\n",
       "    <tr>\n",
       "      <th>203</th>\n",
       "      <td>219</td>\n",
       "      <td>130</td>\n",
       "      <td>44</td>\n",
       "      <td>45</td>\n",
       "      <td>male</td>\n",
       "      <td>67</td>\n",
       "      <td>218</td>\n",
       "      <td>34.1</td>\n",
       "      <td>172</td>\n",
       "      <td>110</td>\n",
       "      <td>41</td>\n",
       "      <td>45</td>\n",
       "      <td>Diabetes</td>\n",
       "    </tr>\n",
       "    <tr>\n",
       "      <th>206</th>\n",
       "      <td>207</td>\n",
       "      <td>102</td>\n",
       "      <td>43</td>\n",
       "      <td>46</td>\n",
       "      <td>female</td>\n",
       "      <td>63</td>\n",
       "      <td>179</td>\n",
       "      <td>31.7</td>\n",
       "      <td>212</td>\n",
       "      <td>114</td>\n",
       "      <td>38</td>\n",
       "      <td>46</td>\n",
       "      <td>No diabetes</td>\n",
       "    </tr>\n",
       "    <tr>\n",
       "      <th>207</th>\n",
       "      <td>242</td>\n",
       "      <td>108</td>\n",
       "      <td>53</td>\n",
       "      <td>46</td>\n",
       "      <td>female</td>\n",
       "      <td>62</td>\n",
       "      <td>183</td>\n",
       "      <td>33.5</td>\n",
       "      <td>130</td>\n",
       "      <td>86</td>\n",
       "      <td>37</td>\n",
       "      <td>45</td>\n",
       "      <td>No diabetes</td>\n",
       "    </tr>\n",
       "    <tr>\n",
       "      <th>...</th>\n",
       "      <td>...</td>\n",
       "      <td>...</td>\n",
       "      <td>...</td>\n",
       "      <td>...</td>\n",
       "      <td>...</td>\n",
       "      <td>...</td>\n",
       "      <td>...</td>\n",
       "      <td>...</td>\n",
       "      <td>...</td>\n",
       "      <td>...</td>\n",
       "      <td>...</td>\n",
       "      <td>...</td>\n",
       "      <td>...</td>\n",
       "    </tr>\n",
       "    <tr>\n",
       "      <th>385</th>\n",
       "      <td>255</td>\n",
       "      <td>112</td>\n",
       "      <td>34</td>\n",
       "      <td>82</td>\n",
       "      <td>male</td>\n",
       "      <td>66</td>\n",
       "      <td>163</td>\n",
       "      <td>26.3</td>\n",
       "      <td>179</td>\n",
       "      <td>89</td>\n",
       "      <td>37</td>\n",
       "      <td>43</td>\n",
       "      <td>No diabetes</td>\n",
       "    </tr>\n",
       "    <tr>\n",
       "      <th>386</th>\n",
       "      <td>227</td>\n",
       "      <td>105</td>\n",
       "      <td>44</td>\n",
       "      <td>83</td>\n",
       "      <td>female</td>\n",
       "      <td>59</td>\n",
       "      <td>125</td>\n",
       "      <td>25.2</td>\n",
       "      <td>150</td>\n",
       "      <td>90</td>\n",
       "      <td>35</td>\n",
       "      <td>40</td>\n",
       "      <td>No diabetes</td>\n",
       "    </tr>\n",
       "    <tr>\n",
       "      <th>387</th>\n",
       "      <td>226</td>\n",
       "      <td>279</td>\n",
       "      <td>52</td>\n",
       "      <td>84</td>\n",
       "      <td>female</td>\n",
       "      <td>60</td>\n",
       "      <td>192</td>\n",
       "      <td>37.5</td>\n",
       "      <td>144</td>\n",
       "      <td>88</td>\n",
       "      <td>41</td>\n",
       "      <td>48</td>\n",
       "      <td>Diabetes</td>\n",
       "    </tr>\n",
       "    <tr>\n",
       "      <th>388</th>\n",
       "      <td>301</td>\n",
       "      <td>90</td>\n",
       "      <td>118</td>\n",
       "      <td>89</td>\n",
       "      <td>female</td>\n",
       "      <td>61</td>\n",
       "      <td>115</td>\n",
       "      <td>21.7</td>\n",
       "      <td>218</td>\n",
       "      <td>90</td>\n",
       "      <td>31</td>\n",
       "      <td>41</td>\n",
       "      <td>No diabetes</td>\n",
       "    </tr>\n",
       "    <tr>\n",
       "      <th>389</th>\n",
       "      <td>232</td>\n",
       "      <td>184</td>\n",
       "      <td>114</td>\n",
       "      <td>91</td>\n",
       "      <td>female</td>\n",
       "      <td>61</td>\n",
       "      <td>127</td>\n",
       "      <td>24.0</td>\n",
       "      <td>170</td>\n",
       "      <td>82</td>\n",
       "      <td>35</td>\n",
       "      <td>38</td>\n",
       "      <td>Diabetes</td>\n",
       "    </tr>\n",
       "  </tbody>\n",
       "</table>\n",
       "<p>119 rows × 13 columns</p>\n",
       "</div>"
      ],
      "text/plain": [
       "                Cholesterol  Glucose  HDL Chol  Age  Gender  Height  Weight  \\\n",
       "Patient number                                                                \n",
       "198                     216      109        86   45  female      67     147   \n",
       "199                     233       92        39   45  female      64     167   \n",
       "203                     219      130        44   45    male      67     218   \n",
       "206                     207      102        43   46  female      63     179   \n",
       "207                     242      108        53   46  female      62     183   \n",
       "...                     ...      ...       ...  ...     ...     ...     ...   \n",
       "385                     255      112        34   82    male      66     163   \n",
       "386                     227      105        44   83  female      59     125   \n",
       "387                     226      279        52   84  female      60     192   \n",
       "388                     301       90       118   89  female      61     115   \n",
       "389                     232      184       114   91  female      61     127   \n",
       "\n",
       "                 BMI  Systolic BP  Diastolic BP  waist  hip     Diabetes  \n",
       "Patient number                                                            \n",
       "198             23.0          140           102     32   38  No diabetes  \n",
       "199             28.7          124            86     39   44  No diabetes  \n",
       "203             34.1          172           110     41   45     Diabetes  \n",
       "206             31.7          212           114     38   46  No diabetes  \n",
       "207             33.5          130            86     37   45  No diabetes  \n",
       "...              ...          ...           ...    ...  ...          ...  \n",
       "385             26.3          179            89     37   43  No diabetes  \n",
       "386             25.2          150            90     35   40  No diabetes  \n",
       "387             37.5          144            88     41   48     Diabetes  \n",
       "388             21.7          218            90     31   41  No diabetes  \n",
       "389             24.0          170            82     35   38     Diabetes  \n",
       "\n",
       "[119 rows x 13 columns]"
      ]
     },
     "execution_count": 14,
     "metadata": {},
     "output_type": "execute_result"
    }
   ],
   "source": [
    "over_median_age_chol"
   ]
  },
  {
   "cell_type": "markdown",
   "id": "after-peripheral",
   "metadata": {},
   "source": [
    "We can filter to get the two groups of diabetes and no diabetes people, and then look at the proportions of the genders in the groups (since the numbers in the groups are not the same). The `shape` attribute of a dataframe is a tuple with (rows, columns), so getting the first element with `[0]` gives us the number of rows. It looks like there isn't a large difference in the balance of male/female genders between these two groups."
   ]
  },
  {
   "cell_type": "code",
   "execution_count": 11,
   "id": "vocal-toilet",
   "metadata": {},
   "outputs": [
    {
     "data": {
      "text/plain": [
       "(390, 13)"
      ]
     },
     "execution_count": 11,
     "metadata": {},
     "output_type": "execute_result"
    }
   ],
   "source": [
    "df.shape"
   ]
  },
  {
   "cell_type": "code",
   "execution_count": 43,
   "id": "unavailable-gazette",
   "metadata": {},
   "outputs": [
    {
     "data": {
      "text/plain": [
       "female    0.566667\n",
       "male      0.433333\n",
       "Name: Gender, dtype: float64"
      ]
     },
     "execution_count": 43,
     "metadata": {},
     "output_type": "execute_result"
    }
   ],
   "source": [
    "diabetes_df = df[df['Diabetes'] == 'Diabetes']\n",
    "\n",
    "diabetes_df['Gender'].value_counts() / diabetes_df.shape[0]"
   ]
  },
  {
   "cell_type": "code",
   "execution_count": 44,
   "id": "color-matthew",
   "metadata": {},
   "outputs": [
    {
     "data": {
      "text/plain": [
       "female    0.587879\n",
       "male      0.412121\n",
       "Name: Gender, dtype: float64"
      ]
     },
     "execution_count": 44,
     "metadata": {},
     "output_type": "execute_result"
    }
   ],
   "source": [
    "no_diabetes_df = df[df['Diabetes'] == 'No diabetes']\n",
    "\n",
    "no_diabetes_df['Gender'].value_counts() / no_diabetes_df.shape[0]"
   ]
  },
  {
   "cell_type": "markdown",
   "id": "extensive-fishing",
   "metadata": {},
   "source": [
    "This is also what the `normalize` argument does."
   ]
  },
  {
   "cell_type": "code",
   "execution_count": 47,
   "id": "speaking-bible",
   "metadata": {
    "scrolled": true
   },
   "outputs": [
    {
     "data": {
      "text/plain": [
       "female    0.587879\n",
       "male      0.412121\n",
       "Name: Gender, dtype: float64"
      ]
     },
     "execution_count": 47,
     "metadata": {},
     "output_type": "execute_result"
    }
   ],
   "source": [
    "no_diabetes_df['Gender'].value_counts(normalize=True)"
   ]
  },
  {
   "cell_type": "markdown",
   "id": "searching-tenant",
   "metadata": {},
   "source": [
    "## Seaborn for plotting"
   ]
  },
  {
   "cell_type": "markdown",
   "id": "moderate-islam",
   "metadata": {},
   "source": [
    "seaborn is a package that uses matplotlib and pandas dataframes to create more complex plots with minimal effort. In our case, we can group our data by people with and without diabetes, and plot some of their characterists. We are also going to use the phik package for correlations, so we need to install both these packages first:"
   ]
  },
  {
   "cell_type": "code",
   "execution_count": null,
   "id": "parliamentary-cover",
   "metadata": {},
   "outputs": [],
   "source": [
    "!conda install -c conda-forge seaborn phik -y"
   ]
  },
  {
   "cell_type": "markdown",
   "id": "innocent-prospect",
   "metadata": {},
   "source": [
    "Setting `stat='density'` and `common_norm=True` normalizes area under the individual histograms so they equal 1.\n",
    "This makes it easier to compare the two groups. We can see that people with diabetes tend to have much higher glucose levels:"
   ]
  },
  {
   "cell_type": "code",
   "execution_count": 23,
   "id": "fallen-radar",
   "metadata": {},
   "outputs": [
    {
     "data": {
      "image/png": "[encoded data removed]",
      "text/plain": [
       "<Figure size 432x288 with 1 Axes>"
      ]
     },
     "metadata": {
      "needs_background": "light"
     },
     "output_type": "display_data"
    }
   ],
   "source": [
    "import phik\n",
    "import seaborn as sns\n",
    "\n",
    "_ = sns.histplot(data=df, y='Glucose', hue='Diabetes', stat='density', common_norm=False)"
   ]
  },
  {
   "cell_type": "markdown",
   "id": "little-boating",
   "metadata": {},
   "source": [
    "With seaborn, we can create scatter plots and color them by groups:"
   ]
  },
  {
   "cell_type": "code",
   "execution_count": 24,
   "id": "indoor-commons",
   "metadata": {},
   "outputs": [
    {
     "data": {
      "text/plain": [
       "<seaborn.axisgrid.FacetGrid at 0x1a651d35280>"
      ]
     },
     "execution_count": 24,
     "metadata": {},
     "output_type": "execute_result"
    },
    {
     "data": {
      "image/png": "[encoded data removed]",
      "text/plain": [
       "<Figure size 455.625x360 with 1 Axes>"
      ]
     },
     "metadata": {
      "needs_background": "light"
     },
     "output_type": "display_data"
    }
   ],
   "source": [
    "sns.relplot(data=df, x='Cholesterol', y='Glucose', hue='Diabetes')"
   ]
  },
  {
   "cell_type": "markdown",
   "id": "romantic-petroleum",
   "metadata": {},
   "source": [
    "One other nice plot to examine is a correlogram. This shows the linear correlations between columns. We can see the pairs BMI and weight as well as waist and hip measurements are strongly correlated with each other. This is the Pearson correlation, which shows linear relationships between two numeric columns. For more advanced correlations, try the Phi-k correlation package: https://phik.readthedocs.io/en/latest/"
   ]
  },
  {
   "cell_type": "code",
   "execution_count": 25,
   "id": "terminal-functionality",
   "metadata": {},
   "outputs": [
    {
     "data": {
      "text/plain": [
       "<AxesSubplot:>"
      ]
     },
     "execution_count": 25,
     "metadata": {},
     "output_type": "execute_result"
    },
    {
     "data": {
      "image/png": "[encoded data removed]",
      "text/plain": [
       "<Figure size 432x288 with 2 Axes>"
      ]
     },
     "metadata": {
      "needs_background": "light"
     },
     "output_type": "display_data"
    }
   ],
   "source": [
    "sns.heatmap(df.corr())"
   ]
  },
  {
   "cell_type": "code",
   "execution_count": 45,
   "id": "breathing-raising",
   "metadata": {},
   "outputs": [
    {
     "name": "stdout",
     "output_type": "stream",
     "text": [
      "interval columns not set, guessing: ['Cholesterol', 'Glucose', 'HDL Chol', 'Age', 'Height', 'Weight', 'BMI', 'Systolic BP', 'Diastolic BP', 'waist', 'hip']\n"
     ]
    },
    {
     "data": {
      "text/plain": [
       "<AxesSubplot:>"
      ]
     },
     "execution_count": 45,
     "metadata": {},
     "output_type": "execute_result"
    },
    {
     "data": {
      "image/png": "[encoded data removed]",
      "text/plain": [
       "<Figure size 432x288 with 2 Axes>"
      ]
     },
     "metadata": {
      "needs_background": "light"
     },
     "output_type": "display_data"
    }
   ],
   "source": [
    "sns.heatmap(df.phik_matrix())"
   ]
  },
  {
   "cell_type": "markdown",
   "id": "dense-speech",
   "metadata": {},
   "source": [
    "One last note: the `countplot` in seaborn is very much like doing `df['column'].value_counts().plot.bar()`, but allows us to use the `hue` argument to group data by a categorical variable."
   ]
  },
  {
   "cell_type": "markdown",
   "id": "second-requirement",
   "metadata": {},
   "source": [
    "## Time series plots"
   ]
  },
  {
   "cell_type": "markdown",
   "id": "placed-extraction",
   "metadata": {},
   "source": [
    "Time series plots are a little different, since we'll often be using the x-axis as sequential time. With pandas, as long as our timestamp is a timestamp datatype and our dataframe index, we can easily plot timeseries data. We'll be using data from here: https://www.kaggle.com/selfishgene/historical-hourly-weather-data?select=temperature.csv"
   ]
  },
  {
   "cell_type": "code",
   "execution_count": 13,
   "id": "vietnamese-tract",
   "metadata": {},
   "outputs": [
    {
     "data": {
      "text/html": [
       "<div>\n",
       "<style scoped>\n",
       "    .dataframe tbody tr th:only-of-type {\n",
       "        vertical-align: middle;\n",
       "    }\n",
       "\n",
       "    .dataframe tbody tr th {\n",
       "        vertical-align: top;\n",
       "    }\n",
       "\n",
       "    .dataframe thead th {\n",
       "        text-align: right;\n",
       "    }\n",
       "</style>\n",
       "<table border=\"1\" class=\"dataframe\">\n",
       "  <thead>\n",
       "    <tr style=\"text-align: right;\">\n",
       "      <th></th>\n",
       "      <th>Vancouver</th>\n",
       "      <th>Portland</th>\n",
       "      <th>San Francisco</th>\n",
       "      <th>Seattle</th>\n",
       "      <th>Los Angeles</th>\n",
       "      <th>San Diego</th>\n",
       "      <th>Las Vegas</th>\n",
       "      <th>Phoenix</th>\n",
       "      <th>Albuquerque</th>\n",
       "      <th>Denver</th>\n",
       "      <th>...</th>\n",
       "      <th>Philadelphia</th>\n",
       "      <th>New York</th>\n",
       "      <th>Montreal</th>\n",
       "      <th>Boston</th>\n",
       "      <th>Beersheba</th>\n",
       "      <th>Tel Aviv District</th>\n",
       "      <th>Eilat</th>\n",
       "      <th>Haifa</th>\n",
       "      <th>Nahariyya</th>\n",
       "      <th>Jerusalem</th>\n",
       "    </tr>\n",
       "    <tr>\n",
       "      <th>datetime</th>\n",
       "      <th></th>\n",
       "      <th></th>\n",
       "      <th></th>\n",
       "      <th></th>\n",
       "      <th></th>\n",
       "      <th></th>\n",
       "      <th></th>\n",
       "      <th></th>\n",
       "      <th></th>\n",
       "      <th></th>\n",
       "      <th></th>\n",
       "      <th></th>\n",
       "      <th></th>\n",
       "      <th></th>\n",
       "      <th></th>\n",
       "      <th></th>\n",
       "      <th></th>\n",
       "      <th></th>\n",
       "      <th></th>\n",
       "      <th></th>\n",
       "      <th></th>\n",
       "    </tr>\n",
       "  </thead>\n",
       "  <tbody>\n",
       "    <tr>\n",
       "      <th>2012-10-01 12:00:00</th>\n",
       "      <td>NaN</td>\n",
       "      <td>NaN</td>\n",
       "      <td>NaN</td>\n",
       "      <td>NaN</td>\n",
       "      <td>NaN</td>\n",
       "      <td>NaN</td>\n",
       "      <td>NaN</td>\n",
       "      <td>NaN</td>\n",
       "      <td>NaN</td>\n",
       "      <td>NaN</td>\n",
       "      <td>...</td>\n",
       "      <td>NaN</td>\n",
       "      <td>NaN</td>\n",
       "      <td>NaN</td>\n",
       "      <td>NaN</td>\n",
       "      <td>NaN</td>\n",
       "      <td>NaN</td>\n",
       "      <td>309.100000</td>\n",
       "      <td>NaN</td>\n",
       "      <td>NaN</td>\n",
       "      <td>NaN</td>\n",
       "    </tr>\n",
       "    <tr>\n",
       "      <th>2012-10-01 13:00:00</th>\n",
       "      <td>284.630000</td>\n",
       "      <td>282.080000</td>\n",
       "      <td>289.480000</td>\n",
       "      <td>281.800000</td>\n",
       "      <td>291.870000</td>\n",
       "      <td>291.530000</td>\n",
       "      <td>293.410000</td>\n",
       "      <td>296.600000</td>\n",
       "      <td>285.120000</td>\n",
       "      <td>284.610000</td>\n",
       "      <td>...</td>\n",
       "      <td>285.630000</td>\n",
       "      <td>288.220000</td>\n",
       "      <td>285.830000</td>\n",
       "      <td>287.170000</td>\n",
       "      <td>307.590000</td>\n",
       "      <td>305.470000</td>\n",
       "      <td>310.580000</td>\n",
       "      <td>304.4</td>\n",
       "      <td>304.4</td>\n",
       "      <td>303.5</td>\n",
       "    </tr>\n",
       "    <tr>\n",
       "      <th>2012-10-01 14:00:00</th>\n",
       "      <td>284.629041</td>\n",
       "      <td>282.083252</td>\n",
       "      <td>289.474993</td>\n",
       "      <td>281.797217</td>\n",
       "      <td>291.868186</td>\n",
       "      <td>291.533501</td>\n",
       "      <td>293.403141</td>\n",
       "      <td>296.608509</td>\n",
       "      <td>285.154558</td>\n",
       "      <td>284.607306</td>\n",
       "      <td>...</td>\n",
       "      <td>285.663208</td>\n",
       "      <td>288.247676</td>\n",
       "      <td>285.834650</td>\n",
       "      <td>287.186092</td>\n",
       "      <td>307.590000</td>\n",
       "      <td>304.310000</td>\n",
       "      <td>310.495769</td>\n",
       "      <td>304.4</td>\n",
       "      <td>304.4</td>\n",
       "      <td>303.5</td>\n",
       "    </tr>\n",
       "    <tr>\n",
       "      <th>2012-10-01 15:00:00</th>\n",
       "      <td>284.626998</td>\n",
       "      <td>282.091866</td>\n",
       "      <td>289.460618</td>\n",
       "      <td>281.789833</td>\n",
       "      <td>291.862844</td>\n",
       "      <td>291.543355</td>\n",
       "      <td>293.392177</td>\n",
       "      <td>296.631487</td>\n",
       "      <td>285.233952</td>\n",
       "      <td>284.599918</td>\n",
       "      <td>...</td>\n",
       "      <td>285.756824</td>\n",
       "      <td>288.326940</td>\n",
       "      <td>285.847790</td>\n",
       "      <td>287.231672</td>\n",
       "      <td>307.391513</td>\n",
       "      <td>304.281841</td>\n",
       "      <td>310.411538</td>\n",
       "      <td>304.4</td>\n",
       "      <td>304.4</td>\n",
       "      <td>303.5</td>\n",
       "    </tr>\n",
       "    <tr>\n",
       "      <th>2012-10-01 16:00:00</th>\n",
       "      <td>284.624955</td>\n",
       "      <td>282.100481</td>\n",
       "      <td>289.446243</td>\n",
       "      <td>281.782449</td>\n",
       "      <td>291.857503</td>\n",
       "      <td>291.553209</td>\n",
       "      <td>293.381213</td>\n",
       "      <td>296.654466</td>\n",
       "      <td>285.313345</td>\n",
       "      <td>284.592530</td>\n",
       "      <td>...</td>\n",
       "      <td>285.850440</td>\n",
       "      <td>288.406203</td>\n",
       "      <td>285.860929</td>\n",
       "      <td>287.277251</td>\n",
       "      <td>307.145200</td>\n",
       "      <td>304.238015</td>\n",
       "      <td>310.327308</td>\n",
       "      <td>304.4</td>\n",
       "      <td>304.4</td>\n",
       "      <td>303.5</td>\n",
       "    </tr>\n",
       "    <tr>\n",
       "      <th>...</th>\n",
       "      <td>...</td>\n",
       "      <td>...</td>\n",
       "      <td>...</td>\n",
       "      <td>...</td>\n",
       "      <td>...</td>\n",
       "      <td>...</td>\n",
       "      <td>...</td>\n",
       "      <td>...</td>\n",
       "      <td>...</td>\n",
       "      <td>...</td>\n",
       "      <td>...</td>\n",
       "      <td>...</td>\n",
       "      <td>...</td>\n",
       "      <td>...</td>\n",
       "      <td>...</td>\n",
       "      <td>...</td>\n",
       "      <td>...</td>\n",
       "      <td>...</td>\n",
       "      <td>...</td>\n",
       "      <td>...</td>\n",
       "      <td>...</td>\n",
       "    </tr>\n",
       "    <tr>\n",
       "      <th>2017-11-29 20:00:00</th>\n",
       "      <td>NaN</td>\n",
       "      <td>282.000000</td>\n",
       "      <td>NaN</td>\n",
       "      <td>280.820000</td>\n",
       "      <td>293.550000</td>\n",
       "      <td>292.150000</td>\n",
       "      <td>289.540000</td>\n",
       "      <td>294.710000</td>\n",
       "      <td>285.720000</td>\n",
       "      <td>289.560000</td>\n",
       "      <td>...</td>\n",
       "      <td>290.240000</td>\n",
       "      <td>NaN</td>\n",
       "      <td>275.130000</td>\n",
       "      <td>288.080000</td>\n",
       "      <td>NaN</td>\n",
       "      <td>NaN</td>\n",
       "      <td>NaN</td>\n",
       "      <td>NaN</td>\n",
       "      <td>NaN</td>\n",
       "      <td>NaN</td>\n",
       "    </tr>\n",
       "    <tr>\n",
       "      <th>2017-11-29 21:00:00</th>\n",
       "      <td>NaN</td>\n",
       "      <td>282.890000</td>\n",
       "      <td>NaN</td>\n",
       "      <td>281.650000</td>\n",
       "      <td>295.680000</td>\n",
       "      <td>292.740000</td>\n",
       "      <td>290.610000</td>\n",
       "      <td>295.590000</td>\n",
       "      <td>286.450000</td>\n",
       "      <td>290.700000</td>\n",
       "      <td>...</td>\n",
       "      <td>289.240000</td>\n",
       "      <td>NaN</td>\n",
       "      <td>274.130000</td>\n",
       "      <td>286.020000</td>\n",
       "      <td>NaN</td>\n",
       "      <td>NaN</td>\n",
       "      <td>NaN</td>\n",
       "      <td>NaN</td>\n",
       "      <td>NaN</td>\n",
       "      <td>NaN</td>\n",
       "    </tr>\n",
       "    <tr>\n",
       "      <th>2017-11-29 22:00:00</th>\n",
       "      <td>NaN</td>\n",
       "      <td>283.390000</td>\n",
       "      <td>NaN</td>\n",
       "      <td>282.750000</td>\n",
       "      <td>295.960000</td>\n",
       "      <td>292.580000</td>\n",
       "      <td>291.340000</td>\n",
       "      <td>296.250000</td>\n",
       "      <td>286.440000</td>\n",
       "      <td>289.710000</td>\n",
       "      <td>...</td>\n",
       "      <td>286.780000</td>\n",
       "      <td>NaN</td>\n",
       "      <td>273.480000</td>\n",
       "      <td>283.940000</td>\n",
       "      <td>NaN</td>\n",
       "      <td>NaN</td>\n",
       "      <td>NaN</td>\n",
       "      <td>NaN</td>\n",
       "      <td>NaN</td>\n",
       "      <td>NaN</td>\n",
       "    </tr>\n",
       "    <tr>\n",
       "      <th>2017-11-29 23:00:00</th>\n",
       "      <td>NaN</td>\n",
       "      <td>283.020000</td>\n",
       "      <td>NaN</td>\n",
       "      <td>282.960000</td>\n",
       "      <td>295.650000</td>\n",
       "      <td>292.610000</td>\n",
       "      <td>292.150000</td>\n",
       "      <td>297.150000</td>\n",
       "      <td>286.140000</td>\n",
       "      <td>289.170000</td>\n",
       "      <td>...</td>\n",
       "      <td>284.570000</td>\n",
       "      <td>NaN</td>\n",
       "      <td>272.480000</td>\n",
       "      <td>282.170000</td>\n",
       "      <td>NaN</td>\n",
       "      <td>NaN</td>\n",
       "      <td>NaN</td>\n",
       "      <td>NaN</td>\n",
       "      <td>NaN</td>\n",
       "      <td>NaN</td>\n",
       "    </tr>\n",
       "    <tr>\n",
       "      <th>2017-11-30 00:00:00</th>\n",
       "      <td>NaN</td>\n",
       "      <td>282.280000</td>\n",
       "      <td>NaN</td>\n",
       "      <td>283.040000</td>\n",
       "      <td>294.930000</td>\n",
       "      <td>291.400000</td>\n",
       "      <td>291.640000</td>\n",
       "      <td>297.150000</td>\n",
       "      <td>284.700000</td>\n",
       "      <td>285.180000</td>\n",
       "      <td>...</td>\n",
       "      <td>283.420000</td>\n",
       "      <td>NaN</td>\n",
       "      <td>271.800000</td>\n",
       "      <td>280.650000</td>\n",
       "      <td>NaN</td>\n",
       "      <td>NaN</td>\n",
       "      <td>NaN</td>\n",
       "      <td>NaN</td>\n",
       "      <td>NaN</td>\n",
       "      <td>NaN</td>\n",
       "    </tr>\n",
       "  </tbody>\n",
       "</table>\n",
       "<p>45253 rows × 36 columns</p>\n",
       "</div>"
      ],
      "text/plain": [
       "                      Vancouver    Portland  San Francisco     Seattle  \\\n",
       "datetime                                                                 \n",
       "2012-10-01 12:00:00         NaN         NaN            NaN         NaN   \n",
       "2012-10-01 13:00:00  284.630000  282.080000     289.480000  281.800000   \n",
       "2012-10-01 14:00:00  284.629041  282.083252     289.474993  281.797217   \n",
       "2012-10-01 15:00:00  284.626998  282.091866     289.460618  281.789833   \n",
       "2012-10-01 16:00:00  284.624955  282.100481     289.446243  281.782449   \n",
       "...                         ...         ...            ...         ...   \n",
       "2017-11-29 20:00:00         NaN  282.000000            NaN  280.820000   \n",
       "2017-11-29 21:00:00         NaN  282.890000            NaN  281.650000   \n",
       "2017-11-29 22:00:00         NaN  283.390000            NaN  282.750000   \n",
       "2017-11-29 23:00:00         NaN  283.020000            NaN  282.960000   \n",
       "2017-11-30 00:00:00         NaN  282.280000            NaN  283.040000   \n",
       "\n",
       "                     Los Angeles   San Diego   Las Vegas     Phoenix  \\\n",
       "datetime                                                               \n",
       "2012-10-01 12:00:00          NaN         NaN         NaN         NaN   \n",
       "2012-10-01 13:00:00   291.870000  291.530000  293.410000  296.600000   \n",
       "2012-10-01 14:00:00   291.868186  291.533501  293.403141  296.608509   \n",
       "2012-10-01 15:00:00   291.862844  291.543355  293.392177  296.631487   \n",
       "2012-10-01 16:00:00   291.857503  291.553209  293.381213  296.654466   \n",
       "...                          ...         ...         ...         ...   \n",
       "2017-11-29 20:00:00   293.550000  292.150000  289.540000  294.710000   \n",
       "2017-11-29 21:00:00   295.680000  292.740000  290.610000  295.590000   \n",
       "2017-11-29 22:00:00   295.960000  292.580000  291.340000  296.250000   \n",
       "2017-11-29 23:00:00   295.650000  292.610000  292.150000  297.150000   \n",
       "2017-11-30 00:00:00   294.930000  291.400000  291.640000  297.150000   \n",
       "\n",
       "                     Albuquerque      Denver  ...  Philadelphia    New York  \\\n",
       "datetime                                      ...                             \n",
       "2012-10-01 12:00:00          NaN         NaN  ...           NaN         NaN   \n",
       "2012-10-01 13:00:00   285.120000  284.610000  ...    285.630000  288.220000   \n",
       "2012-10-01 14:00:00   285.154558  284.607306  ...    285.663208  288.247676   \n",
       "2012-10-01 15:00:00   285.233952  284.599918  ...    285.756824  288.326940   \n",
       "2012-10-01 16:00:00   285.313345  284.592530  ...    285.850440  288.406203   \n",
       "...                          ...         ...  ...           ...         ...   \n",
       "2017-11-29 20:00:00   285.720000  289.560000  ...    290.240000         NaN   \n",
       "2017-11-29 21:00:00   286.450000  290.700000  ...    289.240000         NaN   \n",
       "2017-11-29 22:00:00   286.440000  289.710000  ...    286.780000         NaN   \n",
       "2017-11-29 23:00:00   286.140000  289.170000  ...    284.570000         NaN   \n",
       "2017-11-30 00:00:00   284.700000  285.180000  ...    283.420000         NaN   \n",
       "\n",
       "                       Montreal      Boston   Beersheba  Tel Aviv District  \\\n",
       "datetime                                                                     \n",
       "2012-10-01 12:00:00         NaN         NaN         NaN                NaN   \n",
       "2012-10-01 13:00:00  285.830000  287.170000  307.590000         305.470000   \n",
       "2012-10-01 14:00:00  285.834650  287.186092  307.590000         304.310000   \n",
       "2012-10-01 15:00:00  285.847790  287.231672  307.391513         304.281841   \n",
       "2012-10-01 16:00:00  285.860929  287.277251  307.145200         304.238015   \n",
       "...                         ...         ...         ...                ...   \n",
       "2017-11-29 20:00:00  275.130000  288.080000         NaN                NaN   \n",
       "2017-11-29 21:00:00  274.130000  286.020000         NaN                NaN   \n",
       "2017-11-29 22:00:00  273.480000  283.940000         NaN                NaN   \n",
       "2017-11-29 23:00:00  272.480000  282.170000         NaN                NaN   \n",
       "2017-11-30 00:00:00  271.800000  280.650000         NaN                NaN   \n",
       "\n",
       "                          Eilat  Haifa  Nahariyya  Jerusalem  \n",
       "datetime                                                      \n",
       "2012-10-01 12:00:00  309.100000    NaN        NaN        NaN  \n",
       "2012-10-01 13:00:00  310.580000  304.4      304.4      303.5  \n",
       "2012-10-01 14:00:00  310.495769  304.4      304.4      303.5  \n",
       "2012-10-01 15:00:00  310.411538  304.4      304.4      303.5  \n",
       "2012-10-01 16:00:00  310.327308  304.4      304.4      303.5  \n",
       "...                         ...    ...        ...        ...  \n",
       "2017-11-29 20:00:00         NaN    NaN        NaN        NaN  \n",
       "2017-11-29 21:00:00         NaN    NaN        NaN        NaN  \n",
       "2017-11-29 22:00:00         NaN    NaN        NaN        NaN  \n",
       "2017-11-29 23:00:00         NaN    NaN        NaN        NaN  \n",
       "2017-11-30 00:00:00         NaN    NaN        NaN        NaN  \n",
       "\n",
       "[45253 rows x 36 columns]"
      ]
     },
     "execution_count": 13,
     "metadata": {},
     "output_type": "execute_result"
    }
   ],
   "source": [
    "time_df = pd.read_csv('data/temperature.csv', index_col='datetime', parse_dates=['datetime'], infer_datetime_format=True)\n",
    "time_df"
   ]
  },
  {
   "cell_type": "code",
   "execution_count": 14,
   "id": "premium-cedar",
   "metadata": {},
   "outputs": [
    {
     "name": "stdout",
     "output_type": "stream",
     "text": [
      "<class 'pandas.core.frame.DataFrame'>\n",
      "DatetimeIndex: 45253 entries, 2012-10-01 12:00:00 to 2017-11-30 00:00:00\n",
      "Data columns (total 36 columns):\n",
      " #   Column             Non-Null Count  Dtype  \n",
      "---  ------             --------------  -----  \n",
      " 0   Vancouver          44458 non-null  float64\n",
      " 1   Portland           45252 non-null  float64\n",
      " 2   San Francisco      44460 non-null  float64\n",
      " 3   Seattle            45250 non-null  float64\n",
      " 4   Los Angeles        45250 non-null  float64\n",
      " 5   San Diego          45252 non-null  float64\n",
      " 6   Las Vegas          45252 non-null  float64\n",
      " 7   Phoenix            45250 non-null  float64\n",
      " 8   Albuquerque        45252 non-null  float64\n",
      " 9   Denver             45252 non-null  float64\n",
      " 10  San Antonio        45252 non-null  float64\n",
      " 11  Dallas             45249 non-null  float64\n",
      " 12  Houston            45250 non-null  float64\n",
      " 13  Kansas City        45252 non-null  float64\n",
      " 14  Minneapolis        45240 non-null  float64\n",
      " 15  Saint Louis        45252 non-null  float64\n",
      " 16  Chicago            45250 non-null  float64\n",
      " 17  Nashville          45251 non-null  float64\n",
      " 18  Indianapolis       45246 non-null  float64\n",
      " 19  Atlanta            45247 non-null  float64\n",
      " 20  Detroit            45252 non-null  float64\n",
      " 21  Jacksonville       45252 non-null  float64\n",
      " 22  Charlotte          45250 non-null  float64\n",
      " 23  Miami              44448 non-null  float64\n",
      " 24  Pittsburgh         45250 non-null  float64\n",
      " 25  Toronto            45252 non-null  float64\n",
      " 26  Philadelphia       45250 non-null  float64\n",
      " 27  New York           44460 non-null  float64\n",
      " 28  Montreal           45250 non-null  float64\n",
      " 29  Boston             45250 non-null  float64\n",
      " 30  Beersheba          44455 non-null  float64\n",
      " 31  Tel Aviv District  44460 non-null  float64\n",
      " 32  Eilat              44461 non-null  float64\n",
      " 33  Haifa              44455 non-null  float64\n",
      " 34  Nahariyya          44456 non-null  float64\n",
      " 35  Jerusalem          44460 non-null  float64\n",
      "dtypes: float64(36)\n",
      "memory usage: 12.8 MB\n"
     ]
    }
   ],
   "source": [
    "# we can see the index is of type \"DatetimeIndex\"\n",
    "time_df.info()"
   ]
  },
  {
   "cell_type": "markdown",
   "id": "loaded-conflict",
   "metadata": {},
   "source": [
    "We could also get our data in a proper format using `pd.to_datetime()`:"
   ]
  },
  {
   "cell_type": "code",
   "execution_count": 15,
   "id": "announced-folks",
   "metadata": {},
   "outputs": [],
   "source": [
    "time_df2 = pd.read_csv('data/temperature.csv')\n",
    "time_df2['datetime'] = pd.to_datetime(time_df2['datetime'])\n",
    "time_df2.set_index('datetime', inplace=True)"
   ]
  },
  {
   "cell_type": "code",
   "execution_count": 16,
   "id": "personalized-harassment",
   "metadata": {},
   "outputs": [
    {
     "data": {
      "text/html": [
       "<div>\n",
       "<style scoped>\n",
       "    .dataframe tbody tr th:only-of-type {\n",
       "        vertical-align: middle;\n",
       "    }\n",
       "\n",
       "    .dataframe tbody tr th {\n",
       "        vertical-align: top;\n",
       "    }\n",
       "\n",
       "    .dataframe thead th {\n",
       "        text-align: right;\n",
       "    }\n",
       "</style>\n",
       "<table border=\"1\" class=\"dataframe\">\n",
       "  <thead>\n",
       "    <tr style=\"text-align: right;\">\n",
       "      <th></th>\n",
       "      <th>Vancouver</th>\n",
       "      <th>Portland</th>\n",
       "      <th>San Francisco</th>\n",
       "      <th>Seattle</th>\n",
       "      <th>Los Angeles</th>\n",
       "      <th>San Diego</th>\n",
       "      <th>Las Vegas</th>\n",
       "      <th>Phoenix</th>\n",
       "      <th>Albuquerque</th>\n",
       "      <th>Denver</th>\n",
       "      <th>...</th>\n",
       "      <th>Philadelphia</th>\n",
       "      <th>New York</th>\n",
       "      <th>Montreal</th>\n",
       "      <th>Boston</th>\n",
       "      <th>Beersheba</th>\n",
       "      <th>Tel Aviv District</th>\n",
       "      <th>Eilat</th>\n",
       "      <th>Haifa</th>\n",
       "      <th>Nahariyya</th>\n",
       "      <th>Jerusalem</th>\n",
       "    </tr>\n",
       "    <tr>\n",
       "      <th>datetime</th>\n",
       "      <th></th>\n",
       "      <th></th>\n",
       "      <th></th>\n",
       "      <th></th>\n",
       "      <th></th>\n",
       "      <th></th>\n",
       "      <th></th>\n",
       "      <th></th>\n",
       "      <th></th>\n",
       "      <th></th>\n",
       "      <th></th>\n",
       "      <th></th>\n",
       "      <th></th>\n",
       "      <th></th>\n",
       "      <th></th>\n",
       "      <th></th>\n",
       "      <th></th>\n",
       "      <th></th>\n",
       "      <th></th>\n",
       "      <th></th>\n",
       "      <th></th>\n",
       "    </tr>\n",
       "  </thead>\n",
       "  <tbody>\n",
       "    <tr>\n",
       "      <th>2012-10-01 12:00:00</th>\n",
       "      <td>NaN</td>\n",
       "      <td>NaN</td>\n",
       "      <td>NaN</td>\n",
       "      <td>NaN</td>\n",
       "      <td>NaN</td>\n",
       "      <td>NaN</td>\n",
       "      <td>NaN</td>\n",
       "      <td>NaN</td>\n",
       "      <td>NaN</td>\n",
       "      <td>NaN</td>\n",
       "      <td>...</td>\n",
       "      <td>NaN</td>\n",
       "      <td>NaN</td>\n",
       "      <td>NaN</td>\n",
       "      <td>NaN</td>\n",
       "      <td>NaN</td>\n",
       "      <td>NaN</td>\n",
       "      <td>309.100000</td>\n",
       "      <td>NaN</td>\n",
       "      <td>NaN</td>\n",
       "      <td>NaN</td>\n",
       "    </tr>\n",
       "    <tr>\n",
       "      <th>2012-10-01 13:00:00</th>\n",
       "      <td>284.630000</td>\n",
       "      <td>282.080000</td>\n",
       "      <td>289.480000</td>\n",
       "      <td>281.800000</td>\n",
       "      <td>291.870000</td>\n",
       "      <td>291.530000</td>\n",
       "      <td>293.410000</td>\n",
       "      <td>296.600000</td>\n",
       "      <td>285.120000</td>\n",
       "      <td>284.610000</td>\n",
       "      <td>...</td>\n",
       "      <td>285.630000</td>\n",
       "      <td>288.220000</td>\n",
       "      <td>285.830000</td>\n",
       "      <td>287.170000</td>\n",
       "      <td>307.590000</td>\n",
       "      <td>305.470000</td>\n",
       "      <td>310.580000</td>\n",
       "      <td>304.4</td>\n",
       "      <td>304.4</td>\n",
       "      <td>303.5</td>\n",
       "    </tr>\n",
       "    <tr>\n",
       "      <th>2012-10-01 14:00:00</th>\n",
       "      <td>284.629041</td>\n",
       "      <td>282.083252</td>\n",
       "      <td>289.474993</td>\n",
       "      <td>281.797217</td>\n",
       "      <td>291.868186</td>\n",
       "      <td>291.533501</td>\n",
       "      <td>293.403141</td>\n",
       "      <td>296.608509</td>\n",
       "      <td>285.154558</td>\n",
       "      <td>284.607306</td>\n",
       "      <td>...</td>\n",
       "      <td>285.663208</td>\n",
       "      <td>288.247676</td>\n",
       "      <td>285.834650</td>\n",
       "      <td>287.186092</td>\n",
       "      <td>307.590000</td>\n",
       "      <td>304.310000</td>\n",
       "      <td>310.495769</td>\n",
       "      <td>304.4</td>\n",
       "      <td>304.4</td>\n",
       "      <td>303.5</td>\n",
       "    </tr>\n",
       "    <tr>\n",
       "      <th>2012-10-01 15:00:00</th>\n",
       "      <td>284.626998</td>\n",
       "      <td>282.091866</td>\n",
       "      <td>289.460618</td>\n",
       "      <td>281.789833</td>\n",
       "      <td>291.862844</td>\n",
       "      <td>291.543355</td>\n",
       "      <td>293.392177</td>\n",
       "      <td>296.631487</td>\n",
       "      <td>285.233952</td>\n",
       "      <td>284.599918</td>\n",
       "      <td>...</td>\n",
       "      <td>285.756824</td>\n",
       "      <td>288.326940</td>\n",
       "      <td>285.847790</td>\n",
       "      <td>287.231672</td>\n",
       "      <td>307.391513</td>\n",
       "      <td>304.281841</td>\n",
       "      <td>310.411538</td>\n",
       "      <td>304.4</td>\n",
       "      <td>304.4</td>\n",
       "      <td>303.5</td>\n",
       "    </tr>\n",
       "    <tr>\n",
       "      <th>2012-10-01 16:00:00</th>\n",
       "      <td>284.624955</td>\n",
       "      <td>282.100481</td>\n",
       "      <td>289.446243</td>\n",
       "      <td>281.782449</td>\n",
       "      <td>291.857503</td>\n",
       "      <td>291.553209</td>\n",
       "      <td>293.381213</td>\n",
       "      <td>296.654466</td>\n",
       "      <td>285.313345</td>\n",
       "      <td>284.592530</td>\n",
       "      <td>...</td>\n",
       "      <td>285.850440</td>\n",
       "      <td>288.406203</td>\n",
       "      <td>285.860929</td>\n",
       "      <td>287.277251</td>\n",
       "      <td>307.145200</td>\n",
       "      <td>304.238015</td>\n",
       "      <td>310.327308</td>\n",
       "      <td>304.4</td>\n",
       "      <td>304.4</td>\n",
       "      <td>303.5</td>\n",
       "    </tr>\n",
       "    <tr>\n",
       "      <th>...</th>\n",
       "      <td>...</td>\n",
       "      <td>...</td>\n",
       "      <td>...</td>\n",
       "      <td>...</td>\n",
       "      <td>...</td>\n",
       "      <td>...</td>\n",
       "      <td>...</td>\n",
       "      <td>...</td>\n",
       "      <td>...</td>\n",
       "      <td>...</td>\n",
       "      <td>...</td>\n",
       "      <td>...</td>\n",
       "      <td>...</td>\n",
       "      <td>...</td>\n",
       "      <td>...</td>\n",
       "      <td>...</td>\n",
       "      <td>...</td>\n",
       "      <td>...</td>\n",
       "      <td>...</td>\n",
       "      <td>...</td>\n",
       "      <td>...</td>\n",
       "    </tr>\n",
       "    <tr>\n",
       "      <th>2017-11-29 20:00:00</th>\n",
       "      <td>NaN</td>\n",
       "      <td>282.000000</td>\n",
       "      <td>NaN</td>\n",
       "      <td>280.820000</td>\n",
       "      <td>293.550000</td>\n",
       "      <td>292.150000</td>\n",
       "      <td>289.540000</td>\n",
       "      <td>294.710000</td>\n",
       "      <td>285.720000</td>\n",
       "      <td>289.560000</td>\n",
       "      <td>...</td>\n",
       "      <td>290.240000</td>\n",
       "      <td>NaN</td>\n",
       "      <td>275.130000</td>\n",
       "      <td>288.080000</td>\n",
       "      <td>NaN</td>\n",
       "      <td>NaN</td>\n",
       "      <td>NaN</td>\n",
       "      <td>NaN</td>\n",
       "      <td>NaN</td>\n",
       "      <td>NaN</td>\n",
       "    </tr>\n",
       "    <tr>\n",
       "      <th>2017-11-29 21:00:00</th>\n",
       "      <td>NaN</td>\n",
       "      <td>282.890000</td>\n",
       "      <td>NaN</td>\n",
       "      <td>281.650000</td>\n",
       "      <td>295.680000</td>\n",
       "      <td>292.740000</td>\n",
       "      <td>290.610000</td>\n",
       "      <td>295.590000</td>\n",
       "      <td>286.450000</td>\n",
       "      <td>290.700000</td>\n",
       "      <td>...</td>\n",
       "      <td>289.240000</td>\n",
       "      <td>NaN</td>\n",
       "      <td>274.130000</td>\n",
       "      <td>286.020000</td>\n",
       "      <td>NaN</td>\n",
       "      <td>NaN</td>\n",
       "      <td>NaN</td>\n",
       "      <td>NaN</td>\n",
       "      <td>NaN</td>\n",
       "      <td>NaN</td>\n",
       "    </tr>\n",
       "    <tr>\n",
       "      <th>2017-11-29 22:00:00</th>\n",
       "      <td>NaN</td>\n",
       "      <td>283.390000</td>\n",
       "      <td>NaN</td>\n",
       "      <td>282.750000</td>\n",
       "      <td>295.960000</td>\n",
       "      <td>292.580000</td>\n",
       "      <td>291.340000</td>\n",
       "      <td>296.250000</td>\n",
       "      <td>286.440000</td>\n",
       "      <td>289.710000</td>\n",
       "      <td>...</td>\n",
       "      <td>286.780000</td>\n",
       "      <td>NaN</td>\n",
       "      <td>273.480000</td>\n",
       "      <td>283.940000</td>\n",
       "      <td>NaN</td>\n",
       "      <td>NaN</td>\n",
       "      <td>NaN</td>\n",
       "      <td>NaN</td>\n",
       "      <td>NaN</td>\n",
       "      <td>NaN</td>\n",
       "    </tr>\n",
       "    <tr>\n",
       "      <th>2017-11-29 23:00:00</th>\n",
       "      <td>NaN</td>\n",
       "      <td>283.020000</td>\n",
       "      <td>NaN</td>\n",
       "      <td>282.960000</td>\n",
       "      <td>295.650000</td>\n",
       "      <td>292.610000</td>\n",
       "      <td>292.150000</td>\n",
       "      <td>297.150000</td>\n",
       "      <td>286.140000</td>\n",
       "      <td>289.170000</td>\n",
       "      <td>...</td>\n",
       "      <td>284.570000</td>\n",
       "      <td>NaN</td>\n",
       "      <td>272.480000</td>\n",
       "      <td>282.170000</td>\n",
       "      <td>NaN</td>\n",
       "      <td>NaN</td>\n",
       "      <td>NaN</td>\n",
       "      <td>NaN</td>\n",
       "      <td>NaN</td>\n",
       "      <td>NaN</td>\n",
       "    </tr>\n",
       "    <tr>\n",
       "      <th>2017-11-30 00:00:00</th>\n",
       "      <td>NaN</td>\n",
       "      <td>282.280000</td>\n",
       "      <td>NaN</td>\n",
       "      <td>283.040000</td>\n",
       "      <td>294.930000</td>\n",
       "      <td>291.400000</td>\n",
       "      <td>291.640000</td>\n",
       "      <td>297.150000</td>\n",
       "      <td>284.700000</td>\n",
       "      <td>285.180000</td>\n",
       "      <td>...</td>\n",
       "      <td>283.420000</td>\n",
       "      <td>NaN</td>\n",
       "      <td>271.800000</td>\n",
       "      <td>280.650000</td>\n",
       "      <td>NaN</td>\n",
       "      <td>NaN</td>\n",
       "      <td>NaN</td>\n",
       "      <td>NaN</td>\n",
       "      <td>NaN</td>\n",
       "      <td>NaN</td>\n",
       "    </tr>\n",
       "  </tbody>\n",
       "</table>\n",
       "<p>45253 rows × 36 columns</p>\n",
       "</div>"
      ],
      "text/plain": [
       "                      Vancouver    Portland  San Francisco     Seattle  \\\n",
       "datetime                                                                 \n",
       "2012-10-01 12:00:00         NaN         NaN            NaN         NaN   \n",
       "2012-10-01 13:00:00  284.630000  282.080000     289.480000  281.800000   \n",
       "2012-10-01 14:00:00  284.629041  282.083252     289.474993  281.797217   \n",
       "2012-10-01 15:00:00  284.626998  282.091866     289.460618  281.789833   \n",
       "2012-10-01 16:00:00  284.624955  282.100481     289.446243  281.782449   \n",
       "...                         ...         ...            ...         ...   \n",
       "2017-11-29 20:00:00         NaN  282.000000            NaN  280.820000   \n",
       "2017-11-29 21:00:00         NaN  282.890000            NaN  281.650000   \n",
       "2017-11-29 22:00:00         NaN  283.390000            NaN  282.750000   \n",
       "2017-11-29 23:00:00         NaN  283.020000            NaN  282.960000   \n",
       "2017-11-30 00:00:00         NaN  282.280000            NaN  283.040000   \n",
       "\n",
       "                     Los Angeles   San Diego   Las Vegas     Phoenix  \\\n",
       "datetime                                                               \n",
       "2012-10-01 12:00:00          NaN         NaN         NaN         NaN   \n",
       "2012-10-01 13:00:00   291.870000  291.530000  293.410000  296.600000   \n",
       "2012-10-01 14:00:00   291.868186  291.533501  293.403141  296.608509   \n",
       "2012-10-01 15:00:00   291.862844  291.543355  293.392177  296.631487   \n",
       "2012-10-01 16:00:00   291.857503  291.553209  293.381213  296.654466   \n",
       "...                          ...         ...         ...         ...   \n",
       "2017-11-29 20:00:00   293.550000  292.150000  289.540000  294.710000   \n",
       "2017-11-29 21:00:00   295.680000  292.740000  290.610000  295.590000   \n",
       "2017-11-29 22:00:00   295.960000  292.580000  291.340000  296.250000   \n",
       "2017-11-29 23:00:00   295.650000  292.610000  292.150000  297.150000   \n",
       "2017-11-30 00:00:00   294.930000  291.400000  291.640000  297.150000   \n",
       "\n",
       "                     Albuquerque      Denver  ...  Philadelphia    New York  \\\n",
       "datetime                                      ...                             \n",
       "2012-10-01 12:00:00          NaN         NaN  ...           NaN         NaN   \n",
       "2012-10-01 13:00:00   285.120000  284.610000  ...    285.630000  288.220000   \n",
       "2012-10-01 14:00:00   285.154558  284.607306  ...    285.663208  288.247676   \n",
       "2012-10-01 15:00:00   285.233952  284.599918  ...    285.756824  288.326940   \n",
       "2012-10-01 16:00:00   285.313345  284.592530  ...    285.850440  288.406203   \n",
       "...                          ...         ...  ...           ...         ...   \n",
       "2017-11-29 20:00:00   285.720000  289.560000  ...    290.240000         NaN   \n",
       "2017-11-29 21:00:00   286.450000  290.700000  ...    289.240000         NaN   \n",
       "2017-11-29 22:00:00   286.440000  289.710000  ...    286.780000         NaN   \n",
       "2017-11-29 23:00:00   286.140000  289.170000  ...    284.570000         NaN   \n",
       "2017-11-30 00:00:00   284.700000  285.180000  ...    283.420000         NaN   \n",
       "\n",
       "                       Montreal      Boston   Beersheba  Tel Aviv District  \\\n",
       "datetime                                                                     \n",
       "2012-10-01 12:00:00         NaN         NaN         NaN                NaN   \n",
       "2012-10-01 13:00:00  285.830000  287.170000  307.590000         305.470000   \n",
       "2012-10-01 14:00:00  285.834650  287.186092  307.590000         304.310000   \n",
       "2012-10-01 15:00:00  285.847790  287.231672  307.391513         304.281841   \n",
       "2012-10-01 16:00:00  285.860929  287.277251  307.145200         304.238015   \n",
       "...                         ...         ...         ...                ...   \n",
       "2017-11-29 20:00:00  275.130000  288.080000         NaN                NaN   \n",
       "2017-11-29 21:00:00  274.130000  286.020000         NaN                NaN   \n",
       "2017-11-29 22:00:00  273.480000  283.940000         NaN                NaN   \n",
       "2017-11-29 23:00:00  272.480000  282.170000         NaN                NaN   \n",
       "2017-11-30 00:00:00  271.800000  280.650000         NaN                NaN   \n",
       "\n",
       "                          Eilat  Haifa  Nahariyya  Jerusalem  \n",
       "datetime                                                      \n",
       "2012-10-01 12:00:00  309.100000    NaN        NaN        NaN  \n",
       "2012-10-01 13:00:00  310.580000  304.4      304.4      303.5  \n",
       "2012-10-01 14:00:00  310.495769  304.4      304.4      303.5  \n",
       "2012-10-01 15:00:00  310.411538  304.4      304.4      303.5  \n",
       "2012-10-01 16:00:00  310.327308  304.4      304.4      303.5  \n",
       "...                         ...    ...        ...        ...  \n",
       "2017-11-29 20:00:00         NaN    NaN        NaN        NaN  \n",
       "2017-11-29 21:00:00         NaN    NaN        NaN        NaN  \n",
       "2017-11-29 22:00:00         NaN    NaN        NaN        NaN  \n",
       "2017-11-29 23:00:00         NaN    NaN        NaN        NaN  \n",
       "2017-11-30 00:00:00         NaN    NaN        NaN        NaN  \n",
       "\n",
       "[45253 rows x 36 columns]"
      ]
     },
     "execution_count": 16,
     "metadata": {},
     "output_type": "execute_result"
    }
   ],
   "source": [
    "time_df2"
   ]
  },
  {
   "cell_type": "code",
   "execution_count": 17,
   "id": "continued-parker",
   "metadata": {},
   "outputs": [
    {
     "data": {
      "text/plain": [
       "<AxesSubplot:xlabel='datetime'>"
      ]
     },
     "execution_count": 17,
     "metadata": {},
     "output_type": "execute_result"
    },
    {
     "data": {
      "image/png": "[encoded data removed]",
      "text/plain": [
       "<Figure size 432x288 with 1 Axes>"
      ]
     },
     "metadata": {
      "needs_background": "light"
     },
     "output_type": "display_data"
    }
   ],
   "source": [
    "time_df['Denver'].plot()"
   ]
  },
  {
   "cell_type": "markdown",
   "id": "stretch-bumper",
   "metadata": {},
   "source": [
    "One last trick we'll learn with datetime data is we can *resample* it, meaning change the time increments. We can convert our data to monthly data like so. We need to provide a transformation for the data, like 'mean' to take the average."
   ]
  },
  {
   "cell_type": "code",
   "execution_count": 18,
   "id": "cloudy-change",
   "metadata": {},
   "outputs": [],
   "source": [
    "time_df_months = time_df.resample('1M').mean()"
   ]
  },
  {
   "cell_type": "code",
   "execution_count": 19,
   "id": "related-handy",
   "metadata": {},
   "outputs": [
    {
     "data": {
      "text/plain": [
       "<AxesSubplot:xlabel='datetime'>"
      ]
     },
     "execution_count": 19,
     "metadata": {},
     "output_type": "execute_result"
    },
    {
     "data": {
      "image/png": "[encoded data removed]",
      "text/plain": [
       "<Figure size 432x288 with 1 Axes>"
      ]
     },
     "metadata": {
      "needs_background": "light"
     },
     "output_type": "display_data"
    }
   ],
   "source": [
    "time_df_months['Denver'].plot()"
   ]
  },
  {
   "cell_type": "markdown",
   "id": "variable-drive",
   "metadata": {},
   "source": [
    "If you want to remove missing values, dropna works:"
   ]
  },
  {
   "cell_type": "code",
   "execution_count": 20,
   "id": "collective-machine",
   "metadata": {},
   "outputs": [
    {
     "data": {
      "text/plain": [
       "(45253, 36)"
      ]
     },
     "execution_count": 20,
     "metadata": {},
     "output_type": "execute_result"
    }
   ],
   "source": [
    "time_df.shape"
   ]
  },
  {
   "cell_type": "code",
   "execution_count": 21,
   "id": "capable-vegetarian",
   "metadata": {},
   "outputs": [
    {
     "data": {
      "text/plain": [
       "(44430, 36)"
      ]
     },
     "execution_count": 21,
     "metadata": {},
     "output_type": "execute_result"
    }
   ],
   "source": [
    "time_df.dropna(inplace=True)\n",
    "time_df.shape"
   ]
  },
  {
   "cell_type": "markdown",
   "id": "stuffed-warning",
   "metadata": {},
   "source": [
    "### Saving a plot"
   ]
  },
  {
   "cell_type": "markdown",
   "id": "foster-fields",
   "metadata": {},
   "source": [
    "Saving a plot allows you to get higher resolution and control the size of the plot. In general, we want to first create the figure object with our specified size, then create our figure, then use plt.tight_layout, then save the figure. Remember `plt` is matplotlib which we imported earlier. Here is a respectable figure showing the temperature in Denver over the years. `dpi` is dots per inch. A higher value means higher resolution and bigger filesize. 300 can work well.\n",
    "\n",
    "Notice we also convert the units from Kelvin to Farenheight and add reasonable x- and y-labels so that the plot is easily understood. Making a good plot requires this effort."
   ]
  },
  {
   "cell_type": "code",
   "execution_count": 24,
   "id": "frozen-merit",
   "metadata": {},
   "outputs": [
    {
     "data": {
      "image/png": "[encoded data removed]",
      "text/plain": [
       "<Figure size 396x396 with 1 Axes>"
      ]
     },
     "metadata": {
      "needs_background": "light"
     },
     "output_type": "display_data"
    }
   ],
   "source": [
    "time_df_months['Denver_F'] = 9 / 5 * (time_df_months['Denver'] - 273) + 32\n",
    "\n",
    "f = plt.figure(figsize=(5.5, 5.5))\n",
    "time_df_months['Denver_F'].plot()\n",
    "plt.xlabel('Year')\n",
    "plt.ylabel('Temperature (F)')\n",
    "plt.tight_layout()  # auto-adjust margins\n",
    "plt.savefig('denver_temps.jpg', dpi=300)"
   ]
  },
  {
   "cell_type": "markdown",
   "id": "automatic-shuttle",
   "metadata": {},
   "source": [
    "## Further resources"
   ]
  },
  {
   "cell_type": "markdown",
   "id": "downtown-thickness",
   "metadata": {},
   "source": [
    "The pandas documentation is excellent and shows how to create plots: https://pandas.pydata.org/pandas-docs/stable/user_guide/visualization.html\n",
    "\n",
    "Seaborn also has a gallery with examples: https://seaborn.pydata.org/examples/index.html\n",
    "\n",
    "Kaggle has a short course on Python visualization: https://www.kaggle.com/learn/overview"
   ]
  }
 ],
 "metadata": {
  "kernelspec": {
   "display_name": "Python 3 (ipykernel)",
   "language": "python",
   "name": "python3"
  },
  "language_info": {
   "codemirror_mode": {
    "name": "ipython",
    "version": 3
   },
   "file_extension": ".py",
   "mimetype": "text/x-python",
   "name": "python",
   "nbconvert_exporter": "python",
   "pygments_lexer": "ipython3",
   "version": "3.10.1"
  }
 },
 "nbformat": 4,
 "nbformat_minor": 5
}
