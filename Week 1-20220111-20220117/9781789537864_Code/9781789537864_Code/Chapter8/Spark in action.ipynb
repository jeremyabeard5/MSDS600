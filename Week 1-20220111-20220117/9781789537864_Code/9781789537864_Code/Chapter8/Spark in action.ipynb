{
 "cells": [
  {
   "cell_type": "markdown",
   "metadata": {},
   "source": [
    "# Spark in action"
   ]
  },
  {
   "cell_type": "code",
   "execution_count": 1,
   "metadata": {},
   "outputs": [],
   "source": [
    "import pyspark\n",
    "sc = pyspark.SparkContext('local[*]')"
   ]
  },
  {
   "cell_type": "code",
   "execution_count": 2,
   "metadata": {},
   "outputs": [
    {
     "data": {
      "text/plain": [
       "'2.3.1'"
      ]
     },
     "execution_count": 2,
     "metadata": {},
     "output_type": "execute_result"
    }
   ],
   "source": [
    "sc.version"
   ]
  },
  {
   "cell_type": "code",
   "execution_count": 3,
   "metadata": {},
   "outputs": [
    {
     "data": {
      "text/plain": [
       "[212, 730, 980, 105, 698]"
      ]
     },
     "execution_count": 3,
     "metadata": {},
     "output_type": "execute_result"
    }
   ],
   "source": [
    "# do something to prove it works\n",
    "rdd = sc.parallelize(range(1000))\n",
    "rdd.takeSample(False, 5)"
   ]
  },
  {
   "cell_type": "markdown",
   "metadata": {},
   "source": [
    "# Starting with pySpark"
   ]
  },
  {
   "cell_type": "markdown",
   "metadata": {},
   "source": [
    "## Experimenting with RDD"
   ]
  },
  {
   "cell_type": "code",
   "execution_count": 4,
   "metadata": {},
   "outputs": [
    {
     "data": {
      "text/plain": [
       "PythonRDD[4] at RDD at PythonRDD.scala:49"
      ]
     },
     "execution_count": 4,
     "metadata": {},
     "output_type": "execute_result"
    }
   ],
   "source": [
    "numbers = range(10)\n",
    "numbers_rdd = sc.parallelize(numbers)\n",
    "numbers_rdd"
   ]
  },
  {
   "cell_type": "code",
   "execution_count": 5,
   "metadata": {},
   "outputs": [
    {
     "data": {
      "text/plain": [
       "[0, 1, 2, 3, 4, 5, 6, 7, 8, 9]"
      ]
     },
     "execution_count": 5,
     "metadata": {},
     "output_type": "execute_result"
    }
   ],
   "source": [
    "numbers_rdd.collect()"
   ]
  },
  {
   "cell_type": "code",
   "execution_count": 6,
   "metadata": {},
   "outputs": [
    {
     "data": {
      "text/plain": [
       "[0, 1, 2]"
      ]
     },
     "execution_count": 6,
     "metadata": {},
     "output_type": "execute_result"
    }
   ],
   "source": [
    "numbers_rdd.take(3)"
   ]
  },
  {
   "cell_type": "code",
   "execution_count": 7,
   "metadata": {},
   "outputs": [
    {
     "data": {
      "text/plain": [
       "('shakespeare_all.txt', <http.client.HTTPMessage at 0x7f1c2b7f6eb8>)"
      ]
     },
     "execution_count": 7,
     "metadata": {},
     "output_type": "execute_result"
    }
   ],
   "source": [
    "import urllib.request\n",
    "url = \"http://www.gutenberg.org/files/100/100-0.txt\"\n",
    "urllib.request.urlretrieve(url, \"shakespeare_all.txt\")"
   ]
  },
  {
   "cell_type": "code",
   "execution_count": 8,
   "metadata": {},
   "outputs": [
    {
     "data": {
      "text/plain": [
       "['',\n",
       " 'Project Gutenberg’s The Complete Works of William Shakespeare, by William',\n",
       " 'Shakespeare',\n",
       " '',\n",
       " 'This eBook is for the use of anyone anywhere in the United States and',\n",
       " 'most other parts of the world at no cost and with almost no restrictions']"
      ]
     },
     "execution_count": 8,
     "metadata": {},
     "output_type": "execute_result"
    }
   ],
   "source": [
    "sc.textFile(\"file:////home//jovyan//shakespeare_all.txt\").take(6)"
   ]
  },
  {
   "cell_type": "code",
   "execution_count": 9,
   "metadata": {},
   "outputs": [],
   "source": [
    "numbers_rdd.saveAsTextFile(\"file:////home//jovyan//numbers_1_10.txt\")"
   ]
  },
  {
   "cell_type": "code",
   "execution_count": 10,
   "metadata": {},
   "outputs": [
    {
     "data": {
      "text/plain": [
       "[0, 1, 4, 9, 16, 25, 36, 49, 64, 81]"
      ]
     },
     "execution_count": 10,
     "metadata": {},
     "output_type": "execute_result"
    }
   ],
   "source": [
    "def sq(x):\n",
    "    return x**2\n",
    "\n",
    "numbers_rdd.map(sq).collect()"
   ]
  },
  {
   "cell_type": "code",
   "execution_count": 11,
   "metadata": {},
   "outputs": [
    {
     "data": {
      "text/plain": [
       "[0, 1, 4, 9, 16, 25, 36, 49, 64, 81]"
      ]
     },
     "execution_count": 11,
     "metadata": {},
     "output_type": "execute_result"
    }
   ],
   "source": [
    "numbers_rdd.map(lambda x: x**2).collect()"
   ]
  },
  {
   "cell_type": "code",
   "execution_count": 12,
   "metadata": {},
   "outputs": [
    {
     "data": {
      "text/plain": [
       "285"
      ]
     },
     "execution_count": 12,
     "metadata": {},
     "output_type": "execute_result"
    }
   ],
   "source": [
    "numbers_rdd.map(lambda x: x**2).reduce(lambda a,b: a+b)"
   ]
  },
  {
   "cell_type": "code",
   "execution_count": 13,
   "metadata": {},
   "outputs": [
    {
     "data": {
      "text/plain": [
       "285"
      ]
     },
     "execution_count": 13,
     "metadata": {},
     "output_type": "execute_result"
    }
   ],
   "source": [
    "numbers_rdd.map(lambda x: x**2).sum()"
   ]
  },
  {
   "cell_type": "code",
   "execution_count": 14,
   "metadata": {},
   "outputs": [
    {
     "data": {
      "text/plain": [
       "[('even', 0),\n",
       " ('odd', 1),\n",
       " ('even', 2),\n",
       " ('odd', 3),\n",
       " ('even', 4),\n",
       " ('odd', 5),\n",
       " ('even', 6),\n",
       " ('odd', 7),\n",
       " ('even', 8),\n",
       " ('odd', 9)]"
      ]
     },
     "execution_count": 14,
     "metadata": {},
     "output_type": "execute_result"
    }
   ],
   "source": [
    "def tag(x):\n",
    "    return \"even\" if x%2==0 else \"odd\"\n",
    "\n",
    "numbers_rdd.map(lambda x: (tag(x), x) ).collect()"
   ]
  },
  {
   "cell_type": "code",
   "execution_count": 15,
   "metadata": {},
   "outputs": [
    {
     "data": {
      "text/plain": [
       "[('even', 20), ('odd', 25)]"
      ]
     },
     "execution_count": 15,
     "metadata": {},
     "output_type": "execute_result"
    }
   ],
   "source": [
    "numbers_rdd.map(lambda x: (tag(x), x) ) \\\n",
    ".reduceByKey(lambda a,b: a+b).collect()"
   ]
  },
  {
   "cell_type": "code",
   "execution_count": 16,
   "metadata": {},
   "outputs": [
    {
     "name": "stdout",
     "output_type": "stream",
     "text": [
      "{'chars': 5535014, 'words': 959893, 'lines': 149689}\n"
     ]
    }
   ],
   "source": [
    "def emit_feats(line):\n",
    "    return [(\"chars\", len(line)), \\\n",
    "            (\"words\", len(line.split())), \\\n",
    "            (\"lines\", 1)]\n",
    "\n",
    "print ((sc.textFile(\"file:////home//jovyan//shakespeare_all.txt\")\n",
    "        .flatMap(emit_feats)\n",
    "        .reduceByKey(lambda a,b: a+b)\n",
    "        .collectAsMap()))"
   ]
  },
  {
   "cell_type": "code",
   "execution_count": 17,
   "metadata": {},
   "outputs": [
    {
     "name": "stdout",
     "output_type": "stream",
     "text": [
      "[('the', 29998)]\n"
     ]
    }
   ],
   "source": [
    "import re\n",
    "WORD_RE = re.compile(r\"[\\w']+\")\n",
    "print ((sc.textFile(\"file:////home//jovyan//shakespeare_all.txt\")\n",
    "        .flatMap(lambda line: [(word.lower(), 1) for word in \n",
    "                               WORD_RE.findall(line)])\n",
    "        .reduceByKey(lambda a,b: a+b)\n",
    "        .takeOrdered(1, key = lambda x: -x[1])))"
   ]
  },
  {
   "cell_type": "markdown",
   "metadata": {},
   "source": [
    "## Sharing variables across cluster nodes"
   ]
  },
  {
   "cell_type": "markdown",
   "metadata": {},
   "source": [
    "### Broadcast read-only variables"
   ]
  },
  {
   "cell_type": "code",
   "execution_count": 18,
   "metadata": {},
   "outputs": [],
   "source": [
    "one_hot_encoding = {\"M\": (1, 0, 0), \"F\": (0, 1, 0),\n",
    "                    \"U\": (0, 0, 1)}"
   ]
  },
  {
   "cell_type": "code",
   "execution_count": 19,
   "metadata": {},
   "outputs": [
    {
     "data": {
      "text/plain": [
       "[(1, 0, 0), (0, 1, 0), (0, 0, 1), (0, 1, 0), (1, 0, 0), (0, 0, 1)]"
      ]
     },
     "execution_count": 19,
     "metadata": {},
     "output_type": "execute_result"
    }
   ],
   "source": [
    "bcast_map = sc.broadcast(one_hot_encoding)\n",
    "\n",
    "def bcast_map_ohe(x, shared_ohe):\n",
    "    return shared_ohe[x]\n",
    "\n",
    "(sc.parallelize([\"M\", \"F\", \"U\", \"F\", \"M\", \"U\"])\n",
    "     .map(lambda x: bcast_map_ohe(x, bcast_map.value))\n",
    "     .collect())"
   ]
  },
  {
   "cell_type": "code",
   "execution_count": 20,
   "metadata": {},
   "outputs": [],
   "source": [
    "bcast_map.unpersist()"
   ]
  },
  {
   "cell_type": "markdown",
   "metadata": {},
   "source": [
    "### Accumulators write-only variables"
   ]
  },
  {
   "cell_type": "code",
   "execution_count": 21,
   "metadata": {},
   "outputs": [
    {
     "data": {
      "text/plain": [
       "('sherlock.txt', <http.client.HTTPMessage at 0x7f1c2b7a5208>)"
      ]
     },
     "execution_count": 21,
     "metadata": {},
     "output_type": "execute_result"
    }
   ],
   "source": [
    "import urllib.request\n",
    "url = \"http://gutenberg.pglaf.org/1/6/6/1661/1661.txt\"\n",
    "urllib.request.urlretrieve(url, \"sherlock.txt\")"
   ]
  },
  {
   "cell_type": "code",
   "execution_count": 22,
   "metadata": {},
   "outputs": [],
   "source": [
    "accum = sc.accumulator(0)\n",
    "\n",
    "def split_line(line):\n",
    "    if len(line) == 0:\n",
    "        accum.add(1)\n",
    "    return 1\n",
    "\n",
    "filename = 'file:////home//jovyan//sherlock.txt'\n",
    "\n",
    "tot_lines = (\n",
    "    sc.textFile(filename)\n",
    "    .map(split_line)\n",
    "    .count())\n",
    "\n",
    "empty_lines = accum.value"
   ]
  },
  {
   "cell_type": "code",
   "execution_count": 23,
   "metadata": {},
   "outputs": [
    {
     "name": "stdout",
     "output_type": "stream",
     "text": [
      "In the file there are 13053 lines\n",
      "And 2666 lines are empty\n"
     ]
    }
   ],
   "source": [
    "print(\"In the file there are %d lines\" % tot_lines)\n",
    "print(\"And %d lines are empty\" % empty_lines)"
   ]
  },
  {
   "cell_type": "markdown",
   "metadata": {},
   "source": [
    "### Broadcast and accumulators together – an example\n"
   ]
  },
  {
   "cell_type": "code",
   "execution_count": 24,
   "metadata": {},
   "outputs": [],
   "source": [
    "from sklearn.datasets import load_iris\n",
    "bcast_dataset = sc.broadcast(load_iris())"
   ]
  },
  {
   "cell_type": "code",
   "execution_count": 25,
   "metadata": {},
   "outputs": [],
   "source": [
    "from pyspark import AccumulatorParam\n",
    "\n",
    "class ErrorAccumulator(AccumulatorParam):\n",
    "    \n",
    "    def zero(self, initialList):\n",
    "        return initialList\n",
    "    \n",
    "    def addInPlace(self, v1, v2):\n",
    "        if not isinstance(v1, list):\n",
    "            v1 = [v1]\n",
    "        if not isinstance(v2, list):\n",
    "            v2 = [v2]\n",
    "        return v1 + v2\n",
    "    \n",
    "errAccum = sc.accumulator([], ErrorAccumulator())"
   ]
  },
  {
   "cell_type": "code",
   "execution_count": 26,
   "metadata": {},
   "outputs": [],
   "source": [
    "def apply_classifier(clf, dataset):\n",
    "    clf_name = clf.__class__.__name__\n",
    "    X = dataset.value.data\n",
    "    y = dataset.value.target\n",
    "    try:\n",
    "        from sklearn.metrics import accuracy_score\n",
    "        clf.fit(X, y)\n",
    "        y_pred = clf.predict(X)\n",
    "        acc = accuracy_score(y, y_pred)\n",
    "        return [(clf_name, acc)]\n",
    "    except Exception as e:\n",
    "        errAccum.add((clf_name, str(e)))\n",
    "        return []"
   ]
  },
  {
   "cell_type": "code",
   "execution_count": 27,
   "metadata": {},
   "outputs": [
    {
     "data": {
      "text/plain": [
       "[('DummyClassifier', 0.33333333333333331),\n",
       " ('SGDClassifier', 0.60666666666666669)]"
      ]
     },
     "execution_count": 27,
     "metadata": {},
     "output_type": "execute_result"
    }
   ],
   "source": [
    "from sklearn.linear_model import SGDClassifier\n",
    "from sklearn.dummy import DummyClassifier\n",
    "from sklearn.decomposition import PCA\n",
    "from sklearn.manifold import MDS\n",
    "\n",
    "classifiers = [DummyClassifier('most_frequent'),\n",
    "               SGDClassifier(),\n",
    "               PCA(),\n",
    "               MDS()]\n",
    "\n",
    "(sc.parallelize(classifiers)\n",
    " .flatMap(lambda x: apply_classifier(x, bcast_dataset))\n",
    " .collect())"
   ]
  },
  {
   "cell_type": "code",
   "execution_count": 28,
   "metadata": {},
   "outputs": [
    {
     "name": "stdout",
     "output_type": "stream",
     "text": [
      "The errors are: [('PCA', \"'PCA' object has no attribute 'predict'\"), ('MDS', \"'MDS' object has no attribute 'predict'\")]\n"
     ]
    }
   ],
   "source": [
    "print(\"The errors are:\", errAccum.value)"
   ]
  },
  {
   "cell_type": "code",
   "execution_count": 29,
   "metadata": {},
   "outputs": [],
   "source": [
    "bcast_dataset.unpersist()"
   ]
  },
  {
   "cell_type": "markdown",
   "metadata": {},
   "source": [
    "## Data preprocessing in Spark"
   ]
  },
  {
   "cell_type": "code",
   "execution_count": 30,
   "metadata": {},
   "outputs": [],
   "source": [
    "from pyspark.sql import SQLContext\n",
    "sqlContext = SQLContext(sc)"
   ]
  },
  {
   "cell_type": "code",
   "execution_count": 31,
   "metadata": {},
   "outputs": [],
   "source": [
    "data = \"\"\"balance,gender,user_id\n",
    "10.0,,0\n",
    "1.0,M,1\n",
    "-0.5,F,2\n",
    "0.0,F,3\n",
    "5.0,,4\n",
    "3.0,M,5\n",
    "\"\"\"\n",
    "with open(\"users.csv\", \"w\") as output:\n",
    "    output.write(data)"
   ]
  },
  {
   "cell_type": "code",
   "execution_count": 32,
   "metadata": {},
   "outputs": [
    {
     "name": "stdout",
     "output_type": "stream",
     "text": [
      "+-------+------+-------+\n",
      "|balance|gender|user_id|\n",
      "+-------+------+-------+\n",
      "|   10.0|  null|      0|\n",
      "|    1.0|     M|      1|\n",
      "|   -0.5|     F|      2|\n",
      "|    0.0|     F|      3|\n",
      "|    5.0|  null|      4|\n",
      "|    3.0|     M|      5|\n",
      "+-------+------+-------+\n",
      "\n"
     ]
    }
   ],
   "source": [
    "df = sqlContext.read.format('com.databricks.spark.csv')\\\n",
    ".options(header='true', inferschema='true').load('users.csv')\n",
    "df.show()"
   ]
  },
  {
   "cell_type": "code",
   "execution_count": 33,
   "metadata": {},
   "outputs": [
    {
     "name": "stdout",
     "output_type": "stream",
     "text": [
      "root\n",
      " |-- balance: double (nullable = true)\n",
      " |-- gender: string (nullable = true)\n",
      " |-- user_id: integer (nullable = true)\n",
      "\n"
     ]
    }
   ],
   "source": [
    "df.printSchema()"
   ]
  },
  {
   "cell_type": "code",
   "execution_count": 34,
   "metadata": {},
   "outputs": [
    {
     "name": "stdout",
     "output_type": "stream",
     "text": [
      "+-------+------+-------+\n",
      "|balance|gender|user_id|\n",
      "+-------+------+-------+\n",
      "|    1.0|     M|      1|\n",
      "|    3.0|     M|      5|\n",
      "+-------+------+-------+\n",
      "\n"
     ]
    }
   ],
   "source": [
    "(df.filter(df['gender'] != 'null')\n",
    " .filter(df['balance'] > 0)\n",
    " .select(['balance', 'gender', 'user_id'])\n",
    " .show())"
   ]
  },
  {
   "cell_type": "code",
   "execution_count": 35,
   "metadata": {},
   "outputs": [
    {
     "name": "stdout",
     "output_type": "stream",
     "text": [
      "+-------+------+-------+\n",
      "|balance|gender|user_id|\n",
      "+-------+------+-------+\n",
      "|    1.0|     M|      1|\n",
      "|    3.0|     M|      5|\n",
      "+-------+------+-------+\n",
      "\n"
     ]
    }
   ],
   "source": [
    "(df.filter('gender is not null')\n",
    " .filter('balance > 0').select(\"*\").show())"
   ]
  },
  {
   "cell_type": "code",
   "execution_count": 36,
   "metadata": {},
   "outputs": [
    {
     "name": "stdout",
     "output_type": "stream",
     "text": [
      "+-------+------+-------+\n",
      "|balance|gender|user_id|\n",
      "+-------+------+-------+\n",
      "|    1.0|     M|      1|\n",
      "|    3.0|     M|      5|\n",
      "+-------+------+-------+\n",
      "\n"
     ]
    }
   ],
   "source": [
    "df.filter('gender is not null and balance > 0').show()"
   ]
  },
  {
   "cell_type": "markdown",
   "metadata": {},
   "source": [
    "## Dealing with missing data"
   ]
  },
  {
   "cell_type": "code",
   "execution_count": 37,
   "metadata": {},
   "outputs": [
    {
     "name": "stdout",
     "output_type": "stream",
     "text": [
      "+-------+------+-------+\n",
      "|balance|gender|user_id|\n",
      "+-------+------+-------+\n",
      "|    1.0|     M|      1|\n",
      "|   -0.5|     F|      2|\n",
      "|    0.0|     F|      3|\n",
      "|    3.0|     M|      5|\n",
      "+-------+------+-------+\n",
      "\n"
     ]
    }
   ],
   "source": [
    "df.na.drop().show()"
   ]
  },
  {
   "cell_type": "code",
   "execution_count": 38,
   "metadata": {},
   "outputs": [
    {
     "name": "stdout",
     "output_type": "stream",
     "text": [
      "+-------+------+-------+\n",
      "|balance|gender|user_id|\n",
      "+-------+------+-------+\n",
      "|    1.0|     M|      1|\n",
      "|   -0.5|     F|      2|\n",
      "|    0.0|     F|      3|\n",
      "|    3.0|     M|      5|\n",
      "+-------+------+-------+\n",
      "\n"
     ]
    }
   ],
   "source": [
    "df.na.drop(subset=[\"gender\"]).show()"
   ]
  },
  {
   "cell_type": "code",
   "execution_count": 39,
   "metadata": {},
   "outputs": [
    {
     "name": "stdout",
     "output_type": "stream",
     "text": [
      "+-------+------+-------+\n",
      "|balance|gender|user_id|\n",
      "+-------+------+-------+\n",
      "|   10.0|     U|      0|\n",
      "|    1.0|     M|      1|\n",
      "|   -0.5|     F|      2|\n",
      "|    0.0|     F|      3|\n",
      "|    5.0|     U|      4|\n",
      "|    3.0|     M|      5|\n",
      "+-------+------+-------+\n",
      "\n"
     ]
    }
   ],
   "source": [
    "df.na.fill({'gender': \"U\", 'balance': 0.0}).show()"
   ]
  },
  {
   "cell_type": "markdown",
   "metadata": {},
   "source": [
    "## Grouping and creating tables in-memory"
   ]
  },
  {
   "cell_type": "code",
   "execution_count": 40,
   "metadata": {},
   "outputs": [
    {
     "name": "stdout",
     "output_type": "stream",
     "text": [
      "+------+------------+\n",
      "|gender|avg(balance)|\n",
      "+------+------------+\n",
      "|     F|       -0.25|\n",
      "|     M|         2.0|\n",
      "|     U|         7.5|\n",
      "+------+------------+\n",
      "\n"
     ]
    }
   ],
   "source": [
    "(df.na.fill({'gender': \"U\", 'balance': 0.0})\n",
    " .groupBy(\"gender\").avg('balance').show())"
   ]
  },
  {
   "cell_type": "code",
   "execution_count": 41,
   "metadata": {},
   "outputs": [],
   "source": [
    "df.registerTempTable(\"users\")"
   ]
  },
  {
   "cell_type": "code",
   "execution_count": 42,
   "metadata": {},
   "outputs": [
    {
     "name": "stdout",
     "output_type": "stream",
     "text": [
      "+------+------------+\n",
      "|gender|avg(balance)|\n",
      "+------+------------+\n",
      "|     F|       -0.25|\n",
      "|     M|         2.0|\n",
      "+------+------------+\n",
      "\n"
     ]
    }
   ],
   "source": [
    "sqlContext.sql(\"\"\"\n",
    "SELECT gender, AVG(balance)\n",
    "FROM users\n",
    "WHERE gender IS NOT NULL\n",
    "GROUP BY gender\"\"\").show()"
   ]
  },
  {
   "cell_type": "code",
   "execution_count": 43,
   "metadata": {},
   "outputs": [
    {
     "data": {
      "text/plain": [
       "pyspark.sql.dataframe.DataFrame"
      ]
     },
     "execution_count": 43,
     "metadata": {},
     "output_type": "execute_result"
    }
   ],
   "source": [
    "type(sqlContext.table(\"users\"))"
   ]
  },
  {
   "cell_type": "code",
   "execution_count": 44,
   "metadata": {},
   "outputs": [
    {
     "data": {
      "text/plain": [
       "[Row(balance=10.0, gender=None, user_id=0),\n",
       " Row(balance=1.0, gender='M', user_id=1),\n",
       " Row(balance=-0.5, gender='F', user_id=2),\n",
       " Row(balance=0.0, gender='F', user_id=3),\n",
       " Row(balance=5.0, gender=None, user_id=4),\n",
       " Row(balance=3.0, gender='M', user_id=5)]"
      ]
     },
     "execution_count": 44,
     "metadata": {},
     "output_type": "execute_result"
    }
   ],
   "source": [
    "sqlContext.table(\"users\").collect()"
   ]
  },
  {
   "cell_type": "code",
   "execution_count": 45,
   "metadata": {},
   "outputs": [
    {
     "data": {
      "text/plain": [
       "Row(balance=10.0, gender=None, user_id=0)"
      ]
     },
     "execution_count": 45,
     "metadata": {},
     "output_type": "execute_result"
    }
   ],
   "source": [
    "a_row = sqlContext.sql(\"SELECT * FROM users\").first()\n",
    "a_row"
   ]
  },
  {
   "cell_type": "code",
   "execution_count": 46,
   "metadata": {},
   "outputs": [
    {
     "name": "stdout",
     "output_type": "stream",
     "text": [
      "10.0\n",
      "10.0\n"
     ]
    }
   ],
   "source": [
    "print(a_row['balance'])\n",
    "print(a_row.balance)"
   ]
  },
  {
   "cell_type": "code",
   "execution_count": 47,
   "metadata": {},
   "outputs": [
    {
     "data": {
      "text/plain": [
       "{'balance': 10.0, 'gender': None, 'user_id': 0}"
      ]
     },
     "execution_count": 47,
     "metadata": {},
     "output_type": "execute_result"
    }
   ],
   "source": [
    "a_row.asDict()"
   ]
  },
  {
   "cell_type": "markdown",
   "metadata": {},
   "source": [
    "## Writing the preprocessed DataFrame or RDD to disk"
   ]
  },
  {
   "cell_type": "code",
   "execution_count": 48,
   "metadata": {},
   "outputs": [],
   "source": [
    "(df.na.drop().write\n",
    " .save(\"file:////home//jovyan//complete_users.csv\", format='csv'))"
   ]
  },
  {
   "cell_type": "code",
   "execution_count": 49,
   "metadata": {},
   "outputs": [
    {
     "name": "stdout",
     "output_type": "stream",
     "text": [
      "ls: cannot access './complete_users.json': No such file or directory\r\n"
     ]
    }
   ],
   "source": [
    "!ls -als ./complete_users.json"
   ]
  },
  {
   "cell_type": "code",
   "execution_count": 50,
   "metadata": {},
   "outputs": [
    {
     "name": "stdout",
     "output_type": "stream",
     "text": [
      "+----+---+---+\n",
      "| _c0|_c1|_c2|\n",
      "+----+---+---+\n",
      "| 1.0|  M|  1|\n",
      "|-0.5|  F|  2|\n",
      "| 0.0|  F|  3|\n",
      "| 3.0|  M|  5|\n",
      "+----+---+---+\n",
      "\n"
     ]
    }
   ],
   "source": [
    "sqlContext.sql(\"\"\"SELECT * FROM \n",
    "csv.`file:////home//jovyan//complete_users.csv`\"\"\").show()"
   ]
  },
  {
   "cell_type": "code",
   "execution_count": 51,
   "metadata": {},
   "outputs": [],
   "source": [
    "(df.na.drop().write\n",
    " .save(\"file:////home//jovyan//complete_users.parquet\", format='parquet'))"
   ]
  },
  {
   "cell_type": "markdown",
   "metadata": {},
   "source": [
    "## Working with Spark DataFrames"
   ]
  },
  {
   "cell_type": "code",
   "execution_count": 52,
   "metadata": {},
   "outputs": [
    {
     "name": "stdout",
     "output_type": "stream",
     "text": [
      "+-----------+------------+\n",
      "|long_gender|short_gender|\n",
      "+-----------+------------+\n",
      "|       Male|           M|\n",
      "|     Female|           F|\n",
      "+-----------+------------+\n",
      "\n"
     ]
    }
   ],
   "source": [
    "from pyspark.sql import Row\n",
    "rdd_gender = \\\n",
    "sc.parallelize([Row(short_gender=\"M\", long_gender=\"Male\"),\n",
    "                Row(short_gender=\"F\", long_gender=\"Female\")])\n",
    "(sqlContext.createDataFrame(rdd_gender)\n",
    " .registerTempTable(\"gender_maps\"))\n",
    "\n",
    "sqlContext.table(\"gender_maps\").show()"
   ]
  },
  {
   "cell_type": "code",
   "execution_count": 53,
   "metadata": {},
   "outputs": [
    {
     "name": "stdout",
     "output_type": "stream",
     "text": [
      "+-------+-----------+-------+\n",
      "|balance|long_gender|user_id|\n",
      "+-------+-----------+-------+\n",
      "|    3.0|       Male|      5|\n",
      "|    1.0|       Male|      1|\n",
      "|    0.0|     Female|      3|\n",
      "|   -0.5|     Female|      2|\n",
      "+-------+-----------+-------+\n",
      "\n"
     ]
    }
   ],
   "source": [
    "sqlContext.sql(\"\"\"\n",
    "SELECT balance, long_gender, user_id\n",
    "FROM parquet.`file:////home//jovyan//complete_users.parquet`\n",
    "JOIN gender_maps ON gender=short_gender\"\"\").show()"
   ]
  },
  {
   "cell_type": "code",
   "execution_count": 54,
   "metadata": {},
   "outputs": [
    {
     "data": {
      "text/plain": [
       "['gender_maps', 'users']"
      ]
     },
     "execution_count": 54,
     "metadata": {},
     "output_type": "execute_result"
    }
   ],
   "source": [
    "sqlContext.tableNames()"
   ]
  },
  {
   "cell_type": "code",
   "execution_count": 55,
   "metadata": {},
   "outputs": [],
   "source": [
    "for table in sqlContext.tableNames():\n",
    "    sqlContext.dropTempTable(table)"
   ]
  },
  {
   "cell_type": "markdown",
   "metadata": {},
   "source": [
    "# Machine learning with Spark"
   ]
  },
  {
   "cell_type": "code",
   "execution_count": 56,
   "metadata": {},
   "outputs": [],
   "source": [
    "!mkdir datasets\n",
    "!rm -rf ./datasets/kdd*\n",
    "# !wget -q -O datasets/kddtrain.gz \\\n",
    "# http://kdd.ics.uci.edu/databases/kddcup99/kddcup.data.gz\n",
    "!wget -q -O datasets/kddtrain.gz \\\n",
    "http://kdd.ics.uci.edu/databases/kddcup99/kddcup.data_10_percent.gz\n",
    "!wget -q -O datasets/kddtest.gz \\\n",
    "http://kdd.ics.uci.edu/databases/kddcup99/corrected.gz\n",
    "!wget -q -O datasets/kddnames \\\n",
    "http://kdd.ics.uci.edu/databases/kddcup99/kddcup.names\n",
    "!gunzip datasets/kdd*gz"
   ]
  },
  {
   "cell_type": "code",
   "execution_count": 57,
   "metadata": {},
   "outputs": [
    {
     "name": "stdout",
     "output_type": "stream",
     "text": [
      "0,tcp,http,SF,181,5450,0,0,0,0,0,1,0,0,0,0,0,0,0,0,0,0,8,8,0.00,0.00,0.00,0.00,1.00,0.00,0.00,9,9,1.00,0.00,0.11,0.00,0.00,0.00,0.00,0.00,normal.\r\n",
      "0,tcp,http,SF,239,486,0,0,0,0,0,1,0,0,0,0,0,0,0,0,0,0,8,8,0.00,0.00,0.00,0.00,1.00,0.00,0.00,19,19,1.00,0.00,0.05,0.00,0.00,0.00,0.00,0.00,normal.\r\n",
      "0,tcp,http,SF,235,1337,0,0,0,0,0,1,0,0,0,0,0,0,0,0,0,0,8,8,0.00,0.00,0.00,0.00,1.00,0.00,0.00,29,29,1.00,0.00,0.03,0.00,0.00,0.00,0.00,0.00,normal.\r\n"
     ]
    }
   ],
   "source": [
    "!head -3 datasets/kddtrain"
   ]
  },
  {
   "cell_type": "code",
   "execution_count": 58,
   "metadata": {},
   "outputs": [
    {
     "name": "stdout",
     "output_type": "stream",
     "text": [
      "Num features: 41\n",
      "First 10: ['duration', 'protocol_type', 'service', 'flag', 'src_bytes', 'dst_bytes', 'land', 'wrong_fragment', 'urgent', 'hot']\n"
     ]
    }
   ],
   "source": [
    "with open('datasets/kddnames', 'r') as fh:\n",
    "    header = [line.split(':')[0]\n",
    "              for line in fh.read().splitlines()][1:]\n",
    "    header.append('target')\n",
    "\n",
    "print(\"Num features:\", len(header)-1)\n",
    "print(\"First 10:\", header[:10])"
   ]
  },
  {
   "cell_type": "code",
   "execution_count": 59,
   "metadata": {},
   "outputs": [],
   "source": [
    "train_rdd = sc.textFile('file:////home//jovyan//datasets//kddtrain')\n",
    "test_rdd = sc.textFile('file:////home//jovyan//datasets//kddtest')"
   ]
  },
  {
   "cell_type": "code",
   "execution_count": 60,
   "metadata": {},
   "outputs": [],
   "source": [
    "def line_parser(line):\n",
    "    def piece_parser(piece):\n",
    "        if \".\" in piece or piece.isdigit():\n",
    "            return float(piece)\n",
    "        else:\n",
    "            return piece\n",
    "    return [piece_parser(piece) for piece in line[:-1].split(',')]\n",
    "\n",
    "train_df = sqlContext.createDataFrame(train_rdd.map(line_parser), header)\n",
    "test_df = sqlContext.createDataFrame(test_rdd.map(line_parser), header)"
   ]
  },
  {
   "cell_type": "code",
   "execution_count": 61,
   "metadata": {},
   "outputs": [
    {
     "name": "stdout",
     "output_type": "stream",
     "text": [
      "Train observations: 494021\n",
      "Test observations: 311029\n"
     ]
    }
   ],
   "source": [
    "print(\"Train observations:\", train_df.count())\n",
    "print(\"Test observations:\", test_df.count())"
   ]
  },
  {
   "cell_type": "code",
   "execution_count": 62,
   "metadata": {},
   "outputs": [
    {
     "name": "stdout",
     "output_type": "stream",
     "text": [
      "root\n",
      " |-- duration: double (nullable = true)\n",
      " |-- protocol_type: string (nullable = true)\n",
      " |-- service: string (nullable = true)\n",
      " |-- flag: string (nullable = true)\n",
      " |-- src_bytes: double (nullable = true)\n",
      " |-- dst_bytes: double (nullable = true)\n",
      " |-- land: double (nullable = true)\n",
      " |-- wrong_fragment: double (nullable = true)\n",
      " |-- urgent: double (nullable = true)\n",
      " |-- hot: double (nullable = true)\n",
      " |-- num_failed_logins: double (nullable = true)\n",
      " |-- logged_in: double (nullable = true)\n",
      " |-- num_compromised: double (nullable = true)\n",
      " |-- root_shell: double (nullable = true)\n",
      " |-- su_attempted: double (nullable = true)\n",
      " |-- num_root: double (nullable = true)\n",
      " |-- num_file_creations: double (nullable = true)\n",
      " |-- num_shells: double (nullable = true)\n",
      " |-- num_access_files: double (nullable = true)\n",
      " |-- num_outbound_cmds: double (nullable = true)\n",
      " |-- is_host_login: double (nullable = true)\n",
      " |-- is_guest_login: double (nullable = true)\n",
      " |-- count: double (nullable = true)\n",
      " |-- srv_count: double (nullable = true)\n",
      " |-- serror_rate: double (nullable = true)\n",
      " |-- srv_serror_rate: double (nullable = true)\n",
      " |-- rerror_rate: double (nullable = true)\n",
      " |-- srv_rerror_rate: double (nullable = true)\n",
      " |-- same_srv_rate: double (nullable = true)\n",
      " |-- diff_srv_rate: double (nullable = true)\n",
      " |-- srv_diff_host_rate: double (nullable = true)\n",
      " |-- dst_host_count: double (nullable = true)\n",
      " |-- dst_host_srv_count: double (nullable = true)\n",
      " |-- dst_host_same_srv_rate: double (nullable = true)\n",
      " |-- dst_host_diff_srv_rate: double (nullable = true)\n",
      " |-- dst_host_same_src_port_rate: double (nullable = true)\n",
      " |-- dst_host_srv_diff_host_rate: double (nullable = true)\n",
      " |-- dst_host_serror_rate: double (nullable = true)\n",
      " |-- dst_host_srv_serror_rate: double (nullable = true)\n",
      " |-- dst_host_rerror_rate: double (nullable = true)\n",
      " |-- dst_host_srv_rerror_rate: double (nullable = true)\n",
      " |-- target: string (nullable = true)\n",
      "\n"
     ]
    }
   ],
   "source": [
    "train_df.printSchema()"
   ]
  },
  {
   "cell_type": "markdown",
   "metadata": {},
   "source": [
    "## Feature engineering"
   ]
  },
  {
   "cell_type": "code",
   "execution_count": 63,
   "metadata": {},
   "outputs": [],
   "source": [
    "from pyspark.ml import Pipeline\n",
    "from pyspark.ml.feature import StringIndexer\n",
    "\n",
    "cols_categorical = [\"protocol_type\", \"service\", \"flag\",\"target\"]\n",
    "preproc_stages = []\n",
    "for col in cols_categorical:\n",
    "    out_col = col + \"_cat\"\n",
    "    preproc_stages.append(\n",
    "        StringIndexer(\n",
    "            inputCol=col, outputCol=out_col, handleInvalid=\"skip\"))\n",
    "    \n",
    "pipeline = Pipeline(stages=preproc_stages)\n",
    "indexer = pipeline.fit(train_df)\n",
    "train_num_df = indexer.transform(train_df)\n",
    "test_num_df = indexer.transform(test_df)"
   ]
  },
  {
   "cell_type": "code",
   "execution_count": 64,
   "metadata": {},
   "outputs": [
    {
     "name": "stdout",
     "output_type": "stream",
     "text": [
      "[StringIndexer_41b28fee9864db989e89, StringIndexer_44c3a046b204584add71, StringIndexer_4db3ba50ee9f43d00de0, StringIndexer_4eebbc9e848d5c17a169] \n",
      "\n",
      "Pipeline_4a73ac67a75beee4e5aa\n",
      "PipelineModel_4ac5860c272697ad31d1\n"
     ]
    }
   ],
   "source": [
    "print(pipeline.getStages(), '\\n')\n",
    "print(pipeline)\n",
    "print(indexer)"
   ]
  },
  {
   "cell_type": "code",
   "execution_count": 65,
   "metadata": {},
   "outputs": [
    {
     "name": "stdout",
     "output_type": "stream",
     "text": [
      "['dst_host_rerror_rate', 'num_failed_logins', 'dst_bytes', 'diff_srv_rate', 'srv_diff_host_rate', 'is_guest_login', 'dst_host_serror_rate', 'dst_host_srv_serror_rate', 'urgent', 'num_file_creations', 'serror_rate', 'is_host_login', 'su_attempted', 'same_srv_rate', 'dst_host_srv_diff_host_rate', 'flag_cat', 'root_shell', 'dst_host_same_srv_rate', 'num_access_files', 'dst_host_srv_count', 'rerror_rate', 'dst_host_srv_rerror_rate', 'src_bytes', 'wrong_fragment', 'num_root', 'dst_host_count', 'logged_in', 'num_outbound_cmds', 'srv_rerror_rate', 'dst_host_diff_srv_rate', 'srv_serror_rate', 'hot', 'count', 'num_shells', 'duration', 'land', 'num_compromised', 'srv_count', 'dst_host_same_src_port_rate', 'service_cat', 'protocol_type_cat']\n",
      "Total numerical features: 41\n"
     ]
    }
   ],
   "source": [
    "features_header = set(header) \\\n",
    "- set(cols_categorical) \\\n",
    "| set([c + \"_cat\" for c in cols_categorical]) \\\n",
    "- set([\"target\", \"target_cat\"])\n",
    "features_header = list(features_header)\n",
    "print(features_header)\n",
    "print(\"Total numerical features:\", len(features_header))"
   ]
  },
  {
   "cell_type": "code",
   "execution_count": 66,
   "metadata": {},
   "outputs": [],
   "source": [
    "from pyspark.ml.feature import VectorAssembler\n",
    "\n",
    "assembler = VectorAssembler(\n",
    "    inputCols=features_header,\n",
    "    outputCol=\"features\")\n",
    "Xy_train = (assembler\n",
    "            .transform(train_num_df)\n",
    "            .select(\"features\", \"target_cat\"))\n",
    "Xy_test = (assembler\n",
    "           .transform(test_num_df)\n",
    "           .select(\"features\", \"target_cat\"))"
   ]
  },
  {
   "cell_type": "code",
   "execution_count": 67,
   "metadata": {},
   "outputs": [
    {
     "data": {
      "text/plain": [
       "Row(features=SparseVector(41, {2: 5450.0, 13: 1.0, 17: 1.0, 19: 9.0, 22: 181.0, 25: 9.0, 26: 1.0, 32: 8.0, 37: 8.0, 38: 0.11, 39: 2.0, 40: 1.0}), target_cat=2.0)"
      ]
     },
     "execution_count": 67,
     "metadata": {},
     "output_type": "execute_result"
    }
   ],
   "source": [
    "Xy_train.first()"
   ]
  },
  {
   "cell_type": "markdown",
   "metadata": {},
   "source": [
    "## Training a learner"
   ]
  },
  {
   "cell_type": "code",
   "execution_count": 68,
   "metadata": {},
   "outputs": [],
   "source": [
    "from pyspark.ml.classification import RandomForestClassifier\n",
    "\n",
    "clf = RandomForestClassifier(\n",
    "    labelCol=\"target_cat\", featuresCol=\"features\",\n",
    "    maxBins=100, seed=101)\n",
    "fit_clf = clf.fit(Xy_train)"
   ]
  },
  {
   "cell_type": "code",
   "execution_count": 69,
   "metadata": {},
   "outputs": [
    {
     "name": "stdout",
     "output_type": "stream",
     "text": [
      "RandomForestClassifier_454d9d8ad8a3505cc863\n",
      "RandomForestClassificationModel (uid=RandomForestClassifier_454d9d8ad8a3505cc863) with 20 trees\n"
     ]
    }
   ],
   "source": [
    "print(clf)\n",
    "print(fit_clf)"
   ]
  },
  {
   "cell_type": "code",
   "execution_count": 70,
   "metadata": {},
   "outputs": [
    {
     "name": "stdout",
     "output_type": "stream",
     "text": [
      "First observation after classification stage:\n",
      "Row(features=SparseVector(41, {2: 146.0, 13: 1.0, 17: 1.0, 19: 254.0, 22: 105.0, 25: 255.0, 29: 0.01, 32: 1.0, 37: 1.0, 39: 1.0, 40: 2.0}), target_cat=2.0, rawPrediction=DenseVector([0.0228, 0.0086, 19.6396, 0.0139, 0.0116, 0.0242, 0.0235, 0.0753, 0.1372, 0.0187, 0.012, 0.0042, 0.0009, 0.0001, 0.0011, 0.0011, 0.0014, 0.0008, 0.0007, 0.0004, 0.0009, 0.0004, 0.0005]), probability=DenseVector([0.0011, 0.0004, 0.982, 0.0007, 0.0006, 0.0012, 0.0012, 0.0038, 0.0069, 0.0009, 0.0006, 0.0002, 0.0, 0.0, 0.0001, 0.0001, 0.0001, 0.0, 0.0, 0.0, 0.0, 0.0, 0.0]), prediction=2.0)\n"
     ]
    }
   ],
   "source": [
    "Xy_pred_train = fit_clf.transform(Xy_train)\n",
    "Xy_pred_test = fit_clf.transform(Xy_test)\n",
    "print(\"First observation after classification stage:\")\n",
    "print(Xy_pred_test.first())"
   ]
  },
  {
   "cell_type": "markdown",
   "metadata": {},
   "source": [
    "## Evaluating a learner's performance"
   ]
  },
  {
   "cell_type": "code",
   "execution_count": 71,
   "metadata": {},
   "outputs": [
    {
     "name": "stdout",
     "output_type": "stream",
     "text": [
      "F1-score train set: 0.992\n",
      "F1-score test set: 0.966\n"
     ]
    }
   ],
   "source": [
    "from pyspark.ml.evaluation import MulticlassClassificationEvaluator\n",
    "\n",
    "evaluator = MulticlassClassificationEvaluator(\n",
    "    labelCol=\"target_cat\", \n",
    "    predictionCol=\"prediction\", \n",
    "    metricName=\"f1\")\n",
    "f1_train = evaluator.evaluate(Xy_pred_train)\n",
    "f1_test = evaluator.evaluate(Xy_pred_test)\n",
    "print(\"F1-score train set: %0.3f\" % f1_train)\n",
    "print(\"F1-score test set: %0.3f\" % f1_test)"
   ]
  },
  {
   "cell_type": "markdown",
   "metadata": {},
   "source": [
    "## The power of the ML pipeline"
   ]
  },
  {
   "cell_type": "code",
   "execution_count": 72,
   "metadata": {},
   "outputs": [
    {
     "name": "stdout",
     "output_type": "stream",
     "text": [
      "F1-score test set: 0.966\n"
     ]
    }
   ],
   "source": [
    "full_stages = preproc_stages + [assembler, clf]\n",
    "full_pipeline = Pipeline(stages=full_stages)\n",
    "full_model = full_pipeline.fit(train_df)\n",
    "predictions = full_model.transform(test_df)\n",
    "f1_preds = evaluator.evaluate(predictions)\n",
    "print(\"F1-score test set: %0.3f\" % f1_preds)"
   ]
  },
  {
   "cell_type": "code",
   "execution_count": 73,
   "metadata": {},
   "outputs": [],
   "source": [
    "import numpy as np\n",
    "import matplotlib.pyplot as plt\n",
    "%matplotlib inline\n",
    "\n",
    "def plot_confusion_matrix(cm):\n",
    "    cm_normalized = \\\n",
    "    cm.astype('float') / cm.sum(axis=1)[:, np.newaxis]\n",
    "    plt.imshow(\n",
    "        cm_normalized, interpolation='nearest', cmap=plt.cm.Blues)\n",
    "    plt.title('Normalized Confusion matrix')\n",
    "    plt.colorbar()\n",
    "    plt.tight_layout()\n",
    "    plt.ylabel('True label')\n",
    "    plt.xlabel('Predicted label')"
   ]
  },
  {
   "cell_type": "code",
   "execution_count": 74,
   "metadata": {},
   "outputs": [
    {
     "data": {
      "image/png": "[encoded data removed]",
      "text/plain": [
       "<Figure size 432x288 with 2 Axes>"
      ]
     },
     "metadata": {},
     "output_type": "display_data"
    }
   ],
   "source": [
    "from pyspark.mllib.evaluation import MulticlassMetrics\n",
    "\n",
    "metrics = MulticlassMetrics(\n",
    "    predictions.select(\"prediction\", \"target_cat\").rdd)\n",
    "conf_matrix = metrics.confusionMatrix().toArray()\n",
    "plot_confusion_matrix(conf_matrix)"
   ]
  },
  {
   "cell_type": "markdown",
   "metadata": {},
   "source": [
    "## Manual tuning"
   ]
  },
  {
   "cell_type": "code",
   "execution_count": 75,
   "metadata": {},
   "outputs": [
    {
     "data": {
      "text/plain": [
       "{'neptune': 107201,\n",
       " 'satan': 1589,\n",
       " 'nmap': 231,\n",
       " 'portsweep': 1040,\n",
       " 'back': 2203,\n",
       " 'warezclient': 1020,\n",
       " 'guess_passwd': 53,\n",
       " 'normal': 97278,\n",
       " 'rootkit': 10,\n",
       " 'perl': 3,\n",
       " 'buffer_overflow': 30,\n",
       " 'multihop': 7,\n",
       " 'ipsweep': 1247,\n",
       " 'warezmaster': 20,\n",
       " 'imap': 12,\n",
       " 'teardrop': 979,\n",
       " 'spy': 2,\n",
       " 'land': 21,\n",
       " 'pod': 264,\n",
       " 'ftp_write': 8,\n",
       " 'smurf': 280790,\n",
       " 'loadmodule': 9,\n",
       " 'phf': 4}"
      ]
     },
     "execution_count": 75,
     "metadata": {},
     "output_type": "execute_result"
    }
   ],
   "source": [
    "train_composition = (train_df.groupBy(\"target\")\n",
    "                     .count()\n",
    "                     .rdd\n",
    "                     .collectAsMap())\n",
    "train_composition"
   ]
  },
  {
   "cell_type": "code",
   "execution_count": 76,
   "metadata": {},
   "outputs": [
    {
     "data": {
      "text/plain": [
       "{'neptune': 0.23320677978750198,\n",
       " 'satan': 1,\n",
       " 'nmap': 4.329004329004329,\n",
       " 'portsweep': 1,\n",
       " 'back': 1,\n",
       " 'warezclient': 1,\n",
       " 'guess_passwd': 18.867924528301888,\n",
       " 'normal': 0.2569954152017928,\n",
       " 'rootkit': 100.0,\n",
       " 'perl': 333.3333333333333,\n",
       " 'buffer_overflow': 33.333333333333336,\n",
       " 'multihop': 142.85714285714286,\n",
       " 'ipsweep': 1,\n",
       " 'warezmaster': 50.0,\n",
       " 'imap': 83.33333333333333,\n",
       " 'teardrop': 1.0214504596527068,\n",
       " 'spy': 500.0,\n",
       " 'land': 47.61904761904762,\n",
       " 'pod': 3.787878787878788,\n",
       " 'ftp_write': 125.0,\n",
       " 'smurf': 0.08903450977598917,\n",
       " 'loadmodule': 111.11111111111111,\n",
       " 'phf': 250.0}"
      ]
     },
     "execution_count": 76,
     "metadata": {},
     "output_type": "execute_result"
    }
   ],
   "source": [
    "def set_sample_rate_between_vals(cnt, the_min, the_max):\n",
    "    if the_min <= cnt <= the_max:\n",
    "        # no sampling\n",
    "        return 1\n",
    "    elif cnt < the_min:\n",
    "        # Oversampling: return many times the same observation\n",
    "        return the_min/float(cnt)\n",
    "    else:\n",
    "        # Subsampling: sometime don't return it\n",
    "        return the_max/float(cnt)\n",
    "    \n",
    "sample_rates = {k:set_sample_rate_between_vals(v, 1000, 25000) \n",
    "                for k,v in train_composition.items()}\n",
    "sample_rates"
   ]
  },
  {
   "cell_type": "code",
   "execution_count": 77,
   "metadata": {},
   "outputs": [],
   "source": [
    "bc_sample_rates = sc.broadcast(sample_rates)\n",
    "\n",
    "def map_and_sample(el, rates):\n",
    "    rate = rates.value[el['target']]\n",
    "    if rate > 1:\n",
    "        return [el]*int(rate)\n",
    "    else:\n",
    "        import random\n",
    "        return [el] if random.random() < rate else []\n",
    "\n",
    "sampled_train_df = (train_df\n",
    "                    .rdd\n",
    "                    .flatMap(\n",
    "                    lambda x: map_and_sample(x, bc_sample_rates))\n",
    "                    .toDF()\n",
    "                    .cache())"
   ]
  },
  {
   "cell_type": "code",
   "execution_count": 78,
   "metadata": {},
   "outputs": [
    {
     "data": {
      "text/plain": [
       "96358"
      ]
     },
     "execution_count": 78,
     "metadata": {},
     "output_type": "execute_result"
    }
   ],
   "source": [
    "sampled_train_df.count()"
   ]
  },
  {
   "cell_type": "code",
   "execution_count": 79,
   "metadata": {},
   "outputs": [
    {
     "data": {
      "text/plain": [
       "Row(duration=0.0, protocol_type='tcp', service='http', flag='SF', src_bytes=235.0, dst_bytes=1337.0, land=0.0, wrong_fragment=0.0, urgent=0.0, hot=0.0, num_failed_logins=0.0, logged_in=1.0, num_compromised=0.0, root_shell=0.0, su_attempted=0.0, num_root=0.0, num_file_creations=0.0, num_shells=0.0, num_access_files=0.0, num_outbound_cmds=0.0, is_host_login=0.0, is_guest_login=0.0, count=8.0, srv_count=8.0, serror_rate=0.0, srv_serror_rate=0.0, rerror_rate=0.0, srv_rerror_rate=0.0, same_srv_rate=1.0, diff_srv_rate=0.0, srv_diff_host_rate=0.0, dst_host_count=29.0, dst_host_srv_count=29.0, dst_host_same_srv_rate=1.0, dst_host_diff_srv_rate=0.0, dst_host_same_src_port_rate=0.03, dst_host_srv_diff_host_rate=0.0, dst_host_serror_rate=0.0, dst_host_srv_serror_rate=0.0, dst_host_rerror_rate=0.0, dst_host_srv_rerror_rate=0.0, target='normal')"
      ]
     },
     "execution_count": 79,
     "metadata": {},
     "output_type": "execute_result"
    }
   ],
   "source": [
    "sampled_train_df.first()"
   ]
  },
  {
   "cell_type": "code",
   "execution_count": 80,
   "metadata": {},
   "outputs": [
    {
     "name": "stdout",
     "output_type": "stream",
     "text": [
      "F1-score test set: 0.935\n"
     ]
    }
   ],
   "source": [
    "full_model = full_pipeline.fit(sampled_train_df)\n",
    "predictions = full_model.transform(test_df)\n",
    "f1_preds = evaluator.evaluate(predictions)\n",
    "print(\"F1-score test set: %0.3f\" % f1_preds)"
   ]
  },
  {
   "cell_type": "code",
   "execution_count": 81,
   "metadata": {},
   "outputs": [
    {
     "name": "stdout",
     "output_type": "stream",
     "text": [
      "F1-score test set: 0.967\n"
     ]
    }
   ],
   "source": [
    "clf = RandomForestClassifier(\n",
    "    numTrees=50, maxBins=100, seed=101,\n",
    "    labelCol=\"target_cat\", featuresCol=\"features\")\n",
    "stages = full_pipeline.getStages()[:-1]\n",
    "stages.append(clf)\n",
    "refined_pipeline = Pipeline(stages=stages)\n",
    "refined_model = refined_pipeline.fit(sampled_train_df)\n",
    "predictions = refined_model.transform(test_df)\n",
    "f1_preds = evaluator.evaluate(predictions)\n",
    "print (\"F1-score test set: %0.3f\" % f1_preds )"
   ]
  },
  {
   "cell_type": "markdown",
   "metadata": {},
   "source": [
    "## Cross-validation"
   ]
  },
  {
   "cell_type": "code",
   "execution_count": 82,
   "metadata": {},
   "outputs": [],
   "source": [
    "pipeline_to_clf = Pipeline(\n",
    "    stages=preproc_stages + [assembler]).fit(sampled_train_df)\n",
    "train = pipeline_to_clf.transform(sampled_train_df).cache()\n",
    "test = pipeline_to_clf.transform(test_df)"
   ]
  },
  {
   "cell_type": "code",
   "execution_count": 83,
   "metadata": {},
   "outputs": [],
   "source": [
    "from pyspark.ml.tuning import ParamGridBuilder, CrossValidator\n",
    "\n",
    "rf = RandomForestClassifier(\n",
    "    cacheNodeIds=True, seed=101, labelCol=\"target_cat\",\n",
    "    featuresCol=\"features\", maxBins=100)\n",
    "grid = (ParamGridBuilder()\n",
    "        .addGrid(rf.maxDepth, [3, 6, 9, 12])\n",
    "        .addGrid(rf.numTrees, [20, 50])\n",
    "        .build())\n",
    "cv = CrossValidator(\n",
    "    estimator=rf, estimatorParamMaps=grid,\n",
    "    evaluator=evaluator, numFolds=3)\n",
    "cvModel = cv.fit(train)"
   ]
  },
  {
   "cell_type": "code",
   "execution_count": 84,
   "metadata": {},
   "outputs": [
    {
     "name": "stdout",
     "output_type": "stream",
     "text": [
      "F1-score test set: 0.970\n"
     ]
    }
   ],
   "source": [
    "predictions = cvModel.transform(test)\n",
    "f1_preds = evaluator.evaluate(predictions)\n",
    "print(\"F1-score test set: %0.3f\" % f1_preds)"
   ]
  },
  {
   "cell_type": "code",
   "execution_count": 85,
   "metadata": {},
   "outputs": [
    {
     "data": {
      "image/png": "[encoded data removed]",
      "text/plain": [
       "<Figure size 432x288 with 2 Axes>"
      ]
     },
     "metadata": {},
     "output_type": "display_data"
    }
   ],
   "source": [
    "metrics = MulticlassMetrics(\n",
    "    predictions.select(\"prediction\", \"target_cat\").rdd)\n",
    "conf_matrix = metrics.confusionMatrix().toArray()\n",
    "plot_confusion_matrix(conf_matrix)"
   ]
  },
  {
   "cell_type": "markdown",
   "metadata": {},
   "source": [
    "## Final cleanup"
   ]
  },
  {
   "cell_type": "code",
   "execution_count": 86,
   "metadata": {},
   "outputs": [
    {
     "data": {
      "text/plain": [
       "DataFrame[duration: double, protocol_type: string, service: string, flag: string, src_bytes: double, dst_bytes: double, land: double, wrong_fragment: double, urgent: double, hot: double, num_failed_logins: double, logged_in: double, num_compromised: double, root_shell: double, su_attempted: double, num_root: double, num_file_creations: double, num_shells: double, num_access_files: double, num_outbound_cmds: double, is_host_login: double, is_guest_login: double, count: double, srv_count: double, serror_rate: double, srv_serror_rate: double, rerror_rate: double, srv_rerror_rate: double, same_srv_rate: double, diff_srv_rate: double, srv_diff_host_rate: double, dst_host_count: double, dst_host_srv_count: double, dst_host_same_srv_rate: double, dst_host_diff_srv_rate: double, dst_host_same_src_port_rate: double, dst_host_srv_diff_host_rate: double, dst_host_serror_rate: double, dst_host_srv_serror_rate: double, dst_host_rerror_rate: double, dst_host_srv_rerror_rate: double, target: string, protocol_type_cat: double, service_cat: double, flag_cat: double, target_cat: double, features: vector]"
      ]
     },
     "execution_count": 86,
     "metadata": {},
     "output_type": "execute_result"
    }
   ],
   "source": [
    "bc_sample_rates.unpersist()\n",
    "sampled_train_df.unpersist()\n",
    "train.unpersist()"
   ]
  }
 ],
 "metadata": {
  "kernelspec": {
   "display_name": "Python 3",
   "language": "python",
   "name": "python3"
  },
  "language_info": {
   "codemirror_mode": {
    "name": "ipython",
    "version": 3
   },
   "file_extension": ".py",
   "mimetype": "text/x-python",
   "name": "python",
   "nbconvert_exporter": "python",
   "pygments_lexer": "ipython3",
   "version": "3.6.5"
  }
 },
 "nbformat": 4,
 "nbformat_minor": 2
}
