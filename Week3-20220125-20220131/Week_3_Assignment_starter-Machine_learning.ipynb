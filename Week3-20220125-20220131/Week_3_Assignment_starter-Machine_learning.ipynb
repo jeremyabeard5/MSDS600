{
 "cells": [
  {
   "cell_type": "markdown",
   "metadata": {},
   "source": [
    "# Assignment\n",
    "\n",
    "Use the \"from the expert\" (FTE) jupyter notebook as a starter for this assignment, and ask your instructor questions if you need help.\n",
    "\n",
    "Use our saved churn data from week 2 with machine learning to predict if customers will churn or not, similar to what we did in the FTE:\n",
    "\n",
    "- break up data into features and targets\n",
    "- split data into train and test sets\n",
    "- use at least one ML model to fit to the training data\n",
    "- evaluate performance on the train and test sets: at least evaluate accuracy and compare it with the \"no information rate\"\n",
    "- plot a confusion matrix\n",
    "- write something describing how the ML algorithm could be used in a business setting\n",
    "- Write a short summary of what you did with the overall process - describe any important EDA findings, data cleaning and preparation, modeling, and evaluation in your summary.\n",
    "\n",
    "*Optional*: For an addition challenge, try the following:\n",
    "- fit more ML models and compare their scores\n",
    "- optimize the hyperparameters of your models\n",
    "- examine more metrics such as the classification report and ROC/AUC\n",
    "- plot the distribution of the probability predictions (from the `predict_proba()` function from our model) for each class (1s and 0s)"
   ]
  },
  {
   "cell_type": "markdown",
   "metadata": {},
   "source": [
    "### DS process status"
   ]
  },
  {
   "cell_type": "markdown",
   "metadata": {},
   "source": [
    "Here is our data science process, and where we are (#4):\n",
    "\n",
    "**1. Business understanding**\n",
    "\n",
    "Can we use machine learning to predict if a customer will churn before they leave?\n",
    "\n",
    "**2. Data understanding**\n",
    "\n",
    "Week 1 - EDA and visualization.\n",
    "\n",
    "**3. Data preparation**\n",
    "\n",
    "Last week - cleaning and feature engineering.\n",
    "\n",
    "\n",
    "**4. Modeling**\n",
    "\n",
    "This week.\n",
    "Fit a ML model to the data.\n"
   ]
  },
  {
   "cell_type": "code",
   "execution_count": 1,
   "metadata": {},
   "outputs": [],
   "source": [
    "import pandas as pd\n",
    "from sklearn.model_selection import train_test_split\n",
    "from sklearn.linear_model import LogisticRegression\n",
    "from sklearn.metrics import plot_confusion_matrix"
   ]
  },
  {
   "cell_type": "code",
   "execution_count": 5,
   "metadata": {},
   "outputs": [
    {
     "data": {
      "text/html": [
       "<div>\n",
       "<style scoped>\n",
       "    .dataframe tbody tr th:only-of-type {\n",
       "        vertical-align: middle;\n",
       "    }\n",
       "\n",
       "    .dataframe tbody tr th {\n",
       "        vertical-align: top;\n",
       "    }\n",
       "\n",
       "    .dataframe thead th {\n",
       "        text-align: right;\n",
       "    }\n",
       "</style>\n",
       "<table border=\"1\" class=\"dataframe\">\n",
       "  <thead>\n",
       "    <tr style=\"text-align: right;\">\n",
       "      <th></th>\n",
       "      <th>customerID</th>\n",
       "      <th>tenure</th>\n",
       "      <th>PhoneService</th>\n",
       "      <th>Contract</th>\n",
       "      <th>PaymentMethod</th>\n",
       "      <th>MonthlyCharges</th>\n",
       "      <th>TotalCharges</th>\n",
       "      <th>Churn</th>\n",
       "      <th>monthly_total_chg_ratio</th>\n",
       "    </tr>\n",
       "  </thead>\n",
       "  <tbody>\n",
       "    <tr>\n",
       "      <th>0</th>\n",
       "      <td>7590-VHVEG</td>\n",
       "      <td>1</td>\n",
       "      <td>0</td>\n",
       "      <td>12</td>\n",
       "      <td>1</td>\n",
       "      <td>29.85</td>\n",
       "      <td>29.85</td>\n",
       "      <td>0</td>\n",
       "      <td>1.000000</td>\n",
       "    </tr>\n",
       "    <tr>\n",
       "      <th>1</th>\n",
       "      <td>5575-GNVDE</td>\n",
       "      <td>34</td>\n",
       "      <td>1</td>\n",
       "      <td>1</td>\n",
       "      <td>2</td>\n",
       "      <td>56.95</td>\n",
       "      <td>1889.50</td>\n",
       "      <td>0</td>\n",
       "      <td>0.030140</td>\n",
       "    </tr>\n",
       "    <tr>\n",
       "      <th>2</th>\n",
       "      <td>3668-QPYBK</td>\n",
       "      <td>2</td>\n",
       "      <td>1</td>\n",
       "      <td>12</td>\n",
       "      <td>2</td>\n",
       "      <td>53.85</td>\n",
       "      <td>108.15</td>\n",
       "      <td>1</td>\n",
       "      <td>0.497920</td>\n",
       "    </tr>\n",
       "    <tr>\n",
       "      <th>3</th>\n",
       "      <td>7795-CFOCW</td>\n",
       "      <td>45</td>\n",
       "      <td>0</td>\n",
       "      <td>1</td>\n",
       "      <td>3</td>\n",
       "      <td>42.30</td>\n",
       "      <td>1840.75</td>\n",
       "      <td>0</td>\n",
       "      <td>0.022980</td>\n",
       "    </tr>\n",
       "    <tr>\n",
       "      <th>4</th>\n",
       "      <td>9237-HQITU</td>\n",
       "      <td>2</td>\n",
       "      <td>1</td>\n",
       "      <td>12</td>\n",
       "      <td>1</td>\n",
       "      <td>70.70</td>\n",
       "      <td>151.65</td>\n",
       "      <td>1</td>\n",
       "      <td>0.466205</td>\n",
       "    </tr>\n",
       "    <tr>\n",
       "      <th>...</th>\n",
       "      <td>...</td>\n",
       "      <td>...</td>\n",
       "      <td>...</td>\n",
       "      <td>...</td>\n",
       "      <td>...</td>\n",
       "      <td>...</td>\n",
       "      <td>...</td>\n",
       "      <td>...</td>\n",
       "      <td>...</td>\n",
       "    </tr>\n",
       "    <tr>\n",
       "      <th>7038</th>\n",
       "      <td>6840-RESVB</td>\n",
       "      <td>24</td>\n",
       "      <td>1</td>\n",
       "      <td>1</td>\n",
       "      <td>2</td>\n",
       "      <td>84.80</td>\n",
       "      <td>1990.50</td>\n",
       "      <td>0</td>\n",
       "      <td>0.042602</td>\n",
       "    </tr>\n",
       "    <tr>\n",
       "      <th>7039</th>\n",
       "      <td>2234-XADUH</td>\n",
       "      <td>72</td>\n",
       "      <td>1</td>\n",
       "      <td>1</td>\n",
       "      <td>4</td>\n",
       "      <td>103.20</td>\n",
       "      <td>7362.90</td>\n",
       "      <td>0</td>\n",
       "      <td>0.014016</td>\n",
       "    </tr>\n",
       "    <tr>\n",
       "      <th>7040</th>\n",
       "      <td>4801-JZAZL</td>\n",
       "      <td>11</td>\n",
       "      <td>0</td>\n",
       "      <td>12</td>\n",
       "      <td>1</td>\n",
       "      <td>29.60</td>\n",
       "      <td>346.45</td>\n",
       "      <td>0</td>\n",
       "      <td>0.085438</td>\n",
       "    </tr>\n",
       "    <tr>\n",
       "      <th>7041</th>\n",
       "      <td>8361-LTMKD</td>\n",
       "      <td>4</td>\n",
       "      <td>1</td>\n",
       "      <td>12</td>\n",
       "      <td>2</td>\n",
       "      <td>74.40</td>\n",
       "      <td>306.60</td>\n",
       "      <td>1</td>\n",
       "      <td>0.242661</td>\n",
       "    </tr>\n",
       "    <tr>\n",
       "      <th>7042</th>\n",
       "      <td>3186-AJIEK</td>\n",
       "      <td>66</td>\n",
       "      <td>1</td>\n",
       "      <td>2</td>\n",
       "      <td>3</td>\n",
       "      <td>105.65</td>\n",
       "      <td>6844.50</td>\n",
       "      <td>0</td>\n",
       "      <td>0.015436</td>\n",
       "    </tr>\n",
       "  </tbody>\n",
       "</table>\n",
       "<p>7043 rows × 9 columns</p>\n",
       "</div>"
      ],
      "text/plain": [
       "      customerID  tenure  PhoneService  Contract  PaymentMethod  \\\n",
       "0     7590-VHVEG       1             0        12              1   \n",
       "1     5575-GNVDE      34             1         1              2   \n",
       "2     3668-QPYBK       2             1        12              2   \n",
       "3     7795-CFOCW      45             0         1              3   \n",
       "4     9237-HQITU       2             1        12              1   \n",
       "...          ...     ...           ...       ...            ...   \n",
       "7038  6840-RESVB      24             1         1              2   \n",
       "7039  2234-XADUH      72             1         1              4   \n",
       "7040  4801-JZAZL      11             0        12              1   \n",
       "7041  8361-LTMKD       4             1        12              2   \n",
       "7042  3186-AJIEK      66             1         2              3   \n",
       "\n",
       "      MonthlyCharges  TotalCharges  Churn  monthly_total_chg_ratio  \n",
       "0              29.85         29.85      0                 1.000000  \n",
       "1              56.95       1889.50      0                 0.030140  \n",
       "2              53.85        108.15      1                 0.497920  \n",
       "3              42.30       1840.75      0                 0.022980  \n",
       "4              70.70        151.65      1                 0.466205  \n",
       "...              ...           ...    ...                      ...  \n",
       "7038           84.80       1990.50      0                 0.042602  \n",
       "7039          103.20       7362.90      0                 0.014016  \n",
       "7040           29.60        346.45      0                 0.085438  \n",
       "7041           74.40        306.60      1                 0.242661  \n",
       "7042          105.65       6844.50      0                 0.015436  \n",
       "\n",
       "[7043 rows x 9 columns]"
      ]
     },
     "execution_count": 5,
     "metadata": {},
     "output_type": "execute_result"
    }
   ],
   "source": [
    "df = pd.read_csv('clean_churn_data.csv', index_col='Unnamed: 0')\n",
    "df"
   ]
  },
  {
   "cell_type": "code",
   "execution_count": 6,
   "metadata": {},
   "outputs": [
    {
     "name": "stdout",
     "output_type": "stream",
     "text": [
      "<class 'pandas.core.frame.DataFrame'>\n",
      "Int64Index: 7043 entries, 0 to 7042\n",
      "Data columns (total 9 columns):\n",
      " #   Column                   Non-Null Count  Dtype  \n",
      "---  ------                   --------------  -----  \n",
      " 0   customerID               7043 non-null   object \n",
      " 1   tenure                   7043 non-null   int64  \n",
      " 2   PhoneService             7043 non-null   int64  \n",
      " 3   Contract                 7043 non-null   int64  \n",
      " 4   PaymentMethod            7043 non-null   int64  \n",
      " 5   MonthlyCharges           7043 non-null   float64\n",
      " 6   TotalCharges             7043 non-null   float64\n",
      " 7   Churn                    7043 non-null   int64  \n",
      " 8   monthly_total_chg_ratio  7043 non-null   float64\n",
      "dtypes: float64(3), int64(5), object(1)\n",
      "memory usage: 550.2+ KB\n"
     ]
    }
   ],
   "source": [
    "df.info()"
   ]
  },
  {
   "cell_type": "code",
   "execution_count": 20,
   "metadata": {},
   "outputs": [
    {
     "name": "stdout",
     "output_type": "stream",
     "text": [
      "      tenure  PhoneService  Contract  PaymentMethod  MonthlyCharges  \\\n",
      "0          1             0        12              1           29.85   \n",
      "1         34             1         1              2           56.95   \n",
      "2          2             1        12              2           53.85   \n",
      "3         45             0         1              3           42.30   \n",
      "4          2             1        12              1           70.70   \n",
      "...      ...           ...       ...            ...             ...   \n",
      "7038      24             1         1              2           84.80   \n",
      "7039      72             1         1              4          103.20   \n",
      "7040      11             0        12              1           29.60   \n",
      "7041       4             1        12              2           74.40   \n",
      "7042      66             1         2              3          105.65   \n",
      "\n",
      "      TotalCharges  monthly_total_chg_ratio  \n",
      "0            29.85                 1.000000  \n",
      "1          1889.50                 0.030140  \n",
      "2           108.15                 0.497920  \n",
      "3          1840.75                 0.022980  \n",
      "4           151.65                 0.466205  \n",
      "...            ...                      ...  \n",
      "7038       1990.50                 0.042602  \n",
      "7039       7362.90                 0.014016  \n",
      "7040        346.45                 0.085438  \n",
      "7041        306.60                 0.242661  \n",
      "7042       6844.50                 0.015436  \n",
      "\n",
      "[7043 rows x 7 columns]\n",
      "0       0\n",
      "1       0\n",
      "2       1\n",
      "3       0\n",
      "4       1\n",
      "       ..\n",
      "7038    0\n",
      "7039    0\n",
      "7040    0\n",
      "7041    1\n",
      "7042    0\n",
      "Name: Churn, Length: 7043, dtype: int64\n"
     ]
    }
   ],
   "source": [
    "#break up data into features and targets\n",
    "features = df.drop(['customerID', 'Churn'], axis=1)\n",
    "print(features)\n",
    "targets = df['Churn']\n",
    "print(targets)\n"
   ]
  },
  {
   "cell_type": "code",
   "execution_count": 21,
   "metadata": {},
   "outputs": [
    {
     "name": "stdout",
     "output_type": "stream",
     "text": [
      "x_train\n",
      "      tenure  PhoneService  Contract  PaymentMethod  MonthlyCharges  \\\n",
      "6661      72             0         2              4           53.65   \n",
      "4811       4             1        12              2           46.00   \n",
      "2193      56             1         1              2           21.20   \n",
      "1904      56             1        12              1           94.45   \n",
      "6667       9             1        12              1           79.55   \n",
      "...      ...           ...       ...            ...             ...   \n",
      "4250      63             1         1              4          104.50   \n",
      "1488       1             1        12              2           51.25   \n",
      "6303      71             1         2              1          109.25   \n",
      "2710      24             1         1              4           20.40   \n",
      "5639       6             1        12              2           20.65   \n",
      "\n",
      "      TotalCharges  monthly_total_chg_ratio  \n",
      "6661       3784.00                 0.014178  \n",
      "4811        193.60                 0.237603  \n",
      "2193       1238.65                 0.017115  \n",
      "1904       5124.60                 0.018431  \n",
      "6667        723.40                 0.109967  \n",
      "...            ...                      ...  \n",
      "4250       6590.80                 0.015855  \n",
      "1488         51.25                 1.000000  \n",
      "6303       7707.70                 0.014174  \n",
      "2710        482.80                 0.042254  \n",
      "5639        109.30                 0.188930  \n",
      "\n",
      "[5282 rows x 7 columns]\n",
      "x_test\n",
      "      tenure  PhoneService  Contract  PaymentMethod  MonthlyCharges  \\\n",
      "5909      52             1         1              2           80.20   \n",
      "3670      33             1        12              3           24.25   \n",
      "6220      10             0         2              4           53.70   \n",
      "5905       1             1        12              1           85.00   \n",
      "6435      52             0         2              2           50.20   \n",
      "...      ...           ...       ...            ...             ...   \n",
      "476       35             1        12              1           76.05   \n",
      "1607      13             1        12              3           89.05   \n",
      "6808      39             1         2              1          100.45   \n",
      "2962       3             0        12              2           31.00   \n",
      "3955      29             0        12              1           45.90   \n",
      "\n",
      "      TotalCharges  monthly_total_chg_ratio  \n",
      "5909       4297.60                 0.018662  \n",
      "3670        838.50                 0.028921  \n",
      "6220        521.00                 0.103071  \n",
      "5905         85.00                 1.000000  \n",
      "6435       2554.00                 0.019655  \n",
      "...            ...                      ...  \n",
      "476        2747.20                 0.027683  \n",
      "1607       1169.35                 0.076153  \n",
      "6808       3801.70                 0.026422  \n",
      "2962         95.05                 0.326144  \n",
      "3955       1332.40                 0.034449  \n",
      "\n",
      "[1761 rows x 7 columns]\n",
      "y_train\n",
      "6661    0\n",
      "4811    1\n",
      "2193    0\n",
      "1904    1\n",
      "6667    1\n",
      "       ..\n",
      "4250    0\n",
      "1488    0\n",
      "6303    0\n",
      "2710    0\n",
      "5639    0\n",
      "Name: Churn, Length: 5282, dtype: int64\n",
      "y_test\n",
      "5909    0\n",
      "3670    0\n",
      "6220    0\n",
      "5905    0\n",
      "6435    0\n",
      "       ..\n",
      "476     0\n",
      "1607    1\n",
      "6808    0\n",
      "2962    1\n",
      "3955    0\n",
      "Name: Churn, Length: 1761, dtype: int64\n"
     ]
    }
   ],
   "source": [
    "#split data into train and test sets\n",
    "x_train, x_test, y_train, y_test = train_test_split(features, targets, stratify=targets, random_state=42)\n",
    "print(\"x_train\")\n",
    "print(x_train)\n",
    "print(\"x_test\")\n",
    "print(x_test)\n",
    "print(\"y_train\")\n",
    "print(y_train)\n",
    "print(\"y_test\")\n",
    "print(y_test)\n",
    "#default size is 25% test size"
   ]
  },
  {
   "cell_type": "code",
   "execution_count": 22,
   "metadata": {},
   "outputs": [
    {
     "data": {
      "text/plain": [
       "LogisticRegression(max_iter=1000)"
      ]
     },
     "execution_count": 22,
     "metadata": {},
     "output_type": "execute_result"
    }
   ],
   "source": [
    "#use at least one ML model to fit to the training data\n",
    "#create the model first, then fit it to training data\n",
    "lr_model = LogisticRegression(max_iter=1000)\n",
    "lr_model.fit(x_train, y_train)\n"
   ]
  },
  {
   "cell_type": "markdown",
   "metadata": {},
   "source": [
    "**5. Evaluation**\n",
    "\n",
    "This week.\n",
    "Check the performance of our models and evaluate how it fits our goals from step 1."
   ]
  },
  {
   "cell_type": "code",
   "execution_count": 30,
   "metadata": {},
   "outputs": [
    {
     "data": {
      "text/plain": [
       "0    0.73463\n",
       "1    0.26537\n",
       "Name: Churn, dtype: float64"
      ]
     },
     "execution_count": 30,
     "metadata": {},
     "output_type": "execute_result"
    }
   ],
   "source": [
    "#evaluate performance on the train and test sets: at least evaluate accuracy and compare it with the \"no information rate\"\n",
    "x=df['Churn'].value_counts(normalize=True)\n",
    "x"
   ]
  },
  {
   "cell_type": "code",
   "execution_count": 32,
   "metadata": {},
   "outputs": [
    {
     "name": "stdout",
     "output_type": "stream",
     "text": [
      "0.7966679288148428\n",
      "0.7932992617830777\n"
     ]
    }
   ],
   "source": [
    "#evaluate performance on the train and test sets: at least evaluate accuracy and compare it with the \"no information rate\"\n",
    "# so, \"No Information Rate\" is 73.5% no-churn\n",
    "train_acc = lr_model.score(x_train, y_train)\n",
    "test_acc = lr_model.score(x_test, y_test)\n",
    "print(train_acc)\n",
    "print(test_acc)"
   ]
  },
  {
   "cell_type": "code",
   "execution_count": 34,
   "metadata": {},
   "outputs": [
    {
     "name": "stdout",
     "output_type": "stream",
     "text": [
      "No Information Rate: 0.7346301292063041 \n",
      "Train Accuracy: 0.7966679288148428 \n",
      "Test Accuracy: 0.7932992617830777\n"
     ]
    }
   ],
   "source": [
    "#evaluate performance on the train and test sets: at least evaluate accuracy and compare it with the \"no information rate\"\n",
    "# so, the train and test sets have pretty similar accuracy scores. \n",
    "# Little/no adjustment is needed to counteract high bias or high variance\n",
    "print(f'No Information Rate: {x[0]} \\nTrain Accuracy: {train_acc} \\nTest Accuracy: {test_acc}')"
   ]
  },
  {
   "cell_type": "code",
   "execution_count": 39,
   "metadata": {},
   "outputs": [
    {
     "data": {
      "text/plain": [
       "<sklearn.metrics._plot.confusion_matrix.ConfusionMatrixDisplay at 0x2b6d36c76d0>"
      ]
     },
     "execution_count": 39,
     "metadata": {},
     "output_type": "execute_result"
    },
    {
     "data": {
      "image/png": "[encoded data removed]",
      "text/plain": [
       "<Figure size 432x288 with 2 Axes>"
      ]
     },
     "metadata": {
      "needs_background": "light"
     },
     "output_type": "display_data"
    }
   ],
   "source": [
    "#plot a confusion matrix\n",
    "plot_confusion_matrix(lr_model, x_test, y_test, cmap='Reds')"
   ]
  },
  {
   "cell_type": "markdown",
   "metadata": {},
   "source": [
    "**6. Deployment**\n",
    "\n",
    "This week.\n",
    "Describe how the model might be deployed and used at the business. Will there be an API that customer service reps can use when customers call? Should there be a system where a report gets sent to someone in customer retention or marketing with at-risk customers? We should really think about these things in the first step, although we can consider them here this time."
   ]
  },
  {
   "cell_type": "markdown",
   "metadata": {},
   "source": [
    "# 6. Deployment"
   ]
  },
  {
   "cell_type": "markdown",
   "metadata": {},
   "source": [
    "**Write a small description of how we might use this ML algorithm in a business setting:**\n",
    "This ML algorithm used with this specific dataset could be used in a business setting to assist corporations or smaller businesses with cost predictions. Employee churn means former employees are leaving the company and that means new employees need hired. New employees are significantly more expensive than employees which are experienced, due to the extensive training involved in bringing a new employee into a company. Having a model that could predict the amount of employee churn is useful because a business can now more accurately estimate the cost it takes to run and sustain itself. "
   ]
  },
  {
   "cell_type": "markdown",
   "metadata": {},
   "source": [
    "# Summary"
   ]
  },
  {
   "cell_type": "markdown",
   "metadata": {},
   "source": [
    "**Write a short summary of what you did with the overall process - describe any important EDA findings, data cleaning and preparation, modeling, and evaluation in your summary:**\n",
    "In this week's assignment, I successfully created a linear regression model of a business employee churn dataset, where all numeric data were the 'features' and the employee churn was the 'target'. Since all EDA findings, data cleaning and preparation was completed before this assignment, the only steps were the modeling and evaluation. I found that the model had a similar accuracy between the train and test datasets, so no adjustment was needed to correct for high bias or high variance. This model was also more successful at making predictions than the 'No Information Rate' which was 73.5% accurate. The model exceeded that accuracy with a rate of ~79%. I plotted a confusion matrix which showed the majority of the datapoints as true negatives which shows the model was successful in predicting outcomes. "
   ]
  },
  {
   "cell_type": "markdown",
   "metadata": {},
   "source": [
    "Thank you! All the best, Jeremy"
   ]
  },
  {
   "cell_type": "code",
   "execution_count": null,
   "metadata": {},
   "outputs": [],
   "source": []
  }
 ],
 "metadata": {
  "kernelspec": {
   "display_name": "Python 3 (ipykernel)",
   "language": "python",
   "name": "python3"
  },
  "language_info": {
   "codemirror_mode": {
    "name": "ipython",
    "version": 3
   },
   "file_extension": ".py",
   "mimetype": "text/x-python",
   "name": "python",
   "nbconvert_exporter": "python",
   "pygments_lexer": "ipython3",
   "version": "3.9.7"
  }
 },
 "nbformat": 4,
 "nbformat_minor": 4
}
