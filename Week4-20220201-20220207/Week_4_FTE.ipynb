{
 "cells": [
  {
   "cell_type": "markdown",
   "id": "0552cb99",
   "metadata": {},
   "source": [
    "# Tree-based Machine Learning and Feature Selection"
   ]
  },
  {
   "cell_type": "markdown",
   "id": "4d7e730c",
   "metadata": {},
   "source": [
    "This week we are learning about tree-based ML algorithms and how to select features for ML algorithms. Tree-based ML algorithms include:\n",
    "\n",
    "- decision trees\n",
    "- random forests\n",
    "- boosting algorithms (e.g. xgboost, lightgbm, catboost)\n",
    "\n",
    "The second topic we'll look at is selecting features. Some features will be more important for predicting the target than others, and we can use a few ways to select the best features:\n",
    "\n",
    "- univariate statistics (like correlations)\n",
    "- selection with ML algorithms (forward, backward, recursive selection)\n",
    "- selection using feature importances from ML algorithms\n",
    "\n",
    "We'll start with decision trees."
   ]
  },
  {
   "cell_type": "markdown",
   "id": "e5cf1186",
   "metadata": {},
   "source": [
    "# Decision trees"
   ]
  },
  {
   "cell_type": "code",
   "execution_count": 1,
   "id": "faaffb83",
   "metadata": {},
   "outputs": [],
   "source": [
    "import pandas as pd\n",
    "from sklearn.tree import DecisionTreeClassifier, plot_tree\n",
    "from sklearn.model_selection import train_test_split\n",
    "import matplotlib.pyplot as plt"
   ]
  },
  {
   "cell_type": "code",
   "execution_count": 2,
   "id": "d83a98d5",
   "metadata": {},
   "outputs": [
    {
     "ename": "FileNotFoundError",
     "evalue": "[Errno 2] No such file or directory: 'data/prepped_diabetes_data.csv'",
     "output_type": "error",
     "traceback": [
      "\u001b[1;31m---------------------------------------------------------------------------\u001b[0m",
      "\u001b[1;31mFileNotFoundError\u001b[0m                         Traceback (most recent call last)",
      "\u001b[1;32m~\\AppData\\Local\\Temp/ipykernel_18824/2104314336.py\u001b[0m in \u001b[0;36m<module>\u001b[1;34m\u001b[0m\n\u001b[1;32m----> 1\u001b[1;33m \u001b[0mdf\u001b[0m \u001b[1;33m=\u001b[0m \u001b[0mpd\u001b[0m\u001b[1;33m.\u001b[0m\u001b[0mread_csv\u001b[0m\u001b[1;33m(\u001b[0m\u001b[1;34m'data/prepped_diabetes_data.csv'\u001b[0m\u001b[1;33m,\u001b[0m \u001b[0mindex_col\u001b[0m\u001b[1;33m=\u001b[0m\u001b[1;34m'Patient number'\u001b[0m\u001b[1;33m)\u001b[0m\u001b[1;33m\u001b[0m\u001b[1;33m\u001b[0m\u001b[0m\n\u001b[0m\u001b[0;32m      2\u001b[0m \u001b[0mdf\u001b[0m\u001b[1;33m\u001b[0m\u001b[1;33m\u001b[0m\u001b[0m\n",
      "\u001b[1;32mC:\\ProgramData\\Anaconda3\\lib\\site-packages\\pandas\\util\\_decorators.py\u001b[0m in \u001b[0;36mwrapper\u001b[1;34m(*args, **kwargs)\u001b[0m\n\u001b[0;32m    309\u001b[0m                     \u001b[0mstacklevel\u001b[0m\u001b[1;33m=\u001b[0m\u001b[0mstacklevel\u001b[0m\u001b[1;33m,\u001b[0m\u001b[1;33m\u001b[0m\u001b[1;33m\u001b[0m\u001b[0m\n\u001b[0;32m    310\u001b[0m                 )\n\u001b[1;32m--> 311\u001b[1;33m             \u001b[1;32mreturn\u001b[0m \u001b[0mfunc\u001b[0m\u001b[1;33m(\u001b[0m\u001b[1;33m*\u001b[0m\u001b[0margs\u001b[0m\u001b[1;33m,\u001b[0m \u001b[1;33m**\u001b[0m\u001b[0mkwargs\u001b[0m\u001b[1;33m)\u001b[0m\u001b[1;33m\u001b[0m\u001b[1;33m\u001b[0m\u001b[0m\n\u001b[0m\u001b[0;32m    312\u001b[0m \u001b[1;33m\u001b[0m\u001b[0m\n\u001b[0;32m    313\u001b[0m         \u001b[1;32mreturn\u001b[0m \u001b[0mwrapper\u001b[0m\u001b[1;33m\u001b[0m\u001b[1;33m\u001b[0m\u001b[0m\n",
      "\u001b[1;32mC:\\ProgramData\\Anaconda3\\lib\\site-packages\\pandas\\io\\parsers\\readers.py\u001b[0m in \u001b[0;36mread_csv\u001b[1;34m(filepath_or_buffer, sep, delimiter, header, names, index_col, usecols, squeeze, prefix, mangle_dupe_cols, dtype, engine, converters, true_values, false_values, skipinitialspace, skiprows, skipfooter, nrows, na_values, keep_default_na, na_filter, verbose, skip_blank_lines, parse_dates, infer_datetime_format, keep_date_col, date_parser, dayfirst, cache_dates, iterator, chunksize, compression, thousands, decimal, lineterminator, quotechar, quoting, doublequote, escapechar, comment, encoding, encoding_errors, dialect, error_bad_lines, warn_bad_lines, on_bad_lines, delim_whitespace, low_memory, memory_map, float_precision, storage_options)\u001b[0m\n\u001b[0;32m    584\u001b[0m     \u001b[0mkwds\u001b[0m\u001b[1;33m.\u001b[0m\u001b[0mupdate\u001b[0m\u001b[1;33m(\u001b[0m\u001b[0mkwds_defaults\u001b[0m\u001b[1;33m)\u001b[0m\u001b[1;33m\u001b[0m\u001b[1;33m\u001b[0m\u001b[0m\n\u001b[0;32m    585\u001b[0m \u001b[1;33m\u001b[0m\u001b[0m\n\u001b[1;32m--> 586\u001b[1;33m     \u001b[1;32mreturn\u001b[0m \u001b[0m_read\u001b[0m\u001b[1;33m(\u001b[0m\u001b[0mfilepath_or_buffer\u001b[0m\u001b[1;33m,\u001b[0m \u001b[0mkwds\u001b[0m\u001b[1;33m)\u001b[0m\u001b[1;33m\u001b[0m\u001b[1;33m\u001b[0m\u001b[0m\n\u001b[0m\u001b[0;32m    587\u001b[0m \u001b[1;33m\u001b[0m\u001b[0m\n\u001b[0;32m    588\u001b[0m \u001b[1;33m\u001b[0m\u001b[0m\n",
      "\u001b[1;32mC:\\ProgramData\\Anaconda3\\lib\\site-packages\\pandas\\io\\parsers\\readers.py\u001b[0m in \u001b[0;36m_read\u001b[1;34m(filepath_or_buffer, kwds)\u001b[0m\n\u001b[0;32m    480\u001b[0m \u001b[1;33m\u001b[0m\u001b[0m\n\u001b[0;32m    481\u001b[0m     \u001b[1;31m# Create the parser.\u001b[0m\u001b[1;33m\u001b[0m\u001b[1;33m\u001b[0m\u001b[0m\n\u001b[1;32m--> 482\u001b[1;33m     \u001b[0mparser\u001b[0m \u001b[1;33m=\u001b[0m \u001b[0mTextFileReader\u001b[0m\u001b[1;33m(\u001b[0m\u001b[0mfilepath_or_buffer\u001b[0m\u001b[1;33m,\u001b[0m \u001b[1;33m**\u001b[0m\u001b[0mkwds\u001b[0m\u001b[1;33m)\u001b[0m\u001b[1;33m\u001b[0m\u001b[1;33m\u001b[0m\u001b[0m\n\u001b[0m\u001b[0;32m    483\u001b[0m \u001b[1;33m\u001b[0m\u001b[0m\n\u001b[0;32m    484\u001b[0m     \u001b[1;32mif\u001b[0m \u001b[0mchunksize\u001b[0m \u001b[1;32mor\u001b[0m \u001b[0miterator\u001b[0m\u001b[1;33m:\u001b[0m\u001b[1;33m\u001b[0m\u001b[1;33m\u001b[0m\u001b[0m\n",
      "\u001b[1;32mC:\\ProgramData\\Anaconda3\\lib\\site-packages\\pandas\\io\\parsers\\readers.py\u001b[0m in \u001b[0;36m__init__\u001b[1;34m(self, f, engine, **kwds)\u001b[0m\n\u001b[0;32m    809\u001b[0m             \u001b[0mself\u001b[0m\u001b[1;33m.\u001b[0m\u001b[0moptions\u001b[0m\u001b[1;33m[\u001b[0m\u001b[1;34m\"has_index_names\"\u001b[0m\u001b[1;33m]\u001b[0m \u001b[1;33m=\u001b[0m \u001b[0mkwds\u001b[0m\u001b[1;33m[\u001b[0m\u001b[1;34m\"has_index_names\"\u001b[0m\u001b[1;33m]\u001b[0m\u001b[1;33m\u001b[0m\u001b[1;33m\u001b[0m\u001b[0m\n\u001b[0;32m    810\u001b[0m \u001b[1;33m\u001b[0m\u001b[0m\n\u001b[1;32m--> 811\u001b[1;33m         \u001b[0mself\u001b[0m\u001b[1;33m.\u001b[0m\u001b[0m_engine\u001b[0m \u001b[1;33m=\u001b[0m \u001b[0mself\u001b[0m\u001b[1;33m.\u001b[0m\u001b[0m_make_engine\u001b[0m\u001b[1;33m(\u001b[0m\u001b[0mself\u001b[0m\u001b[1;33m.\u001b[0m\u001b[0mengine\u001b[0m\u001b[1;33m)\u001b[0m\u001b[1;33m\u001b[0m\u001b[1;33m\u001b[0m\u001b[0m\n\u001b[0m\u001b[0;32m    812\u001b[0m \u001b[1;33m\u001b[0m\u001b[0m\n\u001b[0;32m    813\u001b[0m     \u001b[1;32mdef\u001b[0m \u001b[0mclose\u001b[0m\u001b[1;33m(\u001b[0m\u001b[0mself\u001b[0m\u001b[1;33m)\u001b[0m\u001b[1;33m:\u001b[0m\u001b[1;33m\u001b[0m\u001b[1;33m\u001b[0m\u001b[0m\n",
      "\u001b[1;32mC:\\ProgramData\\Anaconda3\\lib\\site-packages\\pandas\\io\\parsers\\readers.py\u001b[0m in \u001b[0;36m_make_engine\u001b[1;34m(self, engine)\u001b[0m\n\u001b[0;32m   1038\u001b[0m             )\n\u001b[0;32m   1039\u001b[0m         \u001b[1;31m# error: Too many arguments for \"ParserBase\"\u001b[0m\u001b[1;33m\u001b[0m\u001b[1;33m\u001b[0m\u001b[0m\n\u001b[1;32m-> 1040\u001b[1;33m         \u001b[1;32mreturn\u001b[0m \u001b[0mmapping\u001b[0m\u001b[1;33m[\u001b[0m\u001b[0mengine\u001b[0m\u001b[1;33m]\u001b[0m\u001b[1;33m(\u001b[0m\u001b[0mself\u001b[0m\u001b[1;33m.\u001b[0m\u001b[0mf\u001b[0m\u001b[1;33m,\u001b[0m \u001b[1;33m**\u001b[0m\u001b[0mself\u001b[0m\u001b[1;33m.\u001b[0m\u001b[0moptions\u001b[0m\u001b[1;33m)\u001b[0m  \u001b[1;31m# type: ignore[call-arg]\u001b[0m\u001b[1;33m\u001b[0m\u001b[1;33m\u001b[0m\u001b[0m\n\u001b[0m\u001b[0;32m   1041\u001b[0m \u001b[1;33m\u001b[0m\u001b[0m\n\u001b[0;32m   1042\u001b[0m     \u001b[1;32mdef\u001b[0m \u001b[0m_failover_to_python\u001b[0m\u001b[1;33m(\u001b[0m\u001b[0mself\u001b[0m\u001b[1;33m)\u001b[0m\u001b[1;33m:\u001b[0m\u001b[1;33m\u001b[0m\u001b[1;33m\u001b[0m\u001b[0m\n",
      "\u001b[1;32mC:\\ProgramData\\Anaconda3\\lib\\site-packages\\pandas\\io\\parsers\\c_parser_wrapper.py\u001b[0m in \u001b[0;36m__init__\u001b[1;34m(self, src, **kwds)\u001b[0m\n\u001b[0;32m     49\u001b[0m \u001b[1;33m\u001b[0m\u001b[0m\n\u001b[0;32m     50\u001b[0m         \u001b[1;31m# open handles\u001b[0m\u001b[1;33m\u001b[0m\u001b[1;33m\u001b[0m\u001b[0m\n\u001b[1;32m---> 51\u001b[1;33m         \u001b[0mself\u001b[0m\u001b[1;33m.\u001b[0m\u001b[0m_open_handles\u001b[0m\u001b[1;33m(\u001b[0m\u001b[0msrc\u001b[0m\u001b[1;33m,\u001b[0m \u001b[0mkwds\u001b[0m\u001b[1;33m)\u001b[0m\u001b[1;33m\u001b[0m\u001b[1;33m\u001b[0m\u001b[0m\n\u001b[0m\u001b[0;32m     52\u001b[0m         \u001b[1;32massert\u001b[0m \u001b[0mself\u001b[0m\u001b[1;33m.\u001b[0m\u001b[0mhandles\u001b[0m \u001b[1;32mis\u001b[0m \u001b[1;32mnot\u001b[0m \u001b[1;32mNone\u001b[0m\u001b[1;33m\u001b[0m\u001b[1;33m\u001b[0m\u001b[0m\n\u001b[0;32m     53\u001b[0m \u001b[1;33m\u001b[0m\u001b[0m\n",
      "\u001b[1;32mC:\\ProgramData\\Anaconda3\\lib\\site-packages\\pandas\\io\\parsers\\base_parser.py\u001b[0m in \u001b[0;36m_open_handles\u001b[1;34m(self, src, kwds)\u001b[0m\n\u001b[0;32m    220\u001b[0m         \u001b[0mLet\u001b[0m \u001b[0mthe\u001b[0m \u001b[0mreaders\u001b[0m \u001b[0mopen\u001b[0m \u001b[0mIOHandles\u001b[0m \u001b[0mafter\u001b[0m \u001b[0mthey\u001b[0m \u001b[0mare\u001b[0m \u001b[0mdone\u001b[0m \u001b[1;32mwith\u001b[0m \u001b[0mtheir\u001b[0m \u001b[0mpotential\u001b[0m \u001b[0mraises\u001b[0m\u001b[1;33m.\u001b[0m\u001b[1;33m\u001b[0m\u001b[1;33m\u001b[0m\u001b[0m\n\u001b[0;32m    221\u001b[0m         \"\"\"\n\u001b[1;32m--> 222\u001b[1;33m         self.handles = get_handle(\n\u001b[0m\u001b[0;32m    223\u001b[0m             \u001b[0msrc\u001b[0m\u001b[1;33m,\u001b[0m\u001b[1;33m\u001b[0m\u001b[1;33m\u001b[0m\u001b[0m\n\u001b[0;32m    224\u001b[0m             \u001b[1;34m\"r\"\u001b[0m\u001b[1;33m,\u001b[0m\u001b[1;33m\u001b[0m\u001b[1;33m\u001b[0m\u001b[0m\n",
      "\u001b[1;32mC:\\ProgramData\\Anaconda3\\lib\\site-packages\\pandas\\io\\common.py\u001b[0m in \u001b[0;36mget_handle\u001b[1;34m(path_or_buf, mode, encoding, compression, memory_map, is_text, errors, storage_options)\u001b[0m\n\u001b[0;32m    700\u001b[0m         \u001b[1;32mif\u001b[0m \u001b[0mioargs\u001b[0m\u001b[1;33m.\u001b[0m\u001b[0mencoding\u001b[0m \u001b[1;32mand\u001b[0m \u001b[1;34m\"b\"\u001b[0m \u001b[1;32mnot\u001b[0m \u001b[1;32min\u001b[0m \u001b[0mioargs\u001b[0m\u001b[1;33m.\u001b[0m\u001b[0mmode\u001b[0m\u001b[1;33m:\u001b[0m\u001b[1;33m\u001b[0m\u001b[1;33m\u001b[0m\u001b[0m\n\u001b[0;32m    701\u001b[0m             \u001b[1;31m# Encoding\u001b[0m\u001b[1;33m\u001b[0m\u001b[1;33m\u001b[0m\u001b[0m\n\u001b[1;32m--> 702\u001b[1;33m             handle = open(\n\u001b[0m\u001b[0;32m    703\u001b[0m                 \u001b[0mhandle\u001b[0m\u001b[1;33m,\u001b[0m\u001b[1;33m\u001b[0m\u001b[1;33m\u001b[0m\u001b[0m\n\u001b[0;32m    704\u001b[0m                 \u001b[0mioargs\u001b[0m\u001b[1;33m.\u001b[0m\u001b[0mmode\u001b[0m\u001b[1;33m,\u001b[0m\u001b[1;33m\u001b[0m\u001b[1;33m\u001b[0m\u001b[0m\n",
      "\u001b[1;31mFileNotFoundError\u001b[0m: [Errno 2] No such file or directory: 'data/prepped_diabetes_data.csv'"
     ]
    }
   ],
   "source": [
    "df = pd.read_csv('data/prepped_diabetes_data.csv', index_col='Patient number')\n",
    "df"
   ]
  },
  {
   "cell_type": "markdown",
   "id": "b15a3ba6",
   "metadata": {},
   "source": [
    "Let's create features and targets again, as well as train and test sets."
   ]
  },
  {
   "cell_type": "code",
   "execution_count": null,
   "id": "087aaf8c",
   "metadata": {},
   "outputs": [],
   "source": [
    "features = df.drop('Diabetes', axis=1)\n",
    "targets = df['Diabetes']\n",
    "\n",
    "x_train, x_test, y_train, y_test = train_test_split(features, targets, stratify=targets, random_state=42)"
   ]
  },
  {
   "cell_type": "markdown",
   "id": "15e6ac63",
   "metadata": {},
   "source": [
    "Using the decision tree is similar to logistic regression in sklearn - we create the class, then use the fit method. It has the same score method (and other methods like predict)."
   ]
  },
  {
   "cell_type": "code",
   "execution_count": null,
   "id": "f8e40efd",
   "metadata": {},
   "outputs": [],
   "source": [
    "dt = DecisionTreeClassifier()\n",
    "dt.fit(x_train, y_train)\n",
    "\n",
    "print(dt.score(x_train, y_train))\n",
    "print(dt.score(x_test, y_test))"
   ]
  },
  {
   "cell_type": "markdown",
   "id": "251a75bd",
   "metadata": {},
   "source": [
    "We can see the accuracy on the train set is perfect - 100%, but the test score is much lower at 87.7%. This is a classic sign of overfitting. We can see how deep the tree is and plot it like so:"
   ]
  },
  {
   "cell_type": "code",
   "execution_count": null,
   "id": "e18bd2f8",
   "metadata": {},
   "outputs": [],
   "source": [
    "dt.get_depth()"
   ]
  },
  {
   "cell_type": "code",
   "execution_count": null,
   "id": "c8b4454b",
   "metadata": {},
   "outputs": [],
   "source": [
    "f = plt.figure(figsize=(15, 15))\n",
    "_ = plot_tree(dt, fontsize=8, feature_names=features.columns, filled=True)"
   ]
  },
  {
   "cell_type": "markdown",
   "id": "746fc579",
   "metadata": {},
   "source": [
    "The plot shows us the nodes of the tree - the root node is at the top and leaf nodes are at the bottom. The color is blue for mostly class 1 and orange for mostly class 0. We can see most of the leaf nodes end up with pure samples of one or the other class, and some of the leaves only have 1 sample in them.\n",
    "\n",
    "Seeing how deep the tree got and the number of samples in the leaf nodes is helpful. We can restrict the number of levels of splits with max_depth. You can try a few values below and see how it changes. Here, we settled on 2 since that results in nearly equal train/test scores and looks like it eliminates the overfitting."
   ]
  },
  {
   "cell_type": "code",
   "execution_count": null,
   "id": "developing-fighter",
   "metadata": {},
   "outputs": [],
   "source": [
    "dt = DecisionTreeClassifier(max_depth=2)\n",
    "dt.fit(x_train, y_train)\n",
    "\n",
    "print(dt.score(x_train, y_train))\n",
    "print(dt.score(x_test, y_test))"
   ]
  },
  {
   "cell_type": "code",
   "execution_count": null,
   "id": "5c91e3d8",
   "metadata": {},
   "outputs": [],
   "source": [
    "f = plt.figure(figsize=(8, 8))\n",
    "_ = plot_tree(dt, fontsize=10, feature_names=features.columns, filled=True)"
   ]
  },
  {
   "cell_type": "markdown",
   "id": "036ec7be",
   "metadata": {},
   "source": [
    "## Plotting decision trees"
   ]
  },
  {
   "cell_type": "markdown",
   "id": "a3c2cda0",
   "metadata": {},
   "source": [
    "As we already saw, we can plot decision trees with sklearn's `sklearn.tree.plot_tree` function. Most arguments are self-explanatory and also laid out in the documentation: https://scikit-learn.org/stable/modules/generated/sklearn.tree.plot_tree.html"
   ]
  },
  {
   "cell_type": "markdown",
   "id": "366ccfe4",
   "metadata": {},
   "source": [
    "# Random Forests"
   ]
  },
  {
   "cell_type": "markdown",
   "id": "110e6a7e",
   "metadata": {},
   "source": [
    "Random forests improve upon decision trees in a few ways:\n",
    "- the algo uses many decision trees\n",
    "- each decision tree is trained on a subset of data (bootstrapped or sampling with replacement from the original data)\n",
    "- each DT uses a subset of features at each split\n",
    "\n",
    "This can simultaneously reduce the bias and variance of the overall algorithm compared with decision trees (sometimes). We saw how easily decision trees can overfit to the data (high variance), so this is a good improvement. We can use this with sklearn like so:"
   ]
  },
  {
   "cell_type": "code",
   "execution_count": null,
   "id": "9e854be5",
   "metadata": {},
   "outputs": [],
   "source": [
    "from sklearn.ensemble import RandomForestClassifier\n",
    "\n",
    "rfc = RandomForestClassifier(max_depth=5, random_state=42)\n",
    "rfc.fit(x_train, y_train)\n",
    "\n",
    "print(rfc.score(x_train, y_train))\n",
    "print(rfc.score(x_test, y_test))"
   ]
  },
  {
   "cell_type": "markdown",
   "id": "1738bf61",
   "metadata": {},
   "source": [
    "Oops, looks like we are still overfitting. We can reduce the max depth a bit more to improve this. Try some different values and see what happens."
   ]
  },
  {
   "cell_type": "code",
   "execution_count": null,
   "id": "93b15b44",
   "metadata": {},
   "outputs": [],
   "source": [
    "from sklearn.ensemble import RandomForestClassifier\n",
    "\n",
    "rfc = RandomForestClassifier(max_depth=2, random_state=42)\n",
    "rfc.fit(x_train, y_train)\n",
    "\n",
    "print(rfc.score(x_train, y_train))\n",
    "print(rfc.score(x_test, y_test))"
   ]
  },
  {
   "cell_type": "markdown",
   "id": "8c3c3462",
   "metadata": {},
   "source": [
    "It looks like even with a low max depth, the random forest is still not outperforming the decision tree like we might have guessed. We can tune some other hyperparameters, like max_features. The default for this is the square root of the number of features, which is around 4. We can actually improve our performance a bit by tuning the max features and it looks like 7 is a good value:"
   ]
  },
  {
   "cell_type": "code",
   "execution_count": null,
   "id": "3534dccd",
   "metadata": {},
   "outputs": [],
   "source": [
    "import math\n",
    "\n",
    "math.sqrt(x_train.shape[1])"
   ]
  },
  {
   "cell_type": "code",
   "execution_count": null,
   "id": "4aad8d0e",
   "metadata": {},
   "outputs": [],
   "source": [
    "from sklearn.ensemble import RandomForestClassifier\n",
    "\n",
    "rfc = RandomForestClassifier(max_depth=2, max_features=7, random_state=42)\n",
    "rfc.fit(x_train, y_train)\n",
    "\n",
    "print(rfc.score(x_train, y_train))\n",
    "print(rfc.score(x_test, y_test))"
   ]
  },
  {
   "cell_type": "markdown",
   "id": "925c7c23",
   "metadata": {},
   "source": [
    "To automatically tune these hyperparameters like max_features and max_depth, we can use hyperparameter search like [GridSearchCV](https://scikit-learn.org/stable/modules/generated/sklearn.model_selection.GridSearchCV.html) or [Bayesian search](https://scikit-optimize.github.io/stable/modules/generated/skopt.BayesSearchCV.html). See the advanced section of week 3's FTE for an example of Bayesian search, or the sklearn documentation for examples of gridsearch."
   ]
  },
  {
   "cell_type": "markdown",
   "id": "1056941d",
   "metadata": {},
   "source": [
    "# Feature selection"
   ]
  },
  {
   "attachments": {
    "image.png": {
     "image/png": "[encoded data removed]"
    }
   },
   "cell_type": "markdown",
   "id": "3766bc77",
   "metadata": {},
   "source": [
    "Feature selection is an important part of machine learning. If we don't have enough features, our ML algorithm may not perform well, but if we have too many features, the same thing can happen. The is a concept in machine learning and data science called \"[the curse of dimensionality](https://en.wikipedia.org/wiki/Curse_of_dimensionality)\". This states that as we have an increasing number of features, we need an exponentially increasing number of samples to cover the full sample space. One analogy is searching for a penny on a 100 meter line - we search down the line and find it eventually. If we change the line into a box (100m x 100m), then we have a much larger area to search. If we change this into a cube (100m ^3) then we have an exponentially increasing sample space to search. These dimensions are like our features.\n",
    "\n",
    "A few ways to solve the curse of dimensionality problem are to get more data or remove some of our features. We can also reduce dimensions with dimensionality reduction techniques like principle component analysis (PCA) or singular value decomposition (SVD).\n",
    "\n",
    "Here, we will focus on removing some features. The first way we'll look at are univariate statistics. These are stats between features and the target, such as correlation.\n",
    "\n",
    "Second, we'll look at using feature importances from machine learning methods.\n",
    "\n",
    "In the advanced section, we'll look at other methods with ML algos.\n",
    "\n",
    "Let's start with the univariate stats method with Pearson correlation. \n",
    "\n",
    "![image.png](attachment:image.png)"
   ]
  },
  {
   "cell_type": "code",
   "execution_count": null,
   "id": "ac7dcec1",
   "metadata": {},
   "outputs": [],
   "source": [
    "import seaborn as sns"
   ]
  },
  {
   "cell_type": "code",
   "execution_count": null,
   "id": "1b90b7a1",
   "metadata": {},
   "outputs": [],
   "source": [
    "f = plt.figure(figsize=(10, 10))\n",
    "sns.heatmap(df.corr(), annot=True)"
   ]
  },
  {
   "cell_type": "markdown",
   "id": "ede504c1",
   "metadata": {},
   "source": [
    "This is called a correlogram, and plots the correlation of our dataframe matrix. By default, it uses the Pearson correlation, but there are some other correlations such as Kendall's Tau and Spearman. The Phik correlation has also been mentioned in week 1, and is in the advanced section here.\n",
    "\n",
    "The `annot=True` argument shows the values in each square, making it a little easier to read and interpret.\n",
    "\n",
    "Values close to 0 have no correlation, while +1 means perfect positive linear correlation and -1 means perfect inverse correlation (one variable goes up while the other goes down).\n",
    "\n",
    "We can see from the correlogram that diastolic BP, height, and gender don't seem to be linear correlated to the target. However, there can be non-linear relationships too."
   ]
  },
  {
   "cell_type": "markdown",
   "id": "e89be6ee",
   "metadata": {},
   "source": [
    "## Feature importances"
   ]
  },
  {
   "cell_type": "markdown",
   "id": "99a6737f",
   "metadata": {},
   "source": [
    "For non-linear relationships between the feature and target, we can use feature importances from tree-based methods like decision trees and random forests. This method calculates the improvement in the Gini index or Entropy for each feature and ranks the features in order of which ones separate the classes best (see the slide deck for the week and/or [this article](https://quantdare.com/decision-trees-gini-vs-entropy/) for more on Gini/Entropy).\n",
    "\n",
    "We can plot feature importances the hard way (such as [this](https://scikit-learn.org/stable/auto_examples/ensemble/plot_forest_importances.html)), or we can use a [pre-built function](https://scikit-plot.readthedocs.io/en/stable/estimators.html#scikitplot.estimators.plot_feature_importances) from scikit-plot. First, you will need to install sckit-plot with `conda install -c conda-forge scikit-plot -y` or `pip install scikit-plot`."
   ]
  },
  {
   "cell_type": "code",
   "execution_count": null,
   "id": "48358771",
   "metadata": {},
   "outputs": [],
   "source": [
    "from scikitplot.estimators import plot_feature_importances\n",
    "plot_feature_importances(rfc, feature_names=features.columns, x_tick_rotation=90)"
   ]
  },
  {
   "cell_type": "markdown",
   "id": "7b3cb6d7",
   "metadata": {},
   "source": [
    "We can see here that Glucose seems to be the most important variable, with a sharp dropoff in importance after that. We can remove some of the less-important features and see how that changes performance and the feature importance."
   ]
  },
  {
   "cell_type": "code",
   "execution_count": null,
   "id": "cd1a738f",
   "metadata": {},
   "outputs": [],
   "source": [
    "new_features = features.drop(['waist_hip_ratio', 'Diastolic BP', 'Weight', 'Height', 'Gender'], axis=1)\n",
    "\n",
    "x_train, x_test, y_train, y_test = train_test_split(new_features, targets, stratify=targets, random_state=42)"
   ]
  },
  {
   "cell_type": "code",
   "execution_count": null,
   "id": "7fb7d2d7",
   "metadata": {},
   "outputs": [],
   "source": [
    "rfc = RandomForestClassifier(max_depth=2, max_features=7, random_state=42)\n",
    "rfc.fit(x_train, y_train)\n",
    "\n",
    "print(rfc.score(x_train, y_train))\n",
    "print(rfc.score(x_test, y_test))"
   ]
  },
  {
   "cell_type": "code",
   "execution_count": null,
   "id": "12536a8e",
   "metadata": {},
   "outputs": [],
   "source": [
    "plot_feature_importances(rfc, feature_names=new_features.columns, x_tick_rotation=90)"
   ]
  },
  {
   "cell_type": "markdown",
   "id": "8c72b3e0",
   "metadata": {},
   "source": [
    "It doesn't look like our performance changed much at all, but our feature importances did. However, one thing is clear - the glucose measurement seems to be very important for predicting diabetes risk."
   ]
  },
  {
   "cell_type": "markdown",
   "id": "fae137d0",
   "metadata": {},
   "source": [
    "These feature importance methods are good as EDA as well. If we have a target variable or want to see the relationship between variables that may be non-linear, decision tree or random forest feature importances are a great option."
   ]
  },
  {
   "cell_type": "markdown",
   "id": "74c2dd90",
   "metadata": {
    "heading_collapsed": true
   },
   "source": [
    "# (Optional) Advanced Section"
   ]
  },
  {
   "cell_type": "markdown",
   "id": "e6961d5f",
   "metadata": {
    "hidden": true
   },
   "source": [
    "- H2O random forests and feature importances\n",
    "- forward/backward feature selection\n",
    "- recursive feature selection\n",
    "- phik correlations\n",
    "- other univariate statistics\n",
    "\n",
    "We will demo H2O and phik here. For other feature selection methods, the [sklearn documentation](https://scikit-learn.org/stable/modules/feature_selection.html) has examples."
   ]
  },
  {
   "cell_type": "markdown",
   "id": "49f38720",
   "metadata": {
    "hidden": true
   },
   "source": [
    "## H2O random forests\n",
    "H2O is another machine learning library available in Python and R. It can scale up to clusters for big data. Luckly, it's easily installed with conda: `conda install -c conda-forge h2o-py -y`. When installing with pip, you also need to install a particular version of Java and potentially some other configuration issue. Conda makes it easy.\n",
    "\n",
    "Once we have it installed, we import it and initialize it. The initialization starts up the backend of H2O (which is running on Java)."
   ]
  },
  {
   "cell_type": "code",
   "execution_count": null,
   "id": "beb08bc9",
   "metadata": {
    "hidden": true
   },
   "outputs": [],
   "source": [
    "import h2o\n",
    "\n",
    "h2o.init()"
   ]
  },
  {
   "cell_type": "markdown",
   "id": "bc5cf150",
   "metadata": {
    "hidden": true
   },
   "source": [
    "H2O has some impressive advantages over sklearn:\n",
    "- it can handle missing values and categorical values without modification (sklearn needs all numeric values and no missing values)\n",
    "- it can scale to big data easily (although `sklearn` can scale with the `dask` package)\n",
    "- it has some other conveniences not built-in to sklearn, like plotting feature importances\n",
    "- it has automatic ML capabilities\n",
    "\n",
    "However, the H2O Python documentation is not nearly as good as sklearn.\n",
    "\n",
    "To use H2O, we have to use a different data storage - an h2oframe. We will load our original, unmodified data here:"
   ]
  },
  {
   "cell_type": "code",
   "execution_count": null,
   "id": "d34476f2",
   "metadata": {
    "hidden": true
   },
   "outputs": [],
   "source": [
    "hf = h2o.H2OFrame(pd.read_excel('data/diabetes_data.xlsx', index_col='Patient number'))"
   ]
  },
  {
   "cell_type": "code",
   "execution_count": null,
   "id": "7c01568f",
   "metadata": {
    "hidden": true
   },
   "outputs": [],
   "source": [
    "hf"
   ]
  },
  {
   "cell_type": "code",
   "execution_count": null,
   "id": "91cf9a9c",
   "metadata": {
    "hidden": true
   },
   "outputs": [],
   "source": [
    "hf.types"
   ]
  },
  {
   "cell_type": "markdown",
   "id": "ac04914a",
   "metadata": {
    "hidden": true
   },
   "source": [
    "Then, we can use H2O to fit a random forest. There are examples in the documentation on how to do this: https://docs.h2o.ai/h2o/latest-stable/h2o-docs/data-science/drf.html\n",
    "\n",
    "as well as an example for tuning hyperparameters: http://docs.h2o.ai/h2o/latest-stable/h2o-docs/grid-search.html"
   ]
  },
  {
   "cell_type": "code",
   "execution_count": null,
   "id": "e0d75b6b",
   "metadata": {
    "hidden": true
   },
   "outputs": [],
   "source": [
    "from h2o.estimators import H2ORandomForestEstimator\n",
    "\n",
    "predictors = hf.columns\n",
    "predictors.remove('Diabetes')\n",
    "response = 'Diabetes'\n",
    "\n",
    "# Split the dataset into a train and valid set:\n",
    "train, valid = hf.split_frame(ratios=[.8], seed=1234, )\n",
    "\n",
    "# Build and train the model:\n",
    "drf = H2ORandomForestEstimator(ntrees=50,\n",
    "                                    max_depth=2,\n",
    "                                    calibrate_model=True,\n",
    "                                    calibration_frame=valid)\n",
    "drf.train(x=predictors,\n",
    "           y=response,\n",
    "           training_frame=train,\n",
    "           validation_frame=valid)\n",
    "\n",
    "# Eval performance:\n",
    "perf = drf.model_performance(valid=valid)"
   ]
  },
  {
   "cell_type": "markdown",
   "id": "07f23894",
   "metadata": {
    "hidden": true
   },
   "source": [
    "The performance metrics are easy to access:"
   ]
  },
  {
   "cell_type": "code",
   "execution_count": null,
   "id": "74a2ab06",
   "metadata": {
    "hidden": true
   },
   "outputs": [],
   "source": [
    "perf"
   ]
  },
  {
   "cell_type": "markdown",
   "id": "39c27071",
   "metadata": {
    "hidden": true
   },
   "source": [
    "Plotting the variable (feature) importance is a built-in function. We need to set the num_of_features to our actual number of features to show them all if it's greater than 10."
   ]
  },
  {
   "cell_type": "code",
   "execution_count": null,
   "id": "1ff31ace",
   "metadata": {
    "hidden": true
   },
   "outputs": [],
   "source": [
    "drf.varimp_plot(num_of_features=features.shape[1])"
   ]
  },
  {
   "cell_type": "markdown",
   "id": "378aa4cd",
   "metadata": {
    "hidden": true
   },
   "source": [
    "## Phi-k correlations"
   ]
  },
  {
   "cell_type": "markdown",
   "id": "9b70b96d",
   "metadata": {
    "hidden": true
   },
   "source": [
    "The phi-k correlation is a newer one (invented around 2018), and can be read more about in the [docs](https://phik.readthedocs.io/en/latest/) and their publication linked there. Essentially, it bins numeric data into categories and then uses the chi-2 correlation. We can install it with `conda install -c conda-forge phik -y` then import it. Then we have the `phik_matrix()` method for dataframes available:"
   ]
  },
  {
   "cell_type": "code",
   "execution_count": null,
   "id": "fe1a2bee",
   "metadata": {
    "hidden": true
   },
   "outputs": [],
   "source": [
    "import phik\n",
    "\n",
    "df.phik_matrix()"
   ]
  },
  {
   "cell_type": "markdown",
   "id": "28794fc7",
   "metadata": {
    "hidden": true
   },
   "source": [
    "We can also create a correlogram:"
   ]
  },
  {
   "cell_type": "code",
   "execution_count": null,
   "id": "c28c3eb9",
   "metadata": {
    "hidden": true
   },
   "outputs": [],
   "source": [
    "sns.heatmap(df.phik_matrix())"
   ]
  },
  {
   "cell_type": "markdown",
   "id": "5763819f",
   "metadata": {
    "hidden": true
   },
   "source": [
    "The values range from 0 (no correlation) to 1 (perfect correlation), but we don't get information on the direction of the correlation. We do get correlation measurements for non-linear relationships, though. Here, we can see that gender and height seem to have the lowest correlation strengths (near 0), which agrees with the random forest importances."
   ]
  }
 ],
 "metadata": {
  "kernelspec": {
   "display_name": "Python 3 (ipykernel)",
   "language": "python",
   "name": "python3"
  },
  "language_info": {
   "codemirror_mode": {
    "name": "ipython",
    "version": 3
   },
   "file_extension": ".py",
   "mimetype": "text/x-python",
   "name": "python",
   "nbconvert_exporter": "python",
   "pygments_lexer": "ipython3",
   "version": "3.9.7"
  }
 },
 "nbformat": 4,
 "nbformat_minor": 5
}
