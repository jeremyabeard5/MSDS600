{
 "cells": [
  {
   "cell_type": "markdown",
   "id": "73fa2b84",
   "metadata": {},
   "source": [
    "# Week 7 Assignment"
   ]
  },
  {
   "cell_type": "markdown",
   "id": "f48ee1c5",
   "metadata": {},
   "source": [
    "This week we are collecting some data from Reddit and doing some basic EDA on it. You should:\n",
    "\n",
    "- create your Reddit account and API keys\n",
    "- collect data from a subreddit of your choice\n",
    "    - at a minimum, collect the posts from the subreddit; optionally collect comments on the posts\n",
    "- save the data to a SQLite3 database\n",
    "- perform some basic EDA on the data\n",
    "    - create at least 2 plots\n",
    "- write a short analysis at the end describing the process and results\n",
    "- turn in the Jupyter Notebook and PDF printout or export to the week 7 dropbox\n",
    "\n",
    "***Optional* advanced section**\n",
    "- Practice SQL queries and select a subsection of the posts you collected\n",
    "- Modify your code to collect data beyond the 1000 item limit\n",
    "- Collect comments from the posts for analysis next week and do some EDA on the comments (e.g. who is the top commenter, which commenters have the most up and down votes or most controversial posts, etc)\n",
    "- examine n-grams ([bigrams](https://stackoverflow.com/a/37651184/4549682), trigrams) or [collocations](https://www.geeksforgeeks.org/nlp-word-collocations/)\n",
    "\n",
    "Note: There is no solution file for this week."
   ]
  },
  {
   "cell_type": "code",
   "execution_count": 1,
   "id": "7c87d583",
   "metadata": {},
   "outputs": [],
   "source": [
    "#create your Reddit account and API keys\n",
    "#Done!!\n",
    "#collect data from a subreddit of your choice\n",
    "##at a minimum, collect the posts from the subreddit; optionally collect comments on the posts\n",
    "import praw\n",
    "import pandas as pd\n",
    "import credentials #this has been modified to include my info"
   ]
  },
  {
   "cell_type": "code",
   "execution_count": 2,
   "id": "f1387e66",
   "metadata": {},
   "outputs": [
    {
     "name": "stdout",
     "output_type": "stream",
     "text": [
      "bytiyulUjxBeeTbH1UcR4g\n",
      "IxWBsEZ2a49N2z95654Gl2YAEzlDQg\n",
      "jbmsds600\n"
     ]
    }
   ],
   "source": [
    "#collect data from a subreddit of your choice\n",
    "##at a minimum, collect the posts from the subreddit; optionally collect comments on the posts\n",
    "reddit = praw.Reddit(client_id=credentials.client_id,\n",
    "                     client_secret=credentials.client_secret,\n",
    "                     user_agent=credentials.user_agent)\n",
    "print(credentials.client_id)\n",
    "print(credentials.client_secret)\n",
    "print(credentials.user_agent)"
   ]
  },
  {
   "cell_type": "code",
   "execution_count": 3,
   "id": "a805c71c",
   "metadata": {},
   "outputs": [
    {
     "data": {
      "text/plain": [
       "[Submission(id='n374wo'),\n",
       " Submission(id='t1ar7s'),\n",
       " Submission(id='t1biz1'),\n",
       " Submission(id='t11bh2'),\n",
       " Submission(id='t178yy'),\n",
       " Submission(id='t17mx3'),\n",
       " Submission(id='t1h3xa'),\n",
       " Submission(id='t0s7f4'),\n",
       " Submission(id='t0qvex'),\n",
       " Submission(id='t19awg'),\n",
       " Submission(id='t0juql'),\n",
       " Submission(id='t0z0is'),\n",
       " Submission(id='t1bl2q'),\n",
       " Submission(id='t0h6wp'),\n",
       " Submission(id='t1jwab'),\n",
       " Submission(id='t1fhpq'),\n",
       " Submission(id='t1krv4'),\n",
       " Submission(id='t1d1bb'),\n",
       " Submission(id='t0uyqo'),\n",
       " Submission(id='t0u6jj')]"
      ]
     },
     "execution_count": 3,
     "metadata": {},
     "output_type": "execute_result"
    }
   ],
   "source": [
    "#collect data from a subreddit of your choice\n",
    "##at a minimum, collect the posts from the subreddit; optionally collect comments on the posts\n",
    "subreddit_01 = list(reddit.subreddit('DunderMifflin').hot(limit=20))\n",
    "subreddit_01"
   ]
  },
  {
   "cell_type": "code",
   "execution_count": 4,
   "id": "4ce0c7f8",
   "metadata": {},
   "outputs": [
    {
     "name": "stdout",
     "output_type": "stream",
     "text": [
      "[Reminder] DO NOT buy any products through Reddit comments 1650\n",
      "Damn Kelly is savage.. 20967\n",
      "Scott’s Tots IRL 😬 3316\n",
      "Why did gabe not say she's lying? He just let her have it 9235\n",
      "A dangerous game of hot and cold. 1339\n",
      "When Brent Forrester goes on Office Ladies and says the Mafia episode 'is considered a modern comedy classic'.... 403\n",
      "I love how aggressive Erin is to Kevin and Kevin looks so sad 96\n",
      "Prince Family Paper is harder to watch than Scott's Tots. This is the hill I will die on 3269\n",
      "He sings along almost every time it comes on. 3828\n",
      "r/DunderMiffilin \"hot takes\" Starter Pack: 169\n",
      "Is it just me or was this lady a terrible mother? 18499\n",
      "As well as \"Get out Skeleton-man\", Pam saying \"I think you're a witch\" and Nellie replying \"I think you're amazing\" gets me every time 654\n",
      "Fun Fact: This is A Word Nerd Joke! Explanation in Comments 82\n",
      "Michael’s laugh is so pure 😂😂 11181\n",
      "Channeled my inner Michael Scott 22\n",
      "Tough pill to swallow. 38\n",
      "My coworkers hate me thanks to the best rap duo ever! 16\n",
      "Trevor's tips on self defense 42\n",
      "Stanley, is that you? 750\n",
      "This scene doesn’t get enough credit. 814\n"
     ]
    }
   ],
   "source": [
    "#collect data from a subreddit of your choice\n",
    "##at a minimum, collect the posts from the subreddit; optionally collect comments on the posts\n",
    "for post in subreddit_01:\n",
    "    print(post.title, post.score)"
   ]
  },
  {
   "cell_type": "code",
   "execution_count": 5,
   "id": "5e83ffbd",
   "metadata": {},
   "outputs": [],
   "source": [
    "#collect data from a subreddit of your choice\n",
    "##at a minimum, collect the posts from the subreddit; optionally collect comments on the posts\n",
    "reddit_data = {'title': [],\n",
    "               'link': [], \n",
    "               'author': [],\n",
    "               'n_comments': [],\n",
    "               'score': [],\n",
    "               'text': []}\n",
    "\n",
    "subreddit_01_title = 'DunderMifflin'\n",
    "subreddit_01 = reddit.subreddit(subreddit_01_title).hot(limit=None)\n",
    "\n",
    "for post in list(subreddit_01):\n",
    "    reddit_data['title'].append(post.title)\n",
    "    reddit_data['link'].append(post.permalink)\n",
    "    if post.author is None:\n",
    "        reddit_data['author'].append('')\n",
    "    else:\n",
    "        reddit_data['author'].append(post.author.name)\n",
    "    \n",
    "    reddit_data['n_comments'].append(post.num_comments)\n",
    "    reddit_data['score'].append(post.score)\n",
    "    reddit_data['text'].append(post.selftext)"
   ]
  },
  {
   "cell_type": "code",
   "execution_count": 6,
   "id": "2c793928",
   "metadata": {},
   "outputs": [
    {
     "data": {
      "text/html": [
       "<div>\n",
       "<style scoped>\n",
       "    .dataframe tbody tr th:only-of-type {\n",
       "        vertical-align: middle;\n",
       "    }\n",
       "\n",
       "    .dataframe tbody tr th {\n",
       "        vertical-align: top;\n",
       "    }\n",
       "\n",
       "    .dataframe thead th {\n",
       "        text-align: right;\n",
       "    }\n",
       "</style>\n",
       "<table border=\"1\" class=\"dataframe\">\n",
       "  <thead>\n",
       "    <tr style=\"text-align: right;\">\n",
       "      <th></th>\n",
       "      <th>title</th>\n",
       "      <th>link</th>\n",
       "      <th>author</th>\n",
       "      <th>n_comments</th>\n",
       "      <th>score</th>\n",
       "      <th>text</th>\n",
       "    </tr>\n",
       "  </thead>\n",
       "  <tbody>\n",
       "    <tr>\n",
       "      <th>0</th>\n",
       "      <td>[Reminder] DO NOT buy any products through Red...</td>\n",
       "      <td>/r/DunderMifflin/comments/n374wo/reminder_do_n...</td>\n",
       "      <td>lazenbooby</td>\n",
       "      <td>107</td>\n",
       "      <td>1649</td>\n",
       "      <td>This should be completely obvious and common s...</td>\n",
       "    </tr>\n",
       "    <tr>\n",
       "      <th>1</th>\n",
       "      <td>Damn Kelly is savage..</td>\n",
       "      <td>/r/DunderMifflin/comments/t1ar7s/damn_kelly_is...</td>\n",
       "      <td>Pristine_Fan2608</td>\n",
       "      <td>135</td>\n",
       "      <td>20960</td>\n",
       "      <td></td>\n",
       "    </tr>\n",
       "    <tr>\n",
       "      <th>2</th>\n",
       "      <td>Scott’s Tots IRL 😬</td>\n",
       "      <td>/r/DunderMifflin/comments/t1biz1/scotts_tots_irl/</td>\n",
       "      <td>PriorChampionship214</td>\n",
       "      <td>87</td>\n",
       "      <td>3317</td>\n",
       "      <td></td>\n",
       "    </tr>\n",
       "    <tr>\n",
       "      <th>3</th>\n",
       "      <td>Why did gabe not say she's lying? He just let ...</td>\n",
       "      <td>/r/DunderMifflin/comments/t11bh2/why_did_gabe_...</td>\n",
       "      <td>KuroCrack</td>\n",
       "      <td>466</td>\n",
       "      <td>9238</td>\n",
       "      <td></td>\n",
       "    </tr>\n",
       "    <tr>\n",
       "      <th>4</th>\n",
       "      <td>A dangerous game of hot and cold.</td>\n",
       "      <td>/r/DunderMifflin/comments/t178yy/a_dangerous_g...</td>\n",
       "      <td>Dupinoje</td>\n",
       "      <td>32</td>\n",
       "      <td>1338</td>\n",
       "      <td></td>\n",
       "    </tr>\n",
       "    <tr>\n",
       "      <th>...</th>\n",
       "      <td>...</td>\n",
       "      <td>...</td>\n",
       "      <td>...</td>\n",
       "      <td>...</td>\n",
       "      <td>...</td>\n",
       "      <td>...</td>\n",
       "    </tr>\n",
       "    <tr>\n",
       "      <th>874</th>\n",
       "      <td>Angela vibes</td>\n",
       "      <td>/r/DunderMifflin/comments/su0itv/angela_vibes/</td>\n",
       "      <td>LordFedoraWeed</td>\n",
       "      <td>50</td>\n",
       "      <td>197</td>\n",
       "      <td></td>\n",
       "    </tr>\n",
       "    <tr>\n",
       "      <th>875</th>\n",
       "      <td>The Pam and Toby wedding photos mentioned on t...</td>\n",
       "      <td>/r/DunderMifflin/comments/sty8wy/the_pam_and_t...</td>\n",
       "      <td>Phillies059</td>\n",
       "      <td>15</td>\n",
       "      <td>258</td>\n",
       "      <td></td>\n",
       "    </tr>\n",
       "    <tr>\n",
       "      <th>876</th>\n",
       "      <td>Jenna just posted Jim and Pam’s wedding vows t...</td>\n",
       "      <td>/r/DunderMifflin/comments/suc1w7/jenna_just_po...</td>\n",
       "      <td>JustAsHotAsJan</td>\n",
       "      <td>5</td>\n",
       "      <td>36</td>\n",
       "      <td></td>\n",
       "    </tr>\n",
       "    <tr>\n",
       "      <th>877</th>\n",
       "      <td>I guess Michael forgot to say goodbye to Hank</td>\n",
       "      <td>/r/DunderMifflin/comments/subjad/i_guess_micha...</td>\n",
       "      <td>TStark84</td>\n",
       "      <td>8</td>\n",
       "      <td>39</td>\n",
       "      <td></td>\n",
       "    </tr>\n",
       "    <tr>\n",
       "      <th>878</th>\n",
       "      <td>Murder mystery episode.</td>\n",
       "      <td>/r/DunderMifflin/comments/sug4mc/murder_myster...</td>\n",
       "      <td>DoctorAbject9135</td>\n",
       "      <td>6</td>\n",
       "      <td>17</td>\n",
       "      <td>This is one of my favorite episodes. When Osca...</td>\n",
       "    </tr>\n",
       "  </tbody>\n",
       "</table>\n",
       "<p>879 rows × 6 columns</p>\n",
       "</div>"
      ],
      "text/plain": [
       "                                                 title  \\\n",
       "0    [Reminder] DO NOT buy any products through Red...   \n",
       "1                               Damn Kelly is savage..   \n",
       "2                                   Scott’s Tots IRL 😬   \n",
       "3    Why did gabe not say she's lying? He just let ...   \n",
       "4                    A dangerous game of hot and cold.   \n",
       "..                                                 ...   \n",
       "874                                       Angela vibes   \n",
       "875  The Pam and Toby wedding photos mentioned on t...   \n",
       "876  Jenna just posted Jim and Pam’s wedding vows t...   \n",
       "877      I guess Michael forgot to say goodbye to Hank   \n",
       "878                            Murder mystery episode.   \n",
       "\n",
       "                                                  link                author  \\\n",
       "0    /r/DunderMifflin/comments/n374wo/reminder_do_n...            lazenbooby   \n",
       "1    /r/DunderMifflin/comments/t1ar7s/damn_kelly_is...      Pristine_Fan2608   \n",
       "2    /r/DunderMifflin/comments/t1biz1/scotts_tots_irl/  PriorChampionship214   \n",
       "3    /r/DunderMifflin/comments/t11bh2/why_did_gabe_...             KuroCrack   \n",
       "4    /r/DunderMifflin/comments/t178yy/a_dangerous_g...              Dupinoje   \n",
       "..                                                 ...                   ...   \n",
       "874     /r/DunderMifflin/comments/su0itv/angela_vibes/        LordFedoraWeed   \n",
       "875  /r/DunderMifflin/comments/sty8wy/the_pam_and_t...           Phillies059   \n",
       "876  /r/DunderMifflin/comments/suc1w7/jenna_just_po...        JustAsHotAsJan   \n",
       "877  /r/DunderMifflin/comments/subjad/i_guess_micha...              TStark84   \n",
       "878  /r/DunderMifflin/comments/sug4mc/murder_myster...      DoctorAbject9135   \n",
       "\n",
       "     n_comments  score                                               text  \n",
       "0           107   1649  This should be completely obvious and common s...  \n",
       "1           135  20960                                                     \n",
       "2            87   3317                                                     \n",
       "3           466   9238                                                     \n",
       "4            32   1338                                                     \n",
       "..          ...    ...                                                ...  \n",
       "874          50    197                                                     \n",
       "875          15    258                                                     \n",
       "876           5     36                                                     \n",
       "877           8     39                                                     \n",
       "878           6     17  This is one of my favorite episodes. When Osca...  \n",
       "\n",
       "[879 rows x 6 columns]"
      ]
     },
     "execution_count": 6,
     "metadata": {},
     "output_type": "execute_result"
    }
   ],
   "source": [
    "#collect data from a subreddit of your choice\n",
    "##at a minimum, collect the posts from the subreddit; optionally collect comments on the posts\n",
    "df_01 = pd.DataFrame(reddit_data)\n",
    "df_01"
   ]
  },
  {
   "cell_type": "code",
   "execution_count": 7,
   "id": "307a01e6",
   "metadata": {},
   "outputs": [
    {
     "data": {
      "text/plain": [
       "879"
      ]
     },
     "execution_count": 7,
     "metadata": {},
     "output_type": "execute_result"
    }
   ],
   "source": [
    "#save the data to a SQLite3 database\n",
    "import sqlite3\n",
    "con = sqlite3.connect(\"sql/subreddit_01.sqlite\")\n",
    "df_01.to_sql('posts', con, if_exists='replace', index=False)"
   ]
  },
  {
   "cell_type": "code",
   "execution_count": 8,
   "id": "4f90b5ea",
   "metadata": {},
   "outputs": [
    {
     "data": {
      "text/html": [
       "<div>\n",
       "<style scoped>\n",
       "    .dataframe tbody tr th:only-of-type {\n",
       "        vertical-align: middle;\n",
       "    }\n",
       "\n",
       "    .dataframe tbody tr th {\n",
       "        vertical-align: top;\n",
       "    }\n",
       "\n",
       "    .dataframe thead th {\n",
       "        text-align: right;\n",
       "    }\n",
       "</style>\n",
       "<table border=\"1\" class=\"dataframe\">\n",
       "  <thead>\n",
       "    <tr style=\"text-align: right;\">\n",
       "      <th></th>\n",
       "      <th>title</th>\n",
       "      <th>link</th>\n",
       "      <th>author</th>\n",
       "      <th>n_comments</th>\n",
       "      <th>score</th>\n",
       "      <th>text</th>\n",
       "    </tr>\n",
       "  </thead>\n",
       "  <tbody>\n",
       "    <tr>\n",
       "      <th>0</th>\n",
       "      <td>[Reminder] DO NOT buy any products through Red...</td>\n",
       "      <td>/r/DunderMifflin/comments/n374wo/reminder_do_n...</td>\n",
       "      <td>lazenbooby</td>\n",
       "      <td>107</td>\n",
       "      <td>1649</td>\n",
       "      <td>This should be completely obvious and common s...</td>\n",
       "    </tr>\n",
       "    <tr>\n",
       "      <th>1</th>\n",
       "      <td>Damn Kelly is savage..</td>\n",
       "      <td>/r/DunderMifflin/comments/t1ar7s/damn_kelly_is...</td>\n",
       "      <td>Pristine_Fan2608</td>\n",
       "      <td>135</td>\n",
       "      <td>20960</td>\n",
       "      <td></td>\n",
       "    </tr>\n",
       "    <tr>\n",
       "      <th>2</th>\n",
       "      <td>Scott’s Tots IRL 😬</td>\n",
       "      <td>/r/DunderMifflin/comments/t1biz1/scotts_tots_irl/</td>\n",
       "      <td>PriorChampionship214</td>\n",
       "      <td>87</td>\n",
       "      <td>3317</td>\n",
       "      <td></td>\n",
       "    </tr>\n",
       "    <tr>\n",
       "      <th>3</th>\n",
       "      <td>Why did gabe not say she's lying? He just let ...</td>\n",
       "      <td>/r/DunderMifflin/comments/t11bh2/why_did_gabe_...</td>\n",
       "      <td>KuroCrack</td>\n",
       "      <td>466</td>\n",
       "      <td>9238</td>\n",
       "      <td></td>\n",
       "    </tr>\n",
       "    <tr>\n",
       "      <th>4</th>\n",
       "      <td>A dangerous game of hot and cold.</td>\n",
       "      <td>/r/DunderMifflin/comments/t178yy/a_dangerous_g...</td>\n",
       "      <td>Dupinoje</td>\n",
       "      <td>32</td>\n",
       "      <td>1338</td>\n",
       "      <td></td>\n",
       "    </tr>\n",
       "    <tr>\n",
       "      <th>...</th>\n",
       "      <td>...</td>\n",
       "      <td>...</td>\n",
       "      <td>...</td>\n",
       "      <td>...</td>\n",
       "      <td>...</td>\n",
       "      <td>...</td>\n",
       "    </tr>\n",
       "    <tr>\n",
       "      <th>874</th>\n",
       "      <td>Angela vibes</td>\n",
       "      <td>/r/DunderMifflin/comments/su0itv/angela_vibes/</td>\n",
       "      <td>LordFedoraWeed</td>\n",
       "      <td>50</td>\n",
       "      <td>197</td>\n",
       "      <td></td>\n",
       "    </tr>\n",
       "    <tr>\n",
       "      <th>875</th>\n",
       "      <td>The Pam and Toby wedding photos mentioned on t...</td>\n",
       "      <td>/r/DunderMifflin/comments/sty8wy/the_pam_and_t...</td>\n",
       "      <td>Phillies059</td>\n",
       "      <td>15</td>\n",
       "      <td>258</td>\n",
       "      <td></td>\n",
       "    </tr>\n",
       "    <tr>\n",
       "      <th>876</th>\n",
       "      <td>Jenna just posted Jim and Pam’s wedding vows t...</td>\n",
       "      <td>/r/DunderMifflin/comments/suc1w7/jenna_just_po...</td>\n",
       "      <td>JustAsHotAsJan</td>\n",
       "      <td>5</td>\n",
       "      <td>36</td>\n",
       "      <td></td>\n",
       "    </tr>\n",
       "    <tr>\n",
       "      <th>877</th>\n",
       "      <td>I guess Michael forgot to say goodbye to Hank</td>\n",
       "      <td>/r/DunderMifflin/comments/subjad/i_guess_micha...</td>\n",
       "      <td>TStark84</td>\n",
       "      <td>8</td>\n",
       "      <td>39</td>\n",
       "      <td></td>\n",
       "    </tr>\n",
       "    <tr>\n",
       "      <th>878</th>\n",
       "      <td>Murder mystery episode.</td>\n",
       "      <td>/r/DunderMifflin/comments/sug4mc/murder_myster...</td>\n",
       "      <td>DoctorAbject9135</td>\n",
       "      <td>6</td>\n",
       "      <td>17</td>\n",
       "      <td>This is one of my favorite episodes. When Osca...</td>\n",
       "    </tr>\n",
       "  </tbody>\n",
       "</table>\n",
       "<p>879 rows × 6 columns</p>\n",
       "</div>"
      ],
      "text/plain": [
       "                                                 title  \\\n",
       "0    [Reminder] DO NOT buy any products through Red...   \n",
       "1                               Damn Kelly is savage..   \n",
       "2                                   Scott’s Tots IRL 😬   \n",
       "3    Why did gabe not say she's lying? He just let ...   \n",
       "4                    A dangerous game of hot and cold.   \n",
       "..                                                 ...   \n",
       "874                                       Angela vibes   \n",
       "875  The Pam and Toby wedding photos mentioned on t...   \n",
       "876  Jenna just posted Jim and Pam’s wedding vows t...   \n",
       "877      I guess Michael forgot to say goodbye to Hank   \n",
       "878                            Murder mystery episode.   \n",
       "\n",
       "                                                  link                author  \\\n",
       "0    /r/DunderMifflin/comments/n374wo/reminder_do_n...            lazenbooby   \n",
       "1    /r/DunderMifflin/comments/t1ar7s/damn_kelly_is...      Pristine_Fan2608   \n",
       "2    /r/DunderMifflin/comments/t1biz1/scotts_tots_irl/  PriorChampionship214   \n",
       "3    /r/DunderMifflin/comments/t11bh2/why_did_gabe_...             KuroCrack   \n",
       "4    /r/DunderMifflin/comments/t178yy/a_dangerous_g...              Dupinoje   \n",
       "..                                                 ...                   ...   \n",
       "874     /r/DunderMifflin/comments/su0itv/angela_vibes/        LordFedoraWeed   \n",
       "875  /r/DunderMifflin/comments/sty8wy/the_pam_and_t...           Phillies059   \n",
       "876  /r/DunderMifflin/comments/suc1w7/jenna_just_po...        JustAsHotAsJan   \n",
       "877  /r/DunderMifflin/comments/subjad/i_guess_micha...              TStark84   \n",
       "878  /r/DunderMifflin/comments/sug4mc/murder_myster...      DoctorAbject9135   \n",
       "\n",
       "     n_comments  score                                               text  \n",
       "0           107   1649  This should be completely obvious and common s...  \n",
       "1           135  20960                                                     \n",
       "2            87   3317                                                     \n",
       "3           466   9238                                                     \n",
       "4            32   1338                                                     \n",
       "..          ...    ...                                                ...  \n",
       "874          50    197                                                     \n",
       "875          15    258                                                     \n",
       "876           5     36                                                     \n",
       "877           8     39                                                     \n",
       "878           6     17  This is one of my favorite episodes. When Osca...  \n",
       "\n",
       "[879 rows x 6 columns]"
      ]
     },
     "execution_count": 8,
     "metadata": {},
     "output_type": "execute_result"
    }
   ],
   "source": [
    "df_01_check = pd.read_sql_query('SELECT * FROM posts;', con)\n",
    "con.close()\n",
    "df_01_check"
   ]
  },
  {
   "cell_type": "code",
   "execution_count": 9,
   "id": "95a8408e",
   "metadata": {},
   "outputs": [
    {
     "data": {
      "text/plain": [
       "<AxesSubplot:title={'center':'Scores'}, ylabel='Frequency'>"
      ]
     },
     "execution_count": 9,
     "metadata": {},
     "output_type": "execute_result"
    },
    {
     "data": {
      "image/png": "[encoded data removed]",
      "text/plain": [
       "<Figure size 432x288 with 1 Axes>"
      ]
     },
     "metadata": {
      "needs_background": "light"
     },
     "output_type": "display_data"
    }
   ],
   "source": [
    "#perform some basic EDA on the data\n",
    "df_01['score'].plot.hist(bins=10, title='Scores', xlabel='Score')\n",
    "##create at least 2 plots"
   ]
  },
  {
   "cell_type": "code",
   "execution_count": 10,
   "id": "d64f20e5",
   "metadata": {},
   "outputs": [
    {
     "data": {
      "text/plain": [
       "<AxesSubplot:>"
      ]
     },
     "execution_count": 10,
     "metadata": {},
     "output_type": "execute_result"
    },
    {
     "data": {
      "image/png": "[encoded data removed]",
      "text/plain": [
       "<Figure size 432x288 with 1 Axes>"
      ]
     },
     "metadata": {
      "needs_background": "light"
     },
     "output_type": "display_data"
    }
   ],
   "source": [
    "df_01.boxplot('n_comments')"
   ]
  },
  {
   "cell_type": "code",
   "execution_count": 11,
   "id": "91c9039b",
   "metadata": {},
   "outputs": [
    {
     "data": {
      "text/plain": [
       "<AxesSubplot:title={'center':'Top Authors'}, ylabel='# Posts'>"
      ]
     },
     "execution_count": 11,
     "metadata": {},
     "output_type": "execute_result"
    },
    {
     "data": {
      "image/png": "[encoded data removed]",
      "text/plain": [
       "<Figure size 432x288 with 1 Axes>"
      ]
     },
     "metadata": {
      "needs_background": "light"
     },
     "output_type": "display_data"
    }
   ],
   "source": [
    "df_01['author'].value_counts()[:10].plot.bar(title='Top Authors', ylabel='# Posts')"
   ]
  },
  {
   "cell_type": "code",
   "execution_count": 12,
   "id": "772c4ac2",
   "metadata": {},
   "outputs": [
    {
     "data": {
      "text/html": [
       "<div>\n",
       "<style scoped>\n",
       "    .dataframe tbody tr th:only-of-type {\n",
       "        vertical-align: middle;\n",
       "    }\n",
       "\n",
       "    .dataframe tbody tr th {\n",
       "        vertical-align: top;\n",
       "    }\n",
       "\n",
       "    .dataframe thead th {\n",
       "        text-align: right;\n",
       "    }\n",
       "</style>\n",
       "<table border=\"1\" class=\"dataframe\">\n",
       "  <thead>\n",
       "    <tr style=\"text-align: right;\">\n",
       "      <th></th>\n",
       "      <th>title</th>\n",
       "      <th>link</th>\n",
       "      <th>author</th>\n",
       "      <th>n_comments</th>\n",
       "      <th>score</th>\n",
       "      <th>text</th>\n",
       "    </tr>\n",
       "  </thead>\n",
       "  <tbody>\n",
       "    <tr>\n",
       "      <th>70</th>\n",
       "      <td>Trivia S8 E11 - Where Was the Sabre Office Fil...</td>\n",
       "      <td>/r/DunderMifflin/comments/t1ed57/trivia_s8_e11...</td>\n",
       "      <td>Compy385</td>\n",
       "      <td>0</td>\n",
       "      <td>3</td>\n",
       "      <td>Just curious as to the filming location of the...</td>\n",
       "    </tr>\n",
       "    <tr>\n",
       "      <th>151</th>\n",
       "      <td>Did DM Make It's Own Brand of Paper Too?</td>\n",
       "      <td>/r/DunderMifflin/comments/t0tddk/did_dm_make_i...</td>\n",
       "      <td>Compy385</td>\n",
       "      <td>6</td>\n",
       "      <td>2</td>\n",
       "      <td>DM obviously resells from other manufacturers ...</td>\n",
       "    </tr>\n",
       "    <tr>\n",
       "      <th>247</th>\n",
       "      <td>Anyone Else Wanted to See a Full Scene of Andy...</td>\n",
       "      <td>/r/DunderMifflin/comments/szt7q6/anyone_else_w...</td>\n",
       "      <td>Compy385</td>\n",
       "      <td>9</td>\n",
       "      <td>10</td>\n",
       "      <td>I think it would've been hilarious/awesome all...</td>\n",
       "    </tr>\n",
       "    <tr>\n",
       "      <th>313</th>\n",
       "      <td>Gabe's Place Is Awesome</td>\n",
       "      <td>/r/DunderMifflin/comments/szojbx/gabes_place_i...</td>\n",
       "      <td>Compy385</td>\n",
       "      <td>3</td>\n",
       "      <td>1</td>\n",
       "      <td>Just watched Viewing Party (S7 E8). Gabe's pla...</td>\n",
       "    </tr>\n",
       "    <tr>\n",
       "      <th>403</th>\n",
       "      <td>Am I the Only One Who Noticed The Sweeney Todd...</td>\n",
       "      <td>/r/DunderMifflin/comments/szi4nk/am_i_the_only...</td>\n",
       "      <td>Compy385</td>\n",
       "      <td>16</td>\n",
       "      <td>0</td>\n",
       "      <td></td>\n",
       "    </tr>\n",
       "    <tr>\n",
       "      <th>455</th>\n",
       "      <td>What Exactly Was Gabe’s Position?</td>\n",
       "      <td>/r/DunderMifflin/comments/sya3sb/what_exactly_...</td>\n",
       "      <td>Compy385</td>\n",
       "      <td>17</td>\n",
       "      <td>5</td>\n",
       "      <td>I’m watching the episodes last the Sabre merge...</td>\n",
       "    </tr>\n",
       "    <tr>\n",
       "      <th>527</th>\n",
       "      <td>Imagining - Jim and Pam's Reaction After They ...</td>\n",
       "      <td>/r/DunderMifflin/comments/sxfz8y/imagining_jim...</td>\n",
       "      <td>Compy385</td>\n",
       "      <td>1</td>\n",
       "      <td>9</td>\n",
       "      <td>Just watched The Delivery episode. The scene w...</td>\n",
       "    </tr>\n",
       "    <tr>\n",
       "      <th>685</th>\n",
       "      <td>Niagara Falls - Jim Could've Gotten Out of His...</td>\n",
       "      <td>/r/DunderMifflin/comments/swbcgn/niagara_falls...</td>\n",
       "      <td>Compy385</td>\n",
       "      <td>7</td>\n",
       "      <td>2</td>\n",
       "      <td>(Yes I know to the whole \"It's a comedy, just ...</td>\n",
       "    </tr>\n",
       "    <tr>\n",
       "      <th>686</th>\n",
       "      <td>Crossovers Between P&amp;R and The Office?</td>\n",
       "      <td>/r/DunderMifflin/comments/swg8q8/crossovers_be...</td>\n",
       "      <td>Compy385</td>\n",
       "      <td>5</td>\n",
       "      <td>0</td>\n",
       "      <td>Are there any crossovers between Parks and Rec...</td>\n",
       "    </tr>\n",
       "    <tr>\n",
       "      <th>777</th>\n",
       "      <td>Was the MSPC Buyout the Final \"Nail\" in the Co...</td>\n",
       "      <td>/r/DunderMifflin/comments/svp45g/was_the_mspc_...</td>\n",
       "      <td>Compy385</td>\n",
       "      <td>5</td>\n",
       "      <td>0</td>\n",
       "      <td>To get their clients back and resolve business...</td>\n",
       "    </tr>\n",
       "    <tr>\n",
       "      <th>852</th>\n",
       "      <td>How Many of Michael's Camera Interviews Were S...</td>\n",
       "      <td>/r/DunderMifflin/comments/sv0mhl/how_many_of_m...</td>\n",
       "      <td>Compy385</td>\n",
       "      <td>4</td>\n",
       "      <td>2</td>\n",
       "      <td>In the various scenes with Michael talking to ...</td>\n",
       "    </tr>\n",
       "    <tr>\n",
       "      <th>866</th>\n",
       "      <td>Pam's \"Friend\" in NYC is Infuriating</td>\n",
       "      <td>/r/DunderMifflin/comments/suwyqh/pams_friend_i...</td>\n",
       "      <td>Compy385</td>\n",
       "      <td>8</td>\n",
       "      <td>2</td>\n",
       "      <td>The \"friend\" who tries to encourage Pam to sta...</td>\n",
       "    </tr>\n",
       "  </tbody>\n",
       "</table>\n",
       "</div>"
      ],
      "text/plain": [
       "                                                 title  \\\n",
       "70   Trivia S8 E11 - Where Was the Sabre Office Fil...   \n",
       "151           Did DM Make It's Own Brand of Paper Too?   \n",
       "247  Anyone Else Wanted to See a Full Scene of Andy...   \n",
       "313                            Gabe's Place Is Awesome   \n",
       "403  Am I the Only One Who Noticed The Sweeney Todd...   \n",
       "455                  What Exactly Was Gabe’s Position?   \n",
       "527  Imagining - Jim and Pam's Reaction After They ...   \n",
       "685  Niagara Falls - Jim Could've Gotten Out of His...   \n",
       "686             Crossovers Between P&R and The Office?   \n",
       "777  Was the MSPC Buyout the Final \"Nail\" in the Co...   \n",
       "852  How Many of Michael's Camera Interviews Were S...   \n",
       "866               Pam's \"Friend\" in NYC is Infuriating   \n",
       "\n",
       "                                                  link    author  n_comments  \\\n",
       "70   /r/DunderMifflin/comments/t1ed57/trivia_s8_e11...  Compy385           0   \n",
       "151  /r/DunderMifflin/comments/t0tddk/did_dm_make_i...  Compy385           6   \n",
       "247  /r/DunderMifflin/comments/szt7q6/anyone_else_w...  Compy385           9   \n",
       "313  /r/DunderMifflin/comments/szojbx/gabes_place_i...  Compy385           3   \n",
       "403  /r/DunderMifflin/comments/szi4nk/am_i_the_only...  Compy385          16   \n",
       "455  /r/DunderMifflin/comments/sya3sb/what_exactly_...  Compy385          17   \n",
       "527  /r/DunderMifflin/comments/sxfz8y/imagining_jim...  Compy385           1   \n",
       "685  /r/DunderMifflin/comments/swbcgn/niagara_falls...  Compy385           7   \n",
       "686  /r/DunderMifflin/comments/swg8q8/crossovers_be...  Compy385           5   \n",
       "777  /r/DunderMifflin/comments/svp45g/was_the_mspc_...  Compy385           5   \n",
       "852  /r/DunderMifflin/comments/sv0mhl/how_many_of_m...  Compy385           4   \n",
       "866  /r/DunderMifflin/comments/suwyqh/pams_friend_i...  Compy385           8   \n",
       "\n",
       "     score                                               text  \n",
       "70       3  Just curious as to the filming location of the...  \n",
       "151      2  DM obviously resells from other manufacturers ...  \n",
       "247     10  I think it would've been hilarious/awesome all...  \n",
       "313      1  Just watched Viewing Party (S7 E8). Gabe's pla...  \n",
       "403      0                                                     \n",
       "455      5  I’m watching the episodes last the Sabre merge...  \n",
       "527      9  Just watched The Delivery episode. The scene w...  \n",
       "685      2  (Yes I know to the whole \"It's a comedy, just ...  \n",
       "686      0  Are there any crossovers between Parks and Rec...  \n",
       "777      0  To get their clients back and resolve business...  \n",
       "852      2  In the various scenes with Michael talking to ...  \n",
       "866      2  The \"friend\" who tries to encourage Pam to sta...  "
      ]
     },
     "execution_count": 12,
     "metadata": {},
     "output_type": "execute_result"
    }
   ],
   "source": [
    "df_01[df_01['author'] == 'Compy385']"
   ]
  },
  {
   "cell_type": "code",
   "execution_count": 13,
   "id": "d7cf9dc9",
   "metadata": {},
   "outputs": [
    {
     "data": {
      "text/plain": [
       "[('the', 380),\n",
       " ('a', 205),\n",
       " ('to', 184),\n",
       " ('I', 171),\n",
       " ('and', 154),\n",
       " ('of', 148),\n",
       " ('is', 131),\n",
       " ('in', 115),\n",
       " ('this', 98),\n",
       " ('you', 81),\n",
       " ('it', 74),\n",
       " ('Michael', 73),\n",
       " ('The', 72),\n",
       " ('on', 71),\n",
       " ('was', 69),\n",
       " ('for', 69),\n",
       " ('my', 62),\n",
       " ('that', 57),\n",
       " ('have', 55),\n",
       " ('with', 48),\n",
       " ('be', 47),\n",
       " ('like', 44),\n",
       " ('Office', 42),\n",
       " ('me', 42),\n",
       " ('just', 41),\n",
       " ('Jim', 41),\n",
       " ('do', 40),\n",
       " ('your', 40),\n",
       " ('at', 39),\n",
       " ('would', 38)]"
      ]
     },
     "execution_count": 13,
     "metadata": {},
     "output_type": "execute_result"
    }
   ],
   "source": [
    "import nltk\n",
    "\n",
    "fd = nltk.FreqDist(' '.join(df_01['title']).split())\n",
    "fd.most_common(30)"
   ]
  },
  {
   "cell_type": "code",
   "execution_count": 14,
   "id": "e06cdb9d",
   "metadata": {},
   "outputs": [
    {
     "data": {
      "image/png": "[encoded data removed]",
      "text/plain": [
       "<Figure size 432x288 with 1 Axes>"
      ]
     },
     "metadata": {
      "needs_background": "light"
     },
     "output_type": "display_data"
    },
    {
     "data": {
      "text/plain": [
       "<AxesSubplot:xlabel='Samples', ylabel='Counts'>"
      ]
     },
     "execution_count": 14,
     "metadata": {},
     "output_type": "execute_result"
    }
   ],
   "source": [
    "fd.plot(30)"
   ]
  },
  {
   "cell_type": "code",
   "execution_count": 15,
   "id": "2c90a4da",
   "metadata": {},
   "outputs": [
    {
     "name": "stderr",
     "output_type": "stream",
     "text": [
      "[nltk_data] Downloading package stopwords to\n",
      "[nltk_data]     C:\\Users\\jerem\\AppData\\Roaming\\nltk_data...\n",
      "[nltk_data]   Package stopwords is already up-to-date!\n"
     ]
    },
    {
     "data": {
      "text/plain": [
       "True"
      ]
     },
     "execution_count": 15,
     "metadata": {},
     "output_type": "execute_result"
    }
   ],
   "source": [
    "nltk.download('stopwords')"
   ]
  },
  {
   "cell_type": "code",
   "execution_count": 16,
   "id": "74bd1a17",
   "metadata": {},
   "outputs": [
    {
     "data": {
      "text/plain": [
       "['i',\n",
       " 'me',\n",
       " 'my',\n",
       " 'myself',\n",
       " 'we',\n",
       " 'our',\n",
       " 'ours',\n",
       " 'ourselves',\n",
       " 'you',\n",
       " \"you're\",\n",
       " \"you've\",\n",
       " \"you'll\",\n",
       " \"you'd\",\n",
       " 'your',\n",
       " 'yours',\n",
       " 'yourself',\n",
       " 'yourselves',\n",
       " 'he',\n",
       " 'him',\n",
       " 'his',\n",
       " 'himself',\n",
       " 'she',\n",
       " \"she's\",\n",
       " 'her',\n",
       " 'hers',\n",
       " 'herself',\n",
       " 'it',\n",
       " \"it's\",\n",
       " 'its',\n",
       " 'itself',\n",
       " 'they',\n",
       " 'them',\n",
       " 'their',\n",
       " 'theirs',\n",
       " 'themselves',\n",
       " 'what',\n",
       " 'which',\n",
       " 'who',\n",
       " 'whom',\n",
       " 'this',\n",
       " 'that',\n",
       " \"that'll\",\n",
       " 'these',\n",
       " 'those',\n",
       " 'am',\n",
       " 'is',\n",
       " 'are',\n",
       " 'was',\n",
       " 'were',\n",
       " 'be',\n",
       " 'been',\n",
       " 'being',\n",
       " 'have',\n",
       " 'has',\n",
       " 'had',\n",
       " 'having',\n",
       " 'do',\n",
       " 'does',\n",
       " 'did',\n",
       " 'doing',\n",
       " 'a',\n",
       " 'an',\n",
       " 'the',\n",
       " 'and',\n",
       " 'but',\n",
       " 'if',\n",
       " 'or',\n",
       " 'because',\n",
       " 'as',\n",
       " 'until',\n",
       " 'while',\n",
       " 'of',\n",
       " 'at',\n",
       " 'by',\n",
       " 'for',\n",
       " 'with',\n",
       " 'about',\n",
       " 'against',\n",
       " 'between',\n",
       " 'into',\n",
       " 'through',\n",
       " 'during',\n",
       " 'before',\n",
       " 'after',\n",
       " 'above',\n",
       " 'below',\n",
       " 'to',\n",
       " 'from',\n",
       " 'up',\n",
       " 'down',\n",
       " 'in',\n",
       " 'out',\n",
       " 'on',\n",
       " 'off',\n",
       " 'over',\n",
       " 'under',\n",
       " 'again',\n",
       " 'further',\n",
       " 'then',\n",
       " 'once',\n",
       " 'here',\n",
       " 'there',\n",
       " 'when',\n",
       " 'where',\n",
       " 'why',\n",
       " 'how',\n",
       " 'all',\n",
       " 'any',\n",
       " 'both',\n",
       " 'each',\n",
       " 'few',\n",
       " 'more',\n",
       " 'most',\n",
       " 'other',\n",
       " 'some',\n",
       " 'such',\n",
       " 'no',\n",
       " 'nor',\n",
       " 'not',\n",
       " 'only',\n",
       " 'own',\n",
       " 'same',\n",
       " 'so',\n",
       " 'than',\n",
       " 'too',\n",
       " 'very',\n",
       " 's',\n",
       " 't',\n",
       " 'can',\n",
       " 'will',\n",
       " 'just',\n",
       " 'don',\n",
       " \"don't\",\n",
       " 'should',\n",
       " \"should've\",\n",
       " 'now',\n",
       " 'd',\n",
       " 'll',\n",
       " 'm',\n",
       " 'o',\n",
       " 're',\n",
       " 've',\n",
       " 'y',\n",
       " 'ain',\n",
       " 'aren',\n",
       " \"aren't\",\n",
       " 'couldn',\n",
       " \"couldn't\",\n",
       " 'didn',\n",
       " \"didn't\",\n",
       " 'doesn',\n",
       " \"doesn't\",\n",
       " 'hadn',\n",
       " \"hadn't\",\n",
       " 'hasn',\n",
       " \"hasn't\",\n",
       " 'haven',\n",
       " \"haven't\",\n",
       " 'isn',\n",
       " \"isn't\",\n",
       " 'ma',\n",
       " 'mightn',\n",
       " \"mightn't\",\n",
       " 'mustn',\n",
       " \"mustn't\",\n",
       " 'needn',\n",
       " \"needn't\",\n",
       " 'shan',\n",
       " \"shan't\",\n",
       " 'shouldn',\n",
       " \"shouldn't\",\n",
       " 'wasn',\n",
       " \"wasn't\",\n",
       " 'weren',\n",
       " \"weren't\",\n",
       " 'won',\n",
       " \"won't\",\n",
       " 'wouldn',\n",
       " \"wouldn't\"]"
      ]
     },
     "execution_count": 16,
     "metadata": {},
     "output_type": "execute_result"
    }
   ],
   "source": [
    "from nltk.corpus import stopwords\n",
    "stops = stopwords.words('english')\n",
    "stops"
   ]
  },
  {
   "cell_type": "code",
   "execution_count": 17,
   "id": "cdcb67f3",
   "metadata": {},
   "outputs": [
    {
     "data": {
      "text/plain": [
       "[('michael', 76),\n",
       " ('office', 72),\n",
       " ('like', 46),\n",
       " ('jim', 45),\n",
       " ('would', 44),\n",
       " ('one', 42),\n",
       " ('dwight', 36),\n",
       " ('episode', 34),\n",
       " ('think', 31),\n",
       " ('favorite', 30),\n",
       " ('andy', 30),\n",
       " ('know', 29),\n",
       " ('season', 29),\n",
       " ('best', 25),\n",
       " ('love', 22),\n",
       " ('pam', 22),\n",
       " ('get', 21),\n",
       " ('always', 21),\n",
       " ('character', 21),\n",
       " ('anyone', 20),\n",
       " ('scene', 18),\n",
       " ('make', 18),\n",
       " ('show', 18),\n",
       " ('made', 16),\n",
       " ('angela', 16),\n",
       " ('never', 15),\n",
       " ('really', 15),\n",
       " ('-', 15),\n",
       " ('good', 15),\n",
       " ('got', 15)]"
      ]
     },
     "execution_count": 17,
     "metadata": {},
     "output_type": "execute_result"
    }
   ],
   "source": [
    "words = ' '.join(df_01['title']).lower().split()\n",
    "cleaned_words = [w for w in words if w not in set(stops)]\n",
    "cleaned_fd = nltk.FreqDist(cleaned_words)\n",
    "cleaned_fd.most_common(30)"
   ]
  },
  {
   "cell_type": "code",
   "execution_count": 18,
   "id": "7b0515e9",
   "metadata": {},
   "outputs": [
    {
     "data": {
      "image/png": "[encoded data removed]",
      "text/plain": [
       "<Figure size 432x288 with 1 Axes>"
      ]
     },
     "metadata": {
      "needs_background": "light"
     },
     "output_type": "display_data"
    },
    {
     "data": {
      "text/plain": [
       "<AxesSubplot:xlabel='Samples', ylabel='Counts'>"
      ]
     },
     "execution_count": 18,
     "metadata": {},
     "output_type": "execute_result"
    }
   ],
   "source": [
    "cleaned_fd.plot(30)"
   ]
  },
  {
   "cell_type": "code",
   "execution_count": 19,
   "id": "36d0b39b",
   "metadata": {},
   "outputs": [],
   "source": [
    "#### TIME FOR SUBREDDIT #2: worldnews\n",
    "reddit_data = {'title': [],\n",
    "               'link': [], \n",
    "               'author': [],\n",
    "               'n_comments': [],\n",
    "               'score': [],\n",
    "               'text': []}\n",
    "\n",
    "subreddit_02_title = 'worldnews'\n",
    "subreddit_02 = reddit.subreddit(subreddit_02_title).hot(limit=None)\n",
    "\n",
    "for post in list(subreddit_02):\n",
    "    reddit_data['title'].append(post.title)\n",
    "    reddit_data['link'].append(post.permalink)\n",
    "    if post.author is None:\n",
    "        reddit_data['author'].append('')\n",
    "    else:\n",
    "        reddit_data['author'].append(post.author.name)\n",
    "    \n",
    "    reddit_data['n_comments'].append(post.num_comments)\n",
    "    reddit_data['score'].append(post.score)\n",
    "    reddit_data['text'].append(post.selftext)\n",
    "    "
   ]
  },
  {
   "cell_type": "code",
   "execution_count": 20,
   "id": "9659a27b",
   "metadata": {},
   "outputs": [
    {
     "data": {
      "text/html": [
       "<div>\n",
       "<style scoped>\n",
       "    .dataframe tbody tr th:only-of-type {\n",
       "        vertical-align: middle;\n",
       "    }\n",
       "\n",
       "    .dataframe tbody tr th {\n",
       "        vertical-align: top;\n",
       "    }\n",
       "\n",
       "    .dataframe thead th {\n",
       "        text-align: right;\n",
       "    }\n",
       "</style>\n",
       "<table border=\"1\" class=\"dataframe\">\n",
       "  <thead>\n",
       "    <tr style=\"text-align: right;\">\n",
       "      <th></th>\n",
       "      <th>title</th>\n",
       "      <th>link</th>\n",
       "      <th>author</th>\n",
       "      <th>n_comments</th>\n",
       "      <th>score</th>\n",
       "      <th>text</th>\n",
       "    </tr>\n",
       "  </thead>\n",
       "  <tbody>\n",
       "    <tr>\n",
       "      <th>0</th>\n",
       "      <td>/r/WorldNews Live Thread: Russian Invasion of ...</td>\n",
       "      <td>/r/worldnews/comments/t1n65b/rworldnews_live_t...</td>\n",
       "      <td>Morning-Chub</td>\n",
       "      <td>4018</td>\n",
       "      <td>440</td>\n",
       "      <td></td>\n",
       "    </tr>\n",
       "    <tr>\n",
       "      <th>1</th>\n",
       "      <td>Kazakhstan, one of Russia's closest allies, de...</td>\n",
       "      <td>/r/worldnews/comments/t1ju3f/kazakhstan_one_of...</td>\n",
       "      <td>manticor225</td>\n",
       "      <td>2575</td>\n",
       "      <td>53384</td>\n",
       "      <td></td>\n",
       "    </tr>\n",
       "    <tr>\n",
       "      <th>2</th>\n",
       "      <td>U.S. stands ready to evacuate Zelensky, Russia...</td>\n",
       "      <td>/r/worldnews/comments/t1kaom/us_stands_ready_t...</td>\n",
       "      <td>JAnonW</td>\n",
       "      <td>1550</td>\n",
       "      <td>15317</td>\n",
       "      <td></td>\n",
       "    </tr>\n",
       "    <tr>\n",
       "      <th>3</th>\n",
       "      <td>Ukraine has shot down a Russian Ilyushin Il-76...</td>\n",
       "      <td>/r/worldnews/comments/t1l7fa/ukraine_has_shot_...</td>\n",
       "      <td>ArturBravo</td>\n",
       "      <td>934</td>\n",
       "      <td>5982</td>\n",
       "      <td></td>\n",
       "    </tr>\n",
       "    <tr>\n",
       "      <th>4</th>\n",
       "      <td>Anonymous leaks database of the Russian Minist...</td>\n",
       "      <td>/r/worldnews/comments/t1f287/anonymous_leaks_d...</td>\n",
       "      <td>o-Themis-o</td>\n",
       "      <td>5683</td>\n",
       "      <td>132381</td>\n",
       "      <td></td>\n",
       "    </tr>\n",
       "    <tr>\n",
       "      <th>...</th>\n",
       "      <td>...</td>\n",
       "      <td>...</td>\n",
       "      <td>...</td>\n",
       "      <td>...</td>\n",
       "      <td>...</td>\n",
       "      <td>...</td>\n",
       "    </tr>\n",
       "    <tr>\n",
       "      <th>830</th>\n",
       "      <td>[Sweden] Nuclear Energy Producer Vattenfall Cu...</td>\n",
       "      <td>/r/worldnews/comments/t0irtv/sweden_nuclear_en...</td>\n",
       "      <td>ta20200123-1</td>\n",
       "      <td>6</td>\n",
       "      <td>700</td>\n",
       "      <td></td>\n",
       "    </tr>\n",
       "    <tr>\n",
       "      <th>831</th>\n",
       "      <td>US to have consultations with India on Ukraini...</td>\n",
       "      <td>/r/worldnews/comments/t0ut5b/us_to_have_consul...</td>\n",
       "      <td>Epynok123</td>\n",
       "      <td>47</td>\n",
       "      <td>125</td>\n",
       "      <td></td>\n",
       "    </tr>\n",
       "    <tr>\n",
       "      <th>832</th>\n",
       "      <td>Ukrainian refugees start arriving in countries...</td>\n",
       "      <td>/r/worldnews/comments/t0q7l5/ukrainian_refugee...</td>\n",
       "      <td>sylvyrfyre</td>\n",
       "      <td>4</td>\n",
       "      <td>241</td>\n",
       "      <td></td>\n",
       "    </tr>\n",
       "    <tr>\n",
       "      <th>833</th>\n",
       "      <td>Large crowd gathers in Sydney to support Ukraine</td>\n",
       "      <td>/r/worldnews/comments/t0t9ca/large_crowd_gathe...</td>\n",
       "      <td>Nusrat124</td>\n",
       "      <td>9</td>\n",
       "      <td>155</td>\n",
       "      <td></td>\n",
       "    </tr>\n",
       "    <tr>\n",
       "      <th>834</th>\n",
       "      <td>Ireland to waive visa requirements for Ukraini...</td>\n",
       "      <td>/r/worldnews/comments/t0e39b/ireland_to_waive_...</td>\n",
       "      <td>Modis1994</td>\n",
       "      <td>16</td>\n",
       "      <td>1255</td>\n",
       "      <td></td>\n",
       "    </tr>\n",
       "  </tbody>\n",
       "</table>\n",
       "<p>835 rows × 6 columns</p>\n",
       "</div>"
      ],
      "text/plain": [
       "                                                 title  \\\n",
       "0    /r/WorldNews Live Thread: Russian Invasion of ...   \n",
       "1    Kazakhstan, one of Russia's closest allies, de...   \n",
       "2    U.S. stands ready to evacuate Zelensky, Russia...   \n",
       "3    Ukraine has shot down a Russian Ilyushin Il-76...   \n",
       "4    Anonymous leaks database of the Russian Minist...   \n",
       "..                                                 ...   \n",
       "830  [Sweden] Nuclear Energy Producer Vattenfall Cu...   \n",
       "831  US to have consultations with India on Ukraini...   \n",
       "832  Ukrainian refugees start arriving in countries...   \n",
       "833   Large crowd gathers in Sydney to support Ukraine   \n",
       "834  Ireland to waive visa requirements for Ukraini...   \n",
       "\n",
       "                                                  link        author  \\\n",
       "0    /r/worldnews/comments/t1n65b/rworldnews_live_t...  Morning-Chub   \n",
       "1    /r/worldnews/comments/t1ju3f/kazakhstan_one_of...   manticor225   \n",
       "2    /r/worldnews/comments/t1kaom/us_stands_ready_t...        JAnonW   \n",
       "3    /r/worldnews/comments/t1l7fa/ukraine_has_shot_...    ArturBravo   \n",
       "4    /r/worldnews/comments/t1f287/anonymous_leaks_d...    o-Themis-o   \n",
       "..                                                 ...           ...   \n",
       "830  /r/worldnews/comments/t0irtv/sweden_nuclear_en...  ta20200123-1   \n",
       "831  /r/worldnews/comments/t0ut5b/us_to_have_consul...     Epynok123   \n",
       "832  /r/worldnews/comments/t0q7l5/ukrainian_refugee...    sylvyrfyre   \n",
       "833  /r/worldnews/comments/t0t9ca/large_crowd_gathe...     Nusrat124   \n",
       "834  /r/worldnews/comments/t0e39b/ireland_to_waive_...     Modis1994   \n",
       "\n",
       "     n_comments   score text  \n",
       "0          4018     440       \n",
       "1          2575   53384       \n",
       "2          1550   15317       \n",
       "3           934    5982       \n",
       "4          5683  132381       \n",
       "..          ...     ...  ...  \n",
       "830           6     700       \n",
       "831          47     125       \n",
       "832           4     241       \n",
       "833           9     155       \n",
       "834          16    1255       \n",
       "\n",
       "[835 rows x 6 columns]"
      ]
     },
     "execution_count": 20,
     "metadata": {},
     "output_type": "execute_result"
    }
   ],
   "source": [
    "df_02 = pd.DataFrame(reddit_data)\n",
    "df_02"
   ]
  },
  {
   "cell_type": "code",
   "execution_count": 21,
   "id": "49f293b0",
   "metadata": {},
   "outputs": [
    {
     "data": {
      "text/plain": [
       "835"
      ]
     },
     "execution_count": 21,
     "metadata": {},
     "output_type": "execute_result"
    }
   ],
   "source": [
    "con2 = sqlite3.connect(\"sql/subreddit_02.sqlite\")\n",
    "df_02.to_sql('posts', con2, if_exists='replace', index=False)"
   ]
  },
  {
   "cell_type": "code",
   "execution_count": 22,
   "id": "e32dfa50",
   "metadata": {},
   "outputs": [
    {
     "data": {
      "text/html": [
       "<div>\n",
       "<style scoped>\n",
       "    .dataframe tbody tr th:only-of-type {\n",
       "        vertical-align: middle;\n",
       "    }\n",
       "\n",
       "    .dataframe tbody tr th {\n",
       "        vertical-align: top;\n",
       "    }\n",
       "\n",
       "    .dataframe thead th {\n",
       "        text-align: right;\n",
       "    }\n",
       "</style>\n",
       "<table border=\"1\" class=\"dataframe\">\n",
       "  <thead>\n",
       "    <tr style=\"text-align: right;\">\n",
       "      <th></th>\n",
       "      <th>title</th>\n",
       "      <th>link</th>\n",
       "      <th>author</th>\n",
       "      <th>n_comments</th>\n",
       "      <th>score</th>\n",
       "      <th>text</th>\n",
       "    </tr>\n",
       "  </thead>\n",
       "  <tbody>\n",
       "    <tr>\n",
       "      <th>0</th>\n",
       "      <td>/r/WorldNews Live Thread: Russian Invasion of ...</td>\n",
       "      <td>/r/worldnews/comments/t1n65b/rworldnews_live_t...</td>\n",
       "      <td>Morning-Chub</td>\n",
       "      <td>4018</td>\n",
       "      <td>440</td>\n",
       "      <td></td>\n",
       "    </tr>\n",
       "    <tr>\n",
       "      <th>1</th>\n",
       "      <td>Kazakhstan, one of Russia's closest allies, de...</td>\n",
       "      <td>/r/worldnews/comments/t1ju3f/kazakhstan_one_of...</td>\n",
       "      <td>manticor225</td>\n",
       "      <td>2575</td>\n",
       "      <td>53384</td>\n",
       "      <td></td>\n",
       "    </tr>\n",
       "    <tr>\n",
       "      <th>2</th>\n",
       "      <td>U.S. stands ready to evacuate Zelensky, Russia...</td>\n",
       "      <td>/r/worldnews/comments/t1kaom/us_stands_ready_t...</td>\n",
       "      <td>JAnonW</td>\n",
       "      <td>1550</td>\n",
       "      <td>15317</td>\n",
       "      <td></td>\n",
       "    </tr>\n",
       "    <tr>\n",
       "      <th>3</th>\n",
       "      <td>Ukraine has shot down a Russian Ilyushin Il-76...</td>\n",
       "      <td>/r/worldnews/comments/t1l7fa/ukraine_has_shot_...</td>\n",
       "      <td>ArturBravo</td>\n",
       "      <td>934</td>\n",
       "      <td>5982</td>\n",
       "      <td></td>\n",
       "    </tr>\n",
       "    <tr>\n",
       "      <th>4</th>\n",
       "      <td>Anonymous leaks database of the Russian Minist...</td>\n",
       "      <td>/r/worldnews/comments/t1f287/anonymous_leaks_d...</td>\n",
       "      <td>o-Themis-o</td>\n",
       "      <td>5683</td>\n",
       "      <td>132381</td>\n",
       "      <td></td>\n",
       "    </tr>\n",
       "    <tr>\n",
       "      <th>...</th>\n",
       "      <td>...</td>\n",
       "      <td>...</td>\n",
       "      <td>...</td>\n",
       "      <td>...</td>\n",
       "      <td>...</td>\n",
       "      <td>...</td>\n",
       "    </tr>\n",
       "    <tr>\n",
       "      <th>830</th>\n",
       "      <td>[Sweden] Nuclear Energy Producer Vattenfall Cu...</td>\n",
       "      <td>/r/worldnews/comments/t0irtv/sweden_nuclear_en...</td>\n",
       "      <td>ta20200123-1</td>\n",
       "      <td>6</td>\n",
       "      <td>700</td>\n",
       "      <td></td>\n",
       "    </tr>\n",
       "    <tr>\n",
       "      <th>831</th>\n",
       "      <td>US to have consultations with India on Ukraini...</td>\n",
       "      <td>/r/worldnews/comments/t0ut5b/us_to_have_consul...</td>\n",
       "      <td>Epynok123</td>\n",
       "      <td>47</td>\n",
       "      <td>125</td>\n",
       "      <td></td>\n",
       "    </tr>\n",
       "    <tr>\n",
       "      <th>832</th>\n",
       "      <td>Ukrainian refugees start arriving in countries...</td>\n",
       "      <td>/r/worldnews/comments/t0q7l5/ukrainian_refugee...</td>\n",
       "      <td>sylvyrfyre</td>\n",
       "      <td>4</td>\n",
       "      <td>241</td>\n",
       "      <td></td>\n",
       "    </tr>\n",
       "    <tr>\n",
       "      <th>833</th>\n",
       "      <td>Large crowd gathers in Sydney to support Ukraine</td>\n",
       "      <td>/r/worldnews/comments/t0t9ca/large_crowd_gathe...</td>\n",
       "      <td>Nusrat124</td>\n",
       "      <td>9</td>\n",
       "      <td>155</td>\n",
       "      <td></td>\n",
       "    </tr>\n",
       "    <tr>\n",
       "      <th>834</th>\n",
       "      <td>Ireland to waive visa requirements for Ukraini...</td>\n",
       "      <td>/r/worldnews/comments/t0e39b/ireland_to_waive_...</td>\n",
       "      <td>Modis1994</td>\n",
       "      <td>16</td>\n",
       "      <td>1255</td>\n",
       "      <td></td>\n",
       "    </tr>\n",
       "  </tbody>\n",
       "</table>\n",
       "<p>835 rows × 6 columns</p>\n",
       "</div>"
      ],
      "text/plain": [
       "                                                 title  \\\n",
       "0    /r/WorldNews Live Thread: Russian Invasion of ...   \n",
       "1    Kazakhstan, one of Russia's closest allies, de...   \n",
       "2    U.S. stands ready to evacuate Zelensky, Russia...   \n",
       "3    Ukraine has shot down a Russian Ilyushin Il-76...   \n",
       "4    Anonymous leaks database of the Russian Minist...   \n",
       "..                                                 ...   \n",
       "830  [Sweden] Nuclear Energy Producer Vattenfall Cu...   \n",
       "831  US to have consultations with India on Ukraini...   \n",
       "832  Ukrainian refugees start arriving in countries...   \n",
       "833   Large crowd gathers in Sydney to support Ukraine   \n",
       "834  Ireland to waive visa requirements for Ukraini...   \n",
       "\n",
       "                                                  link        author  \\\n",
       "0    /r/worldnews/comments/t1n65b/rworldnews_live_t...  Morning-Chub   \n",
       "1    /r/worldnews/comments/t1ju3f/kazakhstan_one_of...   manticor225   \n",
       "2    /r/worldnews/comments/t1kaom/us_stands_ready_t...        JAnonW   \n",
       "3    /r/worldnews/comments/t1l7fa/ukraine_has_shot_...    ArturBravo   \n",
       "4    /r/worldnews/comments/t1f287/anonymous_leaks_d...    o-Themis-o   \n",
       "..                                                 ...           ...   \n",
       "830  /r/worldnews/comments/t0irtv/sweden_nuclear_en...  ta20200123-1   \n",
       "831  /r/worldnews/comments/t0ut5b/us_to_have_consul...     Epynok123   \n",
       "832  /r/worldnews/comments/t0q7l5/ukrainian_refugee...    sylvyrfyre   \n",
       "833  /r/worldnews/comments/t0t9ca/large_crowd_gathe...     Nusrat124   \n",
       "834  /r/worldnews/comments/t0e39b/ireland_to_waive_...     Modis1994   \n",
       "\n",
       "     n_comments   score text  \n",
       "0          4018     440       \n",
       "1          2575   53384       \n",
       "2          1550   15317       \n",
       "3           934    5982       \n",
       "4          5683  132381       \n",
       "..          ...     ...  ...  \n",
       "830           6     700       \n",
       "831          47     125       \n",
       "832           4     241       \n",
       "833           9     155       \n",
       "834          16    1255       \n",
       "\n",
       "[835 rows x 6 columns]"
      ]
     },
     "execution_count": 22,
     "metadata": {},
     "output_type": "execute_result"
    }
   ],
   "source": [
    "df_02_check = pd.read_sql_query('SELECT * FROM posts;', con2)\n",
    "con2.close()\n",
    "df_02_check"
   ]
  },
  {
   "cell_type": "code",
   "execution_count": 23,
   "id": "03371844",
   "metadata": {},
   "outputs": [
    {
     "data": {
      "text/plain": [
       "<AxesSubplot:title={'center':'Scores'}, ylabel='Frequency'>"
      ]
     },
     "execution_count": 23,
     "metadata": {},
     "output_type": "execute_result"
    },
    {
     "data": {
      "image/png": "[encoded data removed]",
      "text/plain": [
       "<Figure size 432x288 with 1 Axes>"
      ]
     },
     "metadata": {
      "needs_background": "light"
     },
     "output_type": "display_data"
    }
   ],
   "source": [
    "df_02['score'].plot.hist(bins=10, title='Scores', xlabel='Score')"
   ]
  },
  {
   "cell_type": "code",
   "execution_count": 24,
   "id": "695b17e0",
   "metadata": {},
   "outputs": [
    {
     "data": {
      "text/plain": [
       "<AxesSubplot:>"
      ]
     },
     "execution_count": 24,
     "metadata": {},
     "output_type": "execute_result"
    },
    {
     "data": {
      "image/png": "[encoded data removed]",
      "text/plain": [
       "<Figure size 432x288 with 1 Axes>"
      ]
     },
     "metadata": {
      "needs_background": "light"
     },
     "output_type": "display_data"
    }
   ],
   "source": [
    "df_02.boxplot('n_comments')"
   ]
  },
  {
   "cell_type": "code",
   "execution_count": 25,
   "id": "8dbca1e1",
   "metadata": {},
   "outputs": [
    {
     "data": {
      "text/plain": [
       "<AxesSubplot:title={'center':'Top Authors'}, ylabel='# Posts'>"
      ]
     },
     "execution_count": 25,
     "metadata": {},
     "output_type": "execute_result"
    },
    {
     "data": {
      "image/png": "[encoded data removed]",
      "text/plain": [
       "<Figure size 432x288 with 1 Axes>"
      ]
     },
     "metadata": {
      "needs_background": "light"
     },
     "output_type": "display_data"
    }
   ],
   "source": [
    "df_02['author'].value_counts()[:10].plot.bar(title='Top Authors', ylabel='# Posts')"
   ]
  },
  {
   "cell_type": "code",
   "execution_count": 26,
   "id": "767f8b5d",
   "metadata": {},
   "outputs": [
    {
     "data": {
      "text/html": [
       "<div>\n",
       "<style scoped>\n",
       "    .dataframe tbody tr th:only-of-type {\n",
       "        vertical-align: middle;\n",
       "    }\n",
       "\n",
       "    .dataframe tbody tr th {\n",
       "        vertical-align: top;\n",
       "    }\n",
       "\n",
       "    .dataframe thead th {\n",
       "        text-align: right;\n",
       "    }\n",
       "</style>\n",
       "<table border=\"1\" class=\"dataframe\">\n",
       "  <thead>\n",
       "    <tr style=\"text-align: right;\">\n",
       "      <th></th>\n",
       "      <th>title</th>\n",
       "      <th>link</th>\n",
       "      <th>author</th>\n",
       "      <th>n_comments</th>\n",
       "      <th>score</th>\n",
       "      <th>text</th>\n",
       "    </tr>\n",
       "  </thead>\n",
       "  <tbody>\n",
       "    <tr>\n",
       "      <th>64</th>\n",
       "      <td>Departing from protocol, pope goes to Russian ...</td>\n",
       "      <td>/r/worldnews/comments/t13c03/departing_from_pr...</td>\n",
       "      <td>Niflheim-Dragon</td>\n",
       "      <td>648</td>\n",
       "      <td>11356</td>\n",
       "      <td></td>\n",
       "    </tr>\n",
       "    <tr>\n",
       "      <th>311</th>\n",
       "      <td>Russia says will only talk to Ukraine once Ukr...</td>\n",
       "      <td>/r/worldnews/comments/t11eg4/russia_says_will_...</td>\n",
       "      <td>Niflheim-Dragon</td>\n",
       "      <td>165</td>\n",
       "      <td>867</td>\n",
       "      <td></td>\n",
       "    </tr>\n",
       "    <tr>\n",
       "      <th>354</th>\n",
       "      <td>IOC urges federations to move or cancel events...</td>\n",
       "      <td>/r/worldnews/comments/t19vmz/ioc_urges_federat...</td>\n",
       "      <td>Niflheim-Dragon</td>\n",
       "      <td>8</td>\n",
       "      <td>202</td>\n",
       "      <td></td>\n",
       "    </tr>\n",
       "    <tr>\n",
       "      <th>365</th>\n",
       "      <td>Erdogan says NATO, Western reaction to Russian...</td>\n",
       "      <td>/r/worldnews/comments/t17hyy/erdogan_says_nato...</td>\n",
       "      <td>Niflheim-Dragon</td>\n",
       "      <td>37</td>\n",
       "      <td>251</td>\n",
       "      <td></td>\n",
       "    </tr>\n",
       "    <tr>\n",
       "      <th>414</th>\n",
       "      <td>Ukraine central bank bans payments to Russia, ...</td>\n",
       "      <td>/r/worldnews/comments/t0vkug/ukraine_central_b...</td>\n",
       "      <td>Niflheim-Dragon</td>\n",
       "      <td>48</td>\n",
       "      <td>1259</td>\n",
       "      <td></td>\n",
       "    </tr>\n",
       "    <tr>\n",
       "      <th>426</th>\n",
       "      <td>Almost 11,000 Ukrainians entered Romania on fi...</td>\n",
       "      <td>/r/worldnews/comments/t15bcm/almost_11000_ukra...</td>\n",
       "      <td>Niflheim-Dragon</td>\n",
       "      <td>10</td>\n",
       "      <td>211</td>\n",
       "      <td></td>\n",
       "    </tr>\n",
       "    <tr>\n",
       "      <th>430</th>\n",
       "      <td>Europe ready to impose more sanctions on Russi...</td>\n",
       "      <td>/r/worldnews/comments/t11mc7/europe_ready_to_i...</td>\n",
       "      <td>Niflheim-Dragon</td>\n",
       "      <td>38</td>\n",
       "      <td>369</td>\n",
       "      <td></td>\n",
       "    </tr>\n",
       "    <tr>\n",
       "      <th>460</th>\n",
       "      <td>Activist Thunberg protests against Ukraine inv...</td>\n",
       "      <td>/r/worldnews/comments/t15bye/activist_thunberg...</td>\n",
       "      <td>Niflheim-Dragon</td>\n",
       "      <td>63</td>\n",
       "      <td>168</td>\n",
       "      <td></td>\n",
       "    </tr>\n",
       "    <tr>\n",
       "      <th>553</th>\n",
       "      <td>Turkey cannot stop Russian warships accessing ...</td>\n",
       "      <td>/r/worldnews/comments/t119vr/turkey_cannot_sto...</td>\n",
       "      <td>Niflheim-Dragon</td>\n",
       "      <td>113</td>\n",
       "      <td>192</td>\n",
       "      <td></td>\n",
       "    </tr>\n",
       "    <tr>\n",
       "      <th>562</th>\n",
       "      <td>Cutting Russia off SWIFT technically difficult...</td>\n",
       "      <td>/r/worldnews/comments/t11wdz/cutting_russia_of...</td>\n",
       "      <td>Niflheim-Dragon</td>\n",
       "      <td>98</td>\n",
       "      <td>159</td>\n",
       "      <td></td>\n",
       "    </tr>\n",
       "    <tr>\n",
       "      <th>591</th>\n",
       "      <td>Paralysed banking system pushing Afghanistan t...</td>\n",
       "      <td>/r/worldnews/comments/t19lwh/paralysed_banking...</td>\n",
       "      <td>Niflheim-Dragon</td>\n",
       "      <td>7</td>\n",
       "      <td>43</td>\n",
       "      <td></td>\n",
       "    </tr>\n",
       "    <tr>\n",
       "      <th>617</th>\n",
       "      <td>Ukraine's Zelenskiy says he is waiting for con...</td>\n",
       "      <td>/r/worldnews/comments/t0br75/ukraines_zelenski...</td>\n",
       "      <td>Niflheim-Dragon</td>\n",
       "      <td>365</td>\n",
       "      <td>6421</td>\n",
       "      <td></td>\n",
       "    </tr>\n",
       "    <tr>\n",
       "      <th>629</th>\n",
       "      <td>Venezuela blames U.S., NATO for Ukraine conflict</td>\n",
       "      <td>/r/worldnews/comments/t15zte/venezuela_blames_...</td>\n",
       "      <td>Niflheim-Dragon</td>\n",
       "      <td>62</td>\n",
       "      <td>57</td>\n",
       "      <td></td>\n",
       "    </tr>\n",
       "    <tr>\n",
       "      <th>644</th>\n",
       "      <td>Czech Republic shuts Russian consulates, recal...</td>\n",
       "      <td>/r/worldnews/comments/t0d3ue/czech_republic_sh...</td>\n",
       "      <td>Niflheim-Dragon</td>\n",
       "      <td>73</td>\n",
       "      <td>4393</td>\n",
       "      <td></td>\n",
       "    </tr>\n",
       "    <tr>\n",
       "      <th>655</th>\n",
       "      <td>Merkel condemns Russian invasion as legacy com...</td>\n",
       "      <td>/r/worldnews/comments/t13eab/merkel_condemns_r...</td>\n",
       "      <td>Niflheim-Dragon</td>\n",
       "      <td>15</td>\n",
       "      <td>72</td>\n",
       "      <td></td>\n",
       "    </tr>\n",
       "    <tr>\n",
       "      <th>657</th>\n",
       "      <td>Putin calls on Ukrainian military to seize pow...</td>\n",
       "      <td>/r/worldnews/comments/t169zs/putin_calls_on_uk...</td>\n",
       "      <td>Niflheim-Dragon</td>\n",
       "      <td>52</td>\n",
       "      <td>44</td>\n",
       "      <td></td>\n",
       "    </tr>\n",
       "    <tr>\n",
       "      <th>659</th>\n",
       "      <td>Putin tells Xi that Russia willing to hold hig...</td>\n",
       "      <td>/r/worldnews/comments/t13co0/putin_tells_xi_th...</td>\n",
       "      <td>Niflheim-Dragon</td>\n",
       "      <td>24</td>\n",
       "      <td>72</td>\n",
       "      <td></td>\n",
       "    </tr>\n",
       "    <tr>\n",
       "      <th>712</th>\n",
       "      <td>Invasion could drive 5 million Ukrainians to f...</td>\n",
       "      <td>/r/worldnews/comments/t1192s/invasion_could_dr...</td>\n",
       "      <td>Niflheim-Dragon</td>\n",
       "      <td>10</td>\n",
       "      <td>71</td>\n",
       "      <td></td>\n",
       "    </tr>\n",
       "    <tr>\n",
       "      <th>758</th>\n",
       "      <td>Pakistan Prime Minister Imran Khan raises Kash...</td>\n",
       "      <td>/r/worldnews/comments/t11qsb/pakistan_prime_mi...</td>\n",
       "      <td>Niflheim-Dragon</td>\n",
       "      <td>19</td>\n",
       "      <td>47</td>\n",
       "      <td></td>\n",
       "    </tr>\n",
       "    <tr>\n",
       "      <th>763</th>\n",
       "      <td>Denmark to deploy soldiers to Estonia in wake ...</td>\n",
       "      <td>/r/worldnews/comments/t0df27/denmark_to_deploy...</td>\n",
       "      <td>Niflheim-Dragon</td>\n",
       "      <td>49</td>\n",
       "      <td>1986</td>\n",
       "      <td></td>\n",
       "    </tr>\n",
       "    <tr>\n",
       "      <th>801</th>\n",
       "      <td>UK says NATO forces must not play active role ...</td>\n",
       "      <td>/r/worldnews/comments/t1236m/uk_says_nato_forc...</td>\n",
       "      <td>Niflheim-Dragon</td>\n",
       "      <td>22</td>\n",
       "      <td>35</td>\n",
       "      <td></td>\n",
       "    </tr>\n",
       "    <tr>\n",
       "      <th>803</th>\n",
       "      <td>Russia should not be cut off from SWIFT at the...</td>\n",
       "      <td>/r/worldnews/comments/t0jlnx/russia_should_not...</td>\n",
       "      <td>Niflheim-Dragon</td>\n",
       "      <td>419</td>\n",
       "      <td>709</td>\n",
       "      <td></td>\n",
       "    </tr>\n",
       "    <tr>\n",
       "      <th>825</th>\n",
       "      <td>Poland prepares medical train, hospital beds f...</td>\n",
       "      <td>/r/worldnews/comments/t0b85x/poland_prepares_m...</td>\n",
       "      <td>Niflheim-Dragon</td>\n",
       "      <td>27</td>\n",
       "      <td>1958</td>\n",
       "      <td></td>\n",
       "    </tr>\n",
       "  </tbody>\n",
       "</table>\n",
       "</div>"
      ],
      "text/plain": [
       "                                                 title  \\\n",
       "64   Departing from protocol, pope goes to Russian ...   \n",
       "311  Russia says will only talk to Ukraine once Ukr...   \n",
       "354  IOC urges federations to move or cancel events...   \n",
       "365  Erdogan says NATO, Western reaction to Russian...   \n",
       "414  Ukraine central bank bans payments to Russia, ...   \n",
       "426  Almost 11,000 Ukrainians entered Romania on fi...   \n",
       "430  Europe ready to impose more sanctions on Russi...   \n",
       "460  Activist Thunberg protests against Ukraine inv...   \n",
       "553  Turkey cannot stop Russian warships accessing ...   \n",
       "562  Cutting Russia off SWIFT technically difficult...   \n",
       "591  Paralysed banking system pushing Afghanistan t...   \n",
       "617  Ukraine's Zelenskiy says he is waiting for con...   \n",
       "629   Venezuela blames U.S., NATO for Ukraine conflict   \n",
       "644  Czech Republic shuts Russian consulates, recal...   \n",
       "655  Merkel condemns Russian invasion as legacy com...   \n",
       "657  Putin calls on Ukrainian military to seize pow...   \n",
       "659  Putin tells Xi that Russia willing to hold hig...   \n",
       "712  Invasion could drive 5 million Ukrainians to f...   \n",
       "758  Pakistan Prime Minister Imran Khan raises Kash...   \n",
       "763  Denmark to deploy soldiers to Estonia in wake ...   \n",
       "801  UK says NATO forces must not play active role ...   \n",
       "803  Russia should not be cut off from SWIFT at the...   \n",
       "825  Poland prepares medical train, hospital beds f...   \n",
       "\n",
       "                                                  link           author  \\\n",
       "64   /r/worldnews/comments/t13c03/departing_from_pr...  Niflheim-Dragon   \n",
       "311  /r/worldnews/comments/t11eg4/russia_says_will_...  Niflheim-Dragon   \n",
       "354  /r/worldnews/comments/t19vmz/ioc_urges_federat...  Niflheim-Dragon   \n",
       "365  /r/worldnews/comments/t17hyy/erdogan_says_nato...  Niflheim-Dragon   \n",
       "414  /r/worldnews/comments/t0vkug/ukraine_central_b...  Niflheim-Dragon   \n",
       "426  /r/worldnews/comments/t15bcm/almost_11000_ukra...  Niflheim-Dragon   \n",
       "430  /r/worldnews/comments/t11mc7/europe_ready_to_i...  Niflheim-Dragon   \n",
       "460  /r/worldnews/comments/t15bye/activist_thunberg...  Niflheim-Dragon   \n",
       "553  /r/worldnews/comments/t119vr/turkey_cannot_sto...  Niflheim-Dragon   \n",
       "562  /r/worldnews/comments/t11wdz/cutting_russia_of...  Niflheim-Dragon   \n",
       "591  /r/worldnews/comments/t19lwh/paralysed_banking...  Niflheim-Dragon   \n",
       "617  /r/worldnews/comments/t0br75/ukraines_zelenski...  Niflheim-Dragon   \n",
       "629  /r/worldnews/comments/t15zte/venezuela_blames_...  Niflheim-Dragon   \n",
       "644  /r/worldnews/comments/t0d3ue/czech_republic_sh...  Niflheim-Dragon   \n",
       "655  /r/worldnews/comments/t13eab/merkel_condemns_r...  Niflheim-Dragon   \n",
       "657  /r/worldnews/comments/t169zs/putin_calls_on_uk...  Niflheim-Dragon   \n",
       "659  /r/worldnews/comments/t13co0/putin_tells_xi_th...  Niflheim-Dragon   \n",
       "712  /r/worldnews/comments/t1192s/invasion_could_dr...  Niflheim-Dragon   \n",
       "758  /r/worldnews/comments/t11qsb/pakistan_prime_mi...  Niflheim-Dragon   \n",
       "763  /r/worldnews/comments/t0df27/denmark_to_deploy...  Niflheim-Dragon   \n",
       "801  /r/worldnews/comments/t1236m/uk_says_nato_forc...  Niflheim-Dragon   \n",
       "803  /r/worldnews/comments/t0jlnx/russia_should_not...  Niflheim-Dragon   \n",
       "825  /r/worldnews/comments/t0b85x/poland_prepares_m...  Niflheim-Dragon   \n",
       "\n",
       "     n_comments  score text  \n",
       "64          648  11356       \n",
       "311         165    867       \n",
       "354           8    202       \n",
       "365          37    251       \n",
       "414          48   1259       \n",
       "426          10    211       \n",
       "430          38    369       \n",
       "460          63    168       \n",
       "553         113    192       \n",
       "562          98    159       \n",
       "591           7     43       \n",
       "617         365   6421       \n",
       "629          62     57       \n",
       "644          73   4393       \n",
       "655          15     72       \n",
       "657          52     44       \n",
       "659          24     72       \n",
       "712          10     71       \n",
       "758          19     47       \n",
       "763          49   1986       \n",
       "801          22     35       \n",
       "803         419    709       \n",
       "825          27   1958       "
      ]
     },
     "execution_count": 26,
     "metadata": {},
     "output_type": "execute_result"
    }
   ],
   "source": [
    "df_02[df_02['author'] == 'Niflheim-Dragon']"
   ]
  },
  {
   "cell_type": "code",
   "execution_count": 27,
   "id": "f0250b8e",
   "metadata": {},
   "outputs": [
    {
     "data": {
      "text/plain": [
       "[('to', 399),\n",
       " ('Ukraine', 332),\n",
       " ('Russian', 252),\n",
       " ('of', 225),\n",
       " ('Russia', 202),\n",
       " ('in', 180),\n",
       " ('for', 136),\n",
       " ('on', 134),\n",
       " ('the', 116),\n",
       " ('says', 105),\n",
       " ('and', 104),\n",
       " ('invasion', 91),\n",
       " ('as', 85),\n",
       " ('Putin', 83),\n",
       " ('with', 75),\n",
       " ('Ukrainian', 69),\n",
       " ('sanctions', 67),\n",
       " ('Kyiv', 63),\n",
       " ('from', 59),\n",
       " ('-', 56),\n",
       " ('NATO', 54),\n",
       " ('|', 45),\n",
       " ('against', 42),\n",
       " ('Invasion', 41),\n",
       " ('troops', 41),\n",
       " ('after', 41),\n",
       " ('will', 39),\n",
       " ('a', 38),\n",
       " ('EU', 35),\n",
       " ('forces', 35)]"
      ]
     },
     "execution_count": 27,
     "metadata": {},
     "output_type": "execute_result"
    }
   ],
   "source": [
    "fd2 = nltk.FreqDist(' '.join(df_02['title']).split())\n",
    "fd2.most_common(30)"
   ]
  },
  {
   "cell_type": "code",
   "execution_count": 28,
   "id": "1ef85ce2",
   "metadata": {},
   "outputs": [
    {
     "data": {
      "image/png": "[encoded data removed]",
      "text/plain": [
       "<Figure size 432x288 with 1 Axes>"
      ]
     },
     "metadata": {
      "needs_background": "light"
     },
     "output_type": "display_data"
    },
    {
     "data": {
      "text/plain": [
       "<AxesSubplot:xlabel='Samples', ylabel='Counts'>"
      ]
     },
     "execution_count": 28,
     "metadata": {},
     "output_type": "execute_result"
    }
   ],
   "source": [
    "fd2.plot(30)"
   ]
  },
  {
   "cell_type": "code",
   "execution_count": 29,
   "id": "9b6b8482",
   "metadata": {},
   "outputs": [
    {
     "name": "stderr",
     "output_type": "stream",
     "text": [
      "[nltk_data] Downloading package stopwords to\n",
      "[nltk_data]     C:\\Users\\jerem\\AppData\\Roaming\\nltk_data...\n",
      "[nltk_data]   Package stopwords is already up-to-date!\n"
     ]
    },
    {
     "data": {
      "text/plain": [
       "True"
      ]
     },
     "execution_count": 29,
     "metadata": {},
     "output_type": "execute_result"
    }
   ],
   "source": [
    "nltk.download('stopwords')"
   ]
  },
  {
   "cell_type": "code",
   "execution_count": 30,
   "id": "570afa97",
   "metadata": {},
   "outputs": [
    {
     "data": {
      "text/plain": [
       "[('ukraine', 332),\n",
       " ('russian', 253),\n",
       " ('russia', 202),\n",
       " ('invasion', 132),\n",
       " ('says', 120),\n",
       " ('putin', 83),\n",
       " ('sanctions', 72),\n",
       " ('ukrainian', 69),\n",
       " ('kyiv', 63),\n",
       " ('nato', 58),\n",
       " ('-', 56),\n",
       " ('president', 52),\n",
       " ('troops', 49),\n",
       " ('|', 45),\n",
       " ('forces', 37),\n",
       " ('minister', 35),\n",
       " ('eu', 35),\n",
       " ('military', 31),\n",
       " ('war', 30),\n",
       " ('u.s.', 28),\n",
       " ('ukraine,', 28),\n",
       " ('attack', 27),\n",
       " ('nuclear', 27),\n",
       " (\"russia's\", 26),\n",
       " ('china', 26),\n",
       " ('amid', 26),\n",
       " ('/r/worldnews', 25),\n",
       " ('live', 25),\n",
       " ('thread:', 25),\n",
       " ('us', 25)]"
      ]
     },
     "execution_count": 30,
     "metadata": {},
     "output_type": "execute_result"
    }
   ],
   "source": [
    "words2 = ' '.join(df_02['title']).lower().split()\n",
    "cleaned_words2 = [w for w in words2 if w not in set(stops)]\n",
    "cleaned_fd2 = nltk.FreqDist(cleaned_words2)\n",
    "cleaned_fd2.most_common(30)"
   ]
  },
  {
   "cell_type": "code",
   "execution_count": 31,
   "id": "46334c49",
   "metadata": {},
   "outputs": [
    {
     "data": {
      "image/png": "[encoded data removed]",
      "text/plain": [
       "<Figure size 432x288 with 1 Axes>"
      ]
     },
     "metadata": {
      "needs_background": "light"
     },
     "output_type": "display_data"
    },
    {
     "data": {
      "text/plain": [
       "<AxesSubplot:xlabel='Samples', ylabel='Counts'>"
      ]
     },
     "execution_count": 31,
     "metadata": {},
     "output_type": "execute_result"
    }
   ],
   "source": [
    "cleaned_fd2.plot(30)"
   ]
  },
  {
   "cell_type": "code",
   "execution_count": 32,
   "id": "f99f0a80",
   "metadata": {},
   "outputs": [
    {
     "name": "stderr",
     "output_type": "stream",
     "text": [
      "[nltk_data] Downloading package stopwords to\n",
      "[nltk_data]     C:\\Users\\jerem\\AppData\\Roaming\\nltk_data...\n",
      "[nltk_data]   Package stopwords is already up-to-date!\n"
     ]
    },
    {
     "name": "stdout",
     "output_type": "stream",
     "text": [
      "Begin program.\n",
      "Reading credentials...\n",
      "Credentials\n",
      "Client ID: bytiyulUjxBeeTbH1UcR4g\n",
      "Client Secret: IxWBsEZ2a49N2z95654Gl2YAEzlDQg\n",
      "User Agent: jbmsds600\n",
      "Building subreddit object\n",
      "Enter the subreddit to query: dataisbeautiful\n",
      "                                                 title  \\\n",
      "0    [Topic][Open] Open Discussion Thread — Anybody...   \n",
      "1    A map of Ukraine's degrading internet infrastr...   \n",
      "2    [OC] Armed Forces Personnel in the G20 and Ukr...   \n",
      "3    The US had increased oil imports from Russia 2...   \n",
      "4    [OC] I made live digit recognizer with machine...   \n",
      "..                                                 ...   \n",
      "696  [OC] My 2021 Messenger activity summarized in ...   \n",
      "697  [OC] Year 2: Every Single Dollar Spent on My F...   \n",
      "698  [OC] Spend analysis for 2021 for family of 4 i...   \n",
      "699  [OC] Countries in Europe by GDP (PPP) per capi...   \n",
      "700  I scored my happyness every day for almost a y...   \n",
      "\n",
      "                                                  link              author  \\\n",
      "0    /r/dataisbeautiful/comments/shue2y/topicopen_o...       AutoModerator   \n",
      "1    /r/dataisbeautiful/comments/t12xgl/a_map_of_uk...         datainspace   \n",
      "2    /r/dataisbeautiful/comments/t1gm0g/oc_armed_fo...      PieChartPirate   \n",
      "3    /r/dataisbeautiful/comments/t1is3j/the_us_had_...  CuriousInquisitive   \n",
      "4    /r/dataisbeautiful/comments/t1l6bc/oc_i_made_l...         dusklight00   \n",
      "..                                                 ...                 ...   \n",
      "696  /r/dataisbeautiful/comments/sbrkb3/oc_my_2021_...             TheTeoz   \n",
      "697  /r/dataisbeautiful/comments/sbp8cg/oc_year_2_e...          DataM0ng3r   \n",
      "698  /r/dataisbeautiful/comments/sbyz6s/oc_spend_an...     quietdesolation   \n",
      "699  /r/dataisbeautiful/comments/sbqlj0/oc_countrie...        hjh_aviation   \n",
      "700  /r/dataisbeautiful/comments/sbwgku/i_scored_my...            91anders   \n",
      "\n",
      "     n_comments  score                                               text  \n",
      "0            73     63  Anybody can post a question related to data vi...  \n",
      "1           242  22312                                                     \n",
      "2           123   1024                                                     \n",
      "3            11    117                                                     \n",
      "4             5     51                                                     \n",
      "..          ...    ...                                                ...  \n",
      "696           8     27                                                     \n",
      "697          13     34                                                     \n",
      "698          28      9                                                     \n",
      "699          10     25                                                     \n",
      "700           3     10                                                     \n",
      "\n",
      "[701 rows x 6 columns]\n",
      "Saving sql_dataisbeautiful.sqlite\n",
      "Plotting charts...\n",
      "Plotting chart 1\n",
      "Plotting chart 2\n",
      "Plotting chart 3\n",
      "[('[OC]', 527), ('the', 322), ('of', 304), ('in', 279), ('and', 163), ('to', 125), ('a', 108), ('for', 95), ('by', 88), ('on', 78), ('The', 69), ('US', 60), ('from', 59), ('-', 47), ('with', 46), ('I', 40), ('2021', 40), ('is', 37), ('are', 33), ('per', 32), ('How', 31), ('2020', 27), ('vs', 26), ('as', 26), ('data', 25), ('over', 24), ('an', 24), ('since', 24), ('that', 23), ('my', 21)]\n"
     ]
    },
    {
     "data": {
      "image/png": "[encoded data removed]",
      "text/plain": [
       "<Figure size 432x288 with 1 Axes>"
      ]
     },
     "metadata": {
      "needs_background": "light"
     },
     "output_type": "display_data"
    },
    {
     "data": {
      "image/png": "[encoded data removed]",
      "text/plain": [
       "<Figure size 432x288 with 1 Axes>"
      ]
     },
     "metadata": {
      "needs_background": "light"
     },
     "output_type": "display_data"
    },
    {
     "data": {
      "image/png": "[encoded data removed]",
      "text/plain": [
       "<Figure size 432x288 with 1 Axes>"
      ]
     },
     "metadata": {
      "needs_background": "light"
     },
     "output_type": "display_data"
    },
    {
     "name": "stdout",
     "output_type": "stream",
     "text": [
      "Plotting chart 4\n"
     ]
    },
    {
     "data": {
      "image/png": "[encoded data removed]",
      "text/plain": [
       "<Figure size 432x288 with 1 Axes>"
      ]
     },
     "metadata": {
      "needs_background": "light"
     },
     "output_type": "display_data"
    },
    {
     "data": {
      "text/plain": [
       "<Figure size 432x288 with 0 Axes>"
      ]
     },
     "metadata": {},
     "output_type": "display_data"
    }
   ],
   "source": [
    "%run -i \"yerPyRed_jupyter.py\""
   ]
  },
  {
   "cell_type": "code",
   "execution_count": 33,
   "id": "8093b50a",
   "metadata": {},
   "outputs": [
    {
     "name": "stderr",
     "output_type": "stream",
     "text": [
      "[nltk_data] Downloading package stopwords to\n",
      "[nltk_data]     C:\\Users\\jerem\\AppData\\Roaming\\nltk_data...\n",
      "[nltk_data]   Package stopwords is already up-to-date!\n"
     ]
    },
    {
     "name": "stdout",
     "output_type": "stream",
     "text": [
      "Begin program.\n",
      "Reading credentials...\n",
      "Credentials\n",
      "Client ID: bytiyulUjxBeeTbH1UcR4g\n",
      "Client Secret: IxWBsEZ2a49N2z95654Gl2YAEzlDQg\n",
      "User Agent: jbmsds600\n",
      "Building subreddit object\n",
      "Enter the subreddit to query: johnmulaney\n",
      "                                                 title  \\\n",
      "0    John Mulaney Tickets & Merch - Buying & Sellin...   \n",
      "1                           from scratch tour attire??   \n",
      "2    \"From Scratch\" age appropriateness (no spoiler...   \n",
      "3    John has been studying hard for his comedy exa...   \n",
      "4                         Read-Thru with John Mulaney!   \n",
      "..                                                 ...   \n",
      "928       Find John Mulaney Dad's Negation Skills Clip   \n",
      "929                   Baby John Mulaney - is that you?   \n",
      "930                           HE LOOKED LIKE HITLER!!!   \n",
      "931                       What’s the rush for touring?   \n",
      "932  Does anyone have the clip of John talking abou...   \n",
      "\n",
      "                                                  link            author  \\\n",
      "0    /r/JohnMulaney/comments/shnowb/john_mulaney_ti...     AutoModerator   \n",
      "1    /r/JohnMulaney/comments/t186dn/from_scratch_to...        ottiespace   \n",
      "2    /r/JohnMulaney/comments/t1cymt/from_scratch_ag...        dingosnack   \n",
      "3    /r/JohnMulaney/comments/t0vc5q/john_has_been_s...        idkman1000   \n",
      "4    /r/JohnMulaney/comments/szymin/readthru_with_j...        EliassialE   \n",
      "..                                                 ...               ...   \n",
      "928  /r/JohnMulaney/comments/owyfxl/find_john_mulan...          T0meric0   \n",
      "929  /r/JohnMulaney/comments/owvtkq/baby_john_mulan...       Missjadefox   \n",
      "930  /r/JohnMulaney/comments/ow6qss/he_looked_like_...       fatbatman89   \n",
      "931  /r/JohnMulaney/comments/ow1hvy/whats_the_rush_...  spaghettiviolist   \n",
      "932  /r/JohnMulaney/comments/ovsadu/does_anyone_hav...        Rose-Berri   \n",
      "\n",
      "     n_comments  score                                               text  \n",
      "0            26      4  Monthy buying and selling mega thread, please ...  \n",
      "1            30     45  hi so i’m a chronic over-thinker and have NO I...  \n",
      "2             9     24  I've read some articles about the general cont...  \n",
      "3             1    150                                                     \n",
      "4             5    187                                                     \n",
      "..          ...    ...                                                ...  \n",
      "928           2     25  Hi,\\n\\n I'm looking for a clip of a bit by Joh...  \n",
      "929           2     14                                                     \n",
      "930           8    472                                                     \n",
      "931          22     90  I’m def not complaining, but I wanna talk abou...  \n",
      "932           2    124                                                     \n",
      "\n",
      "[933 rows x 6 columns]\n",
      "Saving sql_johnmulaney.sqlite\n",
      "Plotting charts...\n",
      "Plotting chart 1\n",
      "Plotting chart 2\n",
      "Plotting chart 3\n",
      "[('the', 249), ('John', 206), ('a', 190), ('to', 187), ('in', 127), ('I', 123), ('of', 117), ('for', 113), ('Mulaney', 111), ('on', 96), ('and', 94), ('is', 77), ('this', 73), ('show', 63), ('at', 60), ('you', 56), ('about', 49), ('be', 48), ('with', 45), ('from', 44), ('it', 42), ('my', 39), ('that', 39), ('was', 38), ('me', 34), ('know', 33), ('his', 32), ('The', 31), ('are', 30), ('like', 30)]\n"
     ]
    },
    {
     "data": {
      "image/png": "[encoded data removed]",
      "text/plain": [
       "<Figure size 432x288 with 1 Axes>"
      ]
     },
     "metadata": {
      "needs_background": "light"
     },
     "output_type": "display_data"
    },
    {
     "data": {
      "image/png": "[encoded data removed]",
      "text/plain": [
       "<Figure size 432x288 with 1 Axes>"
      ]
     },
     "metadata": {
      "needs_background": "light"
     },
     "output_type": "display_data"
    },
    {
     "data": {
      "image/png": "[encoded data removed]",
      "text/plain": [
       "<Figure size 432x288 with 1 Axes>"
      ]
     },
     "metadata": {
      "needs_background": "light"
     },
     "output_type": "display_data"
    },
    {
     "name": "stdout",
     "output_type": "stream",
     "text": [
      "Plotting chart 4\n"
     ]
    },
    {
     "data": {
      "image/png": "[encoded data removed]",
      "text/plain": [
       "<Figure size 432x288 with 1 Axes>"
      ]
     },
     "metadata": {
      "needs_background": "light"
     },
     "output_type": "display_data"
    },
    {
     "data": {
      "text/plain": [
       "<Figure size 432x288 with 0 Axes>"
      ]
     },
     "metadata": {},
     "output_type": "display_data"
    }
   ],
   "source": [
    "%run -i \"yerPyRed_jupyter.py\""
   ]
  },
  {
   "cell_type": "code",
   "execution_count": null,
   "id": "4d332855",
   "metadata": {},
   "outputs": [],
   "source": []
  },
  {
   "cell_type": "code",
   "execution_count": null,
   "id": "58a92eaf",
   "metadata": {},
   "outputs": [],
   "source": []
  },
  {
   "cell_type": "markdown",
   "id": "ec5fce48",
   "metadata": {},
   "source": [
    "# Analysis"
   ]
  },
  {
   "cell_type": "code",
   "execution_count": null,
   "id": "d9fcadb7",
   "metadata": {},
   "outputs": [],
   "source": []
  },
  {
   "cell_type": "raw",
   "id": "996e5f5f",
   "metadata": {},
   "source": [
    "Write a short analysis of the process and results here.\n",
    "\n",
    "In this assignment, I used the praw package to gather information from a specific subreddit. I created a collection of plots using the subplot matplotlib functionality. These plots showed the most active users on that subreddit, the frequency vs score on a subreddit, the top authors on that subreddit, and the most frequent words used in that specific subreddit. \n",
    "\n",
    "I thought it would also be useful to create a python script which could run this analysis on subreddits. I created a separate python file to run the subreddit analysis, and used this Jupyter notebook to call the python script. The hardest part of this assignment was configuring the subplots to display correctly as the nltk package didn't seem to accommodate subplot on its own, I had to turn interactive mode on. \n",
    "\n",
    "Was a really fun project! The real-life aspect of it made it really interesting.\n",
    "\n",
    "Thank you,\n",
    "Jeremy"
   ]
  },
  {
   "cell_type": "code",
   "execution_count": null,
   "id": "8e2ff09c",
   "metadata": {},
   "outputs": [],
   "source": []
  }
 ],
 "metadata": {
  "kernelspec": {
   "display_name": "DS-jupyter",
   "language": "python",
   "name": "ds-jupyter"
  },
  "language_info": {
   "codemirror_mode": {
    "name": "ipython",
    "version": 3
   },
   "file_extension": ".py",
   "mimetype": "text/x-python",
   "name": "python",
   "nbconvert_exporter": "python",
   "pygments_lexer": "ipython3",
   "version": "3.9.10"
  }
 },
 "nbformat": 4,
 "nbformat_minor": 5
}
