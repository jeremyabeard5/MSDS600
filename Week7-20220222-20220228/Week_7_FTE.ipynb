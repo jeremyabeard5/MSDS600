{
 "cells": [
  {
   "cell_type": "markdown",
   "id": "2559e2ca",
   "metadata": {},
   "source": [
    "# Collecting data from social media"
   ]
  },
  {
   "cell_type": "markdown",
   "id": "9e6b5acc",
   "metadata": {},
   "source": [
    "We are going to be collecting posts from Reddit to analyze with sentiment analysis. We will be first collecting data using the Python wrapper for Reddit (PRAW) which uses the Reddit API, then storing the data into a sqlite3 database file. First, make sure you have praw installed: `conda install -c conda-forge praw -y`.\n",
    "\n",
    "Also make sure you have your Reddit API credentials ready to go (follow the instructions in the Reddit_API_key_instructions.docx file first then ask your instructor if you need more help)."
   ]
  },
  {
   "cell_type": "code",
   "execution_count": 1,
   "id": "94c5e2a4",
   "metadata": {},
   "outputs": [],
   "source": [
    "import praw\n",
    "import pandas as pd\n",
    "\n",
    "import credentials"
   ]
  },
  {
   "cell_type": "markdown",
   "id": "724dda64",
   "metadata": {},
   "source": [
    "The `import credentials` line imports the file `credentials.py` from the same directory as this Jupyter Notebook. Fill in the variables in that file with your API credentials before loading it. This is slightly more secure than putting our credentials directly in the notebook because we could ignore the credentials.py file with our .gitignore file if we were uploading this to GitHub.\n",
    "\n",
    "Next, we initialize our reddit connection with our credentials."
   ]
  },
  {
   "cell_type": "code",
   "execution_count": 2,
   "id": "569f5545",
   "metadata": {},
   "outputs": [
    {
     "name": "stderr",
     "output_type": "stream",
     "text": [
      "Version 7.0.0 of praw is outdated. Version 7.2.0 was released Wednesday February 24, 2021.\n"
     ]
    }
   ],
   "source": [
    "reddit = praw.Reddit(client_id=credentials.client_id,\n",
    "                     client_secret=credentials.client_secret,\n",
    "                     user_agent=credentials.user_agent)"
   ]
  },
  {
   "cell_type": "markdown",
   "id": "8b760478",
   "metadata": {},
   "source": [
    "Now we can select a subreddit of interest. We can use 'all' for all subreddits, but we'll try the Colorado subreddit first. We can select posts by 'top', 'hot', or other viewing options that you see in the web browser too. Then we can set an option for the time frame for some filters such as 'top', and we can use the time filters of all, day, hour, month, week, year (default: all). The PRAW documentation is a little difficult to navigate to find this information, but it's on this page: https://praw.readthedocs.io/en/latest/code_overview/models/subreddit.html#praw.models.Subreddit.search"
   ]
  },
  {
   "cell_type": "code",
   "execution_count": 3,
   "id": "6b1a65bc",
   "metadata": {},
   "outputs": [],
   "source": [
    "co_subreddit = reddit.subreddit('colorado').hot(limit=10)"
   ]
  },
  {
   "cell_type": "markdown",
   "id": "400e0496",
   "metadata": {},
   "source": [
    "This returns a generator object, which is like a list, but we only get the elements when we ask for them, and only one time. So we can loop through the once:"
   ]
  },
  {
   "cell_type": "code",
   "execution_count": 4,
   "id": "6c8ea298",
   "metadata": {},
   "outputs": [
    {
     "name": "stdout",
     "output_type": "stream",
     "text": [
      "Milky way at Loveland Pass last weekend 581\n",
      "Weminuche Wilderness 189\n",
      "Colorado Parks and Wildlife’s first educational session on wolf reintroduction efforts set for April 28 330\n",
      "Hiking the Royal Gorge in a spring snowstorm 16\n",
      "Red Rocks, 1974 John Denver concert 13\n",
      "Rocky Mountain National Park this weekend! 12\n",
      "RMNP, long's 593\n",
      "Western states, including Colorado, prepare for possible 1st water shortage declaration 464\n",
      "The View from our Deck today 204\n",
      "April snowstorms make for some beautiful pictures... 935\n"
     ]
    }
   ],
   "source": [
    "for post in co_subreddit:\n",
    "    print(post.title, post.score)"
   ]
  },
  {
   "cell_type": "markdown",
   "id": "9af1b2d2",
   "metadata": {},
   "source": [
    "And now if we try to access the elements, they are gone (because we accessed them):"
   ]
  },
  {
   "cell_type": "code",
   "execution_count": 5,
   "id": "85f371b6",
   "metadata": {},
   "outputs": [
    {
     "data": {
      "text/plain": [
       "[]"
      ]
     },
     "execution_count": 5,
     "metadata": {},
     "output_type": "execute_result"
    }
   ],
   "source": [
    "list(co_subreddit)"
   ]
  },
  {
   "cell_type": "markdown",
   "id": "d563bd65",
   "metadata": {},
   "source": [
    "This is mainly to conserve memory for very large objects, but can also be used to stream data or other things. If we convert it to a list right away, like this:\n",
    "\n",
    "`co_subreddit = reddit.subreddit('colorado').top('month', limit=10)`\n",
    "\n",
    "Then the data stays in the list (the `co_subreddit` object).\n",
    "\n",
    "We still have our last post item from the list, and we can see what properties are accessible by typing `post.` and pressing tab."
   ]
  },
  {
   "cell_type": "code",
   "execution_count": 6,
   "id": "7393a696",
   "metadata": {},
   "outputs": [
    {
     "ename": "SyntaxError",
     "evalue": "invalid syntax (<ipython-input-6-cfa328fe8a9f>, line 1)",
     "output_type": "error",
     "traceback": [
      "\u001b[1;36m  File \u001b[1;32m\"<ipython-input-6-cfa328fe8a9f>\"\u001b[1;36m, line \u001b[1;32m1\u001b[0m\n\u001b[1;33m    post.\u001b[0m\n\u001b[1;37m         ^\u001b[0m\n\u001b[1;31mSyntaxError\u001b[0m\u001b[1;31m:\u001b[0m invalid syntax\n"
     ]
    }
   ],
   "source": [
    "post."
   ]
  },
  {
   "cell_type": "code",
   "execution_count": 7,
   "id": "f3e3288f",
   "metadata": {},
   "outputs": [
    {
     "data": {
      "text/plain": [
       "935"
      ]
     },
     "execution_count": 7,
     "metadata": {},
     "output_type": "execute_result"
    }
   ],
   "source": [
    "post.score"
   ]
  },
  {
   "cell_type": "code",
   "execution_count": 8,
   "id": "a8472418",
   "metadata": {},
   "outputs": [
    {
     "data": {
      "text/plain": [
       "'April snowstorms make for some beautiful pictures...'"
      ]
     },
     "execution_count": 8,
     "metadata": {},
     "output_type": "execute_result"
    }
   ],
   "source": [
    "post.title"
   ]
  },
  {
   "cell_type": "code",
   "execution_count": 9,
   "id": "353f2de6",
   "metadata": {},
   "outputs": [
    {
     "data": {
      "text/plain": [
       "'/r/Colorado/comments/mt0qw3/april_snowstorms_make_for_some_beautiful_pictures/'"
      ]
     },
     "execution_count": 9,
     "metadata": {},
     "output_type": "execute_result"
    }
   ],
   "source": [
    "post.permalink"
   ]
  },
  {
   "cell_type": "markdown",
   "id": "46c70425",
   "metadata": {},
   "source": [
    "We can save some data of interest, like the title, author, permalink (in case we want to go and see the post), number of comments, and score (something like the upvotes minus downvotes). We will save these in a format that we can easily drop into a pandas DataFrame, which is a dictionary of lists."
   ]
  },
  {
   "cell_type": "code",
   "execution_count": 10,
   "id": "e45f574e",
   "metadata": {},
   "outputs": [],
   "source": [
    "reddit_data = {'title': [],\n",
    "              'link': [],\n",
    "              'author': [],\n",
    "              'n_comments': [],\n",
    "              'score': [],\n",
    "              'text': []}\n",
    "\n",
    "\n",
    "co_subreddit = reddit.subreddit('colorado').hot(limit=None)\n",
    "\n",
    "for post in list(co_subreddit):\n",
    "    reddit_data['title'].append(post.title)\n",
    "    reddit_data['link'].append(post.permalink)\n",
    "    if post.author is None:\n",
    "        reddit_data['author'].append('')\n",
    "    else:\n",
    "        reddit_data['author'].append(post.author.name)\n",
    "    \n",
    "    reddit_data['n_comments'].append(post.num_comments)\n",
    "    reddit_data['score'].append(post.score)\n",
    "    reddit_data['text'].append(post.selftext)"
   ]
  },
  {
   "cell_type": "markdown",
   "id": "b7fdb213",
   "metadata": {},
   "source": [
    "By the way, you probably want to set the `limit=None` argument once you have your code ready in your assignment this collects the maximum number of posts avialable (up to the API limits)."
   ]
  },
  {
   "cell_type": "code",
   "execution_count": 11,
   "id": "2d7518ee",
   "metadata": {},
   "outputs": [],
   "source": [
    "co_df = pd.DataFrame(reddit_data)"
   ]
  },
  {
   "cell_type": "code",
   "execution_count": 12,
   "id": "1683f954",
   "metadata": {},
   "outputs": [
    {
     "data": {
      "text/html": [
       "<div>\n",
       "<style scoped>\n",
       "    .dataframe tbody tr th:only-of-type {\n",
       "        vertical-align: middle;\n",
       "    }\n",
       "\n",
       "    .dataframe tbody tr th {\n",
       "        vertical-align: top;\n",
       "    }\n",
       "\n",
       "    .dataframe thead th {\n",
       "        text-align: right;\n",
       "    }\n",
       "</style>\n",
       "<table border=\"1\" class=\"dataframe\">\n",
       "  <thead>\n",
       "    <tr style=\"text-align: right;\">\n",
       "      <th></th>\n",
       "      <th>title</th>\n",
       "      <th>link</th>\n",
       "      <th>author</th>\n",
       "      <th>n_comments</th>\n",
       "      <th>score</th>\n",
       "      <th>text</th>\n",
       "    </tr>\n",
       "  </thead>\n",
       "  <tbody>\n",
       "    <tr>\n",
       "      <th>0</th>\n",
       "      <td>Milky way at Loveland Pass last weekend</td>\n",
       "      <td>/r/Colorado/comments/mud617/milky_way_at_lovel...</td>\n",
       "      <td>Sutitan</td>\n",
       "      <td>32</td>\n",
       "      <td>580</td>\n",
       "      <td></td>\n",
       "    </tr>\n",
       "    <tr>\n",
       "      <th>1</th>\n",
       "      <td>Weminuche Wilderness</td>\n",
       "      <td>/r/Colorado/comments/mu835a/weminuche_wilderness/</td>\n",
       "      <td>finerminer17</td>\n",
       "      <td>13</td>\n",
       "      <td>188</td>\n",
       "      <td></td>\n",
       "    </tr>\n",
       "    <tr>\n",
       "      <th>2</th>\n",
       "      <td>Colorado Parks and Wildlife’s first educationa...</td>\n",
       "      <td>/r/Colorado/comments/mtzl3b/colorado_parks_and...</td>\n",
       "      <td>zsreport</td>\n",
       "      <td>60</td>\n",
       "      <td>331</td>\n",
       "      <td></td>\n",
       "    </tr>\n",
       "    <tr>\n",
       "      <th>3</th>\n",
       "      <td>Hiking the Royal Gorge in a spring snowstorm</td>\n",
       "      <td>/r/Colorado/comments/muffdl/hiking_the_royal_g...</td>\n",
       "      <td>TaipeiPersonality_</td>\n",
       "      <td>0</td>\n",
       "      <td>16</td>\n",
       "      <td></td>\n",
       "    </tr>\n",
       "    <tr>\n",
       "      <th>4</th>\n",
       "      <td>Red Rocks, 1974 John Denver concert</td>\n",
       "      <td>/r/Colorado/comments/mug406/red_rocks_1974_joh...</td>\n",
       "      <td>Mellotime</td>\n",
       "      <td>0</td>\n",
       "      <td>13</td>\n",
       "      <td></td>\n",
       "    </tr>\n",
       "    <tr>\n",
       "      <th>...</th>\n",
       "      <td>...</td>\n",
       "      <td>...</td>\n",
       "      <td>...</td>\n",
       "      <td>...</td>\n",
       "      <td>...</td>\n",
       "      <td>...</td>\n",
       "    </tr>\n",
       "    <tr>\n",
       "      <th>662</th>\n",
       "      <td>If you’ve never been, please find some time to...</td>\n",
       "      <td>/r/Colorado/comments/ktkmtk/if_youve_never_bee...</td>\n",
       "      <td>bgzlvsdmb</td>\n",
       "      <td>50</td>\n",
       "      <td>421</td>\n",
       "      <td></td>\n",
       "    </tr>\n",
       "    <tr>\n",
       "      <th>663</th>\n",
       "      <td>Beautiful day hike up to Dream Lake in RMNP today</td>\n",
       "      <td>/r/Colorado/comments/ktiaqx/beautiful_day_hike...</td>\n",
       "      <td>skaloradoan</td>\n",
       "      <td>6</td>\n",
       "      <td>373</td>\n",
       "      <td></td>\n",
       "    </tr>\n",
       "    <tr>\n",
       "      <th>664</th>\n",
       "      <td>Rocky Mountain Independent Order of Oddfellows...</td>\n",
       "      <td>/r/Colorado/comments/ktwvv2/rocky_mountain_ind...</td>\n",
       "      <td>bdaruna</td>\n",
       "      <td>0</td>\n",
       "      <td>12</td>\n",
       "      <td></td>\n",
       "    </tr>\n",
       "    <tr>\n",
       "      <th>665</th>\n",
       "      <td>Chasm Lake</td>\n",
       "      <td>/r/Colorado/comments/kthnfz/chasm_lake/</td>\n",
       "      <td>rockstar0215</td>\n",
       "      <td>6</td>\n",
       "      <td>241</td>\n",
       "      <td></td>\n",
       "    </tr>\n",
       "    <tr>\n",
       "      <th>666</th>\n",
       "      <td>Hello Beautiful 💕</td>\n",
       "      <td>/r/Colorado/comments/kta18z/hello_beautiful/</td>\n",
       "      <td>Ruchip143</td>\n",
       "      <td>39</td>\n",
       "      <td>767</td>\n",
       "      <td></td>\n",
       "    </tr>\n",
       "  </tbody>\n",
       "</table>\n",
       "<p>667 rows × 6 columns</p>\n",
       "</div>"
      ],
      "text/plain": [
       "                                                 title  \\\n",
       "0              Milky way at Loveland Pass last weekend   \n",
       "1                                 Weminuche Wilderness   \n",
       "2    Colorado Parks and Wildlife’s first educationa...   \n",
       "3         Hiking the Royal Gorge in a spring snowstorm   \n",
       "4                  Red Rocks, 1974 John Denver concert   \n",
       "..                                                 ...   \n",
       "662  If you’ve never been, please find some time to...   \n",
       "663  Beautiful day hike up to Dream Lake in RMNP today   \n",
       "664  Rocky Mountain Independent Order of Oddfellows...   \n",
       "665                                         Chasm Lake   \n",
       "666                                  Hello Beautiful 💕   \n",
       "\n",
       "                                                  link              author  \\\n",
       "0    /r/Colorado/comments/mud617/milky_way_at_lovel...             Sutitan   \n",
       "1    /r/Colorado/comments/mu835a/weminuche_wilderness/        finerminer17   \n",
       "2    /r/Colorado/comments/mtzl3b/colorado_parks_and...            zsreport   \n",
       "3    /r/Colorado/comments/muffdl/hiking_the_royal_g...  TaipeiPersonality_   \n",
       "4    /r/Colorado/comments/mug406/red_rocks_1974_joh...           Mellotime   \n",
       "..                                                 ...                 ...   \n",
       "662  /r/Colorado/comments/ktkmtk/if_youve_never_bee...           bgzlvsdmb   \n",
       "663  /r/Colorado/comments/ktiaqx/beautiful_day_hike...         skaloradoan   \n",
       "664  /r/Colorado/comments/ktwvv2/rocky_mountain_ind...             bdaruna   \n",
       "665            /r/Colorado/comments/kthnfz/chasm_lake/        rockstar0215   \n",
       "666       /r/Colorado/comments/kta18z/hello_beautiful/           Ruchip143   \n",
       "\n",
       "     n_comments  score text  \n",
       "0            32    580       \n",
       "1            13    188       \n",
       "2            60    331       \n",
       "3             0     16       \n",
       "4             0     13       \n",
       "..          ...    ...  ...  \n",
       "662          50    421       \n",
       "663           6    373       \n",
       "664           0     12       \n",
       "665           6    241       \n",
       "666          39    767       \n",
       "\n",
       "[667 rows x 6 columns]"
      ]
     },
     "execution_count": 12,
     "metadata": {},
     "output_type": "execute_result"
    }
   ],
   "source": [
    "co_df"
   ]
  },
  {
   "cell_type": "markdown",
   "id": "8cf68baa",
   "metadata": {},
   "source": [
    "# Save data to sqlite"
   ]
  },
  {
   "cell_type": "markdown",
   "id": "f610f378",
   "metadata": {},
   "source": [
    "Now that we have some data collected, we can save it to a database. Sqlite3 is built-in with Python, and saves the data to a file on our hard drive. It's easy to use and set up, although it has limitations. We can save our data like so:"
   ]
  },
  {
   "cell_type": "code",
   "execution_count": 13,
   "id": "5540bbc2",
   "metadata": {},
   "outputs": [],
   "source": [
    "import sqlite3\n",
    "\n",
    "con = sqlite3.connect(\"data/co_reddit.sqlite\")\n",
    "co_df.to_sql('posts', con, if_exists='replace', index=False)"
   ]
  },
  {
   "cell_type": "markdown",
   "id": "57434658",
   "metadata": {},
   "source": [
    "We can easily create our DB file by connecting to it (make sure the path exists if you provide a directory/folder like 'data' here). Then we use the to_sql command, giving it a table name, our connection, and a few other arguments. The if_exists can be replace, append, or fail, which do what they say (see the [docs](https://pandas.pydata.org/docs/reference/api/pandas.DataFrame.to_sql.html) for more).\n",
    "\n",
    "Once our data is saved, we can check that we can load it back:"
   ]
  },
  {
   "cell_type": "code",
   "execution_count": 14,
   "id": "4128bac5",
   "metadata": {},
   "outputs": [
    {
     "data": {
      "text/html": [
       "<div>\n",
       "<style scoped>\n",
       "    .dataframe tbody tr th:only-of-type {\n",
       "        vertical-align: middle;\n",
       "    }\n",
       "\n",
       "    .dataframe tbody tr th {\n",
       "        vertical-align: top;\n",
       "    }\n",
       "\n",
       "    .dataframe thead th {\n",
       "        text-align: right;\n",
       "    }\n",
       "</style>\n",
       "<table border=\"1\" class=\"dataframe\">\n",
       "  <thead>\n",
       "    <tr style=\"text-align: right;\">\n",
       "      <th></th>\n",
       "      <th>title</th>\n",
       "      <th>link</th>\n",
       "      <th>author</th>\n",
       "      <th>n_comments</th>\n",
       "      <th>score</th>\n",
       "      <th>text</th>\n",
       "    </tr>\n",
       "  </thead>\n",
       "  <tbody>\n",
       "    <tr>\n",
       "      <th>0</th>\n",
       "      <td>Milky way at Loveland Pass last weekend</td>\n",
       "      <td>/r/Colorado/comments/mud617/milky_way_at_lovel...</td>\n",
       "      <td>Sutitan</td>\n",
       "      <td>32</td>\n",
       "      <td>580</td>\n",
       "      <td></td>\n",
       "    </tr>\n",
       "    <tr>\n",
       "      <th>1</th>\n",
       "      <td>Weminuche Wilderness</td>\n",
       "      <td>/r/Colorado/comments/mu835a/weminuche_wilderness/</td>\n",
       "      <td>finerminer17</td>\n",
       "      <td>13</td>\n",
       "      <td>188</td>\n",
       "      <td></td>\n",
       "    </tr>\n",
       "    <tr>\n",
       "      <th>2</th>\n",
       "      <td>Colorado Parks and Wildlife’s first educationa...</td>\n",
       "      <td>/r/Colorado/comments/mtzl3b/colorado_parks_and...</td>\n",
       "      <td>zsreport</td>\n",
       "      <td>60</td>\n",
       "      <td>331</td>\n",
       "      <td></td>\n",
       "    </tr>\n",
       "    <tr>\n",
       "      <th>3</th>\n",
       "      <td>Hiking the Royal Gorge in a spring snowstorm</td>\n",
       "      <td>/r/Colorado/comments/muffdl/hiking_the_royal_g...</td>\n",
       "      <td>TaipeiPersonality_</td>\n",
       "      <td>0</td>\n",
       "      <td>16</td>\n",
       "      <td></td>\n",
       "    </tr>\n",
       "    <tr>\n",
       "      <th>4</th>\n",
       "      <td>Red Rocks, 1974 John Denver concert</td>\n",
       "      <td>/r/Colorado/comments/mug406/red_rocks_1974_joh...</td>\n",
       "      <td>Mellotime</td>\n",
       "      <td>0</td>\n",
       "      <td>13</td>\n",
       "      <td></td>\n",
       "    </tr>\n",
       "    <tr>\n",
       "      <th>...</th>\n",
       "      <td>...</td>\n",
       "      <td>...</td>\n",
       "      <td>...</td>\n",
       "      <td>...</td>\n",
       "      <td>...</td>\n",
       "      <td>...</td>\n",
       "    </tr>\n",
       "    <tr>\n",
       "      <th>662</th>\n",
       "      <td>If you’ve never been, please find some time to...</td>\n",
       "      <td>/r/Colorado/comments/ktkmtk/if_youve_never_bee...</td>\n",
       "      <td>bgzlvsdmb</td>\n",
       "      <td>50</td>\n",
       "      <td>421</td>\n",
       "      <td></td>\n",
       "    </tr>\n",
       "    <tr>\n",
       "      <th>663</th>\n",
       "      <td>Beautiful day hike up to Dream Lake in RMNP today</td>\n",
       "      <td>/r/Colorado/comments/ktiaqx/beautiful_day_hike...</td>\n",
       "      <td>skaloradoan</td>\n",
       "      <td>6</td>\n",
       "      <td>373</td>\n",
       "      <td></td>\n",
       "    </tr>\n",
       "    <tr>\n",
       "      <th>664</th>\n",
       "      <td>Rocky Mountain Independent Order of Oddfellows...</td>\n",
       "      <td>/r/Colorado/comments/ktwvv2/rocky_mountain_ind...</td>\n",
       "      <td>bdaruna</td>\n",
       "      <td>0</td>\n",
       "      <td>12</td>\n",
       "      <td></td>\n",
       "    </tr>\n",
       "    <tr>\n",
       "      <th>665</th>\n",
       "      <td>Chasm Lake</td>\n",
       "      <td>/r/Colorado/comments/kthnfz/chasm_lake/</td>\n",
       "      <td>rockstar0215</td>\n",
       "      <td>6</td>\n",
       "      <td>241</td>\n",
       "      <td></td>\n",
       "    </tr>\n",
       "    <tr>\n",
       "      <th>666</th>\n",
       "      <td>Hello Beautiful 💕</td>\n",
       "      <td>/r/Colorado/comments/kta18z/hello_beautiful/</td>\n",
       "      <td>Ruchip143</td>\n",
       "      <td>39</td>\n",
       "      <td>767</td>\n",
       "      <td></td>\n",
       "    </tr>\n",
       "  </tbody>\n",
       "</table>\n",
       "<p>667 rows × 6 columns</p>\n",
       "</div>"
      ],
      "text/plain": [
       "                                                 title  \\\n",
       "0              Milky way at Loveland Pass last weekend   \n",
       "1                                 Weminuche Wilderness   \n",
       "2    Colorado Parks and Wildlife’s first educationa...   \n",
       "3         Hiking the Royal Gorge in a spring snowstorm   \n",
       "4                  Red Rocks, 1974 John Denver concert   \n",
       "..                                                 ...   \n",
       "662  If you’ve never been, please find some time to...   \n",
       "663  Beautiful day hike up to Dream Lake in RMNP today   \n",
       "664  Rocky Mountain Independent Order of Oddfellows...   \n",
       "665                                         Chasm Lake   \n",
       "666                                  Hello Beautiful 💕   \n",
       "\n",
       "                                                  link              author  \\\n",
       "0    /r/Colorado/comments/mud617/milky_way_at_lovel...             Sutitan   \n",
       "1    /r/Colorado/comments/mu835a/weminuche_wilderness/        finerminer17   \n",
       "2    /r/Colorado/comments/mtzl3b/colorado_parks_and...            zsreport   \n",
       "3    /r/Colorado/comments/muffdl/hiking_the_royal_g...  TaipeiPersonality_   \n",
       "4    /r/Colorado/comments/mug406/red_rocks_1974_joh...           Mellotime   \n",
       "..                                                 ...                 ...   \n",
       "662  /r/Colorado/comments/ktkmtk/if_youve_never_bee...           bgzlvsdmb   \n",
       "663  /r/Colorado/comments/ktiaqx/beautiful_day_hike...         skaloradoan   \n",
       "664  /r/Colorado/comments/ktwvv2/rocky_mountain_ind...             bdaruna   \n",
       "665            /r/Colorado/comments/kthnfz/chasm_lake/        rockstar0215   \n",
       "666       /r/Colorado/comments/kta18z/hello_beautiful/           Ruchip143   \n",
       "\n",
       "     n_comments  score text  \n",
       "0            32    580       \n",
       "1            13    188       \n",
       "2            60    331       \n",
       "3             0     16       \n",
       "4             0     13       \n",
       "..          ...    ...  ...  \n",
       "662          50    421       \n",
       "663           6    373       \n",
       "664           0     12       \n",
       "665           6    241       \n",
       "666          39    767       \n",
       "\n",
       "[667 rows x 6 columns]"
      ]
     },
     "execution_count": 14,
     "metadata": {},
     "output_type": "execute_result"
    }
   ],
   "source": [
    "co_df_check = pd.read_sql_query('SELECT * FROM posts;', con)\n",
    "# it's best to close the connection when finished\n",
    "con.close()\n",
    "co_df_check"
   ]
  },
  {
   "cell_type": "markdown",
   "id": "a7919aed",
   "metadata": {},
   "source": [
    "# Basic EDA on our data"
   ]
  },
  {
   "cell_type": "markdown",
   "id": "17e2b037",
   "metadata": {},
   "source": [
    "Our data we've collected has text (the title), authors (a categorical variable) and the score and number of comments (numeric). We can make a few plots with these:\n",
    "\n",
    "- word count plots\n",
    "- a bar plot of the unique authors\n",
    "- numeric EDA plots of the number of comments and score, such as histograms, box plots, etc\n",
    "\n",
    "Let's start with what we already know, which is everything but the word count plots."
   ]
  },
  {
   "cell_type": "code",
   "execution_count": 15,
   "id": "17474d4e",
   "metadata": {},
   "outputs": [
    {
     "data": {
      "text/plain": [
       "<AxesSubplot:ylabel='Frequency'>"
      ]
     },
     "execution_count": 15,
     "metadata": {},
     "output_type": "execute_result"
    },
    {
     "data": {
      "image/png": "[encoded data removed]",
      "text/plain": [
       "<Figure size 432x288 with 1 Axes>"
      ]
     },
     "metadata": {
      "needs_background": "light"
     },
     "output_type": "display_data"
    }
   ],
   "source": [
    "co_df['score'].plot.hist(bins=30)"
   ]
  },
  {
   "cell_type": "markdown",
   "id": "242769b5",
   "metadata": {},
   "source": [
    "It looks like the distribution is highly asymmetric, with many posts having a score near 0 (probably because they are new) and a few posts with a very high score. We can look at the highest-scored posts:"
   ]
  },
  {
   "cell_type": "code",
   "execution_count": 16,
   "id": "6c9db081",
   "metadata": {},
   "outputs": [
    {
     "data": {
      "text/html": [
       "<div>\n",
       "<style scoped>\n",
       "    .dataframe tbody tr th:only-of-type {\n",
       "        vertical-align: middle;\n",
       "    }\n",
       "\n",
       "    .dataframe tbody tr th {\n",
       "        vertical-align: top;\n",
       "    }\n",
       "\n",
       "    .dataframe thead th {\n",
       "        text-align: right;\n",
       "    }\n",
       "</style>\n",
       "<table border=\"1\" class=\"dataframe\">\n",
       "  <thead>\n",
       "    <tr style=\"text-align: right;\">\n",
       "      <th></th>\n",
       "      <th>title</th>\n",
       "      <th>link</th>\n",
       "      <th>author</th>\n",
       "      <th>n_comments</th>\n",
       "      <th>score</th>\n",
       "      <th>text</th>\n",
       "    </tr>\n",
       "  </thead>\n",
       "  <tbody>\n",
       "    <tr>\n",
       "      <th>636</th>\n",
       "      <td>QAnon congresswoman faces calls for arrest aft...</td>\n",
       "      <td>/r/Colorado/comments/kuo5om/qanon_congresswoma...</td>\n",
       "      <td>ElectronicWest1</td>\n",
       "      <td>224</td>\n",
       "      <td>8206</td>\n",
       "      <td></td>\n",
       "    </tr>\n",
       "  </tbody>\n",
       "</table>\n",
       "</div>"
      ],
      "text/plain": [
       "                                                 title  \\\n",
       "636  QAnon congresswoman faces calls for arrest aft...   \n",
       "\n",
       "                                                  link           author  \\\n",
       "636  /r/Colorado/comments/kuo5om/qanon_congresswoma...  ElectronicWest1   \n",
       "\n",
       "     n_comments  score text  \n",
       "636         224   8206       "
      ]
     },
     "execution_count": 16,
     "metadata": {},
     "output_type": "execute_result"
    }
   ],
   "source": [
    "co_df[co_df['score'] > 5000]"
   ]
  },
  {
   "cell_type": "markdown",
   "id": "442f6ab0",
   "metadata": {},
   "source": [
    "By printing out the links like this, we can visit them by putting www.reddit.com in from of them."
   ]
  },
  {
   "cell_type": "code",
   "execution_count": 17,
   "id": "3601e465",
   "metadata": {},
   "outputs": [
    {
     "data": {
      "text/plain": [
       "['/r/Colorado/comments/l1apvc/colorado_is_well_represented_at_the_inauguration/',\n",
       " '/r/Colorado/comments/kwp2mw/ahhh_the_colorado_life_is_so_relaxing/',\n",
       " '/r/Colorado/comments/kuo5om/qanon_congresswoman_faces_calls_for_arrest_after/']"
      ]
     },
     "execution_count": 17,
     "metadata": {},
     "output_type": "execute_result"
    }
   ],
   "source": [
    "co_df[co_df['score'] > 2000]['link'].to_list()"
   ]
  },
  {
   "cell_type": "code",
   "execution_count": 18,
   "id": "87851b59",
   "metadata": {},
   "outputs": [
    {
     "data": {
      "text/plain": [
       "<AxesSubplot:>"
      ]
     },
     "execution_count": 18,
     "metadata": {},
     "output_type": "execute_result"
    },
    {
     "data": {
      "image/png": "[encoded data removed]",
      "text/plain": [
       "<Figure size 432x288 with 1 Axes>"
      ]
     },
     "metadata": {
      "needs_background": "light"
     },
     "output_type": "display_data"
    }
   ],
   "source": [
    "co_df.boxplot('n_comments')"
   ]
  },
  {
   "cell_type": "code",
   "execution_count": 19,
   "id": "818a0f00",
   "metadata": {},
   "outputs": [
    {
     "data": {
      "image/png": "[encoded data removed]",
      "text/plain": [
       "<Figure size 432x288 with 1 Axes>"
      ]
     },
     "metadata": {
      "needs_background": "light"
     },
     "output_type": "display_data"
    }
   ],
   "source": [
    "import matplotlib.pyplot as plt\n",
    "co_df.boxplot('n_comments')\n",
    "plt.yscale('log')"
   ]
  },
  {
   "cell_type": "markdown",
   "id": "2563f90d",
   "metadata": {},
   "source": [
    "Again, we see some large outliers for number of comments. A more modern version of the boxplot is the letter-value plot, called a boxenplot in Seaborn (https://seaborn.pydata.org/generated/seaborn.boxenplot.html)."
   ]
  },
  {
   "cell_type": "code",
   "execution_count": 20,
   "id": "ddd44acb",
   "metadata": {},
   "outputs": [
    {
     "data": {
      "text/plain": [
       "<AxesSubplot:xlabel='score', ylabel='n_comments'>"
      ]
     },
     "execution_count": 20,
     "metadata": {},
     "output_type": "execute_result"
    },
    {
     "data": {
      "image/png": "[encoded data removed]",
      "text/plain": [
       "<Figure size 432x288 with 1 Axes>"
      ]
     },
     "metadata": {
      "needs_background": "light"
     },
     "output_type": "display_data"
    }
   ],
   "source": [
    "co_df.plot.scatter(x='score', y='n_comments')"
   ]
  },
  {
   "cell_type": "markdown",
   "id": "0892a146",
   "metadata": {},
   "source": [
    "We can see a roughly positive relationship between the score and number of comments, as we might expect.\n",
    "\n",
    "Next, let's look at the frequency counts of users who post things:"
   ]
  },
  {
   "cell_type": "code",
   "execution_count": 21,
   "id": "6b05262f",
   "metadata": {},
   "outputs": [
    {
     "data": {
      "text/plain": [
       "<AxesSubplot:>"
      ]
     },
     "execution_count": 21,
     "metadata": {},
     "output_type": "execute_result"
    },
    {
     "data": {
      "image/png": "[encoded data removed]",
      "text/plain": [
       "<Figure size 432x288 with 1 Axes>"
      ]
     },
     "metadata": {
      "needs_background": "light"
     },
     "output_type": "display_data"
    }
   ],
   "source": [
    "co_df['author'].value_counts()[:10].plot.bar()"
   ]
  },
  {
   "cell_type": "markdown",
   "id": "e32ba065",
   "metadata": {},
   "source": [
    "We can then see what these top authors are posting with filtering:"
   ]
  },
  {
   "cell_type": "code",
   "execution_count": 22,
   "id": "a5aca9f1",
   "metadata": {},
   "outputs": [
    {
     "data": {
      "text/html": [
       "<div>\n",
       "<style scoped>\n",
       "    .dataframe tbody tr th:only-of-type {\n",
       "        vertical-align: middle;\n",
       "    }\n",
       "\n",
       "    .dataframe tbody tr th {\n",
       "        vertical-align: top;\n",
       "    }\n",
       "\n",
       "    .dataframe thead th {\n",
       "        text-align: right;\n",
       "    }\n",
       "</style>\n",
       "<table border=\"1\" class=\"dataframe\">\n",
       "  <thead>\n",
       "    <tr style=\"text-align: right;\">\n",
       "      <th></th>\n",
       "      <th>title</th>\n",
       "      <th>link</th>\n",
       "      <th>author</th>\n",
       "      <th>n_comments</th>\n",
       "      <th>score</th>\n",
       "      <th>text</th>\n",
       "    </tr>\n",
       "  </thead>\n",
       "  <tbody>\n",
       "    <tr>\n",
       "      <th>29</th>\n",
       "      <td>3-digit suicide hotline coming summer 2022; Ea...</td>\n",
       "      <td>/r/Colorado/comments/mq3mtp/3digit_suicide_hot...</td>\n",
       "      <td>blonddy</td>\n",
       "      <td>27</td>\n",
       "      <td>519</td>\n",
       "      <td></td>\n",
       "    </tr>\n",
       "    <tr>\n",
       "      <th>32</th>\n",
       "      <td>Amtrak hopes for a new rail service for Colora...</td>\n",
       "      <td>/r/Colorado/comments/mpr2f8/amtrak_hopes_for_a...</td>\n",
       "      <td>blonddy</td>\n",
       "      <td>111</td>\n",
       "      <td>616</td>\n",
       "      <td></td>\n",
       "    </tr>\n",
       "    <tr>\n",
       "      <th>33</th>\n",
       "      <td>Woman arrested in connection with multiple exp...</td>\n",
       "      <td>/r/Colorado/comments/mpp5nc/woman_arrested_in_...</td>\n",
       "      <td>blonddy</td>\n",
       "      <td>5</td>\n",
       "      <td>217</td>\n",
       "      <td></td>\n",
       "    </tr>\n",
       "    <tr>\n",
       "      <th>92</th>\n",
       "      <td>1st female Chief Justice of Colorado Supreme C...</td>\n",
       "      <td>/r/Colorado/comments/mhzlx7/1st_female_chief_j...</td>\n",
       "      <td>blonddy</td>\n",
       "      <td>6</td>\n",
       "      <td>274</td>\n",
       "      <td></td>\n",
       "    </tr>\n",
       "    <tr>\n",
       "      <th>95</th>\n",
       "      <td>Gov. Polis to sign 'modified' mask order</td>\n",
       "      <td>/r/Colorado/comments/mib8rs/gov_polis_to_sign_...</td>\n",
       "      <td>blonddy</td>\n",
       "      <td>6</td>\n",
       "      <td>8</td>\n",
       "      <td></td>\n",
       "    </tr>\n",
       "    <tr>\n",
       "      <th>109</th>\n",
       "      <td>Animal cruelty initiative irks Colorado ranchers</td>\n",
       "      <td>/r/Colorado/comments/mgulre/animal_cruelty_ini...</td>\n",
       "      <td>blonddy</td>\n",
       "      <td>12</td>\n",
       "      <td>19</td>\n",
       "      <td></td>\n",
       "    </tr>\n",
       "    <tr>\n",
       "      <th>116</th>\n",
       "      <td>'This is nuts'; Colorado lawmaker takes action...</td>\n",
       "      <td>/r/Colorado/comments/mgokrn/this_is_nuts_color...</td>\n",
       "      <td>blonddy</td>\n",
       "      <td>1</td>\n",
       "      <td>9</td>\n",
       "      <td></td>\n",
       "    </tr>\n",
       "    <tr>\n",
       "      <th>174</th>\n",
       "      <td>City Council moves forward with massive change...</td>\n",
       "      <td>/r/Colorado/comments/m7dnma/city_council_moves...</td>\n",
       "      <td>blonddy</td>\n",
       "      <td>3</td>\n",
       "      <td>49</td>\n",
       "      <td></td>\n",
       "    </tr>\n",
       "    <tr>\n",
       "      <th>179</th>\n",
       "      <td>Two proposed bills would change liquor laws in...</td>\n",
       "      <td>/r/Colorado/comments/m6ituj/two_proposed_bills...</td>\n",
       "      <td>blonddy</td>\n",
       "      <td>10</td>\n",
       "      <td>43</td>\n",
       "      <td></td>\n",
       "    </tr>\n",
       "    <tr>\n",
       "      <th>212</th>\n",
       "      <td>WANTED: Sexually violent predator sought in Co...</td>\n",
       "      <td>/r/Colorado/comments/m3wx7r/wanted_sexually_vi...</td>\n",
       "      <td>blonddy</td>\n",
       "      <td>33</td>\n",
       "      <td>258</td>\n",
       "      <td></td>\n",
       "    </tr>\n",
       "    <tr>\n",
       "      <th>262</th>\n",
       "      <td>Colorado mask mandate extended for 30 more days</td>\n",
       "      <td>/r/Colorado/comments/lz02mt/colorado_mask_mand...</td>\n",
       "      <td>blonddy</td>\n",
       "      <td>294</td>\n",
       "      <td>815</td>\n",
       "      <td></td>\n",
       "    </tr>\n",
       "    <tr>\n",
       "      <th>267</th>\n",
       "      <td>WANTED: Group of people suspected of attacking...</td>\n",
       "      <td>/r/Colorado/comments/lz021v/wanted_group_of_pe...</td>\n",
       "      <td>blonddy</td>\n",
       "      <td>7</td>\n",
       "      <td>16</td>\n",
       "      <td></td>\n",
       "    </tr>\n",
       "    <tr>\n",
       "      <th>273</th>\n",
       "      <td>Virtual event to honor more than 6,000 Colorad...</td>\n",
       "      <td>/r/Colorado/comments/lyeim9/virtual_event_to_h...</td>\n",
       "      <td>blonddy</td>\n",
       "      <td>11</td>\n",
       "      <td>13</td>\n",
       "      <td></td>\n",
       "    </tr>\n",
       "    <tr>\n",
       "      <th>331</th>\n",
       "      <td>Trail camera captures giant predator soaring t...</td>\n",
       "      <td>/r/Colorado/comments/ls8d9g/trail_camera_captu...</td>\n",
       "      <td>blonddy</td>\n",
       "      <td>1</td>\n",
       "      <td>23</td>\n",
       "      <td></td>\n",
       "    </tr>\n",
       "    <tr>\n",
       "      <th>332</th>\n",
       "      <td>Denver is considering funding an apartment com...</td>\n",
       "      <td>/r/Colorado/comments/ls94ma/denver_is_consider...</td>\n",
       "      <td>blonddy</td>\n",
       "      <td>1</td>\n",
       "      <td>13</td>\n",
       "      <td></td>\n",
       "    </tr>\n",
       "    <tr>\n",
       "      <th>373</th>\n",
       "      <td>Colorado foster homes needed for 100+ dogs res...</td>\n",
       "      <td>/r/Colorado/comments/lmplla/colorado_foster_ho...</td>\n",
       "      <td>blonddy</td>\n",
       "      <td>3</td>\n",
       "      <td>36</td>\n",
       "      <td></td>\n",
       "    </tr>\n",
       "    <tr>\n",
       "      <th>385</th>\n",
       "      <td>$100,000 reward announced for information in u...</td>\n",
       "      <td>/r/Colorado/comments/ll6cs0/100000_reward_anno...</td>\n",
       "      <td>blonddy</td>\n",
       "      <td>0</td>\n",
       "      <td>30</td>\n",
       "      <td></td>\n",
       "    </tr>\n",
       "    <tr>\n",
       "      <th>444</th>\n",
       "      <td>Missing: 78-year-old man last seen in Pueblo M...</td>\n",
       "      <td>/r/Colorado/comments/leb5f5/missing_78yearold_...</td>\n",
       "      <td>blonddy</td>\n",
       "      <td>0</td>\n",
       "      <td>13</td>\n",
       "      <td></td>\n",
       "    </tr>\n",
       "    <tr>\n",
       "      <th>486</th>\n",
       "      <td>Colorado plans more lenient coronavirus restri...</td>\n",
       "      <td>/r/Colorado/comments/l93ai6/colorado_plans_mor...</td>\n",
       "      <td>blonddy</td>\n",
       "      <td>3</td>\n",
       "      <td>2</td>\n",
       "      <td></td>\n",
       "    </tr>\n",
       "    <tr>\n",
       "      <th>567</th>\n",
       "      <td>State shutting down never-used Colorado conven...</td>\n",
       "      <td>/r/Colorado/comments/l1f99e/state_shutting_dow...</td>\n",
       "      <td>blonddy</td>\n",
       "      <td>4</td>\n",
       "      <td>14</td>\n",
       "      <td></td>\n",
       "    </tr>\n",
       "    <tr>\n",
       "      <th>598</th>\n",
       "      <td>Gov. Polis \"disappointed\" after being \"lied to...</td>\n",
       "      <td>/r/Colorado/comments/kyjbsh/gov_polis_disappoi...</td>\n",
       "      <td>blonddy</td>\n",
       "      <td>78</td>\n",
       "      <td>726</td>\n",
       "      <td></td>\n",
       "    </tr>\n",
       "    <tr>\n",
       "      <th>609</th>\n",
       "      <td>Broncos' Von Miller under criminal investigati...</td>\n",
       "      <td>/r/Colorado/comments/ky3xfk/broncos_von_miller...</td>\n",
       "      <td>blonddy</td>\n",
       "      <td>5</td>\n",
       "      <td>13</td>\n",
       "      <td></td>\n",
       "    </tr>\n",
       "  </tbody>\n",
       "</table>\n",
       "</div>"
      ],
      "text/plain": [
       "                                                 title  \\\n",
       "29   3-digit suicide hotline coming summer 2022; Ea...   \n",
       "32   Amtrak hopes for a new rail service for Colora...   \n",
       "33   Woman arrested in connection with multiple exp...   \n",
       "92   1st female Chief Justice of Colorado Supreme C...   \n",
       "95            Gov. Polis to sign 'modified' mask order   \n",
       "109   Animal cruelty initiative irks Colorado ranchers   \n",
       "116  'This is nuts'; Colorado lawmaker takes action...   \n",
       "174  City Council moves forward with massive change...   \n",
       "179  Two proposed bills would change liquor laws in...   \n",
       "212  WANTED: Sexually violent predator sought in Co...   \n",
       "262    Colorado mask mandate extended for 30 more days   \n",
       "267  WANTED: Group of people suspected of attacking...   \n",
       "273  Virtual event to honor more than 6,000 Colorad...   \n",
       "331  Trail camera captures giant predator soaring t...   \n",
       "332  Denver is considering funding an apartment com...   \n",
       "373  Colorado foster homes needed for 100+ dogs res...   \n",
       "385  $100,000 reward announced for information in u...   \n",
       "444  Missing: 78-year-old man last seen in Pueblo M...   \n",
       "486  Colorado plans more lenient coronavirus restri...   \n",
       "567  State shutting down never-used Colorado conven...   \n",
       "598  Gov. Polis \"disappointed\" after being \"lied to...   \n",
       "609  Broncos' Von Miller under criminal investigati...   \n",
       "\n",
       "                                                  link   author  n_comments  \\\n",
       "29   /r/Colorado/comments/mq3mtp/3digit_suicide_hot...  blonddy          27   \n",
       "32   /r/Colorado/comments/mpr2f8/amtrak_hopes_for_a...  blonddy         111   \n",
       "33   /r/Colorado/comments/mpp5nc/woman_arrested_in_...  blonddy           5   \n",
       "92   /r/Colorado/comments/mhzlx7/1st_female_chief_j...  blonddy           6   \n",
       "95   /r/Colorado/comments/mib8rs/gov_polis_to_sign_...  blonddy           6   \n",
       "109  /r/Colorado/comments/mgulre/animal_cruelty_ini...  blonddy          12   \n",
       "116  /r/Colorado/comments/mgokrn/this_is_nuts_color...  blonddy           1   \n",
       "174  /r/Colorado/comments/m7dnma/city_council_moves...  blonddy           3   \n",
       "179  /r/Colorado/comments/m6ituj/two_proposed_bills...  blonddy          10   \n",
       "212  /r/Colorado/comments/m3wx7r/wanted_sexually_vi...  blonddy          33   \n",
       "262  /r/Colorado/comments/lz02mt/colorado_mask_mand...  blonddy         294   \n",
       "267  /r/Colorado/comments/lz021v/wanted_group_of_pe...  blonddy           7   \n",
       "273  /r/Colorado/comments/lyeim9/virtual_event_to_h...  blonddy          11   \n",
       "331  /r/Colorado/comments/ls8d9g/trail_camera_captu...  blonddy           1   \n",
       "332  /r/Colorado/comments/ls94ma/denver_is_consider...  blonddy           1   \n",
       "373  /r/Colorado/comments/lmplla/colorado_foster_ho...  blonddy           3   \n",
       "385  /r/Colorado/comments/ll6cs0/100000_reward_anno...  blonddy           0   \n",
       "444  /r/Colorado/comments/leb5f5/missing_78yearold_...  blonddy           0   \n",
       "486  /r/Colorado/comments/l93ai6/colorado_plans_mor...  blonddy           3   \n",
       "567  /r/Colorado/comments/l1f99e/state_shutting_dow...  blonddy           4   \n",
       "598  /r/Colorado/comments/kyjbsh/gov_polis_disappoi...  blonddy          78   \n",
       "609  /r/Colorado/comments/ky3xfk/broncos_von_miller...  blonddy           5   \n",
       "\n",
       "     score text  \n",
       "29     519       \n",
       "32     616       \n",
       "33     217       \n",
       "92     274       \n",
       "95       8       \n",
       "109     19       \n",
       "116      9       \n",
       "174     49       \n",
       "179     43       \n",
       "212    258       \n",
       "262    815       \n",
       "267     16       \n",
       "273     13       \n",
       "331     23       \n",
       "332     13       \n",
       "373     36       \n",
       "385     30       \n",
       "444     13       \n",
       "486      2       \n",
       "567     14       \n",
       "598    726       \n",
       "609     13       "
      ]
     },
     "execution_count": 22,
     "metadata": {},
     "output_type": "execute_result"
    }
   ],
   "source": [
    "co_df[co_df['author'] == 'blonddy']"
   ]
  },
  {
   "cell_type": "markdown",
   "id": "77b7558a",
   "metadata": {},
   "source": [
    "It looks like this person is posting some controversial things!\n",
    "\n",
    "Next, we can look at the text with some EDA. One simple thing to look at for text is word and n-gram counts. n-grams are groups of words of length n, like 2-grams (bigrams), 3-grams (bigrams), etc. One easy way to visualize these as bar plots is with the NLTK package, which we must install first: `conda install -c conda-forge nltk -y`.\n",
    "\n",
    "Word counts are very similar to the value counts plot above."
   ]
  },
  {
   "cell_type": "code",
   "execution_count": 23,
   "id": "2fcf2c1c",
   "metadata": {},
   "outputs": [
    {
     "name": "stdout",
     "output_type": "stream",
     "text": [
      "Collecting package metadata (current_repodata.json): ...working... done\n",
      "Solving environment: ...working... done\n"
     ]
    },
    {
     "name": "stderr",
     "output_type": "stream",
     "text": [
      "\n",
      "\n",
      "==> WARNING: A newer version of conda exists. <==\n",
      "  current version: 4.10.0\n",
      "  latest version: 4.10.1\n",
      "\n",
      "Please update conda by running\n",
      "\n",
      "    $ conda update -n base -c defaults conda\n"
     ]
    },
    {
     "name": "stdout",
     "output_type": "stream",
     "text": [
      "\n",
      "# All requested packages already installed.\n",
      "\n"
     ]
    },
    {
     "name": "stderr",
     "output_type": "stream",
     "text": [
      "\n",
      "\n"
     ]
    }
   ],
   "source": [
    "!conda install -c conda-forge nltk -y"
   ]
  },
  {
   "cell_type": "markdown",
   "id": "ff2f6d64",
   "metadata": {},
   "source": [
    "Here, we use a few sting methods - join and split. `join()` joins together a list of strings with a character. In this case, we are joining together all the titles with a single space. `split()` splits text on a character we provide as an argument. By default, it splits on any whitespaces (spaces, newlines, tabs, etc)."
   ]
  },
  {
   "cell_type": "code",
   "execution_count": 24,
   "id": "2c4bb6d3",
   "metadata": {},
   "outputs": [
    {
     "data": {
      "text/plain": [
       "[('the', 200),\n",
       " ('in', 154),\n",
       " ('Colorado', 151),\n",
       " ('of', 145),\n",
       " ('to', 141),\n",
       " ('a', 77),\n",
       " ('and', 71),\n",
       " ('from', 65),\n",
       " ('for', 61),\n",
       " ('at', 59),\n",
       " ('this', 52),\n",
       " ('on', 48),\n",
       " ('I', 33),\n",
       " ('National', 31),\n",
       " ('is', 31),\n",
       " ('Park', 29),\n",
       " ('with', 29),\n",
       " ('my', 28),\n",
       " ('The', 25),\n",
       " ('snow', 25)]"
      ]
     },
     "execution_count": 24,
     "metadata": {},
     "output_type": "execute_result"
    }
   ],
   "source": [
    "import nltk\n",
    "\n",
    "fd = nltk.FreqDist(' '.join(co_df['title']).split())\n",
    "\n",
    "fd.most_common(20)"
   ]
  },
  {
   "cell_type": "code",
   "execution_count": 25,
   "id": "67531439",
   "metadata": {},
   "outputs": [
    {
     "data": {
      "image/png": "[encoded data removed]",
      "text/plain": [
       "<Figure size 432x288 with 1 Axes>"
      ]
     },
     "metadata": {
      "needs_background": "light"
     },
     "output_type": "display_data"
    },
    {
     "data": {
      "text/plain": [
       "<AxesSubplot:xlabel='Samples', ylabel='Counts'>"
      ]
     },
     "execution_count": 25,
     "metadata": {},
     "output_type": "execute_result"
    }
   ],
   "source": [
    "fd.plot(20)"
   ]
  },
  {
   "cell_type": "markdown",
   "id": "417e10d7",
   "metadata": {},
   "source": [
    "We can see many of the top words are common words like 'the' and 'a' that don't tell us much. We can get rid of these, but also have some more preprocessing to do. A few things we can do to make our text analysis slightly better is to lowercase all words (so things like 'Colorado' and 'colorado' get counted as the same word) and remove stopwords. Stopwords are common words that don't give us much meaning. NLTK, SpaCy, and scikit-learn all have lists of stopwords. We can use NLTK's list, but need to download them first:"
   ]
  },
  {
   "cell_type": "code",
   "execution_count": 26,
   "id": "e5e64d24",
   "metadata": {},
   "outputs": [
    {
     "name": "stderr",
     "output_type": "stream",
     "text": [
      "[nltk_data] Downloading package stopwords to\n",
      "[nltk_data]     C:\\Users\\words\\AppData\\Roaming\\nltk_data...\n",
      "[nltk_data]   Package stopwords is already up-to-date!\n"
     ]
    },
    {
     "data": {
      "text/plain": [
       "True"
      ]
     },
     "execution_count": 26,
     "metadata": {},
     "output_type": "execute_result"
    }
   ],
   "source": [
    "nltk.download('stopwords')"
   ]
  },
  {
   "cell_type": "markdown",
   "id": "15bdb8d8",
   "metadata": {},
   "source": [
    "Then we can import them and look at the stopwords:"
   ]
  },
  {
   "cell_type": "code",
   "execution_count": 27,
   "id": "7da71e9e",
   "metadata": {},
   "outputs": [
    {
     "data": {
      "text/plain": [
       "['i',\n",
       " 'me',\n",
       " 'my',\n",
       " 'myself',\n",
       " 'we',\n",
       " 'our',\n",
       " 'ours',\n",
       " 'ourselves',\n",
       " 'you',\n",
       " \"you're\",\n",
       " \"you've\",\n",
       " \"you'll\",\n",
       " \"you'd\",\n",
       " 'your',\n",
       " 'yours',\n",
       " 'yourself',\n",
       " 'yourselves',\n",
       " 'he',\n",
       " 'him',\n",
       " 'his',\n",
       " 'himself',\n",
       " 'she',\n",
       " \"she's\",\n",
       " 'her',\n",
       " 'hers',\n",
       " 'herself',\n",
       " 'it',\n",
       " \"it's\",\n",
       " 'its',\n",
       " 'itself',\n",
       " 'they',\n",
       " 'them',\n",
       " 'their',\n",
       " 'theirs',\n",
       " 'themselves',\n",
       " 'what',\n",
       " 'which',\n",
       " 'who',\n",
       " 'whom',\n",
       " 'this',\n",
       " 'that',\n",
       " \"that'll\",\n",
       " 'these',\n",
       " 'those',\n",
       " 'am',\n",
       " 'is',\n",
       " 'are',\n",
       " 'was',\n",
       " 'were',\n",
       " 'be',\n",
       " 'been',\n",
       " 'being',\n",
       " 'have',\n",
       " 'has',\n",
       " 'had',\n",
       " 'having',\n",
       " 'do',\n",
       " 'does',\n",
       " 'did',\n",
       " 'doing',\n",
       " 'a',\n",
       " 'an',\n",
       " 'the',\n",
       " 'and',\n",
       " 'but',\n",
       " 'if',\n",
       " 'or',\n",
       " 'because',\n",
       " 'as',\n",
       " 'until',\n",
       " 'while',\n",
       " 'of',\n",
       " 'at',\n",
       " 'by',\n",
       " 'for',\n",
       " 'with',\n",
       " 'about',\n",
       " 'against',\n",
       " 'between',\n",
       " 'into',\n",
       " 'through',\n",
       " 'during',\n",
       " 'before',\n",
       " 'after',\n",
       " 'above',\n",
       " 'below',\n",
       " 'to',\n",
       " 'from',\n",
       " 'up',\n",
       " 'down',\n",
       " 'in',\n",
       " 'out',\n",
       " 'on',\n",
       " 'off',\n",
       " 'over',\n",
       " 'under',\n",
       " 'again',\n",
       " 'further',\n",
       " 'then',\n",
       " 'once',\n",
       " 'here',\n",
       " 'there',\n",
       " 'when',\n",
       " 'where',\n",
       " 'why',\n",
       " 'how',\n",
       " 'all',\n",
       " 'any',\n",
       " 'both',\n",
       " 'each',\n",
       " 'few',\n",
       " 'more',\n",
       " 'most',\n",
       " 'other',\n",
       " 'some',\n",
       " 'such',\n",
       " 'no',\n",
       " 'nor',\n",
       " 'not',\n",
       " 'only',\n",
       " 'own',\n",
       " 'same',\n",
       " 'so',\n",
       " 'than',\n",
       " 'too',\n",
       " 'very',\n",
       " 's',\n",
       " 't',\n",
       " 'can',\n",
       " 'will',\n",
       " 'just',\n",
       " 'don',\n",
       " \"don't\",\n",
       " 'should',\n",
       " \"should've\",\n",
       " 'now',\n",
       " 'd',\n",
       " 'll',\n",
       " 'm',\n",
       " 'o',\n",
       " 're',\n",
       " 've',\n",
       " 'y',\n",
       " 'ain',\n",
       " 'aren',\n",
       " \"aren't\",\n",
       " 'couldn',\n",
       " \"couldn't\",\n",
       " 'didn',\n",
       " \"didn't\",\n",
       " 'doesn',\n",
       " \"doesn't\",\n",
       " 'hadn',\n",
       " \"hadn't\",\n",
       " 'hasn',\n",
       " \"hasn't\",\n",
       " 'haven',\n",
       " \"haven't\",\n",
       " 'isn',\n",
       " \"isn't\",\n",
       " 'ma',\n",
       " 'mightn',\n",
       " \"mightn't\",\n",
       " 'mustn',\n",
       " \"mustn't\",\n",
       " 'needn',\n",
       " \"needn't\",\n",
       " 'shan',\n",
       " \"shan't\",\n",
       " 'shouldn',\n",
       " \"shouldn't\",\n",
       " 'wasn',\n",
       " \"wasn't\",\n",
       " 'weren',\n",
       " \"weren't\",\n",
       " 'won',\n",
       " \"won't\",\n",
       " 'wouldn',\n",
       " \"wouldn't\"]"
      ]
     },
     "execution_count": 27,
     "metadata": {},
     "output_type": "execute_result"
    }
   ],
   "source": [
    "from nltk.corpus import stopwords\n",
    "\n",
    "stops = stopwords.words('english')\n",
    "stops"
   ]
  },
  {
   "cell_type": "markdown",
   "id": "390634b4",
   "metadata": {},
   "source": [
    "Notice that they are lowercase and include punctuation. We can remove our stopwords from the text like so. We are lowercasing the full string of titles with the `lower()` built-in string method."
   ]
  },
  {
   "cell_type": "code",
   "execution_count": 28,
   "id": "c7d44276",
   "metadata": {},
   "outputs": [],
   "source": [
    "words = ' '.join(co_df['title']).lower().split()\n",
    "cleaned_words = [w for w in words if w not in set(stops)]"
   ]
  },
  {
   "cell_type": "code",
   "execution_count": 29,
   "id": "274065ef",
   "metadata": {},
   "outputs": [
    {
     "data": {
      "text/plain": [
       "[('colorado', 151),\n",
       " ('national', 32),\n",
       " ('park', 30),\n",
       " ('mountain', 29),\n",
       " ('snow', 26),\n",
       " ('sunset', 26),\n",
       " ('peak', 25),\n",
       " ('view', 23),\n",
       " ('-', 22),\n",
       " ('last', 21),\n",
       " ('state', 20),\n",
       " ('rocky', 19),\n",
       " ('beautiful', 19),\n",
       " ('co', 19),\n",
       " ('lake', 19),\n",
       " ('springs', 18),\n",
       " ('dunes', 17),\n",
       " ('time', 16),\n",
       " ('near', 16),\n",
       " ('pass', 14)]"
      ]
     },
     "execution_count": 29,
     "metadata": {},
     "output_type": "execute_result"
    }
   ],
   "source": [
    "cleaned_fd = nltk.FreqDist(cleaned_words)\n",
    "cleaned_fd.most_common(20)"
   ]
  },
  {
   "cell_type": "code",
   "execution_count": 30,
   "id": "01fb5e0e",
   "metadata": {},
   "outputs": [
    {
     "data": {
      "image/png": "[encoded data removed]",
      "text/plain": [
       "<Figure size 432x288 with 1 Axes>"
      ]
     },
     "metadata": {
      "needs_background": "light"
     },
     "output_type": "display_data"
    },
    {
     "data": {
      "text/plain": [
       "<AxesSubplot:xlabel='Samples', ylabel='Counts'>"
      ]
     },
     "execution_count": 30,
     "metadata": {},
     "output_type": "execute_result"
    }
   ],
   "source": [
    "cleaned_fd.plot(20)"
   ]
  },
  {
   "cell_type": "markdown",
   "id": "9ddf91ec",
   "metadata": {},
   "source": [
    "We can see now our analysis is more meaningful. We could also remove punctuation and other common words like 'colorado' and 'co' for a better analysis. More advanced steps include stemming or lemmatizing, which condenses words like 'sunset' and 'sunsets' to 'sunset' (removes plural endings, etc). To remove custom stopwords, we can add the new words to our stopwords. Here are two methods using a list and a set:\n",
    "\n",
    "```python\n",
    "stops = stops + ['colorado']\n",
    "stops = set(stops) | set(['colorado', 'co'])\n",
    "```"
   ]
  },
  {
   "cell_type": "markdown",
   "id": "504df973",
   "metadata": {},
   "source": [
    "# Optional Advanced Section"
   ]
  },
  {
   "cell_type": "markdown",
   "id": "e8f4c259",
   "metadata": {},
   "source": [
    "Contents:\n",
    "- Creating a SQLite table from scratch and other SQL commands\n",
    "- sqlalchemy\n",
    "- Getting comments\n",
    "- Saving timestamps\n",
    "- Scraping more data"
   ]
  },
  {
   "cell_type": "markdown",
   "id": "37b3ade8",
   "metadata": {},
   "source": [
    "## SQL commands"
   ]
  },
  {
   "cell_type": "markdown",
   "id": "97c5869b",
   "metadata": {},
   "source": [
    "To create a sqlite table from scratch, we need to use SQL commands like `CREATE TABLE`. Usually pandas will correctly infer the type when creating a table, but we may need to force it in certain instances.  SQL syntax usually has a main command and then other subcommands or options after it. Most of the major SQL commands are [here](https://www.w3schools.com/sql/sql_syntax.asp), although the most common command is `SELECT` to get data. If we want to get only a certain column of data, we can do so like:"
   ]
  },
  {
   "cell_type": "code",
   "execution_count": 31,
   "id": "255f852a",
   "metadata": {},
   "outputs": [
    {
     "data": {
      "text/html": [
       "<div>\n",
       "<style scoped>\n",
       "    .dataframe tbody tr th:only-of-type {\n",
       "        vertical-align: middle;\n",
       "    }\n",
       "\n",
       "    .dataframe tbody tr th {\n",
       "        vertical-align: top;\n",
       "    }\n",
       "\n",
       "    .dataframe thead th {\n",
       "        text-align: right;\n",
       "    }\n",
       "</style>\n",
       "<table border=\"1\" class=\"dataframe\">\n",
       "  <thead>\n",
       "    <tr style=\"text-align: right;\">\n",
       "      <th></th>\n",
       "      <th>title</th>\n",
       "      <th>n_comments</th>\n",
       "    </tr>\n",
       "  </thead>\n",
       "  <tbody>\n",
       "    <tr>\n",
       "      <th>0</th>\n",
       "      <td>Milky way at Loveland Pass last weekend</td>\n",
       "      <td>32</td>\n",
       "    </tr>\n",
       "    <tr>\n",
       "      <th>1</th>\n",
       "      <td>Weminuche Wilderness</td>\n",
       "      <td>13</td>\n",
       "    </tr>\n",
       "    <tr>\n",
       "      <th>2</th>\n",
       "      <td>Colorado Parks and Wildlife’s first educationa...</td>\n",
       "      <td>60</td>\n",
       "    </tr>\n",
       "    <tr>\n",
       "      <th>3</th>\n",
       "      <td>Hiking the Royal Gorge in a spring snowstorm</td>\n",
       "      <td>0</td>\n",
       "    </tr>\n",
       "    <tr>\n",
       "      <th>4</th>\n",
       "      <td>Red Rocks, 1974 John Denver concert</td>\n",
       "      <td>0</td>\n",
       "    </tr>\n",
       "    <tr>\n",
       "      <th>...</th>\n",
       "      <td>...</td>\n",
       "      <td>...</td>\n",
       "    </tr>\n",
       "    <tr>\n",
       "      <th>662</th>\n",
       "      <td>If you’ve never been, please find some time to...</td>\n",
       "      <td>50</td>\n",
       "    </tr>\n",
       "    <tr>\n",
       "      <th>663</th>\n",
       "      <td>Beautiful day hike up to Dream Lake in RMNP today</td>\n",
       "      <td>6</td>\n",
       "    </tr>\n",
       "    <tr>\n",
       "      <th>664</th>\n",
       "      <td>Rocky Mountain Independent Order of Oddfellows...</td>\n",
       "      <td>0</td>\n",
       "    </tr>\n",
       "    <tr>\n",
       "      <th>665</th>\n",
       "      <td>Chasm Lake</td>\n",
       "      <td>6</td>\n",
       "    </tr>\n",
       "    <tr>\n",
       "      <th>666</th>\n",
       "      <td>Hello Beautiful 💕</td>\n",
       "      <td>39</td>\n",
       "    </tr>\n",
       "  </tbody>\n",
       "</table>\n",
       "<p>667 rows × 2 columns</p>\n",
       "</div>"
      ],
      "text/plain": [
       "                                                 title  n_comments\n",
       "0              Milky way at Loveland Pass last weekend          32\n",
       "1                                 Weminuche Wilderness          13\n",
       "2    Colorado Parks and Wildlife’s first educationa...          60\n",
       "3         Hiking the Royal Gorge in a spring snowstorm           0\n",
       "4                  Red Rocks, 1974 John Denver concert           0\n",
       "..                                                 ...         ...\n",
       "662  If you’ve never been, please find some time to...          50\n",
       "663  Beautiful day hike up to Dream Lake in RMNP today           6\n",
       "664  Rocky Mountain Independent Order of Oddfellows...           0\n",
       "665                                         Chasm Lake           6\n",
       "666                                  Hello Beautiful 💕          39\n",
       "\n",
       "[667 rows x 2 columns]"
      ]
     },
     "execution_count": 31,
     "metadata": {},
     "output_type": "execute_result"
    }
   ],
   "source": [
    "con = sqlite3.connect('data/co_reddit.sqlite')\n",
    "test_df = pd.read_sql_query('SELECT title, n_comments FROM posts;', con)\n",
    "con.close()\n",
    "test_df"
   ]
  },
  {
   "cell_type": "markdown",
   "id": "422f1714",
   "metadata": {},
   "source": [
    "There are many more available subcommands for SELECT, such as WHERE (for filtering, like with dataframes), GROUP BY (similar to dataframes again) and more. The documentation for different SQL variants explains all the available commands and subcommands, like [this](https://dev.mysql.com/doc/refman/8.0/en/select.html) for MySQL."
   ]
  },
  {
   "cell_type": "markdown",
   "id": "642b64ce",
   "metadata": {},
   "source": [
    "## SQLAlchemy"
   ]
  },
  {
   "cell_type": "markdown",
   "id": "8de3a2df",
   "metadata": {},
   "source": [
    "Although sqlite3 works for sqlite, to use other SQL databases we can use the sqlalchemy package in Python. It's more complex but much more flexible. The [docs](https://www.sqlalchemy.org/) are decent for the package."
   ]
  },
  {
   "cell_type": "markdown",
   "id": "a7626731",
   "metadata": {},
   "source": [
    "## Getting comments and other data"
   ]
  },
  {
   "cell_type": "markdown",
   "id": "a1f71cee",
   "metadata": {},
   "source": [
    "We can get MUCH more data by getting comments from subreddit posts. There is some more information on this in the [docs](https://praw.readthedocs.io/en/latest/tutorials/comments.html), but we can get comments like this for our current posts (note this takes a while to run):"
   ]
  },
  {
   "cell_type": "code",
   "execution_count": 41,
   "id": "3dc9f86f",
   "metadata": {},
   "outputs": [],
   "source": [
    "reddit_posts_data = {'title': [],\n",
    "                    'link': [],\n",
    "                    'author': [],\n",
    "                    'n_comments': [],\n",
    "                    'score': [],\n",
    "                    'text': [],\n",
    "                    'id': []}\n",
    "\n",
    "reddit_comments_data = {'author': [],\n",
    "                        'score': [],\n",
    "                        'text': [],\n",
    "                        'post_id': []}\n",
    "\n",
    "\n",
    "co_subreddit = reddit.subreddit('colorado').new(limit=None)\n",
    "\n",
    "for post in list(co_subreddit):\n",
    "    reddit_posts_data['title'].append(post.title)\n",
    "    reddit_posts_data['link'].append(post.permalink)\n",
    "    if post.author is None:\n",
    "        reddit_posts_data['author'].append(None)\n",
    "    else:\n",
    "        reddit_posts_data['author'].append(post.author.name)\n",
    "    reddit_posts_data['n_comments'].append(post.num_comments)\n",
    "    reddit_posts_data['score'].append(post.score)\n",
    "    reddit_posts_data['text'].append(post.selftext)\n",
    "    reddit_posts_data['id'].append(post.id)\n",
    "\n",
    "    post.comments.replace_more(limit=None)\n",
    "    for comment in post.comments:\n",
    "        if comment.author is None:\n",
    "            reddit_comments_data['author'].append('')\n",
    "        else:\n",
    "            reddit_comments_data['author'].append(comment.author.name)\n",
    "        reddit_comments_data['score'].append(comment.score)\n",
    "        reddit_comments_data['text'].append(comment.body)\n",
    "        reddit_comments_data['post_id'].append(post.id)\n",
    "\n",
    "post_df = pd.DataFrame(reddit_posts_data)\n",
    "comment_df = pd.DataFrame(reddit_comments_data)\n",
    "\n",
    "con = sqlite3.connect('data/co_reddit.sqlite')\n",
    "post_df.to_sql('posts', con, if_exists='replace')\n",
    "comment_df.to_sql('comments', con, if_exists='replace')\n",
    "con.close()"
   ]
  },
  {
   "cell_type": "code",
   "execution_count": 42,
   "id": "346b02ab",
   "metadata": {},
   "outputs": [
    {
     "data": {
      "text/html": [
       "<div>\n",
       "<style scoped>\n",
       "    .dataframe tbody tr th:only-of-type {\n",
       "        vertical-align: middle;\n",
       "    }\n",
       "\n",
       "    .dataframe tbody tr th {\n",
       "        vertical-align: top;\n",
       "    }\n",
       "\n",
       "    .dataframe thead th {\n",
       "        text-align: right;\n",
       "    }\n",
       "</style>\n",
       "<table border=\"1\" class=\"dataframe\">\n",
       "  <thead>\n",
       "    <tr style=\"text-align: right;\">\n",
       "      <th></th>\n",
       "      <th>author</th>\n",
       "      <th>score</th>\n",
       "      <th>text</th>\n",
       "      <th>post_id</th>\n",
       "    </tr>\n",
       "  </thead>\n",
       "  <tbody>\n",
       "    <tr>\n",
       "      <th>0</th>\n",
       "      <td>Womeisyourfwiend</td>\n",
       "      <td>1</td>\n",
       "      <td>I wanted to see Denver play at Red Rocks so ba...</td>\n",
       "      <td>mug406</td>\n",
       "    </tr>\n",
       "    <tr>\n",
       "      <th>1</th>\n",
       "      <td>MalAd3pt</td>\n",
       "      <td>1</td>\n",
       "      <td>Beware that selfie death</td>\n",
       "      <td>muffdl</td>\n",
       "    </tr>\n",
       "    <tr>\n",
       "      <th>2</th>\n",
       "      <td>andersonlamar</td>\n",
       "      <td>1</td>\n",
       "      <td>where was this?? it was covered in snow where ...</td>\n",
       "      <td>mufe4j</td>\n",
       "    </tr>\n",
       "    <tr>\n",
       "      <th>3</th>\n",
       "      <td>Zinker42</td>\n",
       "      <td>5</td>\n",
       "      <td>Wow..when is this happening again</td>\n",
       "      <td>mud617</td>\n",
       "    </tr>\n",
       "    <tr>\n",
       "      <th>4</th>\n",
       "      <td>OneT1188</td>\n",
       "      <td>4</td>\n",
       "      <td>Absolutely amazing!</td>\n",
       "      <td>mud617</td>\n",
       "    </tr>\n",
       "    <tr>\n",
       "      <th>...</th>\n",
       "      <td>...</td>\n",
       "      <td>...</td>\n",
       "      <td>...</td>\n",
       "      <td>...</td>\n",
       "    </tr>\n",
       "    <tr>\n",
       "      <th>6037</th>\n",
       "      <td>dgoertz</td>\n",
       "      <td>1</td>\n",
       "      <td>That ghost is freaky!</td>\n",
       "      <td>kclfwi</td>\n",
       "    </tr>\n",
       "    <tr>\n",
       "      <th>6038</th>\n",
       "      <td>darrellbear</td>\n",
       "      <td>1</td>\n",
       "      <td>The Sawatch is the veritable backbone of the R...</td>\n",
       "      <td>kckwut</td>\n",
       "    </tr>\n",
       "    <tr>\n",
       "      <th>6039</th>\n",
       "      <td>AsiStERIu</td>\n",
       "      <td>1</td>\n",
       "      <td>North half of Nolans. : )</td>\n",
       "      <td>kckwut</td>\n",
       "    </tr>\n",
       "    <tr>\n",
       "      <th>6040</th>\n",
       "      <td>Pink_Floydd</td>\n",
       "      <td>1</td>\n",
       "      <td>I attempted Mt. Elbert in late October and tur...</td>\n",
       "      <td>kckwut</td>\n",
       "    </tr>\n",
       "    <tr>\n",
       "      <th>6041</th>\n",
       "      <td>darrellbear</td>\n",
       "      <td>1</td>\n",
       "      <td>Check out the Dolores River canyon just east o...</td>\n",
       "      <td>kcjf3v</td>\n",
       "    </tr>\n",
       "  </tbody>\n",
       "</table>\n",
       "<p>6042 rows × 4 columns</p>\n",
       "</div>"
      ],
      "text/plain": [
       "                author  score  \\\n",
       "0     Womeisyourfwiend      1   \n",
       "1             MalAd3pt      1   \n",
       "2        andersonlamar      1   \n",
       "3             Zinker42      5   \n",
       "4             OneT1188      4   \n",
       "...                ...    ...   \n",
       "6037           dgoertz      1   \n",
       "6038       darrellbear      1   \n",
       "6039         AsiStERIu      1   \n",
       "6040       Pink_Floydd      1   \n",
       "6041       darrellbear      1   \n",
       "\n",
       "                                                   text post_id  \n",
       "0     I wanted to see Denver play at Red Rocks so ba...  mug406  \n",
       "1                              Beware that selfie death  muffdl  \n",
       "2     where was this?? it was covered in snow where ...  mufe4j  \n",
       "3                     Wow..when is this happening again  mud617  \n",
       "4                                   Absolutely amazing!  mud617  \n",
       "...                                                 ...     ...  \n",
       "6037                              That ghost is freaky!  kclfwi  \n",
       "6038  The Sawatch is the veritable backbone of the R...  kckwut  \n",
       "6039                          North half of Nolans. : )  kckwut  \n",
       "6040  I attempted Mt. Elbert in late October and tur...  kckwut  \n",
       "6041  Check out the Dolores River canyon just east o...  kcjf3v  \n",
       "\n",
       "[6042 rows x 4 columns]"
      ]
     },
     "execution_count": 42,
     "metadata": {},
     "output_type": "execute_result"
    }
   ],
   "source": [
    "comment_df"
   ]
  },
  {
   "cell_type": "code",
   "execution_count": 43,
   "id": "335bf6b5",
   "metadata": {},
   "outputs": [
    {
     "data": {
      "text/plain": [
       "(6042, 4)"
      ]
     },
     "execution_count": 43,
     "metadata": {},
     "output_type": "execute_result"
    }
   ],
   "source": [
    "comment_df.shape"
   ]
  },
  {
   "cell_type": "code",
   "execution_count": 44,
   "id": "df1da39a",
   "metadata": {},
   "outputs": [
    {
     "data": {
      "text/plain": [
       "(917, 7)"
      ]
     },
     "execution_count": 44,
     "metadata": {},
     "output_type": "execute_result"
    }
   ],
   "source": [
    "post_df.shape"
   ]
  },
  {
   "cell_type": "markdown",
   "id": "ea012f5d",
   "metadata": {},
   "source": [
    "The comments can veer off into tangents sometimes, so may not always be helpful. But that's where much of the text content can sometimes be, and it's more \n",
    "\n",
    "The replace_more method replaces all the 'more comments' links with the actual comments (if limit=None, otherwise gets rid of them if limit=0). This can take a while to run if there are lots of comments. The comment object that we use in the inner loop then stores info on the comment, such as the author, score, text, and so on.\n",
    "\n",
    "To store this data, you can use a separate table for the comments and one for the posts. If each table has a 'postID' column or something like it (with the `post.id` so we can match the comments with the original posts if we want).\n",
    "\n",
    "You can also see what things are available for a comment object either in the PRAW docs or by looking at the object directly (e.g. by typing 'comment.' the pressing tab).\n",
    "\n",
    "\n",
    "Note: you can use the `tqdm` package to wrap the loops to see a progress bar (to estimate time remaining), like this:\n",
    "```python\n",
    "from tqdm import tqdm\n",
    "\n",
    "for post in tqdm(list(co_subreddit)):\n",
    "    ...\n",
    "```    "
   ]
  },
  {
   "cell_type": "markdown",
   "id": "5173aa45",
   "metadata": {},
   "source": [
    "We can also get other data like images, time the post or comment was created at (the created_utc property of posts and comments, which is the time since the epoch in the UTC timezone) and more. If we are saving images (or even videos), we can download them and save them in the database as a BLOB type (instead of TEXT or INTEGER, etc). You can see the datatypes for sqlite3 [here](https://www.sqlite.org/datatype3.html)."
   ]
  },
  {
   "cell_type": "markdown",
   "id": "2edde053",
   "metadata": {},
   "source": [
    "## Collecting more data"
   ]
  },
  {
   "cell_type": "markdown",
   "id": "6646995b",
   "metadata": {},
   "source": [
    "By default, the Reddit API currently only allows us to collect 1000 items at a time (by setting `limit=None` in the new, hot, or top function). We can sort these in different ways, but in order to collect more data, we need to get more advanced. One way to do this is to use options in the `co_subreddit = reddit.subreddit('colorado').new()` command (or others, like hot or top). Here, we get the latest 10 posts, then grab the 10 posts before that (since the CO subreddit is small and only has 917 posts at the time of this writing). You will probably want to use `limit=None` to get the maximum number of posts in your assignment, but you can get more data with this method demonstrated here."
   ]
  },
  {
   "cell_type": "code",
   "execution_count": 199,
   "id": "ba2044df",
   "metadata": {},
   "outputs": [],
   "source": [
    "newest_posts = list(reddit.subreddit('colorado').new(limit=10))"
   ]
  },
  {
   "cell_type": "code",
   "execution_count": 200,
   "id": "29d96ec1",
   "metadata": {},
   "outputs": [
    {
     "data": {
      "text/plain": [
       "10"
      ]
     },
     "execution_count": 200,
     "metadata": {},
     "output_type": "execute_result"
    }
   ],
   "source": [
    "len(newest_posts)"
   ]
  },
  {
   "cell_type": "markdown",
   "id": "43701e9e",
   "metadata": {},
   "source": [
    "We can see the first element is the most recent post and the last one is the oldest post."
   ]
  },
  {
   "cell_type": "code",
   "execution_count": 201,
   "id": "449903db",
   "metadata": {},
   "outputs": [
    {
     "data": {
      "text/plain": [
       "1618787452.0"
      ]
     },
     "execution_count": 201,
     "metadata": {},
     "output_type": "execute_result"
    }
   ],
   "source": [
    "newest_posts[0].created_utc"
   ]
  },
  {
   "cell_type": "code",
   "execution_count": 202,
   "id": "50cea3c9",
   "metadata": {},
   "outputs": [
    {
     "data": {
      "text/plain": [
       "1618662000.0"
      ]
     },
     "execution_count": 202,
     "metadata": {},
     "output_type": "execute_result"
    }
   ],
   "source": [
    "newest_posts[-1].created_utc"
   ]
  },
  {
   "cell_type": "code",
   "execution_count": 203,
   "id": "3ba311ae",
   "metadata": {},
   "outputs": [],
   "source": [
    "posts = list(reddit.subreddit('colorado').new(limit=10, params={'after': newest_posts[-1].name}))"
   ]
  },
  {
   "cell_type": "code",
   "execution_count": 204,
   "id": "7d97335c",
   "metadata": {},
   "outputs": [
    {
     "data": {
      "text/plain": [
       "1618624583.0"
      ]
     },
     "execution_count": 204,
     "metadata": {},
     "output_type": "execute_result"
    }
   ],
   "source": [
    "posts[0].created_utc"
   ]
  },
  {
   "cell_type": "code",
   "execution_count": 205,
   "id": "9f2f56ea",
   "metadata": {},
   "outputs": [
    {
     "data": {
      "text/plain": [
       "1618417068.0"
      ]
     },
     "execution_count": 205,
     "metadata": {},
     "output_type": "execute_result"
    }
   ],
   "source": [
    "posts[-1].created_utc"
   ]
  },
  {
   "cell_type": "markdown",
   "id": "5c042a72",
   "metadata": {},
   "source": [
    "Now we can see we have a new set of posts which were created before our first set of posts (new_posts). It's confusing to use the 'after' parameter, but this means that posts come 'after' the provided id (from the name attribute) in the order of posts (sorted from the newest to oldest).\n",
    "\n",
    "Note: if you really do want to get all posts, you should use the `new` function instead of `hot`."
   ]
  }
 ],
 "metadata": {
  "kernelspec": {
   "display_name": "Python 3 (ipykernel)",
   "language": "python",
   "name": "python3"
  },
  "language_info": {
   "codemirror_mode": {
    "name": "ipython",
    "version": 3
   },
   "file_extension": ".py",
   "mimetype": "text/x-python",
   "name": "python",
   "nbconvert_exporter": "python",
   "pygments_lexer": "ipython3",
   "version": "3.9.7"
  }
 },
 "nbformat": 4,
 "nbformat_minor": 5
}
