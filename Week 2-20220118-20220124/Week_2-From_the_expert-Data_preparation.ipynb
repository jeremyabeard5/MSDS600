{
 "cells": [
  {
   "cell_type": "markdown",
   "id": "phantom-danish",
   "metadata": {},
   "source": [
    "# From the expert: data cleaning and preparation"
   ]
  },
  {
   "cell_type": "markdown",
   "id": "surgical-scratch",
   "metadata": {},
   "source": [
    "In the [CRISP-DM](https://www.datascience-pm.com/crisp-dm-2/) framework, we are in step 3:\n",
    "\n",
    "[](attachment:image.png)\n",
    "<img src='attachment:image.png' width=400>\n",
    "\n",
    "1. **Business understanding (determining our goals and purpose of the project)**\n",
    "\n",
    "Can we predict the occurance of diabetes based on health and biographic data?\n",
    "\n",
    "2. **Data Understanding**\n",
    "\n",
    "Week 1 - EDA and visualization\n",
    "\n",
    "3. **Data Preparation**\n",
    "\n",
    "This is where we are in week 2. Once we have an understanding of the data, we can clean and prepare it for statistical or mathematical analysis. This includes things like sampling the data, cleaning missing values and outliers, and feature engineering. Steps 2 and 3 can be intermixed, because we often want to convert as much data to numeric datatypes as possible before doing EDA.\n",
    "\n",
    "4. **Modeling**\n",
    "\n",
    "Next week.\n",
    "\n",
    "5. **Evaluation**\n",
    "\n",
    "Next week.\n",
    "\n",
    "6. **Deployment**\n",
    "\n",
    "Next week."
   ]
  },
  {
   "cell_type": "markdown",
   "id": "governmental-eclipse",
   "metadata": {},
   "source": [
    "## What we'll cover here"
   ]
  },
  {
   "cell_type": "markdown",
   "id": "fatty-islam",
   "metadata": {},
   "source": [
    "**1. Filtering data with pandas**\n",
    "\n",
    "\n",
    "**2. Checking for outliers**\n",
    "- deal with them: drop, clip, or treat as missing\n",
    "\n",
    "**2. Missing values**\n",
    "- check for them, deal with them\n",
    "- drop rows with missing values\n",
    "- imputation - fill with median, mean, mode, or ML\n",
    "\n",
    "**3. Convert categorical to numeric**\n",
    "- binary encoding\n",
    "- label encoding\n",
    "- one-hot encoding\n",
    "\n",
    "**4. Feature engineering**\n",
    "- mathematical transforms (standardize, Yeo-Johnson, log transform, etc)\n",
    "- combining features\n",
    "- extracting features from datetimes\n",
    "\n",
    "Some of the above topics will be covered in the optional advanced section at the bottom of the notebook.\n",
    "\n",
    "### Other topics we won't cover here, but are part of data cleaning\n",
    "\n",
    "- looking for odd values that signify or should be missing values\n",
    "    - e.g. -999, -1, and sometimes 0s are actually missing values\n",
    "- cleaning inconsistencies in categorical columns\n",
    "    - e.g. Male, male, and MALE could all be in a gender column but should all be mapped to a consistent value"
   ]
  },
  {
   "cell_type": "markdown",
   "id": "liked-lincoln",
   "metadata": {},
   "source": [
    "# 3. Data preparation"
   ]
  },
  {
   "cell_type": "markdown",
   "id": "based-equality",
   "metadata": {},
   "source": [
    "First we load the data as before:"
   ]
  },
  {
   "cell_type": "code",
   "execution_count": 1,
   "id": "outside-barrel",
   "metadata": {},
   "outputs": [],
   "source": [
    "import pandas as pd"
   ]
  },
  {
   "cell_type": "code",
   "execution_count": 2,
   "id": "speaking-university",
   "metadata": {},
   "outputs": [
    {
     "data": {
      "text/html": [
       "<div>\n",
       "<style scoped>\n",
       "    .dataframe tbody tr th:only-of-type {\n",
       "        vertical-align: middle;\n",
       "    }\n",
       "\n",
       "    .dataframe tbody tr th {\n",
       "        vertical-align: top;\n",
       "    }\n",
       "\n",
       "    .dataframe thead th {\n",
       "        text-align: right;\n",
       "    }\n",
       "</style>\n",
       "<table border=\"1\" class=\"dataframe\">\n",
       "  <thead>\n",
       "    <tr style=\"text-align: right;\">\n",
       "      <th></th>\n",
       "      <th>Cholesterol</th>\n",
       "      <th>Glucose</th>\n",
       "      <th>HDL Chol</th>\n",
       "      <th>Age</th>\n",
       "      <th>Gender</th>\n",
       "      <th>Height</th>\n",
       "      <th>Weight</th>\n",
       "      <th>BMI</th>\n",
       "      <th>Systolic BP</th>\n",
       "      <th>Diastolic BP</th>\n",
       "      <th>waist</th>\n",
       "      <th>hip</th>\n",
       "      <th>Diabetes</th>\n",
       "    </tr>\n",
       "    <tr>\n",
       "      <th>Patient number</th>\n",
       "      <th></th>\n",
       "      <th></th>\n",
       "      <th></th>\n",
       "      <th></th>\n",
       "      <th></th>\n",
       "      <th></th>\n",
       "      <th></th>\n",
       "      <th></th>\n",
       "      <th></th>\n",
       "      <th></th>\n",
       "      <th></th>\n",
       "      <th></th>\n",
       "      <th></th>\n",
       "    </tr>\n",
       "  </thead>\n",
       "  <tbody>\n",
       "    <tr>\n",
       "      <th>1</th>\n",
       "      <td>193</td>\n",
       "      <td>77</td>\n",
       "      <td>49</td>\n",
       "      <td>19</td>\n",
       "      <td>female</td>\n",
       "      <td>61</td>\n",
       "      <td>119</td>\n",
       "      <td>22.5</td>\n",
       "      <td>118</td>\n",
       "      <td>70</td>\n",
       "      <td>32</td>\n",
       "      <td>38</td>\n",
       "      <td>No diabetes</td>\n",
       "    </tr>\n",
       "    <tr>\n",
       "      <th>2</th>\n",
       "      <td>146</td>\n",
       "      <td>79</td>\n",
       "      <td>41</td>\n",
       "      <td>19</td>\n",
       "      <td>female</td>\n",
       "      <td>60</td>\n",
       "      <td>135</td>\n",
       "      <td>26.4</td>\n",
       "      <td>108</td>\n",
       "      <td>58</td>\n",
       "      <td>33</td>\n",
       "      <td>40</td>\n",
       "      <td>No diabetes</td>\n",
       "    </tr>\n",
       "    <tr>\n",
       "      <th>3</th>\n",
       "      <td>217</td>\n",
       "      <td>75</td>\n",
       "      <td>54</td>\n",
       "      <td>20</td>\n",
       "      <td>female</td>\n",
       "      <td>67</td>\n",
       "      <td>187</td>\n",
       "      <td>29.3</td>\n",
       "      <td>110</td>\n",
       "      <td>72</td>\n",
       "      <td>40</td>\n",
       "      <td>45</td>\n",
       "      <td>No diabetes</td>\n",
       "    </tr>\n",
       "    <tr>\n",
       "      <th>4</th>\n",
       "      <td>226</td>\n",
       "      <td>97</td>\n",
       "      <td>70</td>\n",
       "      <td>20</td>\n",
       "      <td>female</td>\n",
       "      <td>64</td>\n",
       "      <td>114</td>\n",
       "      <td>19.6</td>\n",
       "      <td>122</td>\n",
       "      <td>64</td>\n",
       "      <td>31</td>\n",
       "      <td>39</td>\n",
       "      <td>No diabetes</td>\n",
       "    </tr>\n",
       "    <tr>\n",
       "      <th>5</th>\n",
       "      <td>164</td>\n",
       "      <td>91</td>\n",
       "      <td>67</td>\n",
       "      <td>20</td>\n",
       "      <td>female</td>\n",
       "      <td>70</td>\n",
       "      <td>141</td>\n",
       "      <td>20.2</td>\n",
       "      <td>122</td>\n",
       "      <td>86</td>\n",
       "      <td>32</td>\n",
       "      <td>39</td>\n",
       "      <td>No diabetes</td>\n",
       "    </tr>\n",
       "    <tr>\n",
       "      <th>...</th>\n",
       "      <td>...</td>\n",
       "      <td>...</td>\n",
       "      <td>...</td>\n",
       "      <td>...</td>\n",
       "      <td>...</td>\n",
       "      <td>...</td>\n",
       "      <td>...</td>\n",
       "      <td>...</td>\n",
       "      <td>...</td>\n",
       "      <td>...</td>\n",
       "      <td>...</td>\n",
       "      <td>...</td>\n",
       "      <td>...</td>\n",
       "    </tr>\n",
       "    <tr>\n",
       "      <th>386</th>\n",
       "      <td>227</td>\n",
       "      <td>105</td>\n",
       "      <td>44</td>\n",
       "      <td>83</td>\n",
       "      <td>female</td>\n",
       "      <td>59</td>\n",
       "      <td>125</td>\n",
       "      <td>25.2</td>\n",
       "      <td>150</td>\n",
       "      <td>90</td>\n",
       "      <td>35</td>\n",
       "      <td>40</td>\n",
       "      <td>No diabetes</td>\n",
       "    </tr>\n",
       "    <tr>\n",
       "      <th>387</th>\n",
       "      <td>226</td>\n",
       "      <td>279</td>\n",
       "      <td>52</td>\n",
       "      <td>84</td>\n",
       "      <td>female</td>\n",
       "      <td>60</td>\n",
       "      <td>192</td>\n",
       "      <td>37.5</td>\n",
       "      <td>144</td>\n",
       "      <td>88</td>\n",
       "      <td>41</td>\n",
       "      <td>48</td>\n",
       "      <td>Diabetes</td>\n",
       "    </tr>\n",
       "    <tr>\n",
       "      <th>388</th>\n",
       "      <td>301</td>\n",
       "      <td>90</td>\n",
       "      <td>118</td>\n",
       "      <td>89</td>\n",
       "      <td>female</td>\n",
       "      <td>61</td>\n",
       "      <td>115</td>\n",
       "      <td>21.7</td>\n",
       "      <td>218</td>\n",
       "      <td>90</td>\n",
       "      <td>31</td>\n",
       "      <td>41</td>\n",
       "      <td>No diabetes</td>\n",
       "    </tr>\n",
       "    <tr>\n",
       "      <th>389</th>\n",
       "      <td>232</td>\n",
       "      <td>184</td>\n",
       "      <td>114</td>\n",
       "      <td>91</td>\n",
       "      <td>female</td>\n",
       "      <td>61</td>\n",
       "      <td>127</td>\n",
       "      <td>24.0</td>\n",
       "      <td>170</td>\n",
       "      <td>82</td>\n",
       "      <td>35</td>\n",
       "      <td>38</td>\n",
       "      <td>Diabetes</td>\n",
       "    </tr>\n",
       "    <tr>\n",
       "      <th>390</th>\n",
       "      <td>165</td>\n",
       "      <td>94</td>\n",
       "      <td>69</td>\n",
       "      <td>92</td>\n",
       "      <td>female</td>\n",
       "      <td>62</td>\n",
       "      <td>217</td>\n",
       "      <td>39.7</td>\n",
       "      <td>160</td>\n",
       "      <td>82</td>\n",
       "      <td>51</td>\n",
       "      <td>51</td>\n",
       "      <td>No diabetes</td>\n",
       "    </tr>\n",
       "  </tbody>\n",
       "</table>\n",
       "<p>390 rows × 13 columns</p>\n",
       "</div>"
      ],
      "text/plain": [
       "                Cholesterol  Glucose  HDL Chol  Age  Gender  Height  Weight  \\\n",
       "Patient number                                                                \n",
       "1                       193       77        49   19  female      61     119   \n",
       "2                       146       79        41   19  female      60     135   \n",
       "3                       217       75        54   20  female      67     187   \n",
       "4                       226       97        70   20  female      64     114   \n",
       "5                       164       91        67   20  female      70     141   \n",
       "...                     ...      ...       ...  ...     ...     ...     ...   \n",
       "386                     227      105        44   83  female      59     125   \n",
       "387                     226      279        52   84  female      60     192   \n",
       "388                     301       90       118   89  female      61     115   \n",
       "389                     232      184       114   91  female      61     127   \n",
       "390                     165       94        69   92  female      62     217   \n",
       "\n",
       "                 BMI  Systolic BP  Diastolic BP  waist  hip     Diabetes  \n",
       "Patient number                                                            \n",
       "1               22.5          118            70     32   38  No diabetes  \n",
       "2               26.4          108            58     33   40  No diabetes  \n",
       "3               29.3          110            72     40   45  No diabetes  \n",
       "4               19.6          122            64     31   39  No diabetes  \n",
       "5               20.2          122            86     32   39  No diabetes  \n",
       "...              ...          ...           ...    ...  ...          ...  \n",
       "386             25.2          150            90     35   40  No diabetes  \n",
       "387             37.5          144            88     41   48     Diabetes  \n",
       "388             21.7          218            90     31   41  No diabetes  \n",
       "389             24.0          170            82     35   38     Diabetes  \n",
       "390             39.7          160            82     51   51  No diabetes  \n",
       "\n",
       "[390 rows x 13 columns]"
      ]
     },
     "execution_count": 2,
     "metadata": {},
     "output_type": "execute_result"
    }
   ],
   "source": [
    "# we can give an index number or name for our index column, or leave it blank\n",
    "df = pd.read_excel('data/diabetes_data.xlsx', index_col='Patient number')\n",
    "df"
   ]
  },
  {
   "cell_type": "markdown",
   "id": "small-immunology",
   "metadata": {},
   "source": [
    "## Filtering data"
   ]
  },
  {
   "cell_type": "markdown",
   "id": "declared-source",
   "metadata": {},
   "source": [
    "You may have already gone through this last week, in which case, you can skip this section.\n",
    "\n",
    "We can create a boolean array with a comparison operator, then filter our dataframe like this:"
   ]
  },
  {
   "cell_type": "code",
   "execution_count": 3,
   "id": "architectural-rapid",
   "metadata": {},
   "outputs": [
    {
     "data": {
      "text/plain": [
       "Patient number\n",
       "1      False\n",
       "2      False\n",
       "3      False\n",
       "4      False\n",
       "5      False\n",
       "       ...  \n",
       "386    False\n",
       "387     True\n",
       "388    False\n",
       "389     True\n",
       "390    False\n",
       "Name: Diabetes, Length: 390, dtype: bool"
      ]
     },
     "execution_count": 3,
     "metadata": {},
     "output_type": "execute_result"
    }
   ],
   "source": [
    "df['Diabetes'] == 'Diabetes'"
   ]
  },
  {
   "cell_type": "code",
   "execution_count": 4,
   "id": "beginning-national",
   "metadata": {},
   "outputs": [
    {
     "data": {
      "text/html": [
       "<div>\n",
       "<style scoped>\n",
       "    .dataframe tbody tr th:only-of-type {\n",
       "        vertical-align: middle;\n",
       "    }\n",
       "\n",
       "    .dataframe tbody tr th {\n",
       "        vertical-align: top;\n",
       "    }\n",
       "\n",
       "    .dataframe thead th {\n",
       "        text-align: right;\n",
       "    }\n",
       "</style>\n",
       "<table border=\"1\" class=\"dataframe\">\n",
       "  <thead>\n",
       "    <tr style=\"text-align: right;\">\n",
       "      <th></th>\n",
       "      <th>Cholesterol</th>\n",
       "      <th>Glucose</th>\n",
       "      <th>HDL Chol</th>\n",
       "      <th>Age</th>\n",
       "      <th>Gender</th>\n",
       "      <th>Height</th>\n",
       "      <th>Weight</th>\n",
       "      <th>BMI</th>\n",
       "      <th>Systolic BP</th>\n",
       "      <th>Diastolic BP</th>\n",
       "      <th>waist</th>\n",
       "      <th>hip</th>\n",
       "      <th>Diabetes</th>\n",
       "    </tr>\n",
       "    <tr>\n",
       "      <th>Patient number</th>\n",
       "      <th></th>\n",
       "      <th></th>\n",
       "      <th></th>\n",
       "      <th></th>\n",
       "      <th></th>\n",
       "      <th></th>\n",
       "      <th></th>\n",
       "      <th></th>\n",
       "      <th></th>\n",
       "      <th></th>\n",
       "      <th></th>\n",
       "      <th></th>\n",
       "      <th></th>\n",
       "    </tr>\n",
       "  </thead>\n",
       "  <tbody>\n",
       "    <tr>\n",
       "      <th>41</th>\n",
       "      <td>220</td>\n",
       "      <td>60</td>\n",
       "      <td>66</td>\n",
       "      <td>26</td>\n",
       "      <td>male</td>\n",
       "      <td>70</td>\n",
       "      <td>150</td>\n",
       "      <td>21.5</td>\n",
       "      <td>136</td>\n",
       "      <td>88</td>\n",
       "      <td>33</td>\n",
       "      <td>39</td>\n",
       "      <td>Diabetes</td>\n",
       "    </tr>\n",
       "    <tr>\n",
       "      <th>65</th>\n",
       "      <td>194</td>\n",
       "      <td>269</td>\n",
       "      <td>38</td>\n",
       "      <td>29</td>\n",
       "      <td>female</td>\n",
       "      <td>69</td>\n",
       "      <td>167</td>\n",
       "      <td>24.7</td>\n",
       "      <td>120</td>\n",
       "      <td>70</td>\n",
       "      <td>33</td>\n",
       "      <td>40</td>\n",
       "      <td>Diabetes</td>\n",
       "    </tr>\n",
       "    <tr>\n",
       "      <th>83</th>\n",
       "      <td>191</td>\n",
       "      <td>155</td>\n",
       "      <td>58</td>\n",
       "      <td>31</td>\n",
       "      <td>female</td>\n",
       "      <td>62</td>\n",
       "      <td>237</td>\n",
       "      <td>43.3</td>\n",
       "      <td>140</td>\n",
       "      <td>87</td>\n",
       "      <td>53</td>\n",
       "      <td>56</td>\n",
       "      <td>Diabetes</td>\n",
       "    </tr>\n",
       "    <tr>\n",
       "      <th>118</th>\n",
       "      <td>245</td>\n",
       "      <td>119</td>\n",
       "      <td>26</td>\n",
       "      <td>36</td>\n",
       "      <td>male</td>\n",
       "      <td>66</td>\n",
       "      <td>179</td>\n",
       "      <td>28.9</td>\n",
       "      <td>150</td>\n",
       "      <td>92</td>\n",
       "      <td>37</td>\n",
       "      <td>42</td>\n",
       "      <td>Diabetes</td>\n",
       "    </tr>\n",
       "    <tr>\n",
       "      <th>140</th>\n",
       "      <td>203</td>\n",
       "      <td>299</td>\n",
       "      <td>43</td>\n",
       "      <td>38</td>\n",
       "      <td>female</td>\n",
       "      <td>69</td>\n",
       "      <td>288</td>\n",
       "      <td>42.5</td>\n",
       "      <td>136</td>\n",
       "      <td>83</td>\n",
       "      <td>48</td>\n",
       "      <td>55</td>\n",
       "      <td>Diabetes</td>\n",
       "    </tr>\n",
       "  </tbody>\n",
       "</table>\n",
       "</div>"
      ],
      "text/plain": [
       "                Cholesterol  Glucose  HDL Chol  Age  Gender  Height  Weight  \\\n",
       "Patient number                                                                \n",
       "41                      220       60        66   26    male      70     150   \n",
       "65                      194      269        38   29  female      69     167   \n",
       "83                      191      155        58   31  female      62     237   \n",
       "118                     245      119        26   36    male      66     179   \n",
       "140                     203      299        43   38  female      69     288   \n",
       "\n",
       "                 BMI  Systolic BP  Diastolic BP  waist  hip  Diabetes  \n",
       "Patient number                                                         \n",
       "41              21.5          136            88     33   39  Diabetes  \n",
       "65              24.7          120            70     33   40  Diabetes  \n",
       "83              43.3          140            87     53   56  Diabetes  \n",
       "118             28.9          150            92     37   42  Diabetes  \n",
       "140             42.5          136            83     48   55  Diabetes  "
      ]
     },
     "execution_count": 4,
     "metadata": {},
     "output_type": "execute_result"
    }
   ],
   "source": [
    "diabetes_df = df[df['Diabetes'] == 'Diabetes']\n",
    "diabetes_df.head()"
   ]
  },
  {
   "cell_type": "markdown",
   "id": "liberal-airport",
   "metadata": {},
   "source": [
    "This allows us to plot subsets of the data or to change certain parts of the data. We can use all the other boolean comparison operators, like >, <, >=, !=, and so on."
   ]
  },
  {
   "cell_type": "code",
   "execution_count": 5,
   "id": "systematic-supplement",
   "metadata": {},
   "outputs": [
    {
     "data": {
      "text/html": [
       "<div>\n",
       "<style scoped>\n",
       "    .dataframe tbody tr th:only-of-type {\n",
       "        vertical-align: middle;\n",
       "    }\n",
       "\n",
       "    .dataframe tbody tr th {\n",
       "        vertical-align: top;\n",
       "    }\n",
       "\n",
       "    .dataframe thead th {\n",
       "        text-align: right;\n",
       "    }\n",
       "</style>\n",
       "<table border=\"1\" class=\"dataframe\">\n",
       "  <thead>\n",
       "    <tr style=\"text-align: right;\">\n",
       "      <th></th>\n",
       "      <th>Cholesterol</th>\n",
       "      <th>Glucose</th>\n",
       "      <th>HDL Chol</th>\n",
       "      <th>Age</th>\n",
       "      <th>Gender</th>\n",
       "      <th>Height</th>\n",
       "      <th>Weight</th>\n",
       "      <th>BMI</th>\n",
       "      <th>Systolic BP</th>\n",
       "      <th>Diastolic BP</th>\n",
       "      <th>waist</th>\n",
       "      <th>hip</th>\n",
       "      <th>Diabetes</th>\n",
       "    </tr>\n",
       "    <tr>\n",
       "      <th>Patient number</th>\n",
       "      <th></th>\n",
       "      <th></th>\n",
       "      <th></th>\n",
       "      <th></th>\n",
       "      <th></th>\n",
       "      <th></th>\n",
       "      <th></th>\n",
       "      <th></th>\n",
       "      <th></th>\n",
       "      <th></th>\n",
       "      <th></th>\n",
       "      <th></th>\n",
       "      <th></th>\n",
       "    </tr>\n",
       "  </thead>\n",
       "  <tbody>\n",
       "    <tr>\n",
       "      <th>196</th>\n",
       "      <td>203</td>\n",
       "      <td>71</td>\n",
       "      <td>78</td>\n",
       "      <td>45</td>\n",
       "      <td>male</td>\n",
       "      <td>66</td>\n",
       "      <td>115</td>\n",
       "      <td>18.6</td>\n",
       "      <td>135</td>\n",
       "      <td>88</td>\n",
       "      <td>30</td>\n",
       "      <td>34</td>\n",
       "      <td>No diabetes</td>\n",
       "    </tr>\n",
       "    <tr>\n",
       "      <th>197</th>\n",
       "      <td>189</td>\n",
       "      <td>80</td>\n",
       "      <td>40</td>\n",
       "      <td>45</td>\n",
       "      <td>male</td>\n",
       "      <td>69</td>\n",
       "      <td>190</td>\n",
       "      <td>28.1</td>\n",
       "      <td>140</td>\n",
       "      <td>75</td>\n",
       "      <td>39</td>\n",
       "      <td>44</td>\n",
       "      <td>No diabetes</td>\n",
       "    </tr>\n",
       "    <tr>\n",
       "      <th>198</th>\n",
       "      <td>216</td>\n",
       "      <td>109</td>\n",
       "      <td>86</td>\n",
       "      <td>45</td>\n",
       "      <td>female</td>\n",
       "      <td>67</td>\n",
       "      <td>147</td>\n",
       "      <td>23.0</td>\n",
       "      <td>140</td>\n",
       "      <td>102</td>\n",
       "      <td>32</td>\n",
       "      <td>38</td>\n",
       "      <td>No diabetes</td>\n",
       "    </tr>\n",
       "    <tr>\n",
       "      <th>199</th>\n",
       "      <td>233</td>\n",
       "      <td>92</td>\n",
       "      <td>39</td>\n",
       "      <td>45</td>\n",
       "      <td>female</td>\n",
       "      <td>64</td>\n",
       "      <td>167</td>\n",
       "      <td>28.7</td>\n",
       "      <td>124</td>\n",
       "      <td>86</td>\n",
       "      <td>39</td>\n",
       "      <td>44</td>\n",
       "      <td>No diabetes</td>\n",
       "    </tr>\n",
       "    <tr>\n",
       "      <th>200</th>\n",
       "      <td>177</td>\n",
       "      <td>87</td>\n",
       "      <td>49</td>\n",
       "      <td>45</td>\n",
       "      <td>male</td>\n",
       "      <td>69</td>\n",
       "      <td>166</td>\n",
       "      <td>24.5</td>\n",
       "      <td>160</td>\n",
       "      <td>80</td>\n",
       "      <td>34</td>\n",
       "      <td>40</td>\n",
       "      <td>No diabetes</td>\n",
       "    </tr>\n",
       "  </tbody>\n",
       "</table>\n",
       "</div>"
      ],
      "text/plain": [
       "                Cholesterol  Glucose  HDL Chol  Age  Gender  Height  Weight  \\\n",
       "Patient number                                                                \n",
       "196                     203       71        78   45    male      66     115   \n",
       "197                     189       80        40   45    male      69     190   \n",
       "198                     216      109        86   45  female      67     147   \n",
       "199                     233       92        39   45  female      64     167   \n",
       "200                     177       87        49   45    male      69     166   \n",
       "\n",
       "                 BMI  Systolic BP  Diastolic BP  waist  hip     Diabetes  \n",
       "Patient number                                                            \n",
       "196             18.6          135            88     30   34  No diabetes  \n",
       "197             28.1          140            75     39   44  No diabetes  \n",
       "198             23.0          140           102     32   38  No diabetes  \n",
       "199             28.7          124            86     39   44  No diabetes  \n",
       "200             24.5          160            80     34   40  No diabetes  "
      ]
     },
     "execution_count": 5,
     "metadata": {},
     "output_type": "execute_result"
    }
   ],
   "source": [
    "older_df = df[df['Age'] > df['Age'].median()]\n",
    "older_df.head()"
   ]
  },
  {
   "cell_type": "markdown",
   "id": "earlier-apple",
   "metadata": {},
   "source": [
    "## Checking for outliers and dealing with them"
   ]
  },
  {
   "cell_type": "markdown",
   "id": "extensive-diagram",
   "metadata": {},
   "source": [
    "Outliers are datapoints that are atypical and far outside of the region of normal data, and can affect machine learning models and statistical analyses in negative ways. Sometimes the outliers are mistakes in the data and should be cleaned, other times they are abnormal or atypical datapoints. Depending on what we think is the case, we can throw out datapoints with outliers, treat them as missing values, or clip them to max and min values.\n",
    "\n",
    "Classic ways of detecting outliers are the IQR (inter-quartile range) method, z-score (percentiles), or using standard deviations. These rely on the assumption the data is normally distributed (e.g. in a bell curve shape on the histogram). Boxplots use IQR to draw the whiskers, and we can use those to first see if it looks like there are outliers:"
   ]
  },
  {
   "cell_type": "code",
   "execution_count": 6,
   "id": "little-minister",
   "metadata": {},
   "outputs": [
    {
     "data": {
      "text/plain": [
       "<AxesSubplot:>"
      ]
     },
     "execution_count": 6,
     "metadata": {},
     "output_type": "execute_result"
    },
    {
     "data": {
      "image/png": "[encoded data removed]",
      "text/plain": [
       "<Figure size 432x288 with 1 Axes>"
      ]
     },
     "metadata": {
      "needs_background": "light"
     },
     "output_type": "display_data"
    }
   ],
   "source": [
    "import seaborn as sns\n",
    "\n",
    "sns.boxplot(data=df, orient='h')"
   ]
  },
  {
   "cell_type": "markdown",
   "id": "competitive-treasure",
   "metadata": {},
   "source": [
    "Yikes, it looks like a lot of outliers for almost all the numeric columns! Using a standard deviation or IQR outlier detection like this relies on our data being near a normal distribution, or bell-shaped. Since much of it is not, and it looks like we have a lot of outliers in all columns, we are not going to take action with these outliers. But if we wanted to take action with the outliers, we could do something like the following: loop through each column, calculate the IQR boundaries, and then do something with these outliers. Here is an example of examining some of the outliers:"
   ]
  },
  {
   "cell_type": "code",
   "execution_count": 7,
   "id": "improved-tonight",
   "metadata": {},
   "outputs": [
    {
     "data": {
      "text/plain": [
       "Patient number\n",
       "82     305\n",
       "103    337\n",
       "117    347\n",
       "182    322\n",
       "222    307\n",
       "243    443\n",
       "273    404\n",
       "297    318\n",
       "323    342\n",
       "342     78\n",
       "365    306\n",
       "Name: Cholesterol, dtype: int64"
      ]
     },
     "execution_count": 7,
     "metadata": {},
     "output_type": "execute_result"
    }
   ],
   "source": [
    "column = 'Cholesterol'\n",
    "q1 = df[column].quantile(0.25)\n",
    "q3 = df[column].quantile(0.75)\n",
    "iqr = q3 - q1\n",
    "upper_boundary = q3 + 1.5 * iqr\n",
    "lower_boundary = q1 - 1.5 * iqr\n",
    "df[(df[column] < lower_boundary) | (df[column] > upper_boundary)][column]"
   ]
  },
  {
   "cell_type": "markdown",
   "id": "smaller-caribbean",
   "metadata": {},
   "source": [
    "One option: set values as missing. Then we can fill them or drop the values as needed in the next section.\n",
    "\n",
    "The `.at` indexer for pandas allows us to set values by providing row selections and a column."
   ]
  },
  {
   "cell_type": "code",
   "execution_count": 8,
   "id": "departmental-newcastle",
   "metadata": {},
   "outputs": [],
   "source": [
    "import numpy as np\n",
    "\n",
    "# make a copy so as to to alter the original data\n",
    "df_copy = df.copy()\n",
    "df_copy.at[df[column] < lower_boundary, column] = np.nan\n",
    "df_copy.at[df[column] > upper_boundary, column] = np.nan"
   ]
  },
  {
   "cell_type": "markdown",
   "id": "classified-filter",
   "metadata": {},
   "source": [
    "Another option: clip values to outlier boundaries:"
   ]
  },
  {
   "cell_type": "code",
   "execution_count": 9,
   "id": "laughing-hepatitis",
   "metadata": {},
   "outputs": [],
   "source": [
    "df_copy = df.copy()\n",
    "df_copy[column].clip(lower=lower_boundary, upper=upper_boundary, inplace=True)"
   ]
  },
  {
   "cell_type": "markdown",
   "id": "excellent-boost",
   "metadata": {},
   "source": [
    "We can see this clipping removed outliers from our boxplot, but of course we altered the data:"
   ]
  },
  {
   "cell_type": "code",
   "execution_count": 10,
   "id": "marked-defendant",
   "metadata": {},
   "outputs": [
    {
     "data": {
      "text/plain": [
       "<AxesSubplot:>"
      ]
     },
     "execution_count": 10,
     "metadata": {},
     "output_type": "execute_result"
    },
    {
     "data": {
      "image/png": "[encoded data removed]",
      "text/plain": [
       "<Figure size 432x288 with 1 Axes>"
      ]
     },
     "metadata": {
      "needs_background": "light"
     },
     "output_type": "display_data"
    }
   ],
   "source": [
    "sns.boxplot(data=df_copy, orient='h')"
   ]
  },
  {
   "cell_type": "markdown",
   "id": "extra-upset",
   "metadata": {},
   "source": [
    "In our case, we will assume the data is OK and the outliers are simply a function of the small amount of data and the erratic nature of biological measurements, especially with people who have diabetes. For example, the glucose measurements for diabetics are all over the map."
   ]
  },
  {
   "cell_type": "markdown",
   "id": "invisible-consolidation",
   "metadata": {},
   "source": [
    "## Missing values"
   ]
  },
  {
   "cell_type": "markdown",
   "id": "severe-administration",
   "metadata": {},
   "source": [
    "Similar to outliers, we can deal with missing values in a few ways: drop the data, or fill it. We can fill the data (impute it) with a few methods:\n",
    "- mean: good when distrubtion is near normal (like the height of people in a city)\n",
    "- median: works well when distribution is skewed (like housing prices)\n",
    "- mode: good for categorical data\n",
    "- machine learning: good for complex situations or to maximize the effect of your data cleaning"
   ]
  },
  {
   "cell_type": "code",
   "execution_count": 11,
   "id": "geographic-newark",
   "metadata": {},
   "outputs": [
    {
     "data": {
      "text/plain": [
       "Cholesterol     0\n",
       "Glucose         0\n",
       "HDL Chol        0\n",
       "Age             0\n",
       "Gender          0\n",
       "Height          0\n",
       "Weight          0\n",
       "BMI             0\n",
       "Systolic BP     0\n",
       "Diastolic BP    0\n",
       "waist           0\n",
       "hip             0\n",
       "Diabetes        0\n",
       "dtype: int64"
      ]
     },
     "execution_count": 11,
     "metadata": {},
     "output_type": "execute_result"
    }
   ],
   "source": [
    "df.isna().sum()"
   ]
  },
  {
   "cell_type": "code",
   "execution_count": 12,
   "id": "forty-childhood",
   "metadata": {},
   "outputs": [],
   "source": [
    "# this would drop any rows with at least 1 missing value\n",
    "df.dropna(inplace=True)"
   ]
  },
  {
   "cell_type": "markdown",
   "id": "severe-backup",
   "metadata": {},
   "source": [
    "If we had some missing Glucose values, we might fill those with the median:"
   ]
  },
  {
   "cell_type": "code",
   "execution_count": 13,
   "id": "fewer-actor",
   "metadata": {},
   "outputs": [],
   "source": [
    "df['Glucose'].fillna(df['Glucose'].median(), inplace=True)"
   ]
  },
  {
   "cell_type": "markdown",
   "id": "refined-wyoming",
   "metadata": {},
   "source": [
    "However, remember the distributions were very different between the diabetic and non-diabetic populations. So, ideally, we would fill the missing values for the diabetics and non-diabetics separately."
   ]
  },
  {
   "cell_type": "markdown",
   "id": "processed-ivory",
   "metadata": {},
   "source": [
    "## Converting categorical variables to numeric"
   ]
  },
  {
   "cell_type": "markdown",
   "id": "generous-scenario",
   "metadata": {},
   "source": [
    "For using the `sklearn` machine learning library, we need all data as numeric types, but we have two `object` datatypes which are strings. There are many ways to convert a string column to a numeric column. If the values are `'True'`/`'False'`, we can use `.astype('int')`. Otherwise, a few ways are to use pandas functions like `map`, `replace`, and `apply`. `map` is the most computationally efficient usually, but replace is a little more forgiving and flexible. `map` will change values to NaN if they don't match any keys in the dictionary we provide, whereas replace can replace part or all of the data. However, `map` is computationally faster (it runs faster) so would work better for bigger data or in a production setting."
   ]
  },
  {
   "cell_type": "code",
   "execution_count": 14,
   "id": "sophisticated-technique",
   "metadata": {},
   "outputs": [
    {
     "data": {
      "text/plain": [
       "Patient number\n",
       "1      0\n",
       "2      0\n",
       "3      0\n",
       "4      0\n",
       "5      0\n",
       "      ..\n",
       "386    0\n",
       "387    1\n",
       "388    0\n",
       "389    1\n",
       "390    0\n",
       "Name: Diabetes, Length: 390, dtype: int64"
      ]
     },
     "execution_count": 14,
     "metadata": {},
     "output_type": "execute_result"
    }
   ],
   "source": [
    "df['Diabetes'] = df['Diabetes'].replace({'No diabetes': 0, 'Diabetes': 1})\n",
    "df['Diabetes']"
   ]
  },
  {
   "cell_type": "code",
   "execution_count": 15,
   "id": "spanish-vegetarian",
   "metadata": {},
   "outputs": [],
   "source": [
    "df['Gender'] = df['Gender'].replace({'male': 0, 'female': 1})"
   ]
  },
  {
   "cell_type": "code",
   "execution_count": 16,
   "id": "fresh-universe",
   "metadata": {},
   "outputs": [
    {
     "name": "stdout",
     "output_type": "stream",
     "text": [
      "<class 'pandas.core.frame.DataFrame'>\n",
      "Int64Index: 390 entries, 1 to 390\n",
      "Data columns (total 13 columns):\n",
      " #   Column        Non-Null Count  Dtype  \n",
      "---  ------        --------------  -----  \n",
      " 0   Cholesterol   390 non-null    int64  \n",
      " 1   Glucose       390 non-null    int64  \n",
      " 2   HDL Chol      390 non-null    int64  \n",
      " 3   Age           390 non-null    int64  \n",
      " 4   Gender        390 non-null    int64  \n",
      " 5   Height        390 non-null    int64  \n",
      " 6   Weight        390 non-null    int64  \n",
      " 7   BMI           390 non-null    float64\n",
      " 8   Systolic BP   390 non-null    int64  \n",
      " 9   Diastolic BP  390 non-null    int64  \n",
      " 10  waist         390 non-null    int64  \n",
      " 11  hip           390 non-null    int64  \n",
      " 12  Diabetes      390 non-null    int64  \n",
      "dtypes: float64(1), int64(12)\n",
      "memory usage: 42.7 KB\n"
     ]
    }
   ],
   "source": [
    "# check that all columns are numbers now\n",
    "df.info()"
   ]
  },
  {
   "cell_type": "markdown",
   "id": "civic-savannah",
   "metadata": {},
   "source": [
    "If we had more than 2 categories, we can simply add more entries to our dictionary (or use other methods in the advanced section):"
   ]
  },
  {
   "cell_type": "code",
   "execution_count": 17,
   "id": "imported-cleaning",
   "metadata": {},
   "outputs": [],
   "source": [
    "df['Diabetes'] = df['Diabetes'].replace({'No diabetes': 0, 'Pre diabetes': 1, 'Diabetes': 2})"
   ]
  },
  {
   "cell_type": "markdown",
   "id": "incredible-israel",
   "metadata": {},
   "source": [
    "## Feature engineering - combining features"
   ]
  },
  {
   "cell_type": "markdown",
   "id": "fallen-teach",
   "metadata": {},
   "source": [
    "Feature engineering can be an important part of data science when using machine learning. The features, or inputs, we provide to our ML algorithm will influence its performance. A few feature engineering techniques are:\n",
    "\n",
    "- mathematical transforms (log, Yeo-Johnson, etc)\n",
    "- combining columns\n",
    "- extracting features from datetimes\n",
    "\n",
    "We'll look at scaling data with a log transform and combining columns here.\n",
    "\n",
    "To scale data with a log transform, we can simply use numpy. This transform can be useful for highly skewed data, like our HDL cholesterol measurements. You can read more about the transform [here](https://onlinestatbook.com/2/transformations/log.html)."
   ]
  },
  {
   "cell_type": "code",
   "execution_count": 18,
   "id": "ordered-protection",
   "metadata": {},
   "outputs": [],
   "source": [
    "import numpy as np\n",
    "\n",
    "df_copy = df.copy()\n",
    "df_copy['HDL Chol'] = np.log(df_copy['HDL Chol'])"
   ]
  },
  {
   "cell_type": "code",
   "execution_count": 19,
   "id": "british-eligibility",
   "metadata": {},
   "outputs": [
    {
     "data": {
      "text/plain": [
       "<AxesSubplot:ylabel='Frequency'>"
      ]
     },
     "execution_count": 19,
     "metadata": {},
     "output_type": "execute_result"
    },
    {
     "data": {
      "image/png": "[encoded data removed]",
      "text/plain": [
       "<Figure size 432x288 with 1 Axes>"
      ]
     },
     "metadata": {
      "needs_background": "light"
     },
     "output_type": "display_data"
    }
   ],
   "source": [
    "df_copy['HDL Chol'].plot.hist()"
   ]
  },
  {
   "cell_type": "code",
   "execution_count": 20,
   "id": "corporate-baghdad",
   "metadata": {},
   "outputs": [
    {
     "data": {
      "text/plain": [
       "<AxesSubplot:ylabel='Frequency'>"
      ]
     },
     "execution_count": 20,
     "metadata": {},
     "output_type": "execute_result"
    },
    {
     "data": {
      "image/png": "[encoded data removed]",
      "text/plain": [
       "<Figure size 432x288 with 1 Axes>"
      ]
     },
     "metadata": {
      "needs_background": "light"
     },
     "output_type": "display_data"
    }
   ],
   "source": [
    "df['HDL Chol'].plot.hist()"
   ]
  },
  {
   "cell_type": "markdown",
   "id": "forward-southwest",
   "metadata": {},
   "source": [
    "We can see how it makes the distribution look more like a normal distribution or bell-curve."
   ]
  },
  {
   "cell_type": "markdown",
   "id": "express-pregnancy",
   "metadata": {},
   "source": [
    "To combine columns, we simply use normal math. For example, we can create a waist/hip ratio and HDL to total cholesterol ratio, which can be useful in diabetes studies:"
   ]
  },
  {
   "cell_type": "code",
   "execution_count": 21,
   "id": "preceding-speaker",
   "metadata": {},
   "outputs": [],
   "source": [
    "df['waist_hip_ratio'] = df['waist'] / df['hip']\n",
    "df['hdl_chol_ratio'] = df['HDL Chol'] / df['Cholesterol']"
   ]
  },
  {
   "cell_type": "code",
   "execution_count": 22,
   "id": "clean-instrument",
   "metadata": {},
   "outputs": [
    {
     "data": {
      "text/plain": [
       "<AxesSubplot:ylabel='Frequency'>"
      ]
     },
     "execution_count": 22,
     "metadata": {},
     "output_type": "execute_result"
    },
    {
     "data": {
      "image/png": "[encoded data removed]",
      "text/plain": [
       "<Figure size 432x288 with 1 Axes>"
      ]
     },
     "metadata": {
      "needs_background": "light"
     },
     "output_type": "display_data"
    }
   ],
   "source": [
    "df['waist_hip_ratio'].plot.hist()"
   ]
  },
  {
   "cell_type": "code",
   "execution_count": 23,
   "id": "smooth-athens",
   "metadata": {},
   "outputs": [
    {
     "data": {
      "text/plain": [
       "<AxesSubplot:ylabel='Frequency'>"
      ]
     },
     "execution_count": 23,
     "metadata": {},
     "output_type": "execute_result"
    },
    {
     "data": {
      "image/png": "[encoded data removed]",
      "text/plain": [
       "<Figure size 432x288 with 1 Axes>"
      ]
     },
     "metadata": {
      "needs_background": "light"
     },
     "output_type": "display_data"
    }
   ],
   "source": [
    "df['hdl_chol_ratio'].plot.hist()"
   ]
  },
  {
   "cell_type": "markdown",
   "id": "domestic-canon",
   "metadata": {},
   "source": [
    "## Checking results and saving the data"
   ]
  },
  {
   "cell_type": "markdown",
   "id": "wrong-coffee",
   "metadata": {},
   "source": [
    "Now that we have our data cleaned up and prepared, we can save it for future use. Let's give it one last check with `info`, then save it to a CSV. There are many other formats in which we can save the data, which you can see in the [documentation](https://pandas.pydata.org/docs/reference/io.html) for pandas. Almost any filetype with a `read_x` function has a `to_x` method for dataframes as well."
   ]
  },
  {
   "cell_type": "code",
   "execution_count": 24,
   "id": "loaded-competition",
   "metadata": {},
   "outputs": [
    {
     "name": "stdout",
     "output_type": "stream",
     "text": [
      "<class 'pandas.core.frame.DataFrame'>\n",
      "Int64Index: 390 entries, 1 to 390\n",
      "Data columns (total 15 columns):\n",
      " #   Column           Non-Null Count  Dtype  \n",
      "---  ------           --------------  -----  \n",
      " 0   Cholesterol      390 non-null    int64  \n",
      " 1   Glucose          390 non-null    int64  \n",
      " 2   HDL Chol         390 non-null    int64  \n",
      " 3   Age              390 non-null    int64  \n",
      " 4   Gender           390 non-null    int64  \n",
      " 5   Height           390 non-null    int64  \n",
      " 6   Weight           390 non-null    int64  \n",
      " 7   BMI              390 non-null    float64\n",
      " 8   Systolic BP      390 non-null    int64  \n",
      " 9   Diastolic BP     390 non-null    int64  \n",
      " 10  waist            390 non-null    int64  \n",
      " 11  hip              390 non-null    int64  \n",
      " 12  Diabetes         390 non-null    int64  \n",
      " 13  waist_hip_ratio  390 non-null    float64\n",
      " 14  hdl_chol_ratio   390 non-null    float64\n",
      "dtypes: float64(3), int64(12)\n",
      "memory usage: 48.8 KB\n"
     ]
    }
   ],
   "source": [
    "df.info()"
   ]
  },
  {
   "cell_type": "markdown",
   "id": "democratic-patent",
   "metadata": {},
   "source": [
    "The data looks good - we have all columns as numeric datatypes and no missing values. We will now save it to a csv:"
   ]
  },
  {
   "cell_type": "code",
   "execution_count": 25,
   "id": "minor-china",
   "metadata": {},
   "outputs": [],
   "source": [
    "df.to_csv('prepped_diabetes_data.csv')"
   ]
  },
  {
   "cell_type": "markdown",
   "id": "distant-creature",
   "metadata": {},
   "source": [
    "### Summary"
   ]
  },
  {
   "cell_type": "markdown",
   "id": "running-bruce",
   "metadata": {},
   "source": [
    "Here, we loaded, cleaned, and feature engineered the diabetes dataset. We first inspected the dataset for outliers using the IQR method, and found several outliers. This is likely due to the small amount of data. Because few of the outliers were very isolated from other datapoints and because there were so many outliers, we elected to leave them as-is. We did not find any missing values in the data. We converted the categorical columns to numeric columns with binary label encoding. We created two new features, the waist/hip ratio and HDL/cholesterol ratio. Finally, we saved our data as a CSV and it is ready for the next steps."
   ]
  },
  {
   "cell_type": "markdown",
   "id": "twelve-google",
   "metadata": {},
   "source": [
    "# (optional) Advanced section"
   ]
  },
  {
   "cell_type": "markdown",
   "id": "magnetic-practice",
   "metadata": {},
   "source": [
    "We will cover:\n",
    "- Advanced outlier detection\n",
    "- filling missing values with ML\n",
    "- Converting categorical to numeric\n",
    "    - sklearn labelencoder\n",
    "    - one-hot encoding\n",
    "- Yeo-Johnson transform\n",
    "\n",
    "Although we won't cover it, the `missingno` package is a nice one for visualizing missing values in a dataframe. It's also how pandas-profiling draws some of the missing value plots."
   ]
  },
  {
   "cell_type": "markdown",
   "id": "pediatric-native",
   "metadata": {},
   "source": [
    "### Advanced outlier detection and feature scaling"
   ]
  },
  {
   "cell_type": "markdown",
   "id": "blocked-variance",
   "metadata": {},
   "source": [
    "Outlier detection is more involved than you might think. There are new outlier algorithms constantly being developed, and it's an active area of research. The pyod package in Python has many of the cutting-edge algorithms. One problem with many of the cutting-edge algorithms is we need to specify a 'contamination' proportion, which specifies the proportion of outliers. This is usually set by an expectation for the number of outliers that we may know or estimate. The KNN method, which uses distances between points to predict outliers, runs fast and we will use it here. Since it's a distance-based algorithm, it's best to scale our data first before trying to detect outliers with it. However, the scaling doesn't seem to make a big difference here. We can also only use numeric data, so we select those columns first. Let's re-load the data so we're starting from scratch."
   ]
  },
  {
   "cell_type": "code",
   "execution_count": 26,
   "id": "handled-massachusetts",
   "metadata": {},
   "outputs": [],
   "source": [
    "df = pd.read_excel('data/diabetes_data.xlsx', index_col='Patient number')"
   ]
  },
  {
   "cell_type": "code",
   "execution_count": 27,
   "id": "complicated-grass",
   "metadata": {},
   "outputs": [],
   "source": [
    "numeric_df = df.select_dtypes(exclude=['object'])"
   ]
  },
  {
   "cell_type": "markdown",
   "id": "academic-polls",
   "metadata": {},
   "source": [
    "Then we scale it so the standard deviation of all columns are 1 and the means of all columns are 0, called standardization:"
   ]
  },
  {
   "cell_type": "code",
   "execution_count": 28,
   "id": "functioning-album",
   "metadata": {},
   "outputs": [],
   "source": [
    "from sklearn.preprocessing import StandardScaler\n",
    "\n",
    "scaler = StandardScaler()\n",
    "scaled_numeric = scaler.fit_transform(numeric_df)"
   ]
  },
  {
   "cell_type": "markdown",
   "id": "arbitrary-blame",
   "metadata": {},
   "source": [
    "We set contamination very low so we only get the most extreme values. We do need to install the pyod package before running this next code section."
   ]
  },
  {
   "cell_type": "code",
   "execution_count": 29,
   "id": "supposed-austria",
   "metadata": {},
   "outputs": [
    {
     "name": "stdout",
     "output_type": "stream",
     "text": [
      "^C\n"
     ]
    }
   ],
   "source": [
    "!conda install -c conda-forge pyod -y"
   ]
  },
  {
   "cell_type": "code",
   "execution_count": 32,
   "id": "ceramic-cheese",
   "metadata": {},
   "outputs": [
    {
     "data": {
      "text/plain": [
       "KNN(algorithm='auto', contamination=0.01, leaf_size=30, method='largest',\n",
       "  metric='minkowski', metric_params=None, n_jobs=1, n_neighbors=5, p=2,\n",
       "  radius=1.0)"
      ]
     },
     "execution_count": 32,
     "metadata": {},
     "output_type": "execute_result"
    }
   ],
   "source": [
    "from pyod.models.knn import KNN\n",
    "\n",
    "od = KNN(contamination=0.01)\n",
    "od.fit(scaled_numeric)"
   ]
  },
  {
   "cell_type": "code",
   "execution_count": 33,
   "id": "ranging-adjustment",
   "metadata": {},
   "outputs": [
    {
     "data": {
      "text/plain": [
       "array([0, 0, 0, 0, 0, 0, 0, 0, 0, 0, 0, 0, 0, 0, 0, 0, 0, 0, 0, 0, 0, 0,\n",
       "       0, 0, 0, 0, 0, 0, 0, 0, 0, 0, 0, 0, 0, 0, 0, 0, 0, 0, 0, 0, 0, 0,\n",
       "       0, 0, 0, 0, 0, 0, 0, 0, 0, 0, 0, 0, 0, 0, 0, 0, 0, 0, 0, 0, 0, 0,\n",
       "       0, 0, 0, 0, 0, 0, 0, 0, 0, 0, 0, 0, 0, 0, 0, 0, 0, 0, 0, 0, 0, 0,\n",
       "       0, 0, 0, 0, 0, 0, 0, 0, 0, 0, 0, 0, 0, 0, 0, 0, 0, 0, 0, 0, 0, 0,\n",
       "       0, 0, 0, 0, 0, 0, 0, 0, 0, 0, 0, 0, 0, 0, 0, 0, 0, 0, 0, 0, 0, 0,\n",
       "       0, 0, 0, 0, 0, 0, 0, 0, 0, 0, 0, 0, 0, 0, 0, 0, 0, 0, 0, 0, 0, 0,\n",
       "       0, 0, 0, 0, 0, 0, 0, 0, 0, 0, 0, 0, 0, 0, 0, 0, 0, 0, 0, 0, 0, 0,\n",
       "       0, 0, 0, 0, 0, 0, 0, 0, 0, 0, 0, 0, 0, 0, 0, 0, 0, 0, 0, 0, 0, 0,\n",
       "       0, 0, 0, 0, 0, 0, 0, 0, 0, 0, 0, 0, 0, 0, 0, 0, 0, 0, 0, 0, 0, 0,\n",
       "       0, 0, 0, 0, 0, 0, 0, 0, 0, 0, 0, 0, 0, 0, 0, 0, 0, 0, 0, 0, 0, 0,\n",
       "       1, 0, 0, 0, 0, 0, 0, 0, 0, 0, 0, 0, 0, 0, 0, 0, 0, 0, 0, 0, 0, 0,\n",
       "       0, 0, 0, 0, 0, 0, 0, 0, 0, 0, 0, 0, 0, 0, 0, 0, 0, 0, 0, 0, 0, 0,\n",
       "       0, 0, 0, 0, 0, 0, 0, 0, 0, 0, 1, 0, 0, 0, 0, 0, 0, 0, 0, 0, 0, 0,\n",
       "       0, 0, 0, 0, 0, 0, 0, 0, 0, 0, 0, 0, 0, 0, 0, 0, 0, 0, 0, 0, 0, 0,\n",
       "       0, 0, 0, 0, 0, 0, 0, 0, 0, 0, 0, 0, 0, 0, 0, 0, 0, 1, 0, 0, 0, 0,\n",
       "       0, 0, 0, 0, 0, 0, 0, 0, 0, 0, 0, 0, 0, 0, 0, 0, 0, 0, 0, 0, 0, 0,\n",
       "       0, 0, 0, 0, 0, 0, 0, 0, 0, 0, 0, 0, 0, 1, 0, 0])"
      ]
     },
     "execution_count": 33,
     "metadata": {},
     "output_type": "execute_result"
    }
   ],
   "source": [
    "outliers = od.predict(scaled_numeric)\n",
    "outliers"
   ]
  },
  {
   "cell_type": "code",
   "execution_count": 34,
   "id": "documented-ukraine",
   "metadata": {},
   "outputs": [
    {
     "data": {
      "text/plain": [
       "4"
      ]
     },
     "execution_count": 34,
     "metadata": {},
     "output_type": "execute_result"
    }
   ],
   "source": [
    "outliers.sum()"
   ]
  },
  {
   "cell_type": "code",
   "execution_count": 35,
   "id": "valued-providence",
   "metadata": {},
   "outputs": [
    {
     "data": {
      "text/plain": [
       "(390, 13)"
      ]
     },
     "execution_count": 35,
     "metadata": {},
     "output_type": "execute_result"
    }
   ],
   "source": [
    "df.shape"
   ]
  },
  {
   "cell_type": "code",
   "execution_count": 36,
   "id": "alive-object",
   "metadata": {
    "scrolled": true
   },
   "outputs": [
    {
     "data": {
      "text/html": [
       "<div>\n",
       "<style scoped>\n",
       "    .dataframe tbody tr th:only-of-type {\n",
       "        vertical-align: middle;\n",
       "    }\n",
       "\n",
       "    .dataframe tbody tr th {\n",
       "        vertical-align: top;\n",
       "    }\n",
       "\n",
       "    .dataframe thead th {\n",
       "        text-align: right;\n",
       "    }\n",
       "</style>\n",
       "<table border=\"1\" class=\"dataframe\">\n",
       "  <thead>\n",
       "    <tr style=\"text-align: right;\">\n",
       "      <th></th>\n",
       "      <th>Cholesterol</th>\n",
       "      <th>Glucose</th>\n",
       "      <th>HDL Chol</th>\n",
       "      <th>Age</th>\n",
       "      <th>Gender</th>\n",
       "      <th>Height</th>\n",
       "      <th>Weight</th>\n",
       "      <th>BMI</th>\n",
       "      <th>Systolic BP</th>\n",
       "      <th>Diastolic BP</th>\n",
       "      <th>waist</th>\n",
       "      <th>hip</th>\n",
       "      <th>Diabetes</th>\n",
       "    </tr>\n",
       "    <tr>\n",
       "      <th>Patient number</th>\n",
       "      <th></th>\n",
       "      <th></th>\n",
       "      <th></th>\n",
       "      <th></th>\n",
       "      <th></th>\n",
       "      <th></th>\n",
       "      <th></th>\n",
       "      <th></th>\n",
       "      <th></th>\n",
       "      <th></th>\n",
       "      <th></th>\n",
       "      <th></th>\n",
       "      <th></th>\n",
       "    </tr>\n",
       "  </thead>\n",
       "  <tbody>\n",
       "    <tr>\n",
       "      <th>243</th>\n",
       "      <td>443</td>\n",
       "      <td>185</td>\n",
       "      <td>23</td>\n",
       "      <td>51</td>\n",
       "      <td>female</td>\n",
       "      <td>70</td>\n",
       "      <td>235</td>\n",
       "      <td>33.7</td>\n",
       "      <td>158</td>\n",
       "      <td>98</td>\n",
       "      <td>43</td>\n",
       "      <td>48</td>\n",
       "      <td>Diabetes</td>\n",
       "    </tr>\n",
       "    <tr>\n",
       "      <th>297</th>\n",
       "      <td>318</td>\n",
       "      <td>270</td>\n",
       "      <td>108</td>\n",
       "      <td>60</td>\n",
       "      <td>female</td>\n",
       "      <td>65</td>\n",
       "      <td>167</td>\n",
       "      <td>27.8</td>\n",
       "      <td>132</td>\n",
       "      <td>72</td>\n",
       "      <td>38</td>\n",
       "      <td>44</td>\n",
       "      <td>No diabetes</td>\n",
       "    </tr>\n",
       "    <tr>\n",
       "      <th>348</th>\n",
       "      <td>207</td>\n",
       "      <td>77</td>\n",
       "      <td>46</td>\n",
       "      <td>68</td>\n",
       "      <td>male</td>\n",
       "      <td>55</td>\n",
       "      <td>130</td>\n",
       "      <td>30.2</td>\n",
       "      <td>199</td>\n",
       "      <td>115</td>\n",
       "      <td>29</td>\n",
       "      <td>33</td>\n",
       "      <td>No diabetes</td>\n",
       "    </tr>\n",
       "    <tr>\n",
       "      <th>388</th>\n",
       "      <td>301</td>\n",
       "      <td>90</td>\n",
       "      <td>118</td>\n",
       "      <td>89</td>\n",
       "      <td>female</td>\n",
       "      <td>61</td>\n",
       "      <td>115</td>\n",
       "      <td>21.7</td>\n",
       "      <td>218</td>\n",
       "      <td>90</td>\n",
       "      <td>31</td>\n",
       "      <td>41</td>\n",
       "      <td>No diabetes</td>\n",
       "    </tr>\n",
       "  </tbody>\n",
       "</table>\n",
       "</div>"
      ],
      "text/plain": [
       "                Cholesterol  Glucose  HDL Chol  Age  Gender  Height  Weight  \\\n",
       "Patient number                                                                \n",
       "243                     443      185        23   51  female      70     235   \n",
       "297                     318      270       108   60  female      65     167   \n",
       "348                     207       77        46   68    male      55     130   \n",
       "388                     301       90       118   89  female      61     115   \n",
       "\n",
       "                 BMI  Systolic BP  Diastolic BP  waist  hip     Diabetes  \n",
       "Patient number                                                            \n",
       "243             33.7          158            98     43   48     Diabetes  \n",
       "297             27.8          132            72     38   44  No diabetes  \n",
       "348             30.2          199           115     29   33  No diabetes  \n",
       "388             21.7          218            90     31   41  No diabetes  "
      ]
     },
     "execution_count": 36,
     "metadata": {},
     "output_type": "execute_result"
    }
   ],
   "source": [
    "df[outliers.astype('bool')]"
   ]
  },
  {
   "cell_type": "markdown",
   "id": "unknown-width",
   "metadata": {},
   "source": [
    "Now this gives us something to think about. These outliers tend to have one or more measurements on the extreme. For example, the last person seems to be an older woman with a low BMI and a high systolic blood pressure. However, this is again medical data, and the reason we probably have some outliers here is the small amount of data collected."
   ]
  },
  {
   "cell_type": "markdown",
   "id": "potential-realtor",
   "metadata": {},
   "source": [
    "### Filling missing values with ML"
   ]
  },
  {
   "cell_type": "markdown",
   "id": "subsequent-balance",
   "metadata": {},
   "source": [
    "The [KNNImputer](https://scikit-learn.org/stable/modules/generated/sklearn.impute.KNNImputer.html) from sklearn is fairly easy to use. We simply create the imputer and use the fit_transform method. There are some parameters for the method we could tune as well to try and improve performance. All values going in need to be numeric for this to work."
   ]
  },
  {
   "cell_type": "code",
   "execution_count": 37,
   "id": "phantom-reserve",
   "metadata": {},
   "outputs": [
    {
     "data": {
      "text/html": [
       "<div>\n",
       "<style scoped>\n",
       "    .dataframe tbody tr th:only-of-type {\n",
       "        vertical-align: middle;\n",
       "    }\n",
       "\n",
       "    .dataframe tbody tr th {\n",
       "        vertical-align: top;\n",
       "    }\n",
       "\n",
       "    .dataframe thead th {\n",
       "        text-align: right;\n",
       "    }\n",
       "</style>\n",
       "<table border=\"1\" class=\"dataframe\">\n",
       "  <thead>\n",
       "    <tr style=\"text-align: right;\">\n",
       "      <th></th>\n",
       "      <th>Cholesterol</th>\n",
       "      <th>Glucose</th>\n",
       "      <th>HDL Chol</th>\n",
       "      <th>Age</th>\n",
       "      <th>Height</th>\n",
       "      <th>Weight</th>\n",
       "      <th>BMI</th>\n",
       "      <th>Systolic BP</th>\n",
       "      <th>Diastolic BP</th>\n",
       "      <th>waist</th>\n",
       "      <th>hip</th>\n",
       "      <th>Gender</th>\n",
       "      <th>Diabetes</th>\n",
       "    </tr>\n",
       "    <tr>\n",
       "      <th>Patient number</th>\n",
       "      <th></th>\n",
       "      <th></th>\n",
       "      <th></th>\n",
       "      <th></th>\n",
       "      <th></th>\n",
       "      <th></th>\n",
       "      <th></th>\n",
       "      <th></th>\n",
       "      <th></th>\n",
       "      <th></th>\n",
       "      <th></th>\n",
       "      <th></th>\n",
       "      <th></th>\n",
       "    </tr>\n",
       "  </thead>\n",
       "  <tbody>\n",
       "    <tr>\n",
       "      <th>1</th>\n",
       "      <td>193.0</td>\n",
       "      <td>77.0</td>\n",
       "      <td>49.0</td>\n",
       "      <td>19.0</td>\n",
       "      <td>61.0</td>\n",
       "      <td>119.0</td>\n",
       "      <td>22.5</td>\n",
       "      <td>118.0</td>\n",
       "      <td>70.0</td>\n",
       "      <td>32.0</td>\n",
       "      <td>38.0</td>\n",
       "      <td>female</td>\n",
       "      <td>No diabetes</td>\n",
       "    </tr>\n",
       "    <tr>\n",
       "      <th>2</th>\n",
       "      <td>146.0</td>\n",
       "      <td>79.0</td>\n",
       "      <td>41.0</td>\n",
       "      <td>19.0</td>\n",
       "      <td>60.0</td>\n",
       "      <td>135.0</td>\n",
       "      <td>26.4</td>\n",
       "      <td>108.0</td>\n",
       "      <td>58.0</td>\n",
       "      <td>33.0</td>\n",
       "      <td>40.0</td>\n",
       "      <td>female</td>\n",
       "      <td>No diabetes</td>\n",
       "    </tr>\n",
       "    <tr>\n",
       "      <th>3</th>\n",
       "      <td>217.0</td>\n",
       "      <td>75.0</td>\n",
       "      <td>54.0</td>\n",
       "      <td>20.0</td>\n",
       "      <td>67.0</td>\n",
       "      <td>187.0</td>\n",
       "      <td>29.3</td>\n",
       "      <td>110.0</td>\n",
       "      <td>72.0</td>\n",
       "      <td>40.0</td>\n",
       "      <td>45.0</td>\n",
       "      <td>female</td>\n",
       "      <td>No diabetes</td>\n",
       "    </tr>\n",
       "    <tr>\n",
       "      <th>4</th>\n",
       "      <td>226.0</td>\n",
       "      <td>97.0</td>\n",
       "      <td>70.0</td>\n",
       "      <td>20.0</td>\n",
       "      <td>64.0</td>\n",
       "      <td>114.0</td>\n",
       "      <td>19.6</td>\n",
       "      <td>122.0</td>\n",
       "      <td>64.0</td>\n",
       "      <td>31.0</td>\n",
       "      <td>39.0</td>\n",
       "      <td>female</td>\n",
       "      <td>No diabetes</td>\n",
       "    </tr>\n",
       "    <tr>\n",
       "      <th>5</th>\n",
       "      <td>164.0</td>\n",
       "      <td>91.0</td>\n",
       "      <td>67.0</td>\n",
       "      <td>20.0</td>\n",
       "      <td>70.0</td>\n",
       "      <td>141.0</td>\n",
       "      <td>20.2</td>\n",
       "      <td>122.0</td>\n",
       "      <td>86.0</td>\n",
       "      <td>32.0</td>\n",
       "      <td>39.0</td>\n",
       "      <td>female</td>\n",
       "      <td>No diabetes</td>\n",
       "    </tr>\n",
       "  </tbody>\n",
       "</table>\n",
       "</div>"
      ],
      "text/plain": [
       "                Cholesterol  Glucose  HDL Chol   Age  Height  Weight   BMI  \\\n",
       "Patient number                                                               \n",
       "1                     193.0     77.0      49.0  19.0    61.0   119.0  22.5   \n",
       "2                     146.0     79.0      41.0  19.0    60.0   135.0  26.4   \n",
       "3                     217.0     75.0      54.0  20.0    67.0   187.0  29.3   \n",
       "4                     226.0     97.0      70.0  20.0    64.0   114.0  19.6   \n",
       "5                     164.0     91.0      67.0  20.0    70.0   141.0  20.2   \n",
       "\n",
       "                Systolic BP  Diastolic BP  waist   hip  Gender     Diabetes  \n",
       "Patient number                                                               \n",
       "1                     118.0          70.0   32.0  38.0  female  No diabetes  \n",
       "2                     108.0          58.0   33.0  40.0  female  No diabetes  \n",
       "3                     110.0          72.0   40.0  45.0  female  No diabetes  \n",
       "4                     122.0          64.0   31.0  39.0  female  No diabetes  \n",
       "5                     122.0          86.0   32.0  39.0  female  No diabetes  "
      ]
     },
     "execution_count": 37,
     "metadata": {},
     "output_type": "execute_result"
    }
   ],
   "source": [
    "from sklearn.impute import KNNImputer\n",
    "imputer = KNNImputer()\n",
    "filled_values = imputer.fit_transform(numeric_df)\n",
    "filled_df = pd.DataFrame(data=filled_values, columns=numeric_df.columns, index=numeric_df.index)\n",
    "\n",
    "obj_df = df.select_dtypes(include=['object'])\n",
    "\n",
    "# merge the two dfs back into one\n",
    "full_df = pd.concat([filled_df, obj_df], axis=1)\n",
    "full_df.head()"
   ]
  },
  {
   "cell_type": "markdown",
   "id": "blessed-bearing",
   "metadata": {},
   "source": [
    "### Other methods to convert categorical to numeric data"
   ]
  },
  {
   "cell_type": "markdown",
   "id": "concrete-hollywood",
   "metadata": {},
   "source": [
    "If we have many categorical values, we can use sklearn's label encoder to preprocess them. The examples in the documentation show how to do this: https://scikit-learn.org/stable/modules/generated/sklearn.preprocessing.LabelEncoder.html"
   ]
  },
  {
   "cell_type": "code",
   "execution_count": 38,
   "id": "known-andorra",
   "metadata": {},
   "outputs": [
    {
     "name": "stdout",
     "output_type": "stream",
     "text": [
      "[1 1 1 1 1 1 1 1 1 1 1 1 1 1 1 1 1 1 1 1 1 1 1 1 1 1 1 1 1 1 1 1 1 1 1 1 1\n",
      " 1 1 1 0 1 1 1 1 1 1 1 1 1 1 1 1 1 1 1 1 1 1 1 1 1 1 1 0 1 1 1 1 1 1 1 1 1\n",
      " 1 1 1 1 1 1 1 1 0 1 1 1 1 1 1 1 1 1 1 1 1 1 1 1 1 1 1 1 1 1 1 1 1 1 1 1 1\n",
      " 1 1 1 1 1 1 0 1 1 1 1 1 1 1 1 1 1 1 1 1 1 1 1 1 1 1 1 1 0 1 1 1 1 1 1 1 1\n",
      " 1 1 1 1 1 1 1 1 1 0 1 1 1 1 1 1 1 1 1 1 1 1 1 1 1 1 1 1 1 1 1 1 1 1 1 1 1\n",
      " 1 1 1 0 1 1 1 1 1 0 1 1 1 1 1 1 1 0 1 1 1 1 1 1 1 1 1 0 0 1 1 1 1 1 1 1 1\n",
      " 1 0 0 1 1 1 1 1 1 1 1 0 0 1 1 1 1 1 0 0 0 1 1 1 1 1 1 1 0 1 1 1 1 0 0 1 1\n",
      " 1 1 1 1 1 1 1 1 1 0 1 1 0 0 1 1 0 1 1 1 1 1 0 1 1 1 1 0 0 0 0 1 1 1 1 1 1\n",
      " 1 0 0 0 1 1 1 1 1 0 0 1 1 1 0 0 1 1 1 1 1 1 1 1 0 0 0 1 1 0 0 0 1 1 1 1 0\n",
      " 0 1 1 1 1 1 0 0 1 1 1 0 1 1 1 1 1 1 1 0 0 1 1 1 0 1 1 1 0 1 0 1 1 0 1 0 1\n",
      " 1 1 1 0 1 1 1 1 1 0 1 0 1 1 1 1 0 1 0 1]\n",
      "['Diabetes' 'No diabetes']\n",
      "Collecting package metadata (current_repodata.json): ...working... done\n",
      "Solving environment: ...working... done\n",
      "\n",
      "# All requested packages already installed.\n",
      "\n"
     ]
    }
   ],
   "source": [
    "from sklearn.preprocessing import LabelEncoder\n",
    "le = LabelEncoder()\n",
    "diabetes_le = le.fit_transform(df['Diabetes'])\n",
    "\n",
    "print(diabetes_le)\n",
    "print(le.classes_)"
   ]
  },
  {
   "cell_type": "markdown",
   "id": "signed-steam",
   "metadata": {},
   "source": [
    "We can also use one-hot encoding for multi-category variables. This is fairly easy with pandas:"
   ]
  },
  {
   "cell_type": "code",
   "execution_count": 39,
   "id": "expressed-pioneer",
   "metadata": {},
   "outputs": [
    {
     "data": {
      "text/html": [
       "<div>\n",
       "<style scoped>\n",
       "    .dataframe tbody tr th:only-of-type {\n",
       "        vertical-align: middle;\n",
       "    }\n",
       "\n",
       "    .dataframe tbody tr th {\n",
       "        vertical-align: top;\n",
       "    }\n",
       "\n",
       "    .dataframe thead th {\n",
       "        text-align: right;\n",
       "    }\n",
       "</style>\n",
       "<table border=\"1\" class=\"dataframe\">\n",
       "  <thead>\n",
       "    <tr style=\"text-align: right;\">\n",
       "      <th></th>\n",
       "      <th>female</th>\n",
       "      <th>male</th>\n",
       "    </tr>\n",
       "    <tr>\n",
       "      <th>Patient number</th>\n",
       "      <th></th>\n",
       "      <th></th>\n",
       "    </tr>\n",
       "  </thead>\n",
       "  <tbody>\n",
       "    <tr>\n",
       "      <th>1</th>\n",
       "      <td>1</td>\n",
       "      <td>0</td>\n",
       "    </tr>\n",
       "    <tr>\n",
       "      <th>2</th>\n",
       "      <td>1</td>\n",
       "      <td>0</td>\n",
       "    </tr>\n",
       "    <tr>\n",
       "      <th>3</th>\n",
       "      <td>1</td>\n",
       "      <td>0</td>\n",
       "    </tr>\n",
       "    <tr>\n",
       "      <th>4</th>\n",
       "      <td>1</td>\n",
       "      <td>0</td>\n",
       "    </tr>\n",
       "    <tr>\n",
       "      <th>5</th>\n",
       "      <td>1</td>\n",
       "      <td>0</td>\n",
       "    </tr>\n",
       "    <tr>\n",
       "      <th>...</th>\n",
       "      <td>...</td>\n",
       "      <td>...</td>\n",
       "    </tr>\n",
       "    <tr>\n",
       "      <th>386</th>\n",
       "      <td>1</td>\n",
       "      <td>0</td>\n",
       "    </tr>\n",
       "    <tr>\n",
       "      <th>387</th>\n",
       "      <td>1</td>\n",
       "      <td>0</td>\n",
       "    </tr>\n",
       "    <tr>\n",
       "      <th>388</th>\n",
       "      <td>1</td>\n",
       "      <td>0</td>\n",
       "    </tr>\n",
       "    <tr>\n",
       "      <th>389</th>\n",
       "      <td>1</td>\n",
       "      <td>0</td>\n",
       "    </tr>\n",
       "    <tr>\n",
       "      <th>390</th>\n",
       "      <td>1</td>\n",
       "      <td>0</td>\n",
       "    </tr>\n",
       "  </tbody>\n",
       "</table>\n",
       "<p>390 rows × 2 columns</p>\n",
       "</div>"
      ],
      "text/plain": [
       "                female  male\n",
       "Patient number              \n",
       "1                    1     0\n",
       "2                    1     0\n",
       "3                    1     0\n",
       "4                    1     0\n",
       "5                    1     0\n",
       "...                ...   ...\n",
       "386                  1     0\n",
       "387                  1     0\n",
       "388                  1     0\n",
       "389                  1     0\n",
       "390                  1     0\n",
       "\n",
       "[390 rows x 2 columns]"
      ]
     },
     "execution_count": 39,
     "metadata": {},
     "output_type": "execute_result"
    }
   ],
   "source": [
    "pd.get_dummies(df['Gender'])"
   ]
  },
  {
   "cell_type": "markdown",
   "id": "express-resource",
   "metadata": {},
   "source": [
    "With more than 2 values, it will create more columns. Since we can always infer one of the columns from all others (e.g. if all others are 0, we know the last column should be a 1), we can drop one:"
   ]
  },
  {
   "cell_type": "code",
   "execution_count": 40,
   "id": "color-policy",
   "metadata": {},
   "outputs": [
    {
     "data": {
      "text/html": [
       "<div>\n",
       "<style scoped>\n",
       "    .dataframe tbody tr th:only-of-type {\n",
       "        vertical-align: middle;\n",
       "    }\n",
       "\n",
       "    .dataframe tbody tr th {\n",
       "        vertical-align: top;\n",
       "    }\n",
       "\n",
       "    .dataframe thead th {\n",
       "        text-align: right;\n",
       "    }\n",
       "</style>\n",
       "<table border=\"1\" class=\"dataframe\">\n",
       "  <thead>\n",
       "    <tr style=\"text-align: right;\">\n",
       "      <th></th>\n",
       "      <th>male</th>\n",
       "    </tr>\n",
       "    <tr>\n",
       "      <th>Patient number</th>\n",
       "      <th></th>\n",
       "    </tr>\n",
       "  </thead>\n",
       "  <tbody>\n",
       "    <tr>\n",
       "      <th>1</th>\n",
       "      <td>0</td>\n",
       "    </tr>\n",
       "    <tr>\n",
       "      <th>2</th>\n",
       "      <td>0</td>\n",
       "    </tr>\n",
       "    <tr>\n",
       "      <th>3</th>\n",
       "      <td>0</td>\n",
       "    </tr>\n",
       "    <tr>\n",
       "      <th>4</th>\n",
       "      <td>0</td>\n",
       "    </tr>\n",
       "    <tr>\n",
       "      <th>5</th>\n",
       "      <td>0</td>\n",
       "    </tr>\n",
       "    <tr>\n",
       "      <th>...</th>\n",
       "      <td>...</td>\n",
       "    </tr>\n",
       "    <tr>\n",
       "      <th>386</th>\n",
       "      <td>0</td>\n",
       "    </tr>\n",
       "    <tr>\n",
       "      <th>387</th>\n",
       "      <td>0</td>\n",
       "    </tr>\n",
       "    <tr>\n",
       "      <th>388</th>\n",
       "      <td>0</td>\n",
       "    </tr>\n",
       "    <tr>\n",
       "      <th>389</th>\n",
       "      <td>0</td>\n",
       "    </tr>\n",
       "    <tr>\n",
       "      <th>390</th>\n",
       "      <td>0</td>\n",
       "    </tr>\n",
       "  </tbody>\n",
       "</table>\n",
       "<p>390 rows × 1 columns</p>\n",
       "</div>"
      ],
      "text/plain": [
       "                male\n",
       "Patient number      \n",
       "1                  0\n",
       "2                  0\n",
       "3                  0\n",
       "4                  0\n",
       "5                  0\n",
       "...              ...\n",
       "386                0\n",
       "387                0\n",
       "388                0\n",
       "389                0\n",
       "390                0\n",
       "\n",
       "[390 rows x 1 columns]"
      ]
     },
     "execution_count": 40,
     "metadata": {},
     "output_type": "execute_result"
    }
   ],
   "source": [
    "pd.get_dummies(df['Gender'], drop_first=True)"
   ]
  },
  {
   "cell_type": "markdown",
   "id": "bearing-airline",
   "metadata": {},
   "source": [
    "We can then combine this with the original dataframe:"
   ]
  },
  {
   "cell_type": "code",
   "execution_count": 41,
   "id": "collect-livestock",
   "metadata": {},
   "outputs": [
    {
     "data": {
      "text/html": [
       "<div>\n",
       "<style scoped>\n",
       "    .dataframe tbody tr th:only-of-type {\n",
       "        vertical-align: middle;\n",
       "    }\n",
       "\n",
       "    .dataframe tbody tr th {\n",
       "        vertical-align: top;\n",
       "    }\n",
       "\n",
       "    .dataframe thead th {\n",
       "        text-align: right;\n",
       "    }\n",
       "</style>\n",
       "<table border=\"1\" class=\"dataframe\">\n",
       "  <thead>\n",
       "    <tr style=\"text-align: right;\">\n",
       "      <th></th>\n",
       "      <th>Cholesterol</th>\n",
       "      <th>Glucose</th>\n",
       "      <th>HDL Chol</th>\n",
       "      <th>Age</th>\n",
       "      <th>Height</th>\n",
       "      <th>Weight</th>\n",
       "      <th>BMI</th>\n",
       "      <th>Systolic BP</th>\n",
       "      <th>Diastolic BP</th>\n",
       "      <th>waist</th>\n",
       "      <th>hip</th>\n",
       "      <th>Diabetes</th>\n",
       "      <th>male</th>\n",
       "    </tr>\n",
       "    <tr>\n",
       "      <th>Patient number</th>\n",
       "      <th></th>\n",
       "      <th></th>\n",
       "      <th></th>\n",
       "      <th></th>\n",
       "      <th></th>\n",
       "      <th></th>\n",
       "      <th></th>\n",
       "      <th></th>\n",
       "      <th></th>\n",
       "      <th></th>\n",
       "      <th></th>\n",
       "      <th></th>\n",
       "      <th></th>\n",
       "    </tr>\n",
       "  </thead>\n",
       "  <tbody>\n",
       "    <tr>\n",
       "      <th>1</th>\n",
       "      <td>193</td>\n",
       "      <td>77</td>\n",
       "      <td>49</td>\n",
       "      <td>19</td>\n",
       "      <td>61</td>\n",
       "      <td>119</td>\n",
       "      <td>22.5</td>\n",
       "      <td>118</td>\n",
       "      <td>70</td>\n",
       "      <td>32</td>\n",
       "      <td>38</td>\n",
       "      <td>No diabetes</td>\n",
       "      <td>0</td>\n",
       "    </tr>\n",
       "    <tr>\n",
       "      <th>2</th>\n",
       "      <td>146</td>\n",
       "      <td>79</td>\n",
       "      <td>41</td>\n",
       "      <td>19</td>\n",
       "      <td>60</td>\n",
       "      <td>135</td>\n",
       "      <td>26.4</td>\n",
       "      <td>108</td>\n",
       "      <td>58</td>\n",
       "      <td>33</td>\n",
       "      <td>40</td>\n",
       "      <td>No diabetes</td>\n",
       "      <td>0</td>\n",
       "    </tr>\n",
       "    <tr>\n",
       "      <th>3</th>\n",
       "      <td>217</td>\n",
       "      <td>75</td>\n",
       "      <td>54</td>\n",
       "      <td>20</td>\n",
       "      <td>67</td>\n",
       "      <td>187</td>\n",
       "      <td>29.3</td>\n",
       "      <td>110</td>\n",
       "      <td>72</td>\n",
       "      <td>40</td>\n",
       "      <td>45</td>\n",
       "      <td>No diabetes</td>\n",
       "      <td>0</td>\n",
       "    </tr>\n",
       "    <tr>\n",
       "      <th>4</th>\n",
       "      <td>226</td>\n",
       "      <td>97</td>\n",
       "      <td>70</td>\n",
       "      <td>20</td>\n",
       "      <td>64</td>\n",
       "      <td>114</td>\n",
       "      <td>19.6</td>\n",
       "      <td>122</td>\n",
       "      <td>64</td>\n",
       "      <td>31</td>\n",
       "      <td>39</td>\n",
       "      <td>No diabetes</td>\n",
       "      <td>0</td>\n",
       "    </tr>\n",
       "    <tr>\n",
       "      <th>5</th>\n",
       "      <td>164</td>\n",
       "      <td>91</td>\n",
       "      <td>67</td>\n",
       "      <td>20</td>\n",
       "      <td>70</td>\n",
       "      <td>141</td>\n",
       "      <td>20.2</td>\n",
       "      <td>122</td>\n",
       "      <td>86</td>\n",
       "      <td>32</td>\n",
       "      <td>39</td>\n",
       "      <td>No diabetes</td>\n",
       "      <td>0</td>\n",
       "    </tr>\n",
       "    <tr>\n",
       "      <th>...</th>\n",
       "      <td>...</td>\n",
       "      <td>...</td>\n",
       "      <td>...</td>\n",
       "      <td>...</td>\n",
       "      <td>...</td>\n",
       "      <td>...</td>\n",
       "      <td>...</td>\n",
       "      <td>...</td>\n",
       "      <td>...</td>\n",
       "      <td>...</td>\n",
       "      <td>...</td>\n",
       "      <td>...</td>\n",
       "      <td>...</td>\n",
       "    </tr>\n",
       "    <tr>\n",
       "      <th>386</th>\n",
       "      <td>227</td>\n",
       "      <td>105</td>\n",
       "      <td>44</td>\n",
       "      <td>83</td>\n",
       "      <td>59</td>\n",
       "      <td>125</td>\n",
       "      <td>25.2</td>\n",
       "      <td>150</td>\n",
       "      <td>90</td>\n",
       "      <td>35</td>\n",
       "      <td>40</td>\n",
       "      <td>No diabetes</td>\n",
       "      <td>0</td>\n",
       "    </tr>\n",
       "    <tr>\n",
       "      <th>387</th>\n",
       "      <td>226</td>\n",
       "      <td>279</td>\n",
       "      <td>52</td>\n",
       "      <td>84</td>\n",
       "      <td>60</td>\n",
       "      <td>192</td>\n",
       "      <td>37.5</td>\n",
       "      <td>144</td>\n",
       "      <td>88</td>\n",
       "      <td>41</td>\n",
       "      <td>48</td>\n",
       "      <td>Diabetes</td>\n",
       "      <td>0</td>\n",
       "    </tr>\n",
       "    <tr>\n",
       "      <th>388</th>\n",
       "      <td>301</td>\n",
       "      <td>90</td>\n",
       "      <td>118</td>\n",
       "      <td>89</td>\n",
       "      <td>61</td>\n",
       "      <td>115</td>\n",
       "      <td>21.7</td>\n",
       "      <td>218</td>\n",
       "      <td>90</td>\n",
       "      <td>31</td>\n",
       "      <td>41</td>\n",
       "      <td>No diabetes</td>\n",
       "      <td>0</td>\n",
       "    </tr>\n",
       "    <tr>\n",
       "      <th>389</th>\n",
       "      <td>232</td>\n",
       "      <td>184</td>\n",
       "      <td>114</td>\n",
       "      <td>91</td>\n",
       "      <td>61</td>\n",
       "      <td>127</td>\n",
       "      <td>24.0</td>\n",
       "      <td>170</td>\n",
       "      <td>82</td>\n",
       "      <td>35</td>\n",
       "      <td>38</td>\n",
       "      <td>Diabetes</td>\n",
       "      <td>0</td>\n",
       "    </tr>\n",
       "    <tr>\n",
       "      <th>390</th>\n",
       "      <td>165</td>\n",
       "      <td>94</td>\n",
       "      <td>69</td>\n",
       "      <td>92</td>\n",
       "      <td>62</td>\n",
       "      <td>217</td>\n",
       "      <td>39.7</td>\n",
       "      <td>160</td>\n",
       "      <td>82</td>\n",
       "      <td>51</td>\n",
       "      <td>51</td>\n",
       "      <td>No diabetes</td>\n",
       "      <td>0</td>\n",
       "    </tr>\n",
       "  </tbody>\n",
       "</table>\n",
       "<p>390 rows × 13 columns</p>\n",
       "</div>"
      ],
      "text/plain": [
       "                Cholesterol  Glucose  HDL Chol  Age  Height  Weight   BMI  \\\n",
       "Patient number                                                              \n",
       "1                       193       77        49   19      61     119  22.5   \n",
       "2                       146       79        41   19      60     135  26.4   \n",
       "3                       217       75        54   20      67     187  29.3   \n",
       "4                       226       97        70   20      64     114  19.6   \n",
       "5                       164       91        67   20      70     141  20.2   \n",
       "...                     ...      ...       ...  ...     ...     ...   ...   \n",
       "386                     227      105        44   83      59     125  25.2   \n",
       "387                     226      279        52   84      60     192  37.5   \n",
       "388                     301       90       118   89      61     115  21.7   \n",
       "389                     232      184       114   91      61     127  24.0   \n",
       "390                     165       94        69   92      62     217  39.7   \n",
       "\n",
       "                Systolic BP  Diastolic BP  waist  hip     Diabetes  male  \n",
       "Patient number                                                            \n",
       "1                       118            70     32   38  No diabetes     0  \n",
       "2                       108            58     33   40  No diabetes     0  \n",
       "3                       110            72     40   45  No diabetes     0  \n",
       "4                       122            64     31   39  No diabetes     0  \n",
       "5                       122            86     32   39  No diabetes     0  \n",
       "...                     ...           ...    ...  ...          ...   ...  \n",
       "386                     150            90     35   40  No diabetes     0  \n",
       "387                     144            88     41   48     Diabetes     0  \n",
       "388                     218            90     31   41  No diabetes     0  \n",
       "389                     170            82     35   38     Diabetes     0  \n",
       "390                     160            82     51   51  No diabetes     0  \n",
       "\n",
       "[390 rows x 13 columns]"
      ]
     },
     "execution_count": 41,
     "metadata": {},
     "output_type": "execute_result"
    }
   ],
   "source": [
    "one_hot_df = pd.concat([df.drop('Gender', axis=1), pd.get_dummies(df['Gender'], drop_first=True)],axis=1)\n",
    "one_hot_df"
   ]
  },
  {
   "cell_type": "markdown",
   "id": "focused-democrat",
   "metadata": {},
   "source": [
    "### The Yeo-Johnson transform"
   ]
  },
  {
   "cell_type": "markdown",
   "id": "amazing-spirituality",
   "metadata": {},
   "source": [
    "Much like the log transform can convert our data into a normal-looking (Gaussian or bell-curve) distribution, the Yeo-Johnson can do the same. However, the YJ method is a bit more optimized and advanced. The [Wikipedia page](https://en.wikipedia.org/wiki/Power_transform#Yeo%E2%80%93Johnson_transformation) shows the math behind it. We can use it in Python like so:"
   ]
  },
  {
   "cell_type": "code",
   "execution_count": 35,
   "id": "powered-information",
   "metadata": {},
   "outputs": [
    {
     "data": {
      "text/plain": [
       "array([<AxesSubplot:ylabel='Density'>, <AxesSubplot:ylabel='Density'>],\n",
       "      dtype=object)"
      ]
     },
     "execution_count": 35,
     "metadata": {},
     "output_type": "execute_result"
    },
    {
     "data": {
      "image/png": "[encoded data removed]",
      "text/plain": [
       "<Figure size 432x288 with 2 Axes>"
      ]
     },
     "metadata": {
      "needs_background": "light"
     },
     "output_type": "display_data"
    }
   ],
   "source": [
    "from sklearn.preprocessing import PowerTransformer\n",
    "\n",
    "pt = PowerTransformer()\n",
    "df['yj_HDL'] = pt.fit_transform(df[['HDL Chol']])\n",
    "df[['yj_HDL', 'HDL Chol']].plot.density(subplots=True, sharex=False)"
   ]
  },
  {
   "cell_type": "markdown",
   "id": "published-supply",
   "metadata": {},
   "source": [
    "We can see the YJ-transformed data centers around 0 (it has also been standardized with `StandardScaler`) and looks much more symmetric and normal than the unmodified data."
   ]
  }
 ],
 "metadata": {
  "kernelspec": {
   "display_name": "Python 3 (ipykernel)",
   "language": "python",
   "name": "python3"
  },
  "language_info": {
   "codemirror_mode": {
    "name": "ipython",
    "version": 3
   },
   "file_extension": ".py",
   "mimetype": "text/x-python",
   "name": "python",
   "nbconvert_exporter": "python",
   "pygments_lexer": "ipython3",
   "version": "3.10.1"
  }
 },
 "nbformat": 4,
 "nbformat_minor": 5
}
